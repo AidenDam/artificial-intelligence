{
  "nbformat": 4,
  "nbformat_minor": 0,
  "metadata": {
    "colab": {
      "name": "dqn_cartpole.ipynb",
      "provenance": [],
      "collapsed_sections": [],
      "authorship_tag": "ABX9TyObQgS6G7+oBK3lhmydfyhE",
      "include_colab_link": true
    },
    "kernelspec": {
      "name": "python3",
      "display_name": "Python 3"
    },
    "accelerator": "GPU"
  },
  "cells": [
    {
      "cell_type": "markdown",
      "metadata": {
        "id": "view-in-github",
        "colab_type": "text"
      },
      "source": [
        "<a href=\"https://colab.research.google.com/github/PsorTheDoctor/Sekcja-SI/blob/master/machine_learning/reinforcement_learning/DQN/dqn_cartpole.ipynb\" target=\"_parent\"><img src=\"https://colab.research.google.com/assets/colab-badge.svg\" alt=\"Open In Colab\"/></a>"
      ]
    },
    {
      "cell_type": "markdown",
      "metadata": {
        "id": "0B2rgCgmkATg",
        "colab_type": "text"
      },
      "source": [
        "# Deep Q Network with TF-Agents\n",
        "## Ustawienia"
      ]
    },
    {
      "cell_type": "code",
      "metadata": {
        "id": "8On4bsAXi3Bd",
        "colab_type": "code",
        "colab": {}
      },
      "source": [
        "try:\n",
        "  %tensorflow_version 2.x\n",
        "except:\n",
        "  pass"
      ],
      "execution_count": 0,
      "outputs": []
    },
    {
      "cell_type": "code",
      "metadata": {
        "id": "wpr7A6pVmZ25",
        "colab_type": "code",
        "colab": {}
      },
      "source": [
        "!sudo apt-get install -y xvfb ffmpeg\n",
        "!pip install 'gym==0.10.11'\n",
        "!pip install 'imageio==2.4.0'\n",
        "!pip install PILLOW\n",
        "!pip install 'pyglet==1.3.2'\n",
        "!pip install pyvirtualdisplay\n",
        "!pip install --upgrade tensorflow-probability\n",
        "!pip install tf-agents"
      ],
      "execution_count": 0,
      "outputs": []
    },
    {
      "cell_type": "code",
      "metadata": {
        "id": "6jKpkoeTkYoY",
        "colab_type": "code",
        "colab": {}
      },
      "source": [
        "from __future__ import absolute_import, division, print_function\n",
        "\n",
        "import base64\n",
        "import imageio\n",
        "import IPython\n",
        "import matplotlib\n",
        "import matplotlib.pyplot as plt\n",
        "import numpy as np\n",
        "import PIL.Image\n",
        "import pyvirtualdisplay\n",
        "\n",
        "import tensorflow as tf\n",
        "\n",
        "from tf_agents.agents.dqn import dqn_agent\n",
        "from tf_agents.drivers import dynamic_step_driver\n",
        "from tf_agents.environments import suite_gym, tf_py_environment\n",
        "from tf_agents.eval import metric_utils\n",
        "from tf_agents.metrics import tf_metrics\n",
        "from tf_agents.networks import q_network\n",
        "from tf_agents.policies import random_tf_policy\n",
        "from tf_agents.replay_buffers import tf_uniform_replay_buffer\n",
        "from tf_agents.trajectories import trajectory\n",
        "from tf_agents.utils import common"
      ],
      "execution_count": 0,
      "outputs": []
    },
    {
      "cell_type": "code",
      "metadata": {
        "id": "jnxsr5LCmhzm",
        "colab_type": "code",
        "colab": {
          "base_uri": "https://localhost:8080/",
          "height": 35
        },
        "outputId": "206a3dd9-2d12-4d97-c92c-63ad88c933a2"
      },
      "source": [
        "tf.compat.v1.enable_v2_behavior()\n",
        "\n",
        "# Ustawienie virtual display do renderowania środowisk OpenAI gym.\n",
        "display = pyvirtualdisplay.Display(visible=0, size=(1400, 900)).start()"
      ],
      "execution_count": 45,
      "outputs": [
        {
          "output_type": "stream",
          "text": [
            "xdpyinfo was not found, X start can not be checked! Please install xdpyinfo!\n"
          ],
          "name": "stderr"
        }
      ]
    },
    {
      "cell_type": "code",
      "metadata": {
        "id": "2YGjgz_TnSDJ",
        "colab_type": "code",
        "colab": {
          "base_uri": "https://localhost:8080/",
          "height": 35
        },
        "outputId": "aa27abab-2a5f-426b-8812-5f9f96fc92c5"
      },
      "source": [
        "tf.version.VERSION"
      ],
      "execution_count": 46,
      "outputs": [
        {
          "output_type": "execute_result",
          "data": {
            "text/plain": [
              "'2.1.0'"
            ]
          },
          "metadata": {
            "tags": []
          },
          "execution_count": 46
        }
      ]
    },
    {
      "cell_type": "markdown",
      "metadata": {
        "id": "VyxLR_hInV_P",
        "colab_type": "text"
      },
      "source": [
        "## Hiperparametry"
      ]
    },
    {
      "cell_type": "code",
      "metadata": {
        "id": "qAUXB03PnX9O",
        "colab_type": "code",
        "colab": {}
      },
      "source": [
        "num_iterations = 20000\n",
        "\n",
        "initial_collect_steps = 1000\n",
        "collect_steps_per_iteration = 1\n",
        "replay_buffer_max_length = 100000\n",
        "\n",
        "batch_size = 64\n",
        "learning_rate = 1e-3\n",
        "log_interval = 200\n",
        "\n",
        "num_eval_episodes = 10\n",
        "eval_interval = 1000"
      ],
      "execution_count": 0,
      "outputs": []
    },
    {
      "cell_type": "markdown",
      "metadata": {
        "id": "IjqOOu60oCOq",
        "colab_type": "text"
      },
      "source": [
        "## Środowisko"
      ]
    },
    {
      "cell_type": "code",
      "metadata": {
        "id": "ZoUk18c9oGyH",
        "colab_type": "code",
        "colab": {
          "base_uri": "https://localhost:8080/",
          "height": 55
        },
        "outputId": "e5a67bdd-daae-46f2-a48f-3f102cbf3498"
      },
      "source": [
        "env_name = 'CartPole-v0'\n",
        "env = suite_gym.load(env_name)\n",
        "env.reset()"
      ],
      "execution_count": 48,
      "outputs": [
        {
          "output_type": "execute_result",
          "data": {
            "text/plain": [
              "TimeStep(step_type=array(0, dtype=int32), reward=array(0., dtype=float32), discount=array(1., dtype=float32), observation=array([ 0.01072969, -0.04692481,  0.00261066, -0.01407667], dtype=float32))"
            ]
          },
          "metadata": {
            "tags": []
          },
          "execution_count": 48
        }
      ]
    },
    {
      "cell_type": "code",
      "metadata": {
        "id": "vmd8Ze1ConwA",
        "colab_type": "code",
        "colab": {
          "base_uri": "https://localhost:8080/",
          "height": 72
        },
        "outputId": "bd938c0f-3b41-4497-ef03-536db15266d4"
      },
      "source": [
        "print('Observation Spec:')\n",
        "print(env.time_step_spec().observation)"
      ],
      "execution_count": 49,
      "outputs": [
        {
          "output_type": "stream",
          "text": [
            "Observation Spec:\n",
            "BoundedArraySpec(shape=(4,), dtype=dtype('float32'), name='observation', minimum=[-4.8000002e+00 -3.4028235e+38 -4.1887903e-01 -3.4028235e+38], maximum=[4.8000002e+00 3.4028235e+38 4.1887903e-01 3.4028235e+38])\n"
          ],
          "name": "stdout"
        }
      ]
    },
    {
      "cell_type": "code",
      "metadata": {
        "id": "h-9tz2sKo7zA",
        "colab_type": "code",
        "colab": {
          "base_uri": "https://localhost:8080/",
          "height": 52
        },
        "outputId": "27ec3191-c30a-4a1a-da4b-2d8780c40a39"
      },
      "source": [
        "print('Reward Spec:')\n",
        "print(env.time_step_spec().reward)"
      ],
      "execution_count": 50,
      "outputs": [
        {
          "output_type": "stream",
          "text": [
            "Reward Spec:\n",
            "ArraySpec(shape=(), dtype=dtype('float32'), name='reward')\n"
          ],
          "name": "stdout"
        }
      ]
    },
    {
      "cell_type": "code",
      "metadata": {
        "id": "l4VIEyyWpKQI",
        "colab_type": "code",
        "colab": {
          "base_uri": "https://localhost:8080/",
          "height": 52
        },
        "outputId": "88dc3a79-267a-440e-8bf1-3034441a17ea"
      },
      "source": [
        "print('Action Spec:')\n",
        "print(env.action_spec())"
      ],
      "execution_count": 51,
      "outputs": [
        {
          "output_type": "stream",
          "text": [
            "Action Spec:\n",
            "BoundedArraySpec(shape=(), dtype=dtype('int64'), name='action', minimum=0, maximum=1)\n"
          ],
          "name": "stdout"
        }
      ]
    },
    {
      "cell_type": "code",
      "metadata": {
        "id": "Jy0i0XXQpUoq",
        "colab_type": "code",
        "colab": {
          "base_uri": "https://localhost:8080/",
          "height": 107
        },
        "outputId": "157ed329-b99a-4e32-e826-2ae73381e0da"
      },
      "source": [
        "time_step = env.reset()\n",
        "print('Krok czasowy:')\n",
        "print(time_step)\n",
        "\n",
        "action = np.array(1, dtype=np.int32)\n",
        "\n",
        "next_time_step = env.step(action)\n",
        "print('Następny krok czasowy:')\n",
        "print( next_time_step)"
      ],
      "execution_count": 52,
      "outputs": [
        {
          "output_type": "stream",
          "text": [
            "Krok czasowy:\n",
            "TimeStep(step_type=array(0, dtype=int32), reward=array(0., dtype=float32), discount=array(1., dtype=float32), observation=array([ 0.03928583,  0.04371152, -0.0384336 ,  0.04248301], dtype=float32))\n",
            "Następny krok czasowy:\n",
            "TimeStep(step_type=array(1, dtype=int32), reward=array(1., dtype=float32), discount=array(1., dtype=float32), observation=array([ 0.04016006,  0.23936293, -0.03758394, -0.26207405], dtype=float32))\n"
          ],
          "name": "stdout"
        }
      ]
    },
    {
      "cell_type": "code",
      "metadata": {
        "id": "qGFwsszVpwfj",
        "colab_type": "code",
        "colab": {}
      },
      "source": [
        "train_py_env = suite_gym.load(env_name)\n",
        "eval_py_env = suite_gym.load(env_name)"
      ],
      "execution_count": 0,
      "outputs": []
    },
    {
      "cell_type": "code",
      "metadata": {
        "id": "poXo7oEuqC8p",
        "colab_type": "code",
        "colab": {}
      },
      "source": [
        "train_env = tf_py_environment.TFPyEnvironment(train_py_env)\n",
        "eval_env = tf_py_environment.TFPyEnvironment(eval_py_env)"
      ],
      "execution_count": 0,
      "outputs": []
    },
    {
      "cell_type": "markdown",
      "metadata": {
        "id": "aM8oCa6NqsHa",
        "colab_type": "text"
      },
      "source": [
        "## Agent"
      ]
    },
    {
      "cell_type": "code",
      "metadata": {
        "id": "wpn2aqRhqurq",
        "colab_type": "code",
        "colab": {}
      },
      "source": [
        "fc_layer_params = (100,)\n",
        "\n",
        "q_net = q_network.QNetwork(\n",
        "    train_env.observation_spec(),\n",
        "    train_env.action_spec(),\n",
        "    fc_layer_params=fc_layer_params)"
      ],
      "execution_count": 0,
      "outputs": []
    },
    {
      "cell_type": "code",
      "metadata": {
        "id": "d2mqSjI4HmZt",
        "colab_type": "code",
        "colab": {}
      },
      "source": [
        "optimizer = tf.compat.v1.train.AdamOptimizer(learning_rate=learning_rate)\n",
        "\n",
        "train_step_counter = tf.Variable(0)\n",
        "\n",
        "agent = dqn_agent.DqnAgent(\n",
        "    train_env.time_step_spec(),\n",
        "    train_env.action_spec(),\n",
        "    q_network=q_net,\n",
        "    optimizer=optimizer,\n",
        "    td_errors_loss_fn=common.element_wise_squared_loss,\n",
        "    train_step_counter=train_step_counter)\n",
        "\n",
        "agent.initialize()"
      ],
      "execution_count": 0,
      "outputs": []
    },
    {
      "cell_type": "markdown",
      "metadata": {
        "id": "Sl_AfxIvJHXg",
        "colab_type": "text"
      },
      "source": [
        "## Polityki"
      ]
    },
    {
      "cell_type": "code",
      "metadata": {
        "id": "IkmI9S3HJGaI",
        "colab_type": "code",
        "colab": {}
      },
      "source": [
        "eval_policy = agent.policy\n",
        "collect_policy = agent.collect_policy"
      ],
      "execution_count": 0,
      "outputs": []
    },
    {
      "cell_type": "code",
      "metadata": {
        "id": "ibJBicxWJ_OD",
        "colab_type": "code",
        "colab": {}
      },
      "source": [
        "random_policy = random_tf_policy.RandomTFPolicy(train_env.time_step_spec(),\n",
        "                                                train_env.action_spec())"
      ],
      "execution_count": 0,
      "outputs": []
    },
    {
      "cell_type": "code",
      "metadata": {
        "id": "cZvdZiAGKOUV",
        "colab_type": "code",
        "colab": {}
      },
      "source": [
        "example_environment = tf_py_environment.TFPyEnvironment(\n",
        "    suite_gym.load('CartPole-v0'))"
      ],
      "execution_count": 0,
      "outputs": []
    },
    {
      "cell_type": "code",
      "metadata": {
        "id": "E7u44TcNKv58",
        "colab_type": "code",
        "colab": {}
      },
      "source": [
        "time_step = example_environment.reset()"
      ],
      "execution_count": 0,
      "outputs": []
    },
    {
      "cell_type": "code",
      "metadata": {
        "id": "h9PVjsk1KlYM",
        "colab_type": "code",
        "colab": {
          "base_uri": "https://localhost:8080/",
          "height": 35
        },
        "outputId": "c6044769-254d-492b-9ba2-3811d5d06100"
      },
      "source": [
        "random_policy.action(time_step)"
      ],
      "execution_count": 61,
      "outputs": [
        {
          "output_type": "execute_result",
          "data": {
            "text/plain": [
              "PolicyStep(action=<tf.Tensor: shape=(1,), dtype=int64, numpy=array([1])>, state=(), info=())"
            ]
          },
          "metadata": {
            "tags": []
          },
          "execution_count": 61
        }
      ]
    },
    {
      "cell_type": "markdown",
      "metadata": {
        "id": "rZ-1-f9HKqdN",
        "colab_type": "text"
      },
      "source": [
        "## Metryki i ocena"
      ]
    },
    {
      "cell_type": "code",
      "metadata": {
        "id": "bbDj8y94K71M",
        "colab_type": "code",
        "colab": {}
      },
      "source": [
        "def compute_avg_return(environment, policy, num_episodes=10):\n",
        "\n",
        "  total_return = 0.0\n",
        "  for _ in range(num_episodes):\n",
        "\n",
        "    time_step = environment.reset()\n",
        "    episode_return = 0.0 \n",
        "\n",
        "    while not time_step.is_last():\n",
        "      action_step = policy.action(time_step)\n",
        "      time_step = environment.step(action_step.action)\n",
        "      episode_return += time_step.reward\n",
        "    total_return += episode_return\n",
        "\n",
        "  avg_return = total_return / num_episodes\n",
        "  return avg_return.numpy()[0]"
      ],
      "execution_count": 0,
      "outputs": []
    },
    {
      "cell_type": "code",
      "metadata": {
        "id": "YTnwfaIAMJzN",
        "colab_type": "code",
        "colab": {
          "base_uri": "https://localhost:8080/",
          "height": 35
        },
        "outputId": "bba3b3c8-1769-46e3-fed8-c2fbae486151"
      },
      "source": [
        "compute_avg_return(eval_env, random_policy, num_eval_episodes)"
      ],
      "execution_count": 63,
      "outputs": [
        {
          "output_type": "execute_result",
          "data": {
            "text/plain": [
              "21.4"
            ]
          },
          "metadata": {
            "tags": []
          },
          "execution_count": 63
        }
      ]
    },
    {
      "cell_type": "markdown",
      "metadata": {
        "id": "N6rdiv1VMkRE",
        "colab_type": "text"
      },
      "source": [
        "## Bufor odtwarzania"
      ]
    },
    {
      "cell_type": "code",
      "metadata": {
        "id": "ZweuKHy3MkD0",
        "colab_type": "code",
        "colab": {}
      },
      "source": [
        "replay_buffer = tf_uniform_replay_buffer.TFUniformReplayBuffer(\n",
        "    data_spec = agent.collect_data_spec,\n",
        "    batch_size = train_env.batch_size,\n",
        "    max_length = replay_buffer_max_length)"
      ],
      "execution_count": 0,
      "outputs": []
    },
    {
      "cell_type": "code",
      "metadata": {
        "id": "oykdn1PFNdMR",
        "colab_type": "code",
        "colab": {
          "base_uri": "https://localhost:8080/",
          "height": 89
        },
        "outputId": "e2ee736a-c060-4239-8517-b9a46fdaad09"
      },
      "source": [
        "agent.collect_data_spec"
      ],
      "execution_count": 65,
      "outputs": [
        {
          "output_type": "execute_result",
          "data": {
            "text/plain": [
              "Trajectory(step_type=TensorSpec(shape=(), dtype=tf.int32, name='step_type'), observation=BoundedTensorSpec(shape=(4,), dtype=tf.float32, name='observation', minimum=array([-4.8000002e+00, -3.4028235e+38, -4.1887903e-01, -3.4028235e+38],\n",
              "      dtype=float32), maximum=array([4.8000002e+00, 3.4028235e+38, 4.1887903e-01, 3.4028235e+38],\n",
              "      dtype=float32)), action=BoundedTensorSpec(shape=(), dtype=tf.int64, name='action', minimum=array(0), maximum=array(1)), policy_info=(), next_step_type=TensorSpec(shape=(), dtype=tf.int32, name='step_type'), reward=TensorSpec(shape=(), dtype=tf.float32, name='reward'), discount=BoundedTensorSpec(shape=(), dtype=tf.float32, name='discount', minimum=array(0., dtype=float32), maximum=array(1., dtype=float32)))"
            ]
          },
          "metadata": {
            "tags": []
          },
          "execution_count": 65
        }
      ]
    },
    {
      "cell_type": "code",
      "metadata": {
        "id": "Cekz2gzvNg22",
        "colab_type": "code",
        "colab": {
          "base_uri": "https://localhost:8080/",
          "height": 139
        },
        "outputId": "f40de443-6ec9-45eb-b171-cd33e7115cf5"
      },
      "source": [
        "agent.collect_data_spec._fields"
      ],
      "execution_count": 66,
      "outputs": [
        {
          "output_type": "execute_result",
          "data": {
            "text/plain": [
              "('step_type',\n",
              " 'observation',\n",
              " 'action',\n",
              " 'policy_info',\n",
              " 'next_step_type',\n",
              " 'reward',\n",
              " 'discount')"
            ]
          },
          "metadata": {
            "tags": []
          },
          "execution_count": 66
        }
      ]
    },
    {
      "cell_type": "markdown",
      "metadata": {
        "id": "fee93jC8Nugw",
        "colab_type": "text"
      },
      "source": [
        "## Gromadzenie danych"
      ]
    },
    {
      "cell_type": "code",
      "metadata": {
        "id": "_LIUgIBpNuKg",
        "colab_type": "code",
        "colab": {}
      },
      "source": [
        "def collect_step(environment, policy, buffer):\n",
        "  time_step = environment.current_time_step()\n",
        "  action_step = policy.action(time_step)\n",
        "  next_time_step = environment.step(action_step.action)\n",
        "  traj = trajectory.from_transition(time_step, action_step, next_time_step)\n",
        "  \n",
        "  buffer.add_batch(traj)\n",
        "\n",
        "def collect_data(env, policy, buffer, steps):\n",
        "  for _ in range(steps):\n",
        "    collect_step(env, policy, buffer)\n",
        "\n",
        "collect_data(train_env, random_policy, replay_buffer, steps=100)"
      ],
      "execution_count": 0,
      "outputs": []
    },
    {
      "cell_type": "code",
      "metadata": {
        "id": "mjiRNEsPPTW3",
        "colab_type": "code",
        "colab": {
          "base_uri": "https://localhost:8080/",
          "height": 55
        },
        "outputId": "b3049b4e-3d26-473d-88c1-d3ca46438451"
      },
      "source": [
        "dataset = replay_buffer.as_dataset(\n",
        "    num_parallel_calls=3,\n",
        "    sample_batch_size=batch_size, \n",
        "    num_steps=2).prefetch(3)\n",
        "\n",
        "dataset"
      ],
      "execution_count": 68,
      "outputs": [
        {
          "output_type": "execute_result",
          "data": {
            "text/plain": [
              "<PrefetchDataset shapes: (Trajectory(step_type=(64, 2), observation=(64, 2, 4), action=(64, 2), policy_info=(), next_step_type=(64, 2), reward=(64, 2), discount=(64, 2)), BufferInfo(ids=(64, 2), probabilities=(64,))), types: (Trajectory(step_type=tf.int32, observation=tf.float32, action=tf.int64, policy_info=(), next_step_type=tf.int32, reward=tf.float32, discount=tf.float32), BufferInfo(ids=tf.int64, probabilities=tf.float32))>"
            ]
          },
          "metadata": {
            "tags": []
          },
          "execution_count": 68
        }
      ]
    },
    {
      "cell_type": "code",
      "metadata": {
        "id": "1GSg2w3eP4wT",
        "colab_type": "code",
        "colab": {
          "base_uri": "https://localhost:8080/",
          "height": 35
        },
        "outputId": "2a65c326-9244-47ff-8794-438db5176f1a"
      },
      "source": [
        "iterator = iter(dataset)\n",
        "\n",
        "print(iterator)"
      ],
      "execution_count": 69,
      "outputs": [
        {
          "output_type": "stream",
          "text": [
            "<tensorflow.python.data.ops.iterator_ops.OwnedIterator object at 0x7fcdb26ffcf8>\n"
          ],
          "name": "stdout"
        }
      ]
    },
    {
      "cell_type": "markdown",
      "metadata": {
        "id": "weAW4anxQd3i",
        "colab_type": "text"
      },
      "source": [
        "## Trenowanie agenta\n",
        "Uruchomienie zajmie ok. 5 min."
      ]
    },
    {
      "cell_type": "code",
      "metadata": {
        "id": "PobCqYs5SEcF",
        "colab_type": "code",
        "colab": {
          "base_uri": "https://localhost:8080/",
          "height": 1000
        },
        "outputId": "9c4ee2d8-78b3-4219-b84d-ad76bc97c77c"
      },
      "source": [
        "try:\n",
        "  %%time\n",
        "except:\n",
        "  pass\n",
        "\n",
        "agent.train = common.function(agent.train)\n",
        "\n",
        "agent.train_step_counter.assign(0)\n",
        "\n",
        "avg_return = compute_avg_return(eval_env, agent.policy, num_eval_episodes)\n",
        "returns = [avg_return]\n",
        "\n",
        "for _ in range(num_iterations):\n",
        "\n",
        "  # Zgromadzenie kilku kroków z użyciem collect_policy i zapisanie ich do buforu odtwarzania (replay_buffer).\n",
        "  for _ in range(collect_steps_per_iteration):\n",
        "    collect_step(train_env, agent.collect_policy, replay_buffer)\n",
        "\n",
        "  # Próbka wsadu danych z bufora i aktualizacja sieci agenta.\n",
        "  experience, unused_info = next(iterator)\n",
        "  train_loss = agent.train(experience).loss\n",
        "\n",
        "  step = agent.train_step_counter.numpy()\n",
        "\n",
        "  if step % log_interval ==  0:\n",
        "    print('step = {0}: loss = {1}'.format(step, train_loss))\n",
        "\n",
        "  if step % eval_interval == 0:\n",
        "    avg_return = compute_avg_return(eval_env, agent.policy, num_eval_episodes)\n",
        "    print('step = {0}: Average Return = {1}'.format(step, avg_return))\n",
        "    returns.append(avg_return)"
      ],
      "execution_count": 71,
      "outputs": [
        {
          "output_type": "stream",
          "text": [
            "CPU times: user 3 µs, sys: 0 ns, total: 3 µs\n",
            "Wall time: 6.91 µs\n",
            "step = 200: loss = 16.386730194091797\n",
            "step = 400: loss = 3.9212646484375\n",
            "step = 600: loss = 15.050577163696289\n",
            "step = 800: loss = 13.939452171325684\n",
            "step = 1000: loss = 1.6440515518188477\n",
            "step = 1000: Average Return = 30.100000381469727\n",
            "step = 1200: loss = 14.063558578491211\n",
            "step = 1400: loss = 12.378459930419922\n",
            "step = 1600: loss = 24.600921630859375\n",
            "step = 1800: loss = 5.774158477783203\n",
            "step = 2000: loss = 50.891666412353516\n",
            "step = 2000: Average Return = 27.899999618530273\n",
            "step = 2200: loss = 120.42120361328125\n",
            "step = 2400: loss = 11.712728500366211\n",
            "step = 2600: loss = 9.029172897338867\n",
            "step = 2800: loss = 52.36616516113281\n",
            "step = 3000: loss = 13.247416496276855\n",
            "step = 3000: Average Return = 33.0\n",
            "step = 3200: loss = 29.374710083007812\n",
            "step = 3400: loss = 199.95687866210938\n",
            "step = 3600: loss = 18.391735076904297\n",
            "step = 3800: loss = 5.438663959503174\n",
            "step = 4000: loss = 5.7052178382873535\n",
            "step = 4000: Average Return = 72.30000305175781\n",
            "step = 4200: loss = 6.476507186889648\n",
            "step = 4400: loss = 47.945003509521484\n",
            "step = 4600: loss = 123.41780090332031\n",
            "step = 4800: loss = 101.61339569091797\n",
            "step = 5000: loss = 5.025310516357422\n",
            "step = 5000: Average Return = 178.89999389648438\n",
            "step = 5200: loss = 27.190622329711914\n",
            "step = 5400: loss = 91.33296203613281\n",
            "step = 5600: loss = 17.90000343322754\n",
            "step = 5800: loss = 42.53565216064453\n",
            "step = 6000: loss = 330.6001892089844\n",
            "step = 6000: Average Return = 190.39999389648438\n",
            "step = 6200: loss = 173.09613037109375\n",
            "step = 6400: loss = 128.4657745361328\n",
            "step = 6600: loss = 103.78897094726562\n",
            "step = 6800: loss = 12.112722396850586\n",
            "step = 7000: loss = 8.883614540100098\n",
            "step = 7000: Average Return = 179.6999969482422\n",
            "step = 7200: loss = 227.26223754882812\n",
            "step = 7400: loss = 126.8115463256836\n",
            "step = 7600: loss = 21.509029388427734\n",
            "step = 7800: loss = 21.183734893798828\n",
            "step = 8000: loss = 269.7022705078125\n",
            "step = 8000: Average Return = 197.39999389648438\n",
            "step = 8200: loss = 173.36868286132812\n",
            "step = 8400: loss = 267.07147216796875\n",
            "step = 8600: loss = 18.267730712890625\n",
            "step = 8800: loss = 94.91141510009766\n",
            "step = 9000: loss = 16.805429458618164\n",
            "step = 9000: Average Return = 194.89999389648438\n",
            "step = 9200: loss = 21.35330581665039\n",
            "step = 9400: loss = 541.8182373046875\n",
            "step = 9600: loss = 259.6036682128906\n",
            "step = 9800: loss = 43.23761749267578\n",
            "step = 10000: loss = 235.30059814453125\n",
            "step = 10000: Average Return = 195.8000030517578\n",
            "step = 10200: loss = 426.2965087890625\n",
            "step = 10400: loss = 32.288814544677734\n",
            "step = 10600: loss = 225.0349884033203\n",
            "step = 10800: loss = 468.39117431640625\n",
            "step = 11000: loss = 322.97857666015625\n",
            "step = 11000: Average Return = 196.0\n",
            "step = 11200: loss = 11.406705856323242\n",
            "step = 11400: loss = 346.1445617675781\n",
            "step = 11600: loss = 665.2318725585938\n",
            "step = 11800: loss = 347.7945556640625\n",
            "step = 12000: loss = 49.30209732055664\n",
            "step = 12000: Average Return = 185.5\n",
            "step = 12200: loss = 52.75789260864258\n",
            "step = 12400: loss = 26.352962493896484\n",
            "step = 12600: loss = 504.8651123046875\n",
            "step = 12800: loss = 18.305112838745117\n",
            "step = 13000: loss = 26.37643814086914\n",
            "step = 13000: Average Return = 197.89999389648438\n",
            "step = 13200: loss = 84.48479461669922\n",
            "step = 13400: loss = 19.810192108154297\n",
            "step = 13600: loss = 15.50869083404541\n",
            "step = 13800: loss = 28.460208892822266\n",
            "step = 14000: loss = 15.49441146850586\n",
            "step = 14000: Average Return = 200.0\n",
            "step = 14200: loss = 15.49934196472168\n",
            "step = 14400: loss = 21.181148529052734\n",
            "step = 14600: loss = 27.85802459716797\n",
            "step = 14800: loss = 28.46803092956543\n",
            "step = 15000: loss = 36.90605926513672\n",
            "step = 15000: Average Return = 198.0\n",
            "step = 15200: loss = 425.39794921875\n",
            "step = 15400: loss = 80.75196838378906\n",
            "step = 15600: loss = 417.3656311035156\n",
            "step = 15800: loss = 176.92938232421875\n",
            "step = 16000: loss = 24.260225296020508\n",
            "step = 16000: Average Return = 198.8000030517578\n",
            "step = 16200: loss = 17.707061767578125\n",
            "step = 16400: loss = 287.0693664550781\n",
            "step = 16600: loss = 23.122522354125977\n",
            "step = 16800: loss = 371.8484191894531\n",
            "step = 17000: loss = 252.9737091064453\n",
            "step = 17000: Average Return = 199.0\n",
            "step = 17200: loss = 30.091751098632812\n",
            "step = 17400: loss = 34.8723258972168\n",
            "step = 17600: loss = 32.38657760620117\n",
            "step = 17800: loss = 15.926948547363281\n",
            "step = 18000: loss = 27.4820556640625\n",
            "step = 18000: Average Return = 200.0\n",
            "step = 18200: loss = 146.67324829101562\n",
            "step = 18400: loss = 46.075416564941406\n",
            "step = 18600: loss = 31.204627990722656\n",
            "step = 18800: loss = 27.79891586303711\n",
            "step = 19000: loss = 1119.02099609375\n",
            "step = 19000: Average Return = 200.0\n",
            "step = 19200: loss = 1280.628173828125\n",
            "step = 19400: loss = 48.267364501953125\n",
            "step = 19600: loss = 3033.2509765625\n",
            "step = 19800: loss = 23.742721557617188\n",
            "step = 20000: loss = 958.680908203125\n",
            "step = 20000: Average Return = 200.0\n"
          ],
          "name": "stdout"
        }
      ]
    },
    {
      "cell_type": "markdown",
      "metadata": {
        "id": "JRwgDTNBXwdX",
        "colab_type": "text"
      },
      "source": [
        "## Wizualizacja\n",
        "### Wykresy"
      ]
    },
    {
      "cell_type": "code",
      "metadata": {
        "id": "d9_gAIqtYgX2",
        "colab_type": "code",
        "colab": {
          "base_uri": "https://localhost:8080/",
          "height": 301
        },
        "outputId": "d166af51-5d2d-449e-b143-95a1a97aaa3e"
      },
      "source": [
        "iterations = range(0, num_iterations + 1, eval_interval)\n",
        "plt.plot(iterations, returns)\n",
        "plt.ylabel('Średnia odpowiedź')\n",
        "plt.xlabel('Iteracje')\n",
        "plt.ylim(top=250)"
      ],
      "execution_count": 72,
      "outputs": [
        {
          "output_type": "execute_result",
          "data": {
            "text/plain": [
              "(19.294999599456787, 250.0)"
            ]
          },
          "metadata": {
            "tags": []
          },
          "execution_count": 72
        },
        {
          "output_type": "display_data",
          "data": {
            "image/png": "[encoded data removed]",
            "text/plain": [
              "<Figure size 432x288 with 1 Axes>"
            ]
          },
          "metadata": {
            "tags": []
          }
        }
      ]
    },
    {
      "cell_type": "markdown",
      "metadata": {
        "id": "SYecAAwrZi_T",
        "colab_type": "text"
      },
      "source": [
        "### Wideo"
      ]
    },
    {
      "cell_type": "code",
      "metadata": {
        "id": "Q1lfzPETZkPU",
        "colab_type": "code",
        "colab": {}
      },
      "source": [
        "def embed_mp4(filename):\n",
        "  '''Otwiera plik mp4 w notebooku.'''\n",
        "  video = open(filename, 'rb').read()\n",
        "  b64 = base64.b64encode(video)\n",
        "  tag = '''\n",
        "  <video width=\"640\" height=\"480\" controls>\n",
        "    <source src=\"data:video/mp4;base64,{0}\" type=\"video/mp4\">\n",
        "  Your browser does not support the video tag.\n",
        "  </video>'''.format(b64.decode())\n",
        "\n",
        "  return IPython.display.HTML(tag)"
      ],
      "execution_count": 0,
      "outputs": []
    },
    {
      "cell_type": "code",
      "metadata": {
        "id": "5BXzVf6gbGZT",
        "colab_type": "code",
        "colab": {
          "base_uri": "https://localhost:8080/",
          "height": 539
        },
        "outputId": "4900ac10-9797-45f1-9068-e96eaefb49ca"
      },
      "source": [
        "def create_policy_eval_video(policy, filename, num_episodes=5, fps=30):\n",
        "  filename = filename + '.mp4'\n",
        "  with imageio.get_writer(filename, fps=fps) as video:\n",
        "    for _ in range(num_episodes):\n",
        "      time_step = eval_env.reset()\n",
        "      video.append_data(eval_py_env.render())\n",
        "      while not time_step.is_last():\n",
        "        action_step = policy.action(time_step)\n",
        "        time_step = eval_env.step(action_step.action)\n",
        "        video.append_data(eval_py_env.render())\n",
        "  return embed_mp4(filename)\n",
        "\n",
        "\n",
        "create_policy_eval_video(agent.policy, 'trained-agent')"
      ],
      "execution_count": 79,
      "outputs": [
        {
          "output_type": "stream",
          "text": [
            "WARNING:root:IMAGEIO FFMPEG_WRITER WARNING: input image is not divisible by macro_block_size=16, resizing from (400, 600) to (400, 608) to ensure video compatibility with most codecs and players. To prevent resizing, make your input image divisible by the macro_block_size or set the macro_block_size to None (risking incompatibility). You may also see a FFMPEG warning concerning speedloss due to data not being aligned.\n"
          ],
          "name": "stderr"
        },
        {
          "output_type": "execute_result",
          "data": {
            "text/html": [
              "\n",
              "  <video width=\"640\" height=\"480\" controls>\n",
              "    <source src=\"data:video/mp4;base64,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\" type=\"video/mp4\">\n",
              "  Your browser does not support the video tag.\n",
              "  </video>"
            ],
            "text/plain": [
              "<IPython.core.display.HTML object>"
            ]
          },
          "metadata": {
            "tags": []
          },
          "execution_count": 79
        }
      ]
    },
    {
      "cell_type": "markdown",
      "metadata": {
        "id": "icIR01g-eEZK",
        "colab_type": "text"
      },
      "source": [
        "Porównanie (powyższego) przetrenowanego agenta do agenta poruszającego się losowo."
      ]
    },
    {
      "cell_type": "code",
      "metadata": {
        "id": "LLKkiDEjd4IE",
        "colab_type": "code",
        "colab": {
          "base_uri": "https://localhost:8080/",
          "height": 539
        },
        "outputId": "4eadd845-9c73-4826-e766-d69197ee4c93"
      },
      "source": [
        "create_policy_eval_video(random_policy, 'random-agent')"
      ],
      "execution_count": 80,
      "outputs": [
        {
          "output_type": "stream",
          "text": [
            "WARNING:root:IMAGEIO FFMPEG_WRITER WARNING: input image is not divisible by macro_block_size=16, resizing from (400, 600) to (400, 608) to ensure video compatibility with most codecs and players. To prevent resizing, make your input image divisible by the macro_block_size or set the macro_block_size to None (risking incompatibility). You may also see a FFMPEG warning concerning speedloss due to data not being aligned.\n"
          ],
          "name": "stderr"
        },
        {
          "output_type": "execute_result",
          "data": {
            "text/html": [
              "\n",
              "  <video width=\"640\" height=\"480\" controls>\n",
              "    <source src=\"data:video/mp4;base64,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\" type=\"video/mp4\">\n",
              "  Your browser does not support the video tag.\n",
              "  </video>"
            ],
            "text/plain": [
              "<IPython.core.display.HTML object>"
            ]
          },
          "metadata": {
            "tags": []
          },
          "execution_count": 80
        }
      ]
    }
  ]
}