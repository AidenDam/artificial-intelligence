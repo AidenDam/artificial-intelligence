{
  "nbformat": 4,
  "nbformat_minor": 0,
  "metadata": {
    "colab": {
      "name": "reinforce_cartpole.ipynb",
      "provenance": [],
      "collapsed_sections": [],
      "authorship_tag": "ABX9TyNPAefkk+aXGNpz67xZUgNj",
      "include_colab_link": true
    },
    "kernelspec": {
      "name": "python3",
      "display_name": "Python 3"
    },
    "accelerator": "GPU"
  },
  "cells": [
    {
      "cell_type": "markdown",
      "metadata": {
        "id": "view-in-github",
        "colab_type": "text"
      },
      "source": [
        "<a href=\"https://colab.research.google.com/github/PsorTheDoctor/Sekcja-SI/blob/master/machine_learning/reinforcement_learning/reinforce/reinforce_cartpole.ipynb\" target=\"_parent\"><img src=\"https://colab.research.google.com/assets/colab-badge.svg\" alt=\"Open In Colab\"/></a>"
      ]
    },
    {
      "cell_type": "markdown",
      "metadata": {
        "id": "zvNtxs-zVrNJ",
        "colab_type": "text"
      },
      "source": [
        "# REINFORCE\n",
        "## Ustawienia"
      ]
    },
    {
      "cell_type": "code",
      "metadata": {
        "id": "AdE2JGUAUQ9R",
        "colab_type": "code",
        "colab": {
          "base_uri": "https://localhost:8080/",
          "height": 35
        },
        "outputId": "6bd72638-bdc6-4b8d-eafb-58fad46f2b54"
      },
      "source": [
        "try:\n",
        "  %tensorflow_version 2.x\n",
        "except:\n",
        "  pass"
      ],
      "execution_count": 1,
      "outputs": [
        {
          "output_type": "stream",
          "text": [
            "TensorFlow 2.x selected.\n"
          ],
          "name": "stdout"
        }
      ]
    },
    {
      "cell_type": "code",
      "metadata": {
        "id": "ey5P9m_3V6wf",
        "colab_type": "code",
        "colab": {}
      },
      "source": [
        "!sudo apt-get install -y xvfb ffmpeg\n",
        "!pip install 'gym==0.10.11'\n",
        "!pip install 'imageio==2.4.0'\n",
        "!pip install PILLOW\n",
        "!pip install 'pyglet==1.3.2'\n",
        "!pip install pyvirtualdisplay\n",
        "!pip install --upgrade tensorflow-probability\n",
        "!pip install tf-agents"
      ],
      "execution_count": 0,
      "outputs": []
    },
    {
      "cell_type": "code",
      "metadata": {
        "id": "y376bc4IV_Be",
        "colab_type": "code",
        "colab": {
          "base_uri": "https://localhost:8080/",
          "height": 35
        },
        "outputId": "bcf177e9-1250-48b8-f82b-5d6ecd01d587"
      },
      "source": [
        "from __future__ import absolute_import, division, print_function\n",
        "\n",
        "import base64\n",
        "import imageio\n",
        "import IPython\n",
        "import matplotlib\n",
        "import matplotlib.pyplot as plt\n",
        "import numpy as np\n",
        "import PIL.Image\n",
        "import pyvirtualdisplay\n",
        "\n",
        "import tensorflow as tf\n",
        "\n",
        "from tf_agents.agents.reinforce import reinforce_agent\n",
        "from tf_agents.drivers import dynamic_step_driver\n",
        "from tf_agents.environments import suite_gym, tf_py_environment\n",
        "from tf_agents.eval import metric_utils\n",
        "from tf_agents.metrics import tf_metrics\n",
        "from tf_agents.networks import actor_distribution_network\n",
        "from tf_agents.policies import random_tf_policy\n",
        "from tf_agents.replay_buffers import tf_uniform_replay_buffer\n",
        "from tf_agents.trajectories import trajectory\n",
        "from tf_agents.utils import common\n",
        "\n",
        "tf.compat.v1.enable_v2_behavior()\n",
        "\n",
        "# Ustawienie virtual display do renderowania środowisk OpenAI gym.\n",
        "display = pyvirtualdisplay.Display(visible=0, size=(1400, 900)).start()"
      ],
      "execution_count": 19,
      "outputs": [
        {
          "output_type": "stream",
          "text": [
            "xdpyinfo was not found, X start can not be checked! Please install xdpyinfo!\n"
          ],
          "name": "stderr"
        }
      ]
    },
    {
      "cell_type": "markdown",
      "metadata": {
        "id": "fhdiWuSZWh37",
        "colab_type": "text"
      },
      "source": [
        "## Hiperparametry"
      ]
    },
    {
      "cell_type": "code",
      "metadata": {
        "id": "x4YWfxTFWkYA",
        "colab_type": "code",
        "colab": {}
      },
      "source": [
        "env_name = 'CartPole-v0'\n",
        "num_iterations = 250\n",
        "collect_episodes_per_iteration = 2\n",
        "replay_buffer_capacity = 2000\n",
        "\n",
        "fc_layer_params = (100,)\n",
        "\n",
        "learning_rate = 1e-3\n",
        "log_interval = 25\n",
        "num_eval_episodes = 10\n",
        "eval_interval = 50"
      ],
      "execution_count": 0,
      "outputs": []
    },
    {
      "cell_type": "markdown",
      "metadata": {
        "id": "EvxL7oQ7XR0N",
        "colab_type": "text"
      },
      "source": [
        "## Środowisko"
      ]
    },
    {
      "cell_type": "code",
      "metadata": {
        "id": "hm6HCVbSXWcZ",
        "colab_type": "code",
        "colab": {
          "base_uri": "https://localhost:8080/",
          "height": 89
        },
        "outputId": "1ec222f1-c7ae-40bd-e68f-3bebfa243c0d"
      },
      "source": [
        "env = suite_gym.load(env_name)\n",
        "env.reset()"
      ],
      "execution_count": 10,
      "outputs": [
        {
          "output_type": "stream",
          "text": [
            "/usr/local/lib/python3.6/dist-packages/gym/logger.py:30: UserWarning: \u001b[33mWARN: Box bound precision lowered by casting to float32\u001b[0m\n",
            "  warnings.warn(colorize('%s: %s'%('WARN', msg % args), 'yellow'))\n"
          ],
          "name": "stderr"
        },
        {
          "output_type": "execute_result",
          "data": {
            "text/plain": [
              "TimeStep(step_type=array(0, dtype=int32), reward=array(0., dtype=float32), discount=array(1., dtype=float32), observation=array([-0.04166482,  0.04906182,  0.0244216 , -0.02906699], dtype=float32))"
            ]
          },
          "metadata": {
            "tags": []
          },
          "execution_count": 10
        }
      ]
    },
    {
      "cell_type": "code",
      "metadata": {
        "id": "BBiWNCyrX0sU",
        "colab_type": "code",
        "colab": {
          "base_uri": "https://localhost:8080/",
          "height": 107
        },
        "outputId": "4ccafb35-ff10-4122-ed1c-614ef108f420"
      },
      "source": [
        "print('Observation Spec:')\n",
        "print(env.time_step_spec().observation)\n",
        "print('Action Spec:')\n",
        "print(env.action_spec())"
      ],
      "execution_count": 11,
      "outputs": [
        {
          "output_type": "stream",
          "text": [
            "Observation Spec:\n",
            "BoundedArraySpec(shape=(4,), dtype=dtype('float32'), name='observation', minimum=[-4.8000002e+00 -3.4028235e+38 -4.1887903e-01 -3.4028235e+38], maximum=[4.8000002e+00 3.4028235e+38 4.1887903e-01 3.4028235e+38])\n",
            "Action Spec:\n",
            "BoundedArraySpec(shape=(), dtype=dtype('int64'), name='action', minimum=0, maximum=1)\n"
          ],
          "name": "stdout"
        }
      ]
    },
    {
      "cell_type": "code",
      "metadata": {
        "id": "jbYerujvY3c2",
        "colab_type": "code",
        "colab": {
          "base_uri": "https://localhost:8080/",
          "height": 107
        },
        "outputId": "58e08db5-38a4-41c6-c10b-fad6c62d2aa7"
      },
      "source": [
        "time_step = env.reset()\n",
        "print('Krok czasowy:')\n",
        "print(time_step)\n",
        "\n",
        "action = np.array(1, dtype=np.int32)\n",
        "\n",
        "next_time_step = env.step(action)\n",
        "print('Następny krok czasowy:')\n",
        "print( next_time_step)"
      ],
      "execution_count": 12,
      "outputs": [
        {
          "output_type": "stream",
          "text": [
            "Krok czasowy:\n",
            "TimeStep(step_type=array(0, dtype=int32), reward=array(0., dtype=float32), discount=array(1., dtype=float32), observation=array([0.02707787, 0.03075384, 0.03698024, 0.01995714], dtype=float32))\n",
            "Następny krok czasowy:\n",
            "TimeStep(step_type=array(1, dtype=int32), reward=array(1., dtype=float32), discount=array(1., dtype=float32), observation=array([ 0.02769295,  0.22532648,  0.03737938, -0.26083255], dtype=float32))\n"
          ],
          "name": "stdout"
        }
      ]
    },
    {
      "cell_type": "code",
      "metadata": {
        "id": "DUjxX0b0Y-fw",
        "colab_type": "code",
        "colab": {
          "base_uri": "https://localhost:8080/",
          "height": 52
        },
        "outputId": "fbc178d5-d6e4-463d-ece1-167180fb6bf4"
      },
      "source": [
        "train_py_env = suite_gym.load(env_name)\n",
        "eval_py_env = suite_gym.load(env_name)\n",
        "\n",
        "train_env = tf_py_environment.TFPyEnvironment(train_py_env)\n",
        "eval_env = tf_py_environment.TFPyEnvironment(eval_py_env)"
      ],
      "execution_count": 13,
      "outputs": [
        {
          "output_type": "stream",
          "text": [
            "/usr/local/lib/python3.6/dist-packages/gym/logger.py:30: UserWarning: \u001b[33mWARN: Box bound precision lowered by casting to float32\u001b[0m\n",
            "  warnings.warn(colorize('%s: %s'%('WARN', msg % args), 'yellow'))\n"
          ],
          "name": "stderr"
        }
      ]
    },
    {
      "cell_type": "markdown",
      "metadata": {
        "id": "dehHNvs5ZKrx",
        "colab_type": "text"
      },
      "source": [
        "## Agent"
      ]
    },
    {
      "cell_type": "code",
      "metadata": {
        "id": "_cDalozIZMGg",
        "colab_type": "code",
        "colab": {}
      },
      "source": [
        "actor_net = actor_distribution_network.ActorDistributionNetwork(\n",
        "    train_env.observation_spec(),\n",
        "    train_env.action_spec(),\n",
        "    fc_layer_params=fc_layer_params)"
      ],
      "execution_count": 0,
      "outputs": []
    },
    {
      "cell_type": "code",
      "metadata": {
        "id": "Z9gh6kTYZdOi",
        "colab_type": "code",
        "colab": {}
      },
      "source": [
        "optimizer = tf.compat.v1.train.AdamOptimizer(learning_rate=learning_rate)\n",
        "\n",
        "train_step_counter = tf.compat.v2.Variable(0)\n",
        "\n",
        "tf_agent = reinforce_agent.ReinforceAgent(\n",
        "    train_env.time_step_spec(),\n",
        "    train_env.action_spec(),\n",
        "    actor_network=actor_net,\n",
        "    optimizer=optimizer,\n",
        "    normalize_returns=True,\n",
        "    train_step_counter=train_step_counter)\n",
        "tf_agent.initialize()"
      ],
      "execution_count": 0,
      "outputs": []
    },
    {
      "cell_type": "markdown",
      "metadata": {
        "id": "6ESE-HXmbgi7",
        "colab_type": "text"
      },
      "source": [
        "## Polityki"
      ]
    },
    {
      "cell_type": "code",
      "metadata": {
        "id": "YW4-nywWdMYX",
        "colab_type": "code",
        "colab": {}
      },
      "source": [
        "eval_policy = tf_agent.policy\n",
        "collect_policy = tf_agent.collect_policy"
      ],
      "execution_count": 0,
      "outputs": []
    },
    {
      "cell_type": "markdown",
      "metadata": {
        "id": "bM1yXsCkeAUZ",
        "colab_type": "text"
      },
      "source": [
        "## Metryki i ocena"
      ]
    },
    {
      "cell_type": "code",
      "metadata": {
        "id": "_KfT3ODSeN4w",
        "colab_type": "code",
        "colab": {}
      },
      "source": [
        "def compute_avg_return(environment, policy, num_episodes=10):\n",
        "\n",
        "  total_return = 0.0\n",
        "  for _ in range(num_episodes):\n",
        "\n",
        "    time_step = environment.reset()\n",
        "    episode_return = 0.0 \n",
        "\n",
        "    while not time_step.is_last():\n",
        "      action_step = policy.action(time_step)\n",
        "      time_step = environment.step(action_step.action)\n",
        "      episode_return += time_step.reward\n",
        "    total_return += episode_return\n",
        "\n",
        "  avg_return = total_return / num_episodes\n",
        "  return avg_return.numpy()[0]"
      ],
      "execution_count": 0,
      "outputs": []
    },
    {
      "cell_type": "markdown",
      "metadata": {
        "id": "Du8vHwUleyDi",
        "colab_type": "text"
      },
      "source": [
        "## Bufor odtwarzania"
      ]
    },
    {
      "cell_type": "code",
      "metadata": {
        "id": "NvDCxpdse1lD",
        "colab_type": "code",
        "colab": {}
      },
      "source": [
        "replay_buffer = tf_uniform_replay_buffer.TFUniformReplayBuffer(\n",
        "    data_spec = tf_agent.collect_data_spec,\n",
        "    batch_size = train_env.batch_size,\n",
        "    max_length = replay_buffer_capacity)"
      ],
      "execution_count": 0,
      "outputs": []
    },
    {
      "cell_type": "markdown",
      "metadata": {
        "id": "pzpihx7Efg3B",
        "colab_type": "text"
      },
      "source": [
        "## Gromadzenie danych"
      ]
    },
    {
      "cell_type": "code",
      "metadata": {
        "id": "5PZZjKWkflvV",
        "colab_type": "code",
        "colab": {}
      },
      "source": [
        "def collect_episode(environment, policy, num_episodes):\n",
        "\n",
        "  episode_counter = 0\n",
        "  environment.reset()\n",
        "\n",
        "  while episode_counter < num_episodes:\n",
        "    time_step = environment.current_time_step()\n",
        "    action_step = policy.action(time_step)\n",
        "    next_time_step = environment.step(action_step.action)\n",
        "    traj = trajectory.from_transition(time_step, action_step, next_time_step)\n",
        "  \n",
        "    replay_buffer.add_batch(traj)\n",
        "\n",
        "    if traj.is_boundary():\n",
        "      episode_counter += 1"
      ],
      "execution_count": 0,
      "outputs": []
    },
    {
      "cell_type": "markdown",
      "metadata": {
        "id": "Nw7rR4E-gaXa",
        "colab_type": "text"
      },
      "source": [
        "## Trenowanie agenta\n",
        "Uruchomienie zajmie ok. 3 min."
      ]
    },
    {
      "cell_type": "code",
      "metadata": {
        "id": "jbAOQpCLgdKo",
        "colab_type": "code",
        "colab": {
          "base_uri": "https://localhost:8080/",
          "height": 312
        },
        "outputId": "6177c759-fa55-4006-9678-269ed7d2396f"
      },
      "source": [
        "try:\n",
        "  %%time\n",
        "except:\n",
        "  pass\n",
        "\n",
        "tf_agent.train = common.function(tf_agent.train)\n",
        "\n",
        "tf_agent.train_step_counter.assign(0)\n",
        "\n",
        "# Ocena polityki agenta jednorazowo przed treningiem.\n",
        "avg_return = compute_avg_return(eval_env, tf_agent.policy, num_eval_episodes)\n",
        "returns = [avg_return]\n",
        "\n",
        "for _ in range(num_iterations):\n",
        "\n",
        "  # Zgromadzenie kilku epizodów z użyciem collect_policy i zapisanie ich do buforu odtwarzania (replay_buffer).\n",
        "  collect_episode(\n",
        "      train_env, tf_agent.collect_policy, collect_episodes_per_iteration)\n",
        "\n",
        "  # Użycie danych z bufora i aktualizacja sieci agenta.\n",
        "  experience = replay_buffer.gather_all()\n",
        "  train_loss = tf_agent.train(experience).loss\n",
        "  replay_buffer.clear()\n",
        "\n",
        "  step = tf_agent.train_step_counter.numpy()\n",
        "\n",
        "  if step % log_interval ==  0:\n",
        "    print('step = {0}: loss = {1}'.format(step, train_loss))\n",
        "\n",
        "  if step % eval_interval == 0:\n",
        "    avg_return = compute_avg_return(eval_env, tf_agent.policy, num_eval_episodes)\n",
        "    print('step = {0}: Average Return = {1}'.format(step, avg_return))\n",
        "    returns.append(avg_return)"
      ],
      "execution_count": 38,
      "outputs": [
        {
          "output_type": "stream",
          "text": [
            "CPU times: user 2 µs, sys: 0 ns, total: 2 µs\n",
            "Wall time: 5.48 µs\n",
            "step = 25: loss = 0.7998112440109253\n",
            "step = 50: loss = -1.7507457733154297\n",
            "step = 50: Average Return = 90.69999694824219\n",
            "step = 75: loss = 0.14396381378173828\n",
            "step = 100: loss = -3.481363296508789\n",
            "step = 100: Average Return = 181.3000030517578\n",
            "step = 125: loss = -4.069250106811523\n",
            "step = 150: loss = -3.1988821029663086\n",
            "step = 150: Average Return = 200.0\n",
            "step = 175: loss = -4.81304931640625\n",
            "step = 200: loss = -2.5577850341796875\n",
            "step = 200: Average Return = 200.0\n",
            "step = 225: loss = 3.189206123352051\n",
            "step = 250: loss = 5.529643535614014\n",
            "step = 250: Average Return = 200.0\n"
          ],
          "name": "stdout"
        }
      ]
    },
    {
      "cell_type": "markdown",
      "metadata": {
        "id": "KaovmvZxi1v6",
        "colab_type": "text"
      },
      "source": [
        "## Wizualizacja\n",
        "### Wykresy"
      ]
    },
    {
      "cell_type": "code",
      "metadata": {
        "id": "yiOnC95ci7Lp",
        "colab_type": "code",
        "colab": {
          "base_uri": "https://localhost:8080/",
          "height": 297
        },
        "outputId": "0f0fff70-c2d1-4357-cae6-0bffc8aaf003"
      },
      "source": [
        "steps = range(0, num_iterations + 1, eval_interval)\n",
        "plt.plot(steps, returns)\n",
        "plt.ylabel('Średnia odpowiedź')\n",
        "plt.xlabel('Krok')\n",
        "plt.ylim(top=250)"
      ],
      "execution_count": 43,
      "outputs": [
        {
          "output_type": "execute_result",
          "data": {
            "text/plain": [
              "(85.2349967956543, 250.0)"
            ]
          },
          "metadata": {
            "tags": []
          },
          "execution_count": 43
        },
        {
          "output_type": "display_data",
          "data": {
            "image/png": "[encoded data removed]",
            "text/plain": [
              "<Figure size 432x288 with 1 Axes>"
            ]
          },
          "metadata": {
            "tags": []
          }
        }
      ]
    },
    {
      "cell_type": "markdown",
      "metadata": {
        "id": "dFgyzPzFjLDp",
        "colab_type": "text"
      },
      "source": [
        "### Wideo"
      ]
    },
    {
      "cell_type": "code",
      "metadata": {
        "id": "dV90c06ejMLh",
        "colab_type": "code",
        "colab": {}
      },
      "source": [
        "def embed_mp4(filename):\n",
        "  '''Otwiera plik mp4 w notebooku.'''\n",
        "  video = open(filename, 'rb').read()\n",
        "  b64 = base64.b64encode(video)\n",
        "  tag = '''\n",
        "  <video width=\"640\" height=\"480\" controls>\n",
        "    <source src=\"data:video/mp4;base64,{0}\" type=\"video/mp4\">\n",
        "  Your browser does not support the video tag.\n",
        "  </video>'''.format(b64.decode())\n",
        "\n",
        "  return IPython.display.HTML(tag)"
      ],
      "execution_count": 0,
      "outputs": []
    },
    {
      "cell_type": "code",
      "metadata": {
        "id": "jPUJqupPjSPC",
        "colab_type": "code",
        "colab": {
          "base_uri": "https://localhost:8080/",
          "height": 539
        },
        "outputId": "5bad1981-6f89-40ef-f343-2924e532b762"
      },
      "source": [
        "num_episodes = 3\n",
        "video_filename = 'imageio.mp4'\n",
        "with imageio.get_writer(video_filename, fps=60) as video:\n",
        "  for _ in range(num_episodes):\n",
        "    time_step = eval_env.reset()\n",
        "    video.append_data(eval_py_env.render())\n",
        "    while not time_step.is_last():\n",
        "      action_step = tf_agent.policy.action(time_step)\n",
        "      time_step = eval_env.step(action_step.action)\n",
        "      video.append_data(eval_py_env.render())\n",
        "\n",
        "embed_mp4(video_filename)"
      ],
      "execution_count": 48,
      "outputs": [
        {
          "output_type": "stream",
          "text": [
            "WARNING:root:IMAGEIO FFMPEG_WRITER WARNING: input image is not divisible by macro_block_size=16, resizing from (400, 600) to (400, 608) to ensure video compatibility with most codecs and players. To prevent resizing, make your input image divisible by the macro_block_size or set the macro_block_size to None (risking incompatibility). You may also see a FFMPEG warning concerning speedloss due to data not being aligned.\n"
          ],
          "name": "stderr"
        },
        {
          "output_type": "execute_result",
          "data": {
            "text/html": [
              "\n",
              "  <video width=\"640\" height=\"480\" controls>\n",
              "    <source src=\"data:video/mp4;base64,AAAAIGZ0eXBpc29tAAACAGlzb21pc28yYXZjMW1wNDEAAAAIZnJlZQAAfbhtZGF0AAACrgYF//+q3EXpvebZSLeWLNgg2SPu73gyNjQgLSBjb3JlIDE1MiByMjg1NCBlOWE1OTAzIC0gSC4yNjQvTVBFRy00IEFWQyBjb2RlYyAtIENvcHlsZWZ0IDIwMDMtMjAxNyAtIGh0dHA6Ly93d3cudmlkZW9sYW4ub3JnL3gyNjQuaHRtbCAtIG9wdGlvbnM6IGNhYmFjPTEgcmVmPTMgZGVibG9jaz0xOjA6MCBhbmFseXNlPTB4MzoweDExMyBtZT1oZXggc3VibWU9NyBwc3k9MSBwc3lfcmQ9MS4wMDowLjAwIG1peGVkX3JlZj0xIG1lX3JhbmdlPTE2IGNocm9tYV9tZT0xIHRyZWxsaXM9MSA4eDhkY3Q9MSBjcW09MCBkZWFkem9uZT0yMSwxMSBmYXN0X3Bza2lwPTEgY2hyb21hX3FwX29mZnNldD0tMiB0aHJlYWRzPTMgbG9va2FoZWFkX3RocmVhZHM9MSBzbGljZWRfdGhyZWFkcz0wIG5yPTAgZGVjaW1hdGU9MSBpbnRlcmxhY2VkPTAgYmx1cmF5X2NvbXBhdD0wIGNvbnN0cmFpbmVkX2ludHJhPTAgYmZyYW1lcz0zIGJfcHlyYW1pZD0yIGJfYWRhcHQ9MSBiX2JpYXM9MCBkaXJlY3Q9MSB3ZWlnaHRiPTEgb3Blbl9nb3A9MCB3ZWlnaHRwPTIga2V5aW50PTI1MCBrZXlpbnRfbWluPTI1IHNjZW5lY3V0PTQwIGludHJhX3JlZnJlc2g9MCByY19sb29rYWhlYWQ9NDAgcmM9Y3JmIG1idHJlZT0xIGNyZj0yNS4wIHFjb21wPTAuNjAgcXBtaW49MCBxcG1heD02OSBxcHN0ZXA9NCBpcF9yYXRpbz0xLjQwIGFxPTE6MS4wMACAAAABxmWIhAAv//71sXwKasnzigzoMi7hlyTJrrYi4m0AwAAAAwAAAwAA+gbTUzSJ55wcAAADAkoAagPoMoPMRMVYqBKiQcVX+1NgE9YF5LN1RafdAzJ0ECN6E4zsChRFZw5YgU0GJccdC8UWCT+n3Qhlmm2dAOV0VCuHL5RRJMzPFPV509LitDT7KJnGs5okzsJ1PIyvlE6yh9osYzaTjodfVQq6bUaPMGX62G9AqAazrTHp6vH7jtsNrV53OJc1jhTWMweP4jYvy3hTUAzbcnXfkeiTc4Fq4MoyT25gQyYrPsaygOKCNWfmMCMNnuCyTHI6oNXFiXC/M5NxDaHgozbE9CrQbZgO+O4Nm5i+kEkYrGH3LyJ4hyjuoY1fNIpYID7k8DFXBMf3w+L0T/Ny/vjhYIuvulkarInqNEg+7Tdxr9bSBSIOM0eTfTgqgDJv0OmJxfpWo2HzKl7lELgEtJnrDtkGoON7QzG5EPxsbrxbH0wLUgpe4+oVnxzBqgV5LXp9U94Tel+oKN+aM4gCRhdXy8ZaczrHr7q9ZX8193iMVCkMhvmSl10QhJvbEzXbWg9mxX8uePSTbE16UsseLPAAAAMAAAMAChkAAABhQZokbEL//fEAAAMCjeM8Aci5jCfiqN3E/YZ0dfavnFXZ9vBLu1keAygBwdyLLnGxMfRn62ybHdDCydaZ3qFRSqS+rVDJzicWQtjVCrT3J5zaPjOi8wiA4w7yPk8XYNly8AAAAEFBnkJ4hH8AAC19t5OQ4QDap6a+YnzjRWAALca3TgY3a0jgC9SKgJnh2OTyhOEzkCSXIOgyBva1SvYmszBaOQYnJQAAACQBnmF0R/8AADcvQOdmS87c2KbbjD0xEABpC02kqJpJbNcIRswAAAAdAZ5jakf/AAAVnKxDhCkN9kBs3BgnPwPxkLzjSTEAAABOQZpoSahBaJlMCF///fEAAAMCjQNd3AJrk1LFEhYnQVSW3ANsEefSl5EH81c/pVPQrXA6enf1RjjH9v0zH1uEUhb4xCb5O/U0Fk+Bb65nAAAANkGehkURLCP/AAAthTT23phAdQAKhPUYSBgn8s67TVLrTVJ/5UHiAZ9fSTKYYMgiathI8BY5ZQAAAB8BnqV0R/8AADiFGg9nyPUov/dpQpMR5b4I7QMXxlmBAAAAJgGep2pH/wAAOK3cGHS+fZtpFg8glw6FFbjX1ZZHOhQUSYPC3+wIAAAATkGarEmoQWyZTAhf//3xAAADAPKW9u6lYLv8A2Jmx3QtwJ+8XzmK3Pq0oOA/J9CWbzKcBbWuA91DjgtzMgIRrD6BYW0KEg2VICilJI2d2AAAADFBnspFFSwj/wAALYVRWdYjCc+UbDcKgnAQALnSvt/tn5CvzwSPpQCjIVovhDTL+uGVAAAAHgGe6XRH/wAAOIV/l1gBZg6eD5uiYcPMrRDyQrQRcAAAACIBnutqR/8AADit3DeGihIETzgV5Wn/aUigG9RqGOsyb9MoAAAAXEGa8EmoQWyZTAhf//3xAAADAo8BO1DXgCg1y24ZH2oKzX7HhOhUVwZEZIyMHnVBBN4ooTPTKHX/wRNdRrNGaq/QrerHl4eAOR1KUzbRqZ5KISUNgT6naVx/OW/HAAAAIkGfDkUVLCP/AAAthTs/YfmPv1Bw596WgPHzoCd9MeLwf4EAAAAXAZ8tdEf/AAA4hTuLy17P0/zYgWJgFJEAAAAdAZ8vakf/AAA4rdw3hohNicEddp4HJ8s1pNEQG/AAAABwQZs0SahBbJlMCFf//eEAAAMD9cxEAKDZBHvbHFolzWTZubIMJA7qGs8qcykaTiWgFZDWkjXtcZspg0BSuHEXnV0RcC6F8rC5XLV7k8zxrRpwV3x6pHXO2NYZ4wqwOt0P9frkUIvzHfwb/3sw1Hb64AAAACZBn1JFFSwj/wAALYVRXUyExS9SyywfD9/DvdjAWdK/S2VEQagNvQAAABwBn3F0R/8AADiFEg3qz7brqZX4Z6nJJL0v0M+AAAAAIQGfc2pH/wAAOK3cN4aKEgROuOPpqtfnD4l0/5hPhFSCygAAADRBm3VJqEFsmUwIX//98QAAAwDyfF71BIYVQgl945FzZccf5Z4D9+V3pui/jC3XoJG7lybhAAAAfEGbmUnhClJlMCF//fEAAAMCn/MEuPrAJr5X3MANpWhZj3YT499oTxj6KoYqW9/Tk3Qu/5+oWv6aAo9n0fTYkBTQC1PuStJqZ+Lv7XR3SADKDthEnwsun53Akvr4ts+pC6KIxvylxXhwquV+ASoHj5pbyfB4MFa4CG8acCAAAAAzQZ+3RTRMI/8AAC1/3OPMSkZApqAw0o0tfgvn8euACRml9aMnUjHLlAgNnsBbDQya2nehAAAAHQGf1nRH/wAAOIV/1eYfB8kkcqgLFB39vEFz4h3RAAAAIwGf2GpH/wAANzrSf+7H8bba6f/DIsNhtkK/K+Bz5q+hu0pmAAAAT0Gb3UmoQWiZTAhf//3xAAADAo8SLExodVf9uCewoff9qGzYHpAnmyvKpbppvNpzccpoAbVSz7FkT+O8GAZ0gsmD4zwYzHcI18mS4QTNrIEAAAArQZ/7RREsI/8AACxTvwgVCYDWgb1Yw1ID78lW61NHJYLP7B80rWc2z+x/cAAAACUBnhp0R/8AADdFF/ctI7dHxK5cvg6dgo6si+MC7QiBYungxH3BAAAAHgGeHGpH/wAANzrSgT4+HsMtKUNwlr6+yY2bXssMCQAAAGFBmgFJqEFsmUwIX//98QAAAwKNT90AOkdTxF8xKckXtIJwGLFXdBxs1vORbnio0xNaLroCKJikUbW92rVkfIc/prXVYWI0gatIti32MxPp2KRqDLXia0tQUqdGXqbFrZPAAAAAJEGeP0UVLCP/AAAsRhZA98gx+7Z3jPV3TC3a0hcWNf7cpgKdvQAAAB4Bnl50R/8AADcvWo6wQwfjc2SXKXFw4hKMvUCcv80AAAAYAZ5Aakf/AAAVnRUYTHTRefX7AegfNB0wAAAAPUGaRUmoQWyZTAhf//3xAAADAo0CxJiLV1AYRthvcWhoc9Sdve4W6koZ2ajFEdEYDrUuGdi1evUmSH+cmdEAAAAlQZ5jRRUsI/8AACxfRq8f7C6a8k/NVCovjQrwJucqwAAnitD8oAAAAB4BnoJ0R/8AADdZX96wQTHL6AclqbTLAyVp4TsGBqUAAAAZAZ6Eakf/AAA3Ynar4DeTAklcENax/CANdwAAAF5BmolJqEFsmUwIX//98QAAAwKPAOnougCdw7nYOH7BSZy0G+xcmerXeLM9ujCCSLRKEWviMusNZhbQUG0LuKogeXXpBqTCJ9oNGDB2qkMTdar4GCi75HwCEb3/5ycpAAAAIkGep0UVLCP/AAAsRhZA98gx+7Z3kj3kllbADriFViyv/PkAAAAdAZ7GdEf/AAA3RRf3pBCMcujgGIwtQABKVtQJKGwAAAAUAZ7Iakf/AAAVnRUYTHTP+2PgNmAAAABsQZrNSahBbJlMCF///fEAAAMCjU/dAFBhzebpqnC2XPVaO1udlhhyj2Lyk7A/Uk3rD9LXMlhC01jh7J5m6oZu5EDx1PrPM+dyXQFyQ7+0MnFWKr2GnNCv+eCF8i6bY5xq5TIcs3gB2bnVtF9BAAAAIEGe60UVLCP/AAAQ5IyP3zYaI69nHgM/cExCG3MYOnCcAAAAIAGfCnRH/wAAFY447Bjmf5Wc0IVfkfAMO+moYEcJkMvAAAAAGwGfDGpH/wAAFZ0VGEx0xmLKxodB1MJIrJQHHQAAADhBmxFJqEFsmUwIX//98QAAAwAinNn6GdB8MeUf32VQpD1Jj7xA7rMwBYEOeaqCFcel6rnQ1R5CYQAAACpBny9FFSwj/wAAEOSMj993FJnPaRA9SCRriuhVytpAB5/JOwn3SdtuR8EAAAAdAZ9OdEf/AAAVjjjsHscy1sSPsEwceMrnGlCGSYAAAAAaAZ9Qakf/AAAVnRUYT2P0PWU/HzDeyzQubZ8AAAAuQZtVSahBbJlMCF///fEAAAMAXU4PEF2IDy6elocxrJyhoFkuBZhUfelnIw65+wAAAC1Bn3NFFSwj/wAAEOSMj+ApA+5axsEJqqu8St82HoIya4l8iSRAQHkfsq0LIgIAAAAZAZ+SdEf/AAAVjjjsLtZDQ99yHTMZ1gATcAAAAB0Bn5RqR/8AABWdFRhXTWa95Bx2rCLX1CUCYndNwQAAAGBBm5lJqEFsmUwIX//98QAAAwKQAqVBNiN0AOcJKLuoCHPmVBb+n/KCQ2tPMD3ee8508QSA7HLsYDFeoHkG5qS0PC3Vs/iwb8Jiva/LxhexiDKg/8eEbhIzZhZbIAIAw4AAAAAjQZ+3RRUsI/8AACxWeryBUJf1TJKCemsKx5OAAAyqw0cmNzMAAAAWAZ/WdEf/AAA3L1qM13GkhwLutBaDMQAAAB4Bn9hqR/8AADc60oE+Phjp5U/Q9+q6Ay1T5wgRG5UAAABYQZvdSahBbJlMCF///fEAAAMCjpGZQH4Bme63fibxrsVEFXFZjHadRxQK4LR/gu7NqI43nLydMwhC3E3N2KMh/hTEg7DHp2ubSlty1oNX6PA+YHFveZyOwQAAACBBn/tFFSwj/wAAEOSMj993q6cxp3V5G0BR2nBeXVpflAAAABgBnhp0R/8AABWOOOwex2EY4DakriqAHTEAAAAfAZ4cakf/AAAVnRUYT19BCmoD245sK9eedJMemPSOWQAAAD1BmgFJqEFsmUwIX//98QAAAwAipr7hnQbTtDiE6ABLvGvlTEtMoBWrNe0DU9ofooZnjMmFPkcdMDkSmNpgAAAALkGeP0UVLCP/AAAQ5IyP33c9EdirgXgAXPPinPzaYjRe+1HgyBAcJio9BI6Y5YAAAAAfAZ5edEf/AAAVjjjsHsUUb8EeWEQYkJfDmPAIY845YQAAABcBnkBqR/8AABWdFRhMdMTUtPjZlmDB8wAAAFRBmkRJqEFsmUwIX//98QAAAwKOoUgrI7gCtTYu2Q6GoYNGMaSldlXe8vvYzt5lnaDO/sKF5uy43Jw7QL01mafTaEDg9FfwhE8lUkh6JJBvZzFkZ8EAAAAeQZ5iRRUsfwAANzrSmA4VaOttRX1e7Yr1uYgBkgMCAAAAIgGeg2pH/wAAN0SuiAFtk0OIBDh/Qyt2bdS7n6QjkiJqmXEAAAAXQZqISahBbJlMCF///fEAAAMAAAMAHpEAAAAtQZ6mRRUsI/8AABDkgpVr2xkp7pABFQOogL6HQ6V16J0FqQho1hpW31a/zbbhAAAAGQGexXRH/wAAFY3/GbVjhV+oTiIht/c1KVEAAAAbAZ7Hakf/AAAVnOq/WEHCNbqEmpkWodzjhCVAAAAAX0GazEmoQWyZTAhf//3xAAADApAE3sgsZwARyOGv6i9GGJFPOd+OuMTivGE40a7vJwpR///Quq1jfx5NgwdCek0lUrVBOTHvNhFUVHzGQ09DZFlycozZmqIppRHKHSTgAAAAH0Ge6kUVLCP/AAAsRhZA6yOcrn4YsDMQyCitAL10b0EAAAAUAZ8JdEf/AAA3WV/eU70w0vDifdAAAAAaAZ8Lakf/AAAVnOq/WC6QmPU7TImDrSgO61sAAAAwQZsQSahBbJlMCF///fEAAAMCnwZuop9slP7t7Gaf4cmDvWJOR1SQkSrmp/FRxl3ZAAAAHkGfLkUVLCP/AAAsWPlk+ge1IUJZS7u2QFSMRBBrWwAAABsBn010R/8AADieLFwr5WGJ5WmrFG5eopB+3KkAAAAUAZ9Pakf/AAA3Ujk/id83qXciTLgAAAAxQZtUSahBbJlMCF///fEAAAMCkIEv6AFgCrHepVoUSovBDGkMkH0HxnyLfKXtkAwVVAAAADJBn3JFFSwj/wAALFj5ZPoHtXmAAv5PvBOT2s7H5wtwfc0kX1swLWFh4mAEiRHy5sLbgQAAABoBn5F0R/8AABWN/xmdIsEWItexcApqjTsBAQAAAB4Bn5NqR/8AADdSOT+J31QMLErnK34eAgG05c+MnJAAAABHQZuYSahBbJlMCF///fEAAAMConB055j09eAFhxTl+SS3CibKlm48dVFnFyAYYQR5JZbHOwgQgPSlC3396AJ0azJEN2az1s0AAAAZQZ+2RRUsI/8AAC1lBl1IQlreS2IQ7ze3rgAAABUBn9V0R/8AADi3UgD5rdEn13OrzBkAAAATAZ/Xakf/AAAH8p56ETGqPQBiwQAAADFBm9xJqEFsmUwIX//98QAAAwAjpfpxaxKcQRaZJ//QAcbt6YBdZtVeVoEYWvi4ND0gAAAAOUGf+kUVLCP/AAAtf9enW4ANxxONYa3951t/zo1mB2m8xtNy4WGSpSIfLDZIj64wq8M/8rhRuUrbgQAAAB0Bnhl0R/8AADi3UktPbUZ+nRJuRwMYpJgq1l4OSAAAACUBnhtqR/8AADitiF1O0AIo90gyOnbIwzBeJmB1nAOpZ7WyKUclAAAAOUGaAEmoQWyZTAhf//3xAAADApAGX+L6DQC2YjgkCmg/WapIMxNsHO/WJgrXQcuxeAec+wkjcZVNmQAAAB9Bnj5FFSwj/wAALXCdfOMZ1nwey77BStNgRFzVM7bgAAAAHAGeXXRH/wAAOLdSfB8UpkGxnradeKzlkcR6kmAAAAAXAZ5fakf/AAA4rYh+Bh/GkdmI+qRTrbkAAAA3QZpESahBbJlMCF///fEAAAMCoqwii8ulP0A69Pmg9MHkQ/x1TFrz4xSwOQGlAwol+Tqj4bnx4AAAABhBnmJFFSwj/wAALWVhtU4bD7uHFEh9528AAAAZAZ6BdEf/AAA4tyAihiL9K9YP0qUHgStxYAAAAA4BnoNqR/8AAAMAAAMCpwAAAFBBmohJqEFsmUwIX//98QAAAwKf8yCohTDJ30JAgGL+e0lGGpVOiC9yBn6cAXPXZU/47EFJV3aJTkGYbqgBxavNG3lG/wWUmv0r/1xqJ9M0nwAAABtBnqZFFSwj/wAALWVhtU4pIrqx7UGDCy8V7ZkAAAASAZ7FdEf/AAA4t1J8BHZuM545AAAAFgGex2pH/wAAAwAP42Hq6lbtd8IJPVAAAAAvQZrMSahBbJlMCF///fEAAAMCn/LmFbUARhlZ7aZDS2Sn8YSLCAz5BeOXMNeNz4AAAAAaQZ7qRRUsI/8AAC14xS+CcWb6eMm0gjitnbkAAAAVAZ8JdEf/AAADAA/l1DejusJ6NWsUAAAAEgGfC2pH/wAAOK2IfgI7KYvnjgAAADVBmw5JqEFsmUwUTC///fEAAAMADSqJgAZf94G2EPPRWa91PH2lKEPyoE9BweiMcu7jLdJyGQAAABkBny1qR/8AAAMAbqPb19eBrW2VHpU2YduBAAAAPUGbMknhClJlMCF//fEAAAMCorw9EKj6xtV4xABcIuIfLDV44rvEJg+R90p8DcCld8MkipwV1i11sicKsUEAAAAfQZ9QRTRMI/8AAC14xSVS56x5i/0T+XUCOCRswE+duAAAABsBn290R/8AAAMBJlY8dHcHG9abU/sX1ROp8GAAAAAVAZ9xakf/AAA4rYhlf7XdNYICgWDhAAAAVEGbdkmoQWiZTAhf//3xAAADAp/JJsBeYmZrJPVO5tL5niaAp5nctma5P7KPCI9H0YM0/MJq5RlkGasxw75Hk0Xbc/M5nz33gbP682iq2OcdQL8dsgAAADFBn5RFESwj/wAALXCxrAWbgA3HzZ/4OCZSZ/JtVXipQ6Qka54Z1smXMnF2gyolsNJMAAAAFgGfs3RH/wAAOLdSSPQrtIXUFU3TUScAAAAfAZ+1akf/AAA4rSGi7odXVMaXLjxhasteMRokt7BbMAAAAFJBm7pJqEFsmUwIX//98QAAAwKf8uWogclSESX09ihifAUk6CvJc0I7h1w5IGHRjP51+r26AYsj4srClrwUmQcyRa/HhU3acIb5wwcd8x+WAZ25AAAAKUGf2EUVLCP/AAAtZWFmRgYOAA2Nnc1WX2Gd6nISusGmLJTeYY1PfcVHAAAAIAGf93RH/wAAOLajzL86zXwUfIH8HIfazueoag3eTVKgAAAAIQGf+WpH/wAAAwEl8yuePE7L2aADf86Y9Ex7uW0bOVKJuQAAAC5Bm/5JqEFsmUwIX//98QAAAwKigw4OdvWU+wY69JIgG7VrqqMju6ZYmC8j71YoAAAAIUGeHEUVLCP/AAAteAwsdb8xlGMqMVl9294nFFj3846bZwAAABcBnjt0R/8AAAMBJlaaG+4TIDdtX+ampQAAABgBnj1qR/8AADjB/5WBh/Awp5Usr8UvHwYAAAAzQZoiSahBbJlMCF///fEAAAMCn5gUG58ALBNNBI7XoFl4uJQjYTOXdQePT/ThlbWIJmHHAAAAFkGeQEUVLCP/AAAteH9102hynkeWeOEAAAAOAZ5/dEf/AAA3L0iAAi4AAAASAZ5hakf/AAA4rYh+Ajspi+ePAAAAM0GaZkmoQWyZTAhf//3xAAADAo2Zm9wBEhV+xf+UMaHUYOAA3FMgNvlE0BqPlKkCz+GKHgAAABVBnoRFFSwj/wAALYVBVzQ5UBrLnjkAAAASAZ6jdEf/AAA4t1J8BHZuM545AAAAEgGepWpH/wAAOK2IfgI7KYvnjwAAABdBmqpJqEFsmUwIX//98QAAAwAAAwAekQAAACxBnshFFSwj/wAAAwAM3WOGeO3xROTwAb//JiPtt5zAs39O+dTP1Jinobp6oAAAABYBnud0R/8AAAMAD+YkY118icHY9uLAAAAAFwGe6WpH/wAAAwAP45gbYNKiKlPZB3FhAAAAWkGa7kmoQWyZTAhf//3xAAADAp+XcG5JcAIwFiuS7l7MuzDXtYH5z/8hSRc0IrkjVXlruI8EMScHrIvSYGiFUGwu0ipSgYKwV8WTMjN+icbVGwJxLa9Y3UcysAAAACZBnwxFFSwj/wAALWUGXWMum4Ys+HwJgxzL/rTJKAEvIiVga5hHZgAAABIBnyt0R/8AADi3UnwEdm4znjkAAAAbAZ8takf/AAA3Ui0qnt6j8acYU0hBbbjVGAEBAAAAQUGbMkmoQWyZTAhf//3xAAADAp+96TQAFcmWMkYMW16rhegqLhMxUYMjJe1Ju80rLfxkghDKAqyLCnbbE0F0Z123AAAAMkGfUEUVLCP/AAAtf+CrcAIi94BAsg1KmN37WZbAkAP0ZmlI1Q+V63VcpLGHvoULXvJUAAAAHgGfb3RH/wAAOLajzOXdkFR9GiuBw7SyTHf1GBHJMAAAABUBn3FqR/8AADitiGVerQY7543TccEAAABBQZt2SahBbJlMCF///fEAAAMCn5dyDibV4Ac+V+inv5gNLgV/aJ5FeGBg2w+ZYTcAuQBNJ2pltWMIqtcb4P9hlmAAAAAhQZ+URRUsI/8AAC14xS/01ztK0bQ+H64MndDbdOezixbcAAAAFwGfs3RH/wAAAwMSMe/sc8JkBu3jUBHTAAAAGgGftWpH/wAAOK2Ifg95S0HsNKcCQIEj3CAgAAAAF0GbukmoQWyZTAhf//3xAAADAAADAB6RAAAAFkGf2EUVLCP/AAAtYJXaqfDcLO4AdMEAAAARAZ/3dEf/AAA4t1JLT0uAHTAAAAATAZ/5akf/AAA4rYhnJKtPMaACywAAAFlBm/5JqEFsmUwIX//98QAAAwKfmBRouXACHX4DjlDLmIuk1MhfLJyIvzUfNoehxypl9Vv+SSx2d18rylgO67Q/nmPoRfaqrZgaq56lj9oWacZTBkGuDFEfSgAAACtBnhxFFSwj/wAALWVhtaIUF1AeYQE2wgk0AFrHXFeboSv7IPuBPpGWnu2ZAAAAFwGeO3RH/wAAOLdSfAxAvdQWC2t/oTtxAAAAGAGePWpH/wAAAwBuo9vX1wUuScBzYx/K+AAAADFBmiJJqEFsmUwIX//98QAAAwAFG5DVbQD3b6OUrltprPLi6GYsrfMxdA7HuHn6LprIAAAAKEGeQEUVLCP/AAADAFiKwsyRbVcYYjifdOu5oIATWEBRJwszCScmsGEAAAAVAZ5/dEf/AAADAG4ByeFbDJ9fyw58AAAAJQGeYWpH/wAAAwAP45gbZuMyCABN7LXmB6pw6dcM1WxV5GIa4sEAAABfQZpmSahBbJlMCF///fEAAAMCn5dwblq8AUANKvkwFcg+ZT94TsF7fDvGH90t8zU7gtyX9+bCpIQ6J+zuatNp1XrzyLxalHnot7r6sow+XnXLKstmZkRiZ1IkkoDVOukAAAAeQZ6ERRUsI/8AAC1lYbY+EjC+Uc3PIgwDn+w7iDVtAAAAEgGeo3RH/wAAOLdSfAR2bjOeOQAAABoBnqVqR/8AAAMBJfKdlXp1uLRcH3isxEOtuQAAABtBmqpJqEFsmUwIX//98QAAAwANfHWcWxCwELEAAAAaQZ7IRRUsI/8AAAMCa3FirrKQCdtL4f2fgwYAAAAWAZ7ndEf/AAADAxGPBQU3KcQFHzJWDgAAABUBnulqR/8AAAMDEXjhmnaqhSCXODkAAAB0QZruSahBbJlMCFf//eEAAAQTd0nNgK3hz2doZ8Qyo9IlYV4PO+wLuvuXheekooNFLMbVgt+4BBtVbIH/5c4BTaVFc4TrTEJYHEQcTeSpThmzYErKv2LgZJUdr7k/ajkOmYfqOmvfddQqgWu1sj+drjKnc5AAAAAlQZ8MRRUsI/8AAC14xSVTcar0ORu68xze5o3Vhs3c4tSbqBVtwAAAABwBnyt0R/8AAAMDEi4wm1pn/D4D2cEUYuKxD9txAAAAJQGfLWpH/wAAOIcUQFkANyoOKDMGZCOCTubsZ0D8Ig8HTPmkek8AAAAsQZsvSahBbJlMCF///fEAAAMAX/+SpAQk1MPaEy+GIStldWsLyN1nu2xYB6UAAAAoQZtTSeEKUmUwIX/98QAAAwD38WgE300YTsXxvJqHjMD39fq1a8BBwAAAAC5Bn3FFNEwj/wAAAwJsJ1CQjQnfij2LVTXTIQXygBbkQmdIrA2nYty0sLQ0TvR8AAAAGwGfkHRH/wAAAwMSLnpmV0GTphNOLb7bfwfR8QAAABgBn5JqR/8AAAMDEXty9JO3anAZ4YAL6PgAAABOQZuXSahBaJlMCF///fEAAAMCn5eY6AfbO5OaCrQJ/iLftDK0ChrFGvlVx6G5lY9Lm47dW3GKx+SaOnzYAFrk6gKM3hQZdMP7z4hxXhRzAAAAI0GftUURLCP/AAAteMUvrKj8JCtw0MwzVUaoASh0ws051tmBAAAAHAGf1HRH/wAAAwElpZdEtbQ4WoxyM45QOBzA+YAAAAASAZ/Wakf/AAA4jz/4COTuWFBBAAAAH0Gb20moQWyZTAhf//3xAAADAPKXegBwnFOKYF4ACkkAAAAjQZ/5RRUsI/8AAAMABLLAmcYAJYTaSaRscv4oO5eEtHBOVWUAAAAQAZ4YdEf/AAADAAX10+2CXwAAABABnhpqR/8AAAMABfc/OwS8AAAAOkGaH0moQWyZTAhf//3xAAADAp+YFGi5cAN6fhkj0rYJRB8AFKcXEpckusjXXRdQ+mm9kEexWlOqYccAAAAWQZ49RRUsI/8AAC1lYbVFO6TnFT2eOQAAABIBnlx0R/8AADiE32wEckUe7BgAAAAVAZ5eakf/AAA3IVxpLJbaG7uIEK+AAAAAIUGaQ0moQWyZTAhX//3hAAADAAe/ZjAoAt5rlMnvdIAb0QAAAC1BnmFFFSwj/wAALX/XPZpOXyWqKxVSVOeKwASwB3xzdxRPj9p7e/qcPxv9bbgAAAAaAZ6AdEf/AAA4hN9sDDXyG5SvutZqrq86tuEAAAAXAZ6Cakf/AAA4jz/4GG1OTVj7DLWu2YAAAAAlQZqHSahBbJlMCFf//eEAAAMBkTu8NjqZvVgl0zg7wI1r0DII2QAAAChBnqVFFSwj/wAALYVBVzSdAx6oq/08yZyoAJThQ186gdQ6pW8kA2zBAAAAHAGexHRH/wAAOIS4JjlAnHJjdSBPt0r4rhae2YEAAAAXAZ7Gakf/AAA4jz/4GG1OTVj7DLWu2YEAAABNQZrISahBbJlMCFf//eEAAAQU1sllCACf6/puCVexbHsVa4MM48tOCOpMNrR+HRlI8e8WKehGSbnh6x2EtTFtunf7WWTvjWzl8AnRasUAAACJQZrqSeEKUmUwUVLC//3xAAADAqPsPYP57QAHQKVVo48N0EfraV7RaU8DxR9K8N3BuO7Yjh8p/n49zzQWEyJqum3M4TByOvr6kL8rAbcX7a+YNLSsd1kB3HUya8UGy1NqHvo6KjKVXjVjAry19mJiekqD7UvoTbaOWpsv0EBbWjK9huFItKqgaRwAAAAkAZ8Jakf/AAA4juMku55eSf8RK3h3izga+PIwpfEG1Hh75iAhAAAAcEGbDUnhDomUwIX//fEAAAMCe6BNWuCsrPvyRsVgLqqAmW+/bKw1NvB2RLVXNk/ulTwUWIfTcIWCyyems68jtjjH8bUs3GrgXmAFd1P1vWmHYfdaH+WAotvvQ+O5yoJ3sR0rXs3HwyKWaoi2tNc2NqcAAABCQZ8rRRU8fwAANyKaUBA25mo9GxPf2nCY3VcM7Vij+mRWzvqC+ttrKQd373NV9VpENLGWoPYjG5T1LZHxE8fdpSb0AAAAHgGfTGpH/wAANzqyPVJJXv3yFw5qjzGAhQVe736D3QAAAH1Bm1FJqEFomUwIV//94QAAAwP3qQroC5RNBRlHik+bjX12xmBJQt8yLKx+0XAVoc1N0rWfxDl6eOluDwlejo5L7VzEwbCQVFABXwwO9oe6NY0n284g7BowaIxq8Dp2a1Ku3dy350zb3OpGyDeWJmflqpLK5xrv2GqDJz8c2QAAAExBn29FESwj/wAALEX5EilJmXiCin+kt31c+6GF9oK33FyV8jTdbiZH4724RsH75wm3gtPd9IjM5lfHDzeXTacmzZ8KCyTxVT9Ab/JtAAAAHwGfjnRH/wAAFQDRfru3C/n/8OafAnt1DP78ZbOr/BwAAAAiAZ+Qakf/AAAVB5NxBtOa+4XIAXWGWMVOLADykcwcSCnsVgAAAFRBm5JJqEFsmUwIX//98QAAAwKN7+o7gDmHTGogh9FiIRe2iGq1pWfA5gizxuw1JqZyXg+wkJvzRo3pZjc26OuqLGJzDoXrhB0Yo3tnR3AReJzvM+EAAAB3QZu2SeEKUmUwIX/98QAAAwKPDupzOxax59MPPjSLAVS2UzkiUks+PhDGfhrqV8AhrKZN61KZEvGO+WzFYaM1jyq/eKYrq+k0TszpcLE8eVmePxwCoobUIJkG6CqsNq/vYxSf55lN4M/6f8tbpPUYmDQjJJLCdUAAAAA8QZ/URTRMI/8AACwnltzj7VT4Yb9/mlqrE0FrV+P7guEceJMxkHFmyN/hACT7f+eP2189/thvg2QgXlmBAAAAIgGf83RH/wAANe9al498WHQsSiUwDw5ugoHn+Fle+Dkr9N0AAAAsAZ/1akf/AAA3Ue3xf36WwTwq5Jo7uxnweqJCa0vBOr/EyWiVquUkcRmJxYAAAABmQZv6SahBaJlMCFf//eEAAAMD+H7phZG38MWtOTiH4ctRGrlBmHbpVY+RvHqycKYnwujO5JOKvvM7k0pEzqy50e4tF6kB8cv/278ZzHK67s940vTNfWjINqJJRHdKA65jgchZdjoTAAAANkGeGEURLCP/AAAsQFjoOeirFFe7Bvo3DAvHlGfZgvnJgKhVll5k2y0Qd8xR7HYBvpiuhxdvQQAAACMBnjd0R/8AABTqCD2HQH8jFpX6NkJSUdZ6eD28igODgWvQQAAAADoBnjlqR/8AADdhIZRIzOWnFwSAbYr7BRL0S96Hn44vQG6d4fR0CJl4syhgA1HJAidirtzpGw10Cf8pAAAAZEGaO0moQWyZTAhf//3xAAADAPKTgFuvIjps88Klfl1XMSAJ5mq7sBl+jpzcooo5aRubPBv4f86dESUSWVf5HWvbll1M/KViTBGYSJ827F0G2lPMxXwSXq8H1BFf4JbQDVwzLGcAAABoQZpfSeEKUmUwIX/98QAAAwKM995NohlimL7VIeGrjvKuLtMuFx2QaJw+Q688dWbXGoAv9ntpZwYXpcxLN8kbt7Cb4DiCpCvTMgGpydkOZOjplNdc975F7bxKRTTftcpVo6HJSdeIT6kAAAA6QZ59RTRMI/8AACxAV9Soas5K2KXA7K1KFIjKniBWaooxBRrNekId5A6/QAgHQuS04MLiEZB2iybVgQAAACwBnpx0R/8AADdY8EtOJT4intDLJHrhYFMV5dj2kPV689tDJN2LtY/ETLHygAAAAC0Bnp5qR/8AADdR7eWzaarTK9eBWJFzlbTH+FFSc9bBZQshI+oQ/X/HXTN2xPgAAABPQZqDSahBaJlMCF///fEAAAMCjQWLoAhHlfs1srnraBdfyN3PLjeoVxpUExJx8NB4hG035AnrBsQEpx99hZtxTQymlo56FhHhQEVFZw+wwQAAAC1BnqFFESwj/wAALEBY6Bw07ZhMDTv77K7bCn40YAUsNo5E09U/KXBNHo45VakAAAAsAZ7AdEf/AAAU/cgjhRYkLSUGwq6XBsIEsD+gkCRsbZA8QpUUTQWfs17/UEEAAAAnAZ7Cakf/AAA3Ofkwn0GypUf7Q64v+dK0ItetmD3IoQzu7KoDjkmwAAAASUGax0moQWyZTAhf//3xAAADAoz33WO25AwdoCLg7tjjYmZNgYugvrHDepI0rTfEcHBHEAI2tYiQRm2Fc1b5cTXY+703rchUVF0AAAApQZ7lRRUsI/8AACxAV9Ss1ZnAQxthy2VAa8uxqVStv2LTasQUhGVHPBEAAAAwAZ8EdEf/AAA3Lp9FxkgAuD5WYMtQ/DFnHT6mRfVcqZzCT5/ePKyZgThod2mw2e3pAAAAJQGfBmpH/wAAN1adoIASH0Ds8NpY92tfoQkxEMgy3k4jb9ASS9EAAABmQZsLSahBbJlMCF///fEAAAMCkc8TrAUvcELL1BQoOdEyVl6jvHplRmDnunR7KluwSlgFgD92UXEAfp+fJ+xO7q9ets+qhcmGyETOja+1p/C7X6KJXUUe9qQCXmOUmFHchkvMks5UAAAAPUGfKUUVLCP/AAAsQFjH9RSUKuOhaMjmQayZkUM+bxY2z4oAEphDoFiKSJrse9objByTClIf1KfkGbh5CjAAAAAoAZ9IdEf/AAA3VxctqzCezOF0oKPSBu4XUOTBK2Ta7X2VB/OHXplvQQAAACEBn0pqR/8AADdRvpAmilYOFjPuB84k+9iBhgBop9t3wccAAACBQZtPSahBbJlMCF///fEAAAMCkfnEBrkimf7iKuN/FGdvTAB0+ePHaGkjvokBPklsZvq9k7TT3Nu7sYIKbBZAQbVJ0GjDCcWC7fIt4bIvjdzTSp/5Qg5I2LuLvSzyS8McNaIW43NGiSZb5kligf7wX0Jy4f0i94w7X4zXULRuuD+AAAAANEGfbUUVLCP/AAAsRJ2RGVMFigDoHbHo0etXOuQUCfQcHJkKBObVsUmlJxjPgFjOijR/uVEAAAAqAZ+MdEf/AAA3Ifcv2jcSJjEtucsCfKzvkAH29ZAqCCV2AGQ4BCEtTejJAAAAHAGfjmpH/wAANfMTpMUd0BAGIfVvGIGmto6fSE0AAABaQZuTSahBbJlMCF///fEAAAMCevfmmoUwmUEX/TeFjGt9Uhorbv+w97Z4cKDkElGmL2Kimw/t2PYMPxF2eKq87ne8XFsxZdEJjB7xdMBi3aPzTpUNDI94Hu7QAAAAKEGfsUUVLCP/AAArIFqfx8LCFF5hzz4HHuA2wRcWsNfKz63TVDx60hUAAAAjAZ/QdEf/AAA2GTq+2XHJxOyxu9vScXAPnxCfA5IhKM7u1SEAAAAhAZ/Sakf/AAA12EErPLUcpLx72dsg6v7X1MJ00klJLSjAAAAAXUGb10moQWyZTAhf//3xAAADAno5yf/r8ZgG9KlJwR5NgcAHFmno6ae9aE1ju98XCk/GpcxnAX3498hfzkOH4dYKOmL4MOzbYRz3MrVpdwvcFvyTkvAdM7k7zWT3QAAAAD9Bn/VFFSwj/wAAKyBY1w096f7e2xWHRwNldtXuMsoBWbv4i2cw181QGQuuHWw/keQls9kNkI+IHwRRlIoM7WcAAAAwAZ4UdEf/AAA16ri4jHKwJ4QruKhseW+txdxgBNqitTaTburpBd214rENFO9DbIqAAAAALAGeFmpH/wAANhHt4U9T7Z1NlIUHfwKCEABa0hEYndIcSrdUwX405nkSlb+5AAAANEGaGUmoQWyZTBRMI//6WAAAHcWSV4OQaJdswbgGkwgx86RSZc/W6uDdTy2r9aWndmu2UJkAAAA1AZ44akf/AAA2Ee3sdeAAJl3l66R6vyL/ir1AOIoecC/a+wVBYWpOhLBQ9lqUQl55Kz5z9MAAAAIVZYiCAA7//vbsvgU1/Z/QlxEsxdpKcD4qpICAdzTAAAADAAADAAAWCfQjsOSqA3dAAAAcYAUELAI8JULYSEfY50SOO6+D1eWkIsqSunP39X6c0/MNUV42U8UqblxZKX7obGS8Ad4Ha6lkmnomwmcOL4//wO47soLrU3LGQ3Ep3n7VsmKs8si8HYpD9PBjDm4IxURquXpv/+5rCPnxAqLJDsnRPolYk5AAAB1HVGg4Zm/slzByhUnnKBVSX+6cfCUAATKDpgHj+ZgBAEsuIyXWtWg/pytegYPqM2ohbb1PGIjVOWyR8QC7oIP6LdVF0JM3qsLdR3dIZ5/Mg8a1FZYquIlXAPVfVOsdUOAf5eNIff9K1QRyVIZ3cbwQQ+vJYnNGlYLFMCcPW/s0Pd6m6TI/k92SRFaVypIsun7WTYSeqwS4UfLBiNwcte82zZWxwaBKJkAzIcb0v5v2HOeL+NUFiXOROER8NfYZqaUq56CrSuI+09i4y3q3QpRdCx5r7A2oGNjroN/KNHO/tHo+mPBwB3xw4zI/+vTmdNkTJ2dwlcTWTyEyCK9t9Xt0ZroLRY7CgAAQ88TySgE714gZCDkdCL7yZ5Ui6mXrXvGa7wsfAxo7gAAAQlcrYvAYy4tylHCEVKJFEnKRYtYKbg46oPAIm9jkHpzvpQvOxLAkl5IgX9wXa8ylTDiyxyHkolgAAAMAAAMABr0AAACfQZokbEL//fEAAAMCe0II+Aaj1/NGd9cWF9Co1vghVYMpC31HG7H12FJR9oEePo9xCVZP75Uk9DqTpQCDsRp+HMSDZrmYALAGVwNDC1fIzqykZr9lglXGEYtGMzn7O6kS74BbX9RVPvH1sNjRntvi+QOksWjdP+BfEBzLLQl5B59wqc39vA61z84d/8S2EzAHESafCvKc+ysF9CCCOnzAAAAAMkGeQniEfwAAKyBY8FYCpeQ5zokaGnx0NXODxHmB3B4P6MT1LuGE+69zeadAXzUMxuaZAAAAPAGeYXRH/wAANK9ajN2Mg+t3Yj3PACZc8WRgpRNR29xrKR7jTjtI34Qg83TX5B2n2NGiJVtFZz4wAnQKwQAAAC0BnmNqR/8AADYR7e0oT8hO/Y5AOcPpcv48ttxaed1jw3IxZad0frDUUrE+rMAAAACCQZpoSahBaJlMCF///fEAAAMCevfeVRfAKNDUlcMf4Hg44s/ukttFnqxhVx/77EG2SZvkPsKChTkKHHpeZ0Y7dpB/YhPCTt/GvHTlSrntEZ/LgL9Yqj0pFUcYMyxIqd3uf3SnyeJTfbPFlxPm4ZICBEuxwWCvNjzZvcbnUuhejNwK7gAAAChBnoZFESwj/wAAKyBZaP+KE42A8OamLNKAw3i/+65PkQPBJZptqplxAAAAJwGepXRH/wAANhhsHBFSZQAlf9vj8RyPgMKkjVDYaFAEN8n5N0IHzAAAACABnqdqR/8AADYR7evrjjncVCviNrYsQT9clkYBVOB8mQAAAGJBmqtJqEFsmUwIX//98QAAAwJ7BRPEPWAEJI2K7GrDBCbCd7QImQN5LceQRV4hDGVk/7/Yas0KRZzf5v+7/LZN7T+3kf1m5/ERc/8T3i+/jTrr7gK8UPSUo61MOZG7E+y4cgAAAClBnslFFSx/AAA2Eb6Qct7snuGdkosY/x3EMSiQ1o+ydXi4fSDN5773HQAAABkBnupqR/8AADYSOD9fPMg7/t7ABj73wqFTAAAAS0Ga70moQWyZTAhf//3xAAADAnsFHTZNm+3BICSMFDIOl5l6olHaXCUpoN5FdRGvyyDawF8UJloQFLkUEJRjhV6qZJGSv/eGWLlVgQAAADdBnw1FFSwj/wAAKzjwHvhMGYVAqd/Z/d61WnPaA2rdyXtEvanQ3/k0PxpYHVuAc+F4sWpUF+zBAAAAIQGfLHRH/wAANNlgGRDqzGgy9c8RlXg1AAFSImiP9Q/jpgAAAB0Bny5qR/8AADX5+eRB5d+P/3nIQ6v5PXeDH5QBZQAAAHFBmzNJqEFsmUwIX//98QAAAwJ7urb40IKWkACG6HyZtHZoWmGgDF3tPJf8bS9lVTPUYeh8CytLDbHOzJyXdJ+xUXYSC1t5ls4EPEMmJAa+7Bnzn9q5AsEVOCgyIH2qxHJ+YMs31zwQuFxscgjpuFHS4QAAAD1Bn1FFFSwj/wAAKyVhg1ZctZW2HQBfkm/zIpcAFlPY75e+hfdtnHwFcamKMa7mMIhpHkqz//AQPsOtqOmAAAAAIgGfcHRH/wAANe8/iFxiZSzFGXAoKDx08IkwxClQNo0y7MAAAAAhAZ9yakf/AAAUfNHbJZ1/KFMUS8z6VSTUOryaup2LiCRHAAAAbEGbd0moQWyZTAhf//3xAAADAnrwuKiDFNykxltSMaIppbK4hpQW4vnMTz0JlTcUcyXxbbMx6RAARpCG7TVmYOgxZcpLclWaPWeWaLO+i0el/R9I6kRCWaea3IVsZ7CCW5wIwOou8GLSPLqOKQAAACZBn5VFFSwj/wAAKyBYx/feYOjBj9ZgbXumFRMnYFXa/UIni3u/0wAAABwBn7R0R/8AADXuRwLmymmocM1LiIvg2NiQgOWAAAAAHgGftmpH/wAANhHt4U9ZS++UUB/g4uOvz3hFZU0VgAAAAHdBm7tJqEFsmUwIX//98QAAAwJ/yfWb3CVnTThwUh1XNpKdOkDG/ipCWOs10z/IV6nqAKUfRhhcqwtxcvW4FxPKrh3WjSuy0egnoArhlAtDOchVWa72JppiBEFuufgsWjs08uzZWAataO3Y4PrHJC8/KTUTODFX0QAAADJBn9lFFSwj/wAAKzOiVAEKxhvY4psF+nFfLX9jpUgUAtDGFmk55y9W1iB/yJvnfGHnhAAAABkBn/h0R/8AADTZTf3X1GOrDg3jQIqk2H+AAAAAHQGf+mpH/wAANfn5T4e4pRlU46G4RoBKAjvbG0zNAAAAK0Gb/0moQWyZTAhf//3xAAADAmqKw7+VuEgNPElC/DmefJxMTd2zANiP+NAAAAAZQZ4dRRUsI/8AACokfUrtS5RMQ3hOKxBqhwAAABYBnjx0R/8AADYZTCkjij3D3DvhkPmBAAAAEgGePmpH/wAANfniklGGcFUBqQAAAEFBmiNJqEFsmUwIX//98QAAAwJpz19Tvm1MuT5fxbVKSDQnSEqLPtbnJWPGdN0TY95JFfkwjQqevudgWrY2XWkGFwAAAB1BnkFFFSwj/wAAKhjxmGJwxy4SoYMGoQAEFrdV0wAAABgBnmB0R/8AAAMAZzKPmdTvYvZmqLbgq58AAAASAZ5iakf/AAA00ingc50xdAYtAAAAXUGaZ0moQWyZTAhf//3xAAADAmpfQWABPZ6Iwf6iUTOLnnYp27Vn2VPP++o9JZrjNJ9C+WWGD92L5I5vwPlqD6/35CYx6PyuMgP5yCD1tZ60Cew5+e+UZcl+EWfsgAAAACBBnoVFFSwj/wAAKhjFMLmj+GCXs7ZK5XKcO4DpxYwRWAAAABoBnqR0R/8AADTFEsvToyqRXWq2v4c97gqKwQAAABgBnqZqR/8AADOSMSl7K9TjLrKgtPdJCggAAABbQZqrSahBbJlMCF///fEAAAMCac9Mfzjoc2H7KYAEvjQpRNfiCTh/hfdrDstZHJi0H5MvxxDIhSzeQ6NQc8VSun/whq6unJO2VoMc2LxskLuoFZTR6vTFeOel5wAAACVBnslFFSwj/wAAKiR83fY6XDJeeIwokSvFfxIWcKu6flA7TlIrAAAAEwGe6HRH/wAANK6fOPQH86wQFX0AAAAbAZ7qakf/AAADAteaOyr06147Agc0gr7xVSNNAAAAUkGa70moQWyZTAhf//3xAAADAmpgRTTS5tPn4ubGsW+Bb0t2yVyXjOGgBtOtJatPo8VOas4H71al7dqj/8K3wOzRc2k0lRuiiKwuXN4NPPvbFsEAAAAnQZ8NRRUsI/8AACoFYWTgHG6iWZMVRomFUl11eWFg8o9lvbz2HosxAAAAFQGfLHRH/wAANK8/iFvkQeQSWIDwuAAAABoBny5qR/8AAAMCxZ1YetZGQSMGplHNomsw2AAAAE9BmzNJqEFsmUwIX//98QAAAwJpz0z0Rhq/aDoARZykhy7LrzmVw6oGvIvPsIArk/tFEkXkBq94X1M9S0nEP+kqTzht9YvquaOpUWK0q13BAAAAIkGfUUUVLCP/AAAqH01AgiVY1jlVoQxOtu68U0ujW/h3f0wAAAAiAZ9wdEf/AAAHbupJYJIwkeu0+uAMymZUzc7l9/UQjrZwQAAAABgBn3JqR/8AADN60lffpmJ1bt69AT2bD5sAAABAQZt3SahBbJlMCF///fEAAAMCa4q31j/d/XKAAQ5T/cFaxy5kwE5QKq2POzryr0RSfvnyHZJyU8K/hGm/+DJUgQAAACdBn5VFFSwj/wAAKgYDU5S8IXsJsipkAJHFVcyalkLm/rekXGFzKqcAAAAWAZ+0dEf/AAADAQ4culpwQ2EQoXf7gAAAAB8Bn7ZqR/8AABPzpKdw4iLgBF6TrFIrvCZyyrbGan3QAAAAYEGbu0moQWyZTAhf//3xAAADAmsokmOUwBGW/JfEaPmF2JIRcyqk1biPedL+tWWqVqTs6fHGlvyWFanJXxxyiHUeXmXU/+GttAntoVRmC/QbrbYfx+7v9/tABo7vKOuduQAAACdBn9lFFSwj/wAAKYKimj0UxHmc35dbgeAB0DnQrFoPURAZ9wQgcfMAAAAdAZ/4dEf/AAA0rp84s9PMQfd+in5Q87mV3VXaqzAAAAAYAZ/6akf/AAADAsWd1Y8dv83gf40mUzYFAAAAQkGb/0moQWyZTAhX//3hAAADAXNuCU0mPFRhEvfP64cms+EraCQAjr4jT7PVxHLCykfvIdRkatOMLmAxbYxIo1ZTLAAAADZBnh1FFSwj/wAAD4u3cNNo6AAmUYDp5ilz/cozw9P+LuAxdvdw2m36sN0BgFe21sh5xux3XTEAAAAYAZ48dEf/AAAHbupIvLuB5JlzgmEUFW6ZAAAAFgGePmpH/wAAE+GM4PNcSuWs699PB/gAAABcQZohSahBbJlMFEwv//3xAAADAmnPUddUNYkvoBcfsoxXd1QboLP3+ORvlgBECklCeClwGfb5ny8ynJY4OuDlrTsba+JkCkl6JFMmOWSXVQ9XSPdI3BmT4TR1t/EAAAAeAZ5Aakf/AAAzerpVQURoSFQB7nnr+zQS7AxLm9FmAAAAQkGaREnhClJlMCF//fEAAAMAWInv4AW4UsyxP8qnpL8QRD0VpOz0u7UJbVEiCy8UlDjqNHMOXuACgGlFIrMQu0kxoQAAACdBnmJFNEx/AAAHbbEM5MT04ygBK/8Ncc5r+BKxAdS/AdSBz+gsCaEAAAAaAZ6Dakf/AAAHbbV65cm3inJl/FV+aPVFoIAAAABYQZqISahBaJlMCF///fEAAAMA53MPgCtTR+iLkk2G4JHKzvVbx2jOSBXFbClFDDMeNoPRFDqTLRhahJzVvc0Sh75H69FuphbAdIgr896s9U3GSMTi3AzDNgAAACZBnqZFESwj/wAAD4u3cUzC4oC2E2eaK46SraZThdLDi/zkrq4bpwAAABgBnsV0R/8AAAdwVgfw8odJnKFvBjHqg6oAAAAgAZ7Hakf/AAAT7NHZ1xzJwv0lD60RS3VFTtG0amxKd9MAAABQQZrMSahBbJlMCF///fEAAAMCagT+ATXx8gQej9Up8QLrnTEvP0pZUHKTNq5X6OksRe1z6aD3ygvXkAdd7xqPTdXapigFyv/rLG0PEgc9XHAAAAA0QZ7qRRUsI/8AACoGFQGh59KIQ7UPirYFHdTkMg2oPahz7N9UlfxCNsqEddz+/xBhgPNDwQAAABYBnwl0R/8AABP0nlPwVwlaM8xE2ippAAAAIQGfC2pH/wAAE+hlO+TkwltTxhbsRaZCXY3cztCrlSFbNwAAAEtBmxBJqEFsmUwIX//98QAAAwJqjzVL4p+ZXPF66fQuoeRXZPsDrl56bhACwTTM73xb4EgPgk42mphvwEvdlYTQeP9nb0tRBC8u+vEAAAAmQZ8uRRUsI/8AACoY8e0zl2dRmSciZ6CKBNGYyBmDlq+IYcWFV2AAAAAfAZ9NdEf/AAAT88ucyuTpylGGw+nF8Duhdcd4YLxWYAAAABgBn09qR/8AABPnksaWx0iTEw1f+07x5n0AAABLQZtUSahBbJlMCF///fEAAAMA54W6J5SyB5+4tm8Bd7l2XXnMrh4P7yK5/AFMbff5+ySZQJ6amSEkmgy85urzeWgVbsuMRrhpun6QAAAAJUGfckUVLCP/AAAPjTTIscf01y6UEHO6n2AtaKiI9RuXbD4gZdMAAAAeAZ+RdEf/AAAT4MCbX2nTl5fJI0zEY/9FRwffBVdNAAAAGQGfk2pH/wAANLShPnzYXTsa0FPq6Z5gYsEAAABWQZuYSahBbJlMCF///fEAAAMCagT+AK3kxn25+QzPLJZ2qr2ZTjAOkZmOYlDDt77cRF5IetyYIYmzNiM3ZDoFVaR+fg0nhHU2fPpPZu4e5JGY1Y9vT4EAAAAeQZ+2RRUsI/8AACoY7U5wd60A8o3JzV0ihpksinXTAAAAGgGf1XRH/wAANMOtYVt+QMNSGMW/aghNQemAAAAAFQGf12pH/wAANLNqt1xEA77N7rgIWQAAAFtBm9xJqEFsmUwIX//98QAAAwJqgaIQA/xjZ+0fAG/LIGsaEPYgVxn2q/S3p2TjgORdYuAOjx5UqwvYY352sJR6uWj8oLX0GcDLMYkCYg8QkpDWEqcjIlZ4yT33AAAAG0Gf+kUVLCP/AAAqBWG2PTEsJT+MsqRbuDDZVgAAACgBnhl0R/8AADSq5YUFabwqAD3cMmhCrFOhhV6R6Ooz11XIK5M+VdI/AAAAEAGeG2pH/wAANLSfZEAAG3AAAABNQZoASahBbJlMCF///fEAAAMADJivkxKC4t6timXy2BWDB58n2MJYnpz4TJZ6TiZuK9fPZ9oeRTKlsX/QvWLTvhIRChOmqBB/SB6pIsEAAAAmQZ4+RRUsI/8AAAMA2EhUlU3S/CEJYfEhvofid+o+bTmmDJLBrfEAAAAaAZ5ddEf/AAA0zJh/g99LoXeyd7+sCJ33KsAAAAAbAZ5fakf/AAA0tKE+mLM3Bn8zp9MRh+OdvWGVAAAAUUGaREmoQWyZTAhf//3xAAADAms7IYAL+S7JVp+lPzw4CUtEpQ9hxFb7p0VRjLnku0wn/Rc0ik8MP8rz/2ZR0MwCPgv5LtEo2tHXHhv1IHDAYAAAADlBnmJFFSwj/wAAKgGmqYP5Xv64x5IIkbUz35HGFG1Udefz4x/acIr9dGopNPZF9blafuyWkx0M3LkAAAAdAZ6BdEf/AAA0w61hdOria3TBk64QAmDa9gBbXTEAAAAjAZ6Dakf/AAA0urxnakzgPWJ46aiiTNhQANhQjAm3SZFfBHwAAAA5QZqISahBbJlMCF///fEAAAMCao82pZ6c9A9dyLM7pxi/TPlozi2dXSEYQzfUAdM/2e7t6hMKvrLoAAAAHUGepkUVLCP/AAADANhodeld6rTZg8UtYRx9X2SrAAAAGwGexXRH/wAAAwEOWBi0rk71PgZPh7eep4NdMAAAABUBnsdqR/8AAAMBDVe6fEJF018lFTEAAABYQZrMSahBbJlMCF///fEAAAMCac78UNwCa+V8DbQbNDvlDQZoL7mCpnNs5mtharVm66EaWNZouda+l7nXvrha3KwXFd+NayD2mT1LgaiR9VlBChwICjrpSwAAABxBnupFFSwj/wAAKgCXFgBVkqE6NmfuO+EOCyrBAAAAGAGfCXRH/wAANK6fbB7yFp7/2vt01D7PKQAAABMBnwtqR/8AADS5+V/d+4GeAEzBAAAAN0GbEEmoQWyZTAhf//3xAAADAOeTUFuvImBzG2QANyihpvAHijvM1OlYt9NrB/P7j1VxYSIJFAUAAAAoQZ8uRRUsI/8AAA+EnZ/5Ku4GjUtNlj2jACYsN0AiMkmKYgO4yNFKsAAAABgBn010R/8AABPnBkikEj5WnkToRFzJ6YAAAAAbAZ9Pakf/AAAHbp9w2XPh08rddGJ0gyv5YO6BAAAAMkGbVEmoQWyZTAhf//3xAAADAFhyAcwdUQPwGfZsuVfcvyibTSWjlj+yxItjeyyU88nTAAAAH0GfckUVLCP/AAAF+OjT3bWVJhp+aMnw6kfknRs7dSAAAAAXAZ+RdEf/AAAHabRQpKTdCue72XAvO6EAAAAZAZ+Takf/AAAHbpj5WxIEZkiC9maoO1dbpwAAAFdBm5hJqEFsmUwIX//98QAAAwJqPry8AVbHe2Rl3BcPGECG2Ko3LRM5u1aih0U4FLPPtrlZ5d6gO6BjGVcfjtVT300xKVYDhmne80Lx6LE8n/tKUFAjXcUAAAAkQZ+2RRUsI/8AACntDC4sYpE8ahkNoG5rCS+4BwTP4PcZ9LpgAAAAFQGf1XRH/wAAB2vAolkIYP5HYGyNgQAAACQBn9dqR/8AADSzaPWDLH9qAFZRk/eXUPZvk4nGOIczesz08oEAAAA6QZvcSahBbJlMCF///fEAAAMCaybBmfAHMAj82E7w/Jm1mHEapUdqLOyKzlDhhxOXn5zbK3fScprGGAAAACFBn/pFFSwj/wAAKgVhbhK8QEWJmofVR8yld3hNP8/mKVYAAAAWAZ4ZdEf/AAA0xOyDSxsZE7y92TZ3LQAAAB4BnhtqR/8AABPnUMRLYISWlttVFwlYx+HcSI4aB0wAAAAvQZoASahBbJlMCF///fEAAAMCao6/xBDV0A97tUlFPK3ISfEYksjPNI4ayvP6R10AAAArQZ4+RRUsI/8AACoFYWZIHMHDspNJ2wK0nqoAJq/BRavCMZ0UKyrhhihKsQAAABkBnl10R/8AADSunybKzmDLx4gedTH2xPWwAAAAFgGeX2pH/wAAAwAPM1ZMSQoO9u4m/00AAABVQZpESahBbJlMCF///fEAAAMCa3NlyFAAdHnX3pF17h24GRMQO7iCCLRWSqk6DJESEVRL7Z3ERtxGF5l3290tuyAe0uwgoEjtD5sDHb5ReBxV9lSDDgAAAB5BnmJFFSwj/wAAKgVhtWS5ZiZ+eIES++g+8mrFebEAAAAUAZ6BdEf/AAA0rp9sDIWYx1z3f8EAAAAZAZ6Dakf/AAADACa8FLoefAi1vH85/wVumAAAAClBmohJqEFsmUwIV//94QAAAwPMLqNGvuv7VyT7SlY4Xe1BVhYfjPJD2AAAAB1BnqZFFSwj/wAAKhjFL4ZTU1p+AL6vzO3+Jgm6YQAAABgBnsV0R/8AAAMAJqQgaYk28FeejHZk9MAAAAAUAZ7Hakf/AAA0ufnYGSQdV1+9F4EAAAAmQZrJSahBbJlMCF///fEAAAMAAcPBhJVL1gZOmJpQO3l7Ukgk6EAAAAAkQZrtSeEKUmUwIX/98QAAAwAEsmnKLl4kI88AJbXnmz/pbIHdAAAAJ0GfC0U0TCP/AAADANdyH6WAAlpNYbaWCUkILpv0Qp9LjD3oxVsrYQAAABQBnyp0R/8AAAMBDhy7vIftZmTO6QAAABUBnyxqR/8AAAMBDhZbZGENK2hjZW0AAABxQZsxSahBaJlMCF///fEAAAMCa7WvUKFAAdH1DAEZ3NBydZ0C3+9e13sGIJLKu6UcN6id6AuohacKsifR78kKBsPCQScjOwjr6epgwBjra4yUrASnnV+5V/iGaD7lDAoqyAezN5Xzg9W00TNGQn5EbcAAAAA0QZ9PRREsI/8AACodjNUAEYvgWD3UmPg/MFWggSOboyo5fprbyNWoJquA20FpaE3zXKKLlAAAABsBn250R/8AADTZS4eIhpavU/izw0/e8suCPKEAAAAVAZ9wakf/AAA00e3r67H7y9Dhz91BAAAAMEGbdUmoQWyZTAhf//3xAAADAmtKX8A9lugFiZJPXPqNa/fMu/9N3aTG6V6SJ/Y4EAAAACZBn5NFFSwj/wAAD4Sdmvm3OAGsiXYR/DV6V5oj6RACy+LIxlaxZwAAABwBn7J0R/8AADTFElICKJlcDCRddMLALiwb1hYvAAAAIAGftGpH/wAAB26mf1tFIrLrPJ3Mm4PJ7a/8wGL/2l2BAAAA5EGbuUmoQWyZTAhf//3xAAADAqDT79RoQBsmzY2fEBAxowxl0rtCzYTSLt/2e5+6y2izuxNG4NyUvUyJbw9a9zLYW1cbxSrjNL5cAY6A+coktnTGlhc5R7jSRJc+RufSO8GGEnZK52W5T5bmKFECp/fVQHdxSMzAfBpg1bw+tI47AkYgN3PgDF2SmZLuyukrsGExYiKdQ/HSez4FS7z+bEuOW7cL8kXaVfMitfN62BUAy+GMtX+2yDtf46ueEiYl74Oi3xySDREFsM4/TulcdFehy3axHGDXVIuyffsdZ/iMIAUkgAAAAD1Bn9dFFSwj/wAALXjFkZ79YAC6dc9B6ZG/VmWaQTB48cuCWVmFiCdDqDLXNgSazroPLTgwJ2BfhA2bDGXAAAAAGQGf9nRH/wAANNjwS04lHTKdINU9pD8ZVBEAAAAmAZ/4akf/AAA4j0PB8u4Nfd0JwyOMl/xLQi3zz6ESGBAqmotF7bgAAABcQZv9SahBbJlMCF///fEAAAMA+X3ekARzhccT5heyYFrAqKflX2T294Qa4P43W/XaA01UhIYL2m9Y3Z2e0En+1M4yEDSAdL3q1k5IkhPNGf/9EpalESIs3awjmsAAAAA3QZ4bRRUsI/8AABDWbkxf6anFnO34VW73DEsFO2g4KqAExqvv3DUwxxIEVdW/f5a+XuDd/7QsywAAADEBnjp0R/8AABWNyCOFdk8TjCz+bkErNvqMidMjGAgAfgEaXuxShDfLPO9k4dXiOpoQAAAAKAGePGpH/wAAFQzuqKPc+ULRYBfO+DKjwgmnmLltWr6FI/XjShXLcjEAAACGQZohSahBbJlMCF///fEAAAMCnxMogCznuClEhZ/tOEZUJBtM1yXQXY6OuAqM6s57ZEIL+E2qhx0uxwLWNlsO5nBlEQqrWzkRxYaRBGamTzmWr1IXSTPDwojxaneWvBDHrCeMXxj3km0jy5EJQWl/Zfc0IrvuAdtWATCO9wDyVL32CzrCt+EAAAAtQZ5fRRUsI/8AACxY8n2Qgq+nDwsEfmpdVIS4DYsi9eSSPx01W9CRMixsGFEqAAAAIgGefnRH/wAAFP4ElPQaKNfLKiHy7zy3buhSmR6rWc1QLyEAAAAaAZ5gakf/AAA3UjElGWGGTU5FHRYnkhQnVVAAAABkQZplSahBbJlMCF///fEAAAMCoadwq6AL7H8Z0vfG5R6eZiA3CuEeImcBir9TbcjcJ0eKZsMz9joWyVxDh+6yMzuhj5j5/wdwM5OD1fSs+P0hCKXo7p3xN+GbxmluDm/ll3Yr2QAAADhBnoNFFSwj/wAALX9GTRx0haTnzI45c8k1NwAToB0saaQvkW05iFdFbuigDX+5idKzWpNWAzvEyQAAAC0BnqJ0R/8AADiceiZqNlN8RIeT637xfw+KIZAAC44fY5VnIeQgR4Ad2JbLJRgAAAAlAZ6kakf/AAA4kDXo0FoiiaRRF60jMsbNOBFCKuh7slpag93kgAAAAEFBmqlJqEFsmUwIX//98QAAAwKfAq02bQm81wrr1UfkoAKLDFjZdNmezOZSBm9P5NGTfph7EszXNGi0Ync8F7ZqSQAAAERBnsdFFSwj/wAALXjFMLiztq28AISA3ZJfqrhf+nKC91ceO+s9jB5AvjwbPmLE7UhIr8j6ADVPyla8M1jX2Xyq3zuxUAAAAB4BnuZ0R/8AAAf0W6D6+FUfrZdW99imyA91wSnKpoEAAAAfAZ7oakf/AAA4Wl/kDpvh83aGmM4lFBB8dPDTGXaltAAAAEtBmu1JqEFsmUwIX//98QAAAwKg1e3YAmR0aDFV9Lzm3Hf30Si7axFd8ZhG7Xf5TD4pEGbSRUoldxQem4C698QfPkQX9kuFPNAtTSUAAAAvQZ8LRRUsI/8AAC148B7xlbpiaQAkYB0+MSg90g7USBM45LNHr3SCZlubQ3Ts2YEAAAAmAZ8qdEf/AAAVSW2R+74ADX0B3b6TPzno272tDcH2keLbat45SScAAAAXAZ8sakf/AAA4kEQ1ZyJeoh/7x26+AbMAAABRQZswSahBbJlMCF///fEAAAMCnwMJkAcTN/Vzxs+qbpya7P4qtpAVBjmpLUMwEo83wJEJTbT2Zb+aGS7UEwidlTvyi5osdlMP/162O2dWTGuIAAAAJEGfTkUVLH8AADdSOT8gRotne2UE/cDaqcT74nMbJMZtgY92YAAAACgBn29qR/8AADc60lfdd7cAE7Eif2P8Z75wJ2fQl+EFSkk6x0dXBIGBAAAAnEGbdEmoQWyZTAhf//3xAAADAqCzWxo14BNJpmcXviss3J/QAoPZopcnMehupBY48MIzCvcFYaNr/3gVbDVUusluhmnXZT9f0bXfJQ/edZvRDJ7rJguhnA5eNQXvmJIvFoccmpGQ3MFbg2E+wDIakI0Y2HEQOdeQJ5W8e/+IpO5ECawYXkRDT84vgCEQWlaFKGui6PHzj0azaSbomwAAACNBn5JFFSwj/wAALXjxmGJwxyLI4AjjNPeLPD8c9IlRing+2AAAABcBn7F0R/8AAAMAD9k3LgNn9l721TfIDQAAAB0Bn7NqR/8AADipmcNBFRyfaWekwhUi7LzJyVj9sQAAAG1Bm7hJqEFsmUwIX//98QAAAwKgtDnjkYAQedPDrJzJ1C+X54hHXIsGLvh6pj5TMP/3/WNyfHE3qW1n9eGjmyJHDqdPCJqnzR+Sgyp+hGj/8DCWcJvdUIbx5jo6NoEVdui+j2BxWLSAtuHCcs+BAAAAJ0Gf1kUVLCP/AAAtYJixBCGfGBgi4CcwaGPoASYZ6oD3n3Vrzph9sAAAABwBn/V0R/8AADhslf2QagR8WJACA3JsU1hxhlR8AAAAMgGf92pH/wAAN/IVJtgdFa3AB93GT2EsMU2QWkKD0nlEpbsrMmXn9OYYVk2qJiUB0T7ZAAAAQ0Gb/EmoQWyZTAhf//3xAAADAp8CxKjzqq/XFJVE5pboURHaZ2IwKBHGtU2aNjgc50p3rnb9Zv/OHxKBSyGqQuJpXcAAAAArQZ4aRRUsI/8AAC148ZhicsQAdnJaXn3wsFU4bB8QxPO/CJW7osMkwL2KgAAAAB4Bnjl0R/8AADhtHAyI2CfE1ZUEiECrKESGGoj8O2EAAAAWAZ47akf/AAA4rdwlyZA+SfZg4lHS8AAAAGJBmiBJqEFsmUwIX//98QAAAwKfT90AOkdNqR1kMhBLMrKhq9K2T8QxDR/gewHGJwzExRpzXEngfi7bstyhXxv4yig8FnmMa4rrK62oKi498bMKT3ZvOhBF6nnbTjDa61ry+QAAACJBnl5FFSwj/wAALXj5XoqFrtsAKIJQRZC75dIIBjSvYNqnAAAAGwGefXRH/wAAAwBuh1x6Qp52xqauQwLbKY/RvwAAACIBnn9qR/8AADit73ZjyLM+3cAJTpQkx7UumppEppL5b3TBAAAAgEGaZEmoQWyZTAhf//3xAAADAp8CxKllH9M18vR14Bm14A2VERvP80+kz0ip3wH+Kfog335gL3ssymBPFexHfQeBB/vAVzWZlDRT6f4ew37nzVsvAs97nzs3geyMX2BN+ZqOWEZzbrbQUa8qFP068HyhC3F3+vRFF+uhxRRkQKmAAAAAKUGegkUVLCP/AAAtZgBp04zYh8YBNoG7XxXgS3jhCwyu2lfK6s2HaA45AAAALwGeoXRH/wAAOIV/taqPATFdS406ajVDqwc/XQAAIOBbZG+FF30Wz+SfjzQnz9+ZAAAAGwGeo2pH/wAAB/G6vRcfEE2B43d+/SN8Y0QiwAAAAExBmqhJqEFsmUwIX//98QAAAwKfAwmQBT8vaB3QpA+ulmd3KXTOHRmH3YF99kjeszIP3w7nzUB7/shY5sMvineYy+lt2uZPO3Byc6UYAAAALkGexkUVLCP/AAAtZgBs4EhjwpE4jABBuPwtEtqt34Cmj+87spP/egl7J3EiU2EAAAAZAZ7ldEf/AAA4hX+3ITh5u1ny9tmtbCgz4AAAABwBnudqR/8AAAMDESOSmnBj41Kl1478QxdgGFKbAAAAjEGa7EmoQWyZTAhf//3xAAADAp8IyaAFgjqo6Jzb8bZ+xuyd6HeSfrBn3sJJZWjGQTxLqGGkxcmRDh3u5+vF61yyOyqTa75WJU4tztq0PMYCViqWK+3pS8QqLL+Oo0GiCfY4n7eM4dhrQa4NRoJ/EGXjiz1bWLa3GqDZUEMPZjs8cFZEOt10eDmIez+AAAAAOUGfCkUVLCP/AAAtePlFwxcjKgAJlaP0B+pGzwcyj7nF6Pbf8p2EzeHJjq/Jz53gvFsjXAFPq8+mAQAAACEBnyl0R/8AABYvYvtwDr8n16fe6l3HMnmOt0ADEBcIwtkAAAAgAZ8rakf/AAA506yabt0PNti8dAJgCgivhfEOx+QsDPkAAACDQZswSahBbJlMCF///fEAAAMCsQshu2ZvcggN6LhFCA5gfGslABNzvveyFXu2K6Jz8jOZ+6i6yybSwPVTifX49c1zvy8j1nW6U+PkgbDll2TvxNMAlrXVZk1/anKUOCRnQ3ooFo/XLjkME/f/X+Eo/WhaZHsUUBeH7ovbdv4fE82dWz8AAAA7QZ9ORRUsI/8AAC6FrhDmKclWxfCtJtqEQQAC06pxQIh4eJgqtBF4RUoyVfZU8rLPqVro5Tpa2MOQ4BgAAAAfAZ9tdEf/AAA55N9yIQwZJIb1NAqjhox30BfAKcNzUgAAAB4Bn29qR/8AAAgtcElDqCciAiPFKl/Jhf4iR86LCpkAAABIQZt0SahBbJlMCF///fEAAAMCsb1nFsAM4BrMsMRUPEgKFntzlbtOOv9xwiAFoqhu1Bb2U5SFvcp2AasfELf1UuUIc4dXwuVAAAAAJ0GfkkUVLCP/AAAumMUl875lUUbCtovj8YbTA/0CzPRTSRgWxOE2YAAAADYBn7F0R/8AABXiqFWYrSnDwxzHImZCB7mS2RhJfSJrPG8zd3AAfLcpb0yVVDuAYgI3btrfnpEAAAAfAZ+zakf/AAA6DYhnIOqAKr7qYQLKvEZOiLZbAd4RcQAAAEFBm7hJqEFsmUwIX//98QAAAwD4HLiwagEJbwXTCroHQBoqrxLQGF/eeK81enB1emVuntJej++w72EIOlN68sPT8QAAAC9Bn9ZFFSwj/wAABppIU0Z+gPx3pduhlmGPS0gA2EE0QHecbrst1+O6h5+mxlWOCAAAACUBn/V0R/8AAAMDIMhE+fJtLMAJaR/BwL4LgQ+OtPQST+weFovAAAAAJQGf92pH/wAACDK1tTMo7mQWrp8AQAG05u7tyhXiNGeImchorUkAAABiQZv8SahBbJlMCF///fEAAAMCsQSkf+3IuDEmmATQq+cR6zfJobCQ1hv7KR8zI8l4vXYSmdIsgV6MX1FtynCvl3nr4hIoqsgX0lc9tM0pBgfFDe9A4xuMdJ0mf8znOcf7eaAAAAAdQZ4aRRUsI/8AAC6YjQ+VJgHZP3GL2/IzJ8eSxB4AAAAWAZ45dEf/AAAWL3soKeIKXMOgEGBekQAAABgBnjtqR/8AADoNiGcbHlynppDRFH2gvTAAAABIQZogSahBbJlMCF///fEAAAMADdi12MADdWPYmKKNxPHZABarHpFS/2ychW/KvqxHHqEpdKJ3sZvuu88L3I0ajlgvOQnlExUJAAAAJEGeXkUVLCP/AAADAO27dxFE4ALfqlYogf5LUCyMbyiZrFpFgQAAABoBnn10R/8AAAMAcW6klp9fud9zEvdYSEaRYAAAAB4Bnn9qR/8AAAMBLlYqy+acALdJEcWmg/b3+CNsr4EAAABWQZpkSahBbJlMCF///fEAAAMCsQMboBm0oesNlXPY7izxGxbwoGnMcj18KlB2PIO2pJ+we4sSgs8QUX8CXOjXaqC/4F2hsA1yg0h3RJIkVigUIOjuAsAAAAAhQZ6CRRUsI/8AAC6AlPhHex4c/+6wMoJsAiywvgNrQffNAAAAFQGeoXRH/wAAAwEuV66IE7BdyZbOwQAAABsBnqNqR/8AADoNq+XvAcLDiPqfTQK1o4HLTggAAABcQZqoSahBbJlMCF///fEAAAMA/ZNQW68i3oQAO0MhRrwdeJp4FjLHgDslrkbb2jVUfaYkkuhAq2zr8pYTCW5z9e/cS2H9dHLgJe5jL1CZv8IJA/Hf//JK/E+Xu2gAAAAtQZ7GRRUsI/8AABFYOJAB4GraDiwJ0fd4PaKihzd5c5ro//XpLA6j4MJr3gk5AAAAJgGe5XRH/wAAFjPwXCvwDpEUz9NXhS/VFcgAHIXSp3/l/uP+K3A8AAAAHgGe52pH/wAAFiGMxxZBkl0+z/ukgBz0SQk1Nl9RKwAAAFJBmuxJqEFsmUwIX//98QAAAwKf0LdAG1UIQjEkiEQhZr+9aYyjPQCuHx8Kph9EnocqiOJB1LopIyA0KcVYonHYroig4sBOZk1UeirEGsscNWu4AAAAOUGfCkUVLCP/AAAtZgzV2HyxQlMagQV1gAbOlYV9cwKQvvTbe7ksI+lSrBFwpGb2GM4rMJSikf5WVQAAACUBnyl0R/8AADiFjz7oZD5RY+lDPkdAoWBd6BvX6xeqc4hBlPSBAAAAJAGfK2pH/wAACCq92AwwyEZE5ZiqQgQzuTrXTqGw1AOHr61NgQAAAGpBmzBJqEFsmUwIX//98QAAAwKxAvDgIlkDTn4zwRkS3foth0cwp3KwErGaqVTXXG+eTcLo4UIseOqutGbe+8DuUM18e8TZO9y25YxGQRtpYhMi5IPoplDthChiComku26xM+peIPXZ/duBAAAAOkGfTkUVLCP/AAAuhWF9Sn10A9rDBKNdIgzOJ0DaNWgi8I5A2GEZYilkcWzeKZq3r45KRRN8xzMqt2UAAAAjAZ9tdEf/AAA55Yr+j7hMN7/oCTbHZhqLjpsMLiqBWrm98vAAAAAmAZ9vakf/AAAWIyiABdNSlJtgHdnFQmLKkhDrkdAzEkF4S9hFIeEAAABfQZt0SahBbJlMCF///fEAAAMCnqf5wAg83Lv+auD72GnjkJYWc8xJT6cbYRTESaQL0XbKqahLjYM/HxpZTvXU1pBjeMLsq3GzNLXFV5fwv54AWBOmCBYoI3cYTJWgVEAAAAAnQZ+SRRUsI/8AAC1mDNRVtSFRLpu52IK6GgypLQZ8pUHvuxb2haXgAAAAHgGfsXRH/wAACC0sunCuYRTR0D1doK/bgnwcI8dXYQAAABcBn7NqR/8AAAMBLVe8chEhqcUdJk19mQAAAEVBm7hJqEFsmUwIX//98QAAAwKxAp7aw4vaIElI3kEMckvDc4UmwzG9xRWUQmZWZooemPovbsA8IYlMUByXS0IEyzeJPbMAAAAyQZ/WRRUsI/8AAC6FrhDBaHD6PTd0lPHeHfwISi6nyywdYHYuekic5zsay9jA6/AEFlQAAAAsAZ/1dEf/AAA55N8myhmfhbKiAAN5+vD6IACdit2DmBPcz/iYyZhhDRDbTUgAAAApAZ/3akf/AAA4kERVZyJdxjxsAEjG9BXEEiPoiuO4Lw9VXsAJ+svmJvUAAAAYQZv5SahBbJlMCP/6WAAAAwADk8v+JTegAAABomWIhAA7//727L4FNf2f0JcRLMXaSnA+KqSAgHc0wAAAAwAAAwAAFgn0I7DkqgN3QAAAHGAFBCwCPCVC2EhIBrPjOr/gnHzAAmaQI7a6SuFLjXkJbg8hfhX4ekOz02um9akLrt/3vwxxX4c2gI08BBEo+djfnBocINkUWi3B9MvUCozJIKzPlmxEp0o+RCBO9YluERKoCjCBh4414BgM+9ez4BerHAmVj6F7Mempfkke1qZjmhiEYJ32MUlubroNMXH2bRuv3v0q3u+WAtsYeOOaZnuWjOtdl2bVejW/3GF+RjbvoWohSokzx/BzB35/ChU5Dx3ov4bEp41cTr+fj7UIoPqhg69hhik/K9Ib/H6p32sXKyoiVyQlXMU7wFRe66wNjRiHQWYpzPypKMPvgCMxo66dmU0JKBDGoZj1mviIbxfC74P83UPVR/kVCBzYYW5J8TTfHjGLSkPD+mv6gAG8BbTJCSDKSl+RFx6SLtx6KX3DghhtLO0H0d+gkpKH3o0H4enpXoi8C0JkZvv8JtF4B8PgReYAFQAAAwAAAwAALeAAAACVQZokbEL//fEAAAMCsYPUCABNujGNjl8WPoXkEE/aiOnDArxe1UdX0w9lu7QGTlv5qQDd5JWilgROfIK+W3Oarte7xbXarWeM0Z4uAxG+wa0LYBXhaLLjef6lbvBM/rE448qfT18AGnSAPAg3mh7iWLvxROOTb0ogmJXWvLnhuAD0nXsJepkfTiAMH6QnW671028BLU0AAAAgQZ5CeIR/AAAuhWFmRgUTEtlZ16teXi/ee/8TRjHibUgAAAAhAZ5hdEf/AAA6ECbfvDKzCej14WhCQOL1kXMaqr06b5kXAAAAHQGeY2pH/wAAOiCEOp2D4lEokp5ndHQh2tqi/bXhAAAARkGaaEmoQWiZTAhf//3xAAADArEADfgBZ1eri6Qy4n5eLE+jHRd+NM4qnfeRvUZ70OmG+yNr+eB1ROIWmxQ51KcWpukGWLAAAAAjQZ6GRREsI/8AAC6WeTRj18MDIhZvhXP5EjFBwWseHkaBAosAAAAXAZ6ldEf/AAA55N84yxtdFqMch4wxBqwAAAAaAZ6nakf/AAADAHFbEMq+EMQa38NneUC2T7kAAABJQZqsSahBbJlMCF///fEAAAMCs24WR4ICzxDIJxpiajyLiUqdPheRjk+cK74syKhfWwUriqrQhws7g117UbFtzIK4nNZIdAyIQQAAACRBnspFFSwj/wAALpjFIbXkCPeYsI2vvuLLDEdChtrRAyH58qAAAAAUAZ7pdEf/AAAWL3tBDUi/0Sngj4AAAAAoAZ7rakf/AAA57z/H4xsXKzxn9qGU4D0nReJGgAr6hFaqaCyUNz+9SQAAAG1BmvBJqEFsmUwIX//98QAAAwKxAq02TmpvCxVmHQjwfCL6jkoJlq86Bd+oBRh7QJSZR0FHJGy+7C+HqcbTkkZzdiMqa7ByXOWFx24gLSdJ4vB6cHyLv/yY51pa32fIHPMSjVRFZKUJf8eXRliPAAAALkGfDkUVLCP/AAAupHPazO7zbr+C+ZG+IOQ9sk1lnT0lBHz7VQ4eqtCeYQcjRFkAAAAbAZ8tdEf/AAAIMOXghqRliC1qMDgq0Iu63ZRcAAAAKgGfL2pH/wAAOg2r4v3C0hwZbBVGiLNhoATCor/wGngieCUnRH5BQCb8cQAAAIVBmzRJqEFsmUwIX//98QAAAwKxvXFP3uqiDOjCOsgAWR/MvI4fVYUTDyu7H2R++SUvuwvh6nBjNROGFaBYeGUeDPgm1caD8W2+brMQrGvUIHtAFw7g3QUDo0cwJO7xOI2+gTGo+CTNCTw8F5msoBXGWtimmTEPlSiEl7lUiY/6No+ZLJ0ZAAAAOEGfUkUVLCP/AAAGmkKkUm/ABC6abN4wy7s1Q/7XYBzvq1eM7/7XhXvJtzW8KNuO+yMUGdRswhMfAAAAKQGfcXRH/wAAOf40HriTmTNoDLBOAG6HUuNOPFfNZGyoPrdrh35onp6lAAAAIQGfc2pH/wAAB+/N8VTBLJm28w/vEObVIrUBFtmO3VDoLAAAAGtBm3hJqEFsmUwIX//98QAAAwKy1ea9IYSf+oAa3kVLiAf9j5wbK9WE6ooW50aE2hWiXJvLlqrdOs/2EQb651iVrlgmSSxb+pj5Ioak+zJ8X2Rbf/82y9aRhLRglxII+pzGJIy5qnejjsJ2QAAAACVBn5ZFFSwj/wAAEUe0vEu57md1L/XTjzOf1Yz1KEx03QmCNlP3AAAAJQGftXRH/wAAFiDUCxHlzbOoK+C/dNz+oN0wAbB7PhJdLl+ERgQAAAAlAZ+3akf/AAAWDxxshDezjQAKOG4PwpHxzZA1ke1u5fXo1Jk1IAAAAFBBm7xJqEFsmUwIX//98QAAAwKx7vnM6GZELgAdoZ/zdrXddtM1MJnfLDGpn2xEjigPGUZyIq9XE9U7y6UI7oM1XLAw8tUHVj5VBThtKxWx4QAAAEdBn9pFFSwj/wAALoUo2VZ+L+2RAC3Z/EwVsmIYuB+2AzEK7u/E7CGeEQS0V9yVI6sq+Nnnz0BY8MJUxTgeVh4Z8qutuL/0wQAAAB8Bn/l0R/8AADn+NB669vgunF5BkQy4Xez7QiVb3DehAAAAJQGf+2pH/wAAOHU+Ebwj+5nKO1P2QMpBHxj+4UYntFgeUma/WpAAAABeQZvgSahBbJlMCF///fEAAAMCsQMboAX4lNeDQiB0/YMBkuqScfEPjTFuJ9EzDKbLKDe7Royy3sS1eGjZZTA7DxAau8q5T93ErlQFiM8YSuUAZmpew9ATIcF25JLg4AAAABxBnh5FFSwj/wAAL9H8myPgZLIKBYa5t4giCN6BAAAAGwGePXRH/wAAOhcgADgd1YmAWWLLlOoWagN6QAAAABcBnj9qR/8AAAMAcKjKHsVNF9Nkdt1zQAAAAG9BmiRJqEFsmUwIX//98QAAAwKwOmpVN6ABL1fe6lhfBhFqiHWhI/ADxNluh/dzhB6XHtDTJzRAFbn9lPTlglgxp+3UYF0PRK/nQFryps3Y5/mJtPUE96CssEw96d5fJj97b678d0JC6zjJxJmaTuEAAAAjQZ5CRRUsI/8AAC6Y82xgLPM4jO3vAAAQQv+PhYB+GnzWlakAAAAYAZ5hdEf/AAADABDhyuE0yLO8UC3T+CvBAAAAGQGeY2pH/wAAOiIS0YeUGLgADkBx8N/slNEAAAB8QZpoSahBbJlMCF///fEAAAMCsQMboAg83A5QvoqvEaRAsEDps/l5hFwGKylJl/j3kA+eGAKB4Q72TXOK5Hyd67x8JtJu3wZnrxSW/hYm6vqcVxab/p2Vf6wn0ZCfmlYv6O8fSBzeJH/YaZSP08L1/+pFUWH5jBoHky9EYAAAACNBnoZFFSwj/wAAL7uFo/dBhu7poj5Xg1Mysykl6Wz78rSEWQAAABQBnqV0R/8AADoXtSGDOjUUGQ6sWAAAABwBnqdqR/8AABYvLQpQ3o50Aerq4UL9eHNKKfphAAAASkGarEmoQWyZTAhf//3xAAADAPgW9wtzxYBGIppoWwmIz0de3qSAlgwLtFWiOVaWKbnuJl7rvcsOOnEhBHmpqNLR2uyews7SAjzBAAAAIUGeykUVLCP/AAAGl0a3jUk9s95RPlNqSbSmG0JCzDw/wAAAABoBnul0R/8AAAgqhFP8U4mgbT83ri7mRMRbswAAABkBnutqR/8AAAfxvhK4xl8x3BuEl+RgKsx9AAAASUGa8EmoQWyZTAhf//3xAAADArEDG6AF+JaZ0PkTznsxqClIE2ATh1ybK3TZXFK4HcpwbavRaVfiqwX7WfLCtzgKE31qC9u4a2AAAAA3QZ8ORRUsI/8AAC/R/JkqaO6voR7ap3ogGUJL24JSNDkR5ub9bw8CRE0s5EFcuJFoSDD6BiFNgQAAACIBny10R/8AADoXtSvqu88/htaoqmI8PoJUbVK2HHpx99SAAAAALQGfL2pH/wAAO4IXpAGCYZdq84GTX7aon2TP+XhMxOgA0bVADOakbCAGRhi1IQAAAF1BmzRJqEFsmUwIX//98QAAAwKx7vnqGvd7EIsJAAt6WgEzOVudYZ+G11ZHjldGDd5Sf8zB+/plhmFZ1t8e+p1YxXZVWc3SErTuXOutMV18JYajcQFBtXFMnbZXhMEAAAA2QZ9SRRUsI/8AAC/ZHvWkh72QAWoJujxFOr03DmNFo3hK/gBCjes+UPNZEf2NMDXXgkffPSkhAAAAIwGfcXRH/wAAFiccAzp23sJIPDR94IV7lGgslia9j25R5YXdAAAAHQGfc2pH/wAACGpacx6OKHKCwLnGmlYHUoBjjHrAAAAAa0GbeEmoQWyZTAhf//3xAAADArECxO/q3X052HbUeAzMRgG1XkwMOXN6x98UTcEczR1WdDHLnehnBOPG5fIdWVEjPzoQ7NEHHSXfFU+prE0uPajVpIkLbuh6kWzMVE1Op1qNgx+oN0bI0m8UAAAAOUGflkUVLCP/AAAugV1lvgBGrA986O3SLjggrSp4cC03pTNMfUmBcDscbEjjV4dTNbnwmOg+Zeou4QAAAB0Bn7V0R/8AAAMDJE7IaxGTL+XrLuSP2aIzU5S7gAAAACkBn7dqR/8AADnwKzkW03DXvwzQgrwAToyQ7MlRkCPJja4C4H/SD/kFgAAAAGlBm7xJqEFsmUwIX//98QAAAwLHyfXoCWaCQ8VITWCSxH/+IJ3ua/Wf6IGhDGE+1Ze56n3tpIf07TrT+MHk/v43915/EBuaBIfjzkFb+FX8ZmwpzCWK7bmPxmPAthXs2wPuG5S5ogw94YMAAAA0QZ/aRRUsI/8AAC+8QMWpQLxJ9uRqACHRcbPelY3uBb3nR76iWtcPbVo6lv/vPV06U3NknQAAAB0Bn/l0R/8AADteNB61WYEEZadj9yGeMk4HKoALiQAAAB0Bn/tqR/8AADtQQZHAsVjkd1F+FfjmInlKwmVBYAAAAH1Bm+BJqEFsmUwIX//98QAAAwLDRUzCmBjnsUangUToB4X5nLzZaMDs4KZ21unhJSKYU8z5RXqOFonwPpr9PIjm1wscy7uVMfKkdvkAhJeXwoIrXmiFIsznUtJm1W9F5a8NYZf76Bche8lO57ySyBjg3OEy9Tp8tkq4etl7UgAAACdBnh5FFSwj/wAALpZ5NRXugDXIKNlW3YMmO39hFlbOurOxTu/BY1MAAAAaAZ49dEf/AAA55N8+fcZAP2P6T2zr8qnRh5UAAAAhAZ4/akf/AAA6DeXOwGjIfal90qUKo0M/Q2dY56Gz4FGpAAAAUkGaJEmoQWyZTAhf//3xAAADAsMERlq8jLtZHihyyneYbPs+fmml7jRqD7NsGc2lLWfR4B8+ppnVJKodxlgOA6eVqbSMqFLVTtiKf/lWEOqSQhUAAAApQZ5CRRUsI/8AAC/SFSVTfD4mmWfeKALVnw5Xxoziv4rq0EsZvhDv6cAAAAAwAZ5hdEf/AAA5zRu0xsAC6c6QvJKklj39Fs+zDUGY8402ufdNMINNUh0GtXlmBmO1AAAAFwGeY2pH/wAAO08/b4e4pPhHN19JO4F3AAAAbEGaaEmoQWyZTAhf//3xAAADArK3HzCT7BrgAdoaDcWRHADiJRuy8lwX2KfEbGDZsZHnRbAtf22Dj67vRK/YV6iTuUTcsc7H1Zm8f4FJrN4I70DPsf3Xtw0CEg3AVZ3naSNTynKYVKMb3jqrwAAAAC1BnoZFFSwj/wAAEd9Xj6m41T89oAN12u8W+jfNo+COgGmRzSBRxVnFtUXsiR8AAAAbAZ6ldEf/AAADATYculpwQZgQcSpOi1fUB0WAAAAAIgGep2pH/wAAFrzauCokEAIp8HtZmeFwCv+HVd4PhfP3qz8AAABWQZqsSahBbJlMCF///fEAAAMCw+72q8TzbYvbEmL1AA7OhPOY1Aae/9NLQwmYxmqX6KQ+5OaYCuF2lb5hfeumm2TDEoA16rqi9PBfP50w+cGU95UUb4EAAAAnQZ7KRRUsI/8AAC+7ETxXgtnU0JLMZn4n0Ym+8FyNLnhbAP2pvVJAAAAAGgGe6XRH/wAAO0TfJzxWGHmvbYPSclF4Jx+DAAAAIAGe62pH/wAACG+gjG4AHFpgTID0+RlM1zAQccZlvASDAAAAXUGa8EmoQWyZTAhf//3xAAADAsPt3XQHwBHN1GkVuxLfsVZK5Eb7CIniR1kGC8/u1rPZJrWj4/LqdJtR+dbag4QcTmB1RALQLOj5A/5Qmf/SqayZSWhE0X3rkMwvZQAAACdBnw5FFSwj/wAAL9IVJ10i1YKg9gchVjZI2OMS0GfiiLYDHLlKjtEAAAAdAZ8tdEf/AAAWnvIX19b9rCylfvf2mC34ncUh2VAAAAAzAZ8vakf/AAA7Tqb61FkbCexTFn8HvJsOyT5cmB3H2Nz6AEkzJ+v/wOc84+K/jM0H+ISDAAAANEGbNEmoQWyZTAhf//3xAAADAQZw540E3bAgVgI/eRsACRW6/VyFXHwEwaTiDw666FEApIEAAAAzQZ9SRRUsI/8AABHfV5CukTBb1lcRZ84Xe8jwfLpeUACElu5cpWEhWevMptjtsaWRFDbhAAAAHwGfcXRH/wAACHD3mr2wtC4YWo0mcDai6za/6x2teQcAAAAjAZ9zakf/AAAWvNHZySrTzLU2xgOoRFwwTxlGbq85RLVKoIEAAAAnQZt4SahBbJlMCF///fEAAAMCwwKe2rurpdlDfZ2r8ZESGeIPdsRsAAAAGEGflkUVLCP/AAAvu7ricjE7hOlTD1IyLwAAAB8Bn7V0R/8AADt3UlBtEG4XzCVdfJPIAhmjeoIFAM+AAAAAFwGft2pH/wAAAwE2FcxB3ruJ65DPmHzAAAAATUGbvEmoQWyZTAhX//3hAAAEVMBSNPR4qgCsVOSyPYyMJBCBKclgHgRaiSXw3MS0IVJpSntR5LZBq7B4qxmQtYRbJYeNVdGzoJWqw33VAAAAIkGf2kUVLCP/AAAvu5nftaxRVcvyE+vkz1PeXQZ+gLIxy6cAAAAqAZ/5dEf/AAA7d1JLTghgYTmKBiAFYoCm0SZVIFejQc8gxcm0XVTKxWwZAAAAGwGf+2pH/wAAAwM3n47sjlvT7Kh/kAA4YiImBAAAAFJBm+BJqEFsmUwIV//94QAAAwGn79fQMaouyMKH1cf3szZud64FaQvAcekmvWHKL9XZw1nPmnF98m1rX5dKjtKfBf4pykflkZMOkiiG89n91dLwAAAAJEGeHkUVLCP/AAAujJaq/8Y9np0NDDC0gZGpYg2xC45wow8RAwAAAB0Bnj10R/8AAAMBNaUWVt8lQAjbgVQHPGWmOJaDVgAAABwBnj9qR/8AAAMBNVzp1xIEQAE0iQu+Lr2LcKuAAAAAOkGaJEmoQWyZTAhP//yEAAAQzEcE0bsCpleUiqji/7Obm2CthuA+psVYyU3i4oxQJPnRxPUq67B2nekAAAAuQZ5CRRUsI/8AAC/ZJGois1Iy2SMsJallq58VjCUC54Y3LAvlRvVZfexBMEJ3WAAAABoBnmF0R/8AADtwnwaLB2atnlVx6L5jJed1gQAAAB4BnmNqR/8AADuAnj7+dAoLRoI+rhFQQydfya46Mg0AAAAWQZpmSahBbJlMFEx/+lgAAAMAAAMBeQAAABEBnoVqR/8AADs1M6KV7RBxwQAAHy1tb292AAAAbG12aGQAAAAAAAAAAAAAAAAAAAPoAAAnQgABAAABAAAAAAAAAAAAAAAAAQAAAAAAAAAAAAAAAAAAAAEAAAAAAAAAAAAAAAAAAEAAAAAAAAAAAAAAAAAAAAAAAAAAAAAAAAAAAAAAAAACAAAeV3RyYWsAAABcdGtoZAAAAAMAAAAAAAAAAAAAAAEAAAAAAAAnQgAAAAAAAAAAAAAAAAAAAAAAAQAAAAAAAAAAAAAAAAAAAAEAAAAAAAAAAAAAAAAAAEAAAAACYAAAAZAAAAAAACRlZHRzAAAAHGVsc3QAAAAAAAAAAQAAJ0IAAAIAAAEAAAAAHc9tZGlhAAAAIG1kaGQAAAAAAAAAAAAAAAAAADwAAAJbAFXEAAAAAAAtaGRscgAAAAAAAAAAdmlkZQAAAAAAAAAAAAAAAFZpZGVvSGFuZGxlcgAAAB16bWluZgAAABR2bWhkAAAAAQAAAAAAAAAAAAAAJGRpbmYAAAAcZHJlZgAAAAAAAAABAAAADHVybCAAAAABAAAdOnN0YmwAAACWc3RzZAAAAAAAAAABAAAAhmF2YzEAAAAAAAAAAQAAAAAAAAAAAAAAAAAAAAACYAGQAEgAAABIAAAAAAAAAAEAAAAAAAAAAAAAAAAAAAAAAAAAAAAAAAAAAAAAAAAAAAAY//8AAAAwYXZjQwFkAB//4QAYZ2QAH6zZQJgzoQAAAwABAAADAHgPGDGWAQAFaOvnLIsAAAAYc3R0cwAAAAAAAAABAAACWwAAAQAAAAAcc3RzcwAAAAAAAAADAAAAAQAAAPsAAAH1AAASuGN0dHMAAAAAAAACVQAAAAEAAAIAAAAAAQAABQAAAAABAAACAAAAAAEAAAAAAAAAAQAAAQAAAAABAAAFAAAAAAEAAAIAAAAAAQAAAAAAAAABAAABAAAAAAEAAAUAAAAAAQAAAgAAAAABAAAAAAAAAAEAAAEAAAAAAQAABQAAAAABAAACAAAAAAEAAAAAAAAAAQAAAQAAAAABAAAFAAAAAAEAAAIAAAAAAQAAAAAAAAABAAABAAAAAAEAAAIAAAAAAQAABQAAAAABAAACAAAAAAEAAAAAAAAAAQAAAQAAAAABAAAFAAAAAAEAAAIAAAAAAQAAAAAAAAABAAABAAAAAAEAAAUAAAAAAQAAAgAAAAABAAAAAAAAAAEAAAEAAAAAAQAABQAAAAABAAACAAAAAAEAAAAAAAAAAQAAAQAAAAABAAAFAAAAAAEAAAIAAAAAAQAAAAAAAAABAAABAAAAAAEAAAUAAAAAAQAAAgAAAAABAAAAAAAAAAEAAAEAAAAAAQAABQAAAAABAAACAAAAAAEAAAAAAAAAAQAAAQAAAAABAAAFAAAAAAEAAAIAAAAAAQAAAAAAAAABAAABAAAAAAEAAAUAAAAAAQAAAgAAAAABAAAAAAAAAAEAAAEAAAAAAQAABQAAAAABAAACAAAAAAEAAAAAAAAAAQAAAQAAAAABAAAFAAAAAAEAAAIAAAAAAQAAAAAAAAABAAABAAAAAAEAAAQAAAAAAgAAAQAAAAABAAAFAAAAAAEAAAIAAAAAAQAAAAAAAAABAAABAAAAAAEAAAUAAAAAAQAAAgAAAAABAAAAAAAAAAEAAAEAAAAAAQAABQAAAAABAAACAAAAAAEAAAAAAAAAAQAAAQAAAAABAAAFAAAAAAEAAAIAAAAAAQAAAAAAAAABAAABAAAAAAEAAAUAAAAAAQAAAgAAAAABAAAAAAAAAAEAAAEAAAAAAQAABQAAAAABAAACAAAAAAEAAAAAAAAAAQAAAQAAAAABAAAFAAAAAAEAAAIAAAAAAQAAAAAAAAABAAABAAAAAAEAAAUAAAAAAQAAAgAAAAABAAAAAAAAAAEAAAEAAAAAAQAABQAAAAABAAACAAAAAAEAAAAAAAAAAQAAAQAAAAABAAAFAAAAAAEAAAIAAAAAAQAAAAAAAAABAAABAAAAAAEAAAMAAAAAAQAAAQAAAAABAAAFAAAAAAEAAAIAAAAAAQAAAAAAAAABAAABAAAAAAEAAAUAAAAAAQAAAgAAAAABAAAAAAAAAAEAAAEAAAAAAQAABQAAAAABAAACAAAAAAEAAAAAAAAAAQAAAQAAAAABAAAFAAAAAAEAAAIAAAAAAQAAAAAAAAABAAABAAAAAAEAAAUAAAAAAQAAAgAAAAABAAAAAAAAAAEAAAEAAAAAAQAABQAAAAABAAACAAAAAAEAAAAAAAAAAQAAAQAAAAABAAAFAAAAAAEAAAIAAAAAAQAAAAAAAAABAAABAAAAAAEAAAUAAAAAAQAAAgAAAAABAAAAAAAAAAEAAAEAAAAAAQAABQAAAAABAAACAAAAAAEAAAAAAAAAAQAAAQAAAAABAAAFAAAAAAEAAAIAAAAAAQAAAAAAAAABAAABAAAAAAEAAAUAAAAAAQAAAgAAAAABAAAAAAAAAAEAAAEAAAAAAQAABQAAAAABAAACAAAAAAEAAAAAAAAAAQAAAQAAAAABAAAFAAAAAAEAAAIAAAAAAQAAAAAAAAABAAABAAAAAAEAAAUAAAAAAQAAAgAAAAABAAAAAAAAAAEAAAEAAAAAAQAABQAAAAABAAACAAAAAAEAAAAAAAAAAQAAAQAAAAABAAAFAAAAAAEAAAIAAAAAAQAAAAAAAAABAAABAAAAAAEAAAIAAAAAAQAABQAAAAABAAACAAAAAAEAAAAAAAAAAQAAAQAAAAABAAAFAAAAAAEAAAIAAAAAAQAAAAAAAAABAAABAAAAAAEAAAUAAAAAAQAAAgAAAAABAAAAAAAAAAEAAAEAAAAAAQAABQAAAAABAAACAAAAAAEAAAAAAAAAAQAAAQAAAAABAAAFAAAAAAEAAAIAAAAAAQAAAAAAAAABAAABAAAAAAEAAAUAAAAAAQAAAgAAAAABAAAAAAAAAAEAAAEAAAAAAQAAAgAAAAABAAADAAAAAAEAAAEAAAAAAQAABAAAAAACAAABAAAAAAEAAAUAAAAAAQAAAgAAAAABAAAAAAAAAAEAAAEAAAAAAQAAAgAAAAABAAAFAAAAAAEAAAIAAAAAAQAAAAAAAAABAAABAAAAAAEAAAUAAAAAAQAAAgAAAAABAAAAAAAAAAEAAAEAAAAAAQAAAgAAAAABAAAFAAAAAAEAAAIAAAAAAQAAAAAAAAABAAABAAAAAAEAAAUAAAAAAQAAAgAAAAABAAAAAAAAAAEAAAEAAAAAAQAABQAAAAABAAACAAAAAAEAAAAAAAAAAQAAAQAAAAABAAAFAAAAAAEAAAIAAAAAAQAAAAAAAAABAAABAAAAAAEAAAUAAAAAAQAAAgAAAAABAAAAAAAAAAEAAAEAAAAAAQAABQAAAAABAAACAAAAAAEAAAAAAAAAAQAAAQAAAAABAAAFAAAAAAEAAAIAAAAAAQAAAAAAAAABAAABAAAAAAEAAAMAAAAAAQAAAQAAAAABAAACAAAAAAEAAAUAAAAAAQAAAgAAAAABAAAAAAAAAAEAAAEAAAAAAQAABQAAAAABAAACAAAAAAEAAAAAAAAAAQAAAQAAAAABAAAEAAAAAAIAAAEAAAAAAQAABQAAAAABAAACAAAAAAEAAAAAAAAAAQAAAQAAAAABAAAFAAAAAAEAAAIAAAAAAQAAAAAAAAABAAABAAAAAAEAAAUAAAAAAQAAAgAAAAABAAAAAAAAAAEAAAEAAAAAAQAABQAAAAABAAACAAAAAAEAAAAAAAAAAQAAAQAAAAABAAAFAAAAAAEAAAIAAAAAAQAAAAAAAAABAAABAAAAAAEAAAUAAAAAAQAAAgAAAAABAAAAAAAAAAEAAAEAAAAAAQAABQAAAAABAAACAAAAAAEAAAAAAAAAAQAAAQAAAAABAAAFAAAAAAEAAAIAAAAAAQAAAAAAAAABAAABAAAAAAEAAAUAAAAAAQAAAgAAAAABAAAAAAAAAAEAAAEAAAAAAQAABQAAAAABAAACAAAAAAEAAAAAAAAAAQAAAQAAAAABAAAFAAAAAAEAAAIAAAAAAQAAAAAAAAABAAABAAAAAAEAAAUAAAAAAQAAAgAAAAABAAAAAAAAAAEAAAEAAAAAAQAABQAAAAABAAACAAAAAAEAAAAAAAAAAQAAAQAAAAABAAADAAAAAAEAAAEAAAAAAQAABAAAAAACAAABAAAAAAEAAAUAAAAAAQAAAgAAAAABAAAAAAAAAAEAAAEAAAAAAQAABQAAAAABAAACAAAAAAEAAAAAAAAAAQAAAQAAAAABAAAFAAAAAAEAAAIAAAAAAQAAAAAAAAABAAABAAAAAAEAAAUAAAAAAQAAAgAAAAABAAAAAAAAAAEAAAEAAAAAAQAABQAAAAABAAACAAAAAAEAAAAAAAAAAQAAAQAAAAABAAAFAAAAAAEAAAIAAAAAAQAAAAAAAAABAAABAAAAAAEAAAUAAAAAAQAAAgAAAAABAAAAAAAAAAEAAAEAAAAAAQAABQAAAAABAAACAAAAAAEAAAAAAAAAAQAAAQAAAAABAAAFAAAAAAEAAAIAAAAAAQAAAAAAAAABAAABAAAAAAEAAAUAAAAAAQAAAgAAAAABAAAAAAAAAAEAAAEAAAAAAQAABQAAAAABAAACAAAAAAEAAAAAAAAAAQAAAQAAAAABAAAFAAAAAAEAAAIAAAAAAQAAAAAAAAABAAABAAAAAAEAAAUAAAAAAQAAAgAAAAABAAAAAAAAAAEAAAEAAAAAAQAABQAAAAABAAACAAAAAAEAAAAAAAAAAQAAAQAAAAABAAAFAAAAAAEAAAIAAAAAAQAAAAAAAAABAAABAAAAAAEAAAUAAAAAAQAAAgAAAAABAAAAAAAAAAEAAAEAAAAAAQAABQAAAAABAAACAAAAAAEAAAAAAAAAAQAAAQAAAAABAAACAAAAAAEAAAUAAAAAAQAAAgAAAAABAAAAAAAAAAEAAAEAAAAAAQAABQAAAAABAAACAAAAAAEAAAAAAAAAAQAAAQAAAAABAAAFAAAAAAEAAAIAAAAAAQAAAAAAAAABAAABAAAAAAEAAAUAAAAAAQAAAgAAAAABAAAAAAAAAAEAAAEAAAAAAQAABQAAAAABAAACAAAAAAEAAAAAAAAAAQAAAQAAAAABAAAFAAAAAAEAAAIAAAAAAQAAAAAAAAABAAABAAAAAAEAAAUAAAAAAQAAAgAAAAABAAAAAAAAAAEAAAEAAAAAAQAABQAAAAABAAACAAAAAAEAAAAAAAAAAQAAAQAAAAABAAAFAAAAAAEAAAIAAAAAAQAAAAAAAAABAAABAAAAAAEAAAQAAAAAAgAAAQAAAAABAAAFAAAAAAEAAAIAAAAAAQAAAAAAAAABAAABAAAAAAEAAAUAAAAAAQAAAgAAAAABAAAAAAAAAAEAAAEAAAAAAQAABQAAAAABAAACAAAAAAEAAAAAAAAAAQAAAQAAAAABAAAFAAAAAAEAAAIAAAAAAQAAAAAAAAABAAABAAAAAAEAAAUAAAAAAQAAAgAAAAABAAAAAAAAAAEAAAEAAAAAAQAABQAAAAABAAACAAAAAAEAAAAAAAAAAQAAAQAAAAABAAAFAAAAAAEAAAIAAAAAAQAAAAAAAAABAAABAAAAAAEAAAUAAAAAAQAAAgAAAAABAAAAAAAAAAEAAAEAAAAAAQAABQAAAAABAAACAAAAAAEAAAAAAAAAAQAAAQAAAAABAAAFAAAAAAEAAAIAAAAAAQAAAAAAAAABAAABAAAAAAEAAAUAAAAAAQAAAgAAAAABAAAAAAAAAAEAAAEAAAAAAQAABQAAAAABAAACAAAAAAEAAAAAAAAAAQAAAQAAAAABAAAFAAAAAAEAAAIAAAAAAQAAAAAAAAABAAABAAAAAAEAAAUAAAAAAQAAAgAAAAABAAAAAAAAAAEAAAEAAAAAAQAABQAAAAABAAACAAAAAAEAAAAAAAAAAQAAAQAAAAABAAAFAAAAAAEAAAIAAAAAAQAAAAAAAAABAAABAAAAAAEAAAUAAAAAAQAAAgAAAAABAAAAAAAAAAEAAAEAAAAAAQAABQAAAAABAAACAAAAAAEAAAAAAAAAAQAAAQAAAAACAAACAAAAAAEAAAUAAAAAAQAAAgAAAAABAAAAAAAAAAEAAAEAAAAAAQAABQAAAAABAAACAAAAAAEAAAAAAAAAAQAAAQAAAAABAAAFAAAAAAEAAAIAAAAAAQAAAAAAAAABAAABAAAAAAEAAAUAAAAAAQAAAgAAAAABAAAAAAAAAAEAAAEAAAAAAQAABQAAAAABAAACAAAAAAEAAAAAAAAAAQAAAQAAAAABAAAFAAAAAAEAAAIAAAAAAQAAAAAAAAABAAABAAAAAAEAAAUAAAAAAQAAAgAAAAABAAAAAAAAAAEAAAEAAAAAAQAABQAAAAABAAACAAAAAAEAAAAAAAAAAQAAAQAAAAABAAAFAAAAAAEAAAIAAAAAAQAAAAAAAAABAAABAAAAAAEAAAUAAAAAAQAAAgAAAAABAAAAAAAAAAEAAAEAAAAAAQAABQAAAAABAAACAAAAAAEAAAAAAAAAAQAAAQAAAAABAAAFAAAAAAEAAAIAAAAAAQAAAAAAAAABAAABAAAAAAEAAAUAAAAAAQAAAgAAAAABAAAAAAAAAAEAAAEAAAAAAQAABQAAAAABAAACAAAAAAEAAAAAAAAAAQAAAQAAAAABAAAFAAAAAAEAAAIAAAAAAQAAAAAAAAABAAABAAAAAAEAAAUAAAAAAQAAAgAAAAABAAAAAAAAAAEAAAEAAAAAAQAABQAAAAABAAACAAAAAAEAAAAAAAAAAQAAAQAAAAABAAAFAAAAAAEAAAIAAAAAAQAAAAAAAAABAAABAAAAAAEAAAUAAAAAAQAAAgAAAAABAAAAAAAAAAEAAAEAAAAAAQAABQAAAAABAAACAAAAAAEAAAAAAAAAAQAAAQAAAAABAAAFAAAAAAEAAAIAAAAAAQAAAAAAAAABAAABAAAAAAEAAAUAAAAAAQAAAgAAAAABAAAAAAAAAAEAAAEAAAAAAQAABQAAAAABAAACAAAAAAEAAAAAAAAAAQAAAQAAAAABAAAFAAAAAAEAAAIAAAAAAQAAAAAAAAABAAABAAAAAAEAAAUAAAAAAQAAAgAAAAABAAAAAAAAAAEAAAEAAAAAAQAAAwAAAAABAAABAAAAABxzdHNjAAAAAAAAAAEAAAABAAACWwAAAAEAAAmAc3RzegAAAAAAAAAAAAACWwAABHwAAABlAAAARQAAACgAAAAhAAAAUgAAADoAAAAjAAAAKgAAAFIAAAA1AAAAIgAAACYAAABgAAAAJgAAABsAAAAhAAAAdAAAACoAAAAgAAAAJQAAADgAAACAAAAANwAAACEAAAAnAAAAUwAAAC8AAAApAAAAIgAAAGUAAAAoAAAAIgAAABwAAABBAAAAKQAAACIAAAAdAAAAYgAAACYAAAAhAAAAGAAAAHAAAAAkAAAAJAAAAB8AAAA8AAAALgAAACEAAAAeAAAAMgAAADEAAAAdAAAAIQAAAGQAAAAnAAAAGgAAACIAAABcAAAAJAAAABwAAAAjAAAAQQAAADIAAAAjAAAAGwAAAFgAAAAiAAAAJgAAABsAAAAxAAAAHQAAAB8AAABjAAAAIwAAABgAAAAeAAAANAAAACIAAAAfAAAAGAAAADUAAAA2AAAAHgAAACIAAABLAAAAHQAAABkAAAAXAAAANQAAAD0AAAAhAAAAKQAAAD0AAAAjAAAAIAAAABsAAAA7AAAAHAAAAB0AAAASAAAAVAAAAB8AAAAWAAAAGgAAADMAAAAeAAAAGQAAABYAAAA5AAAAHQAAAEEAAAAjAAAAHwAAABkAAABYAAAANQAAABoAAAAjAAAAVgAAAC0AAAAkAAAAJQAAADIAAAAlAAAAGwAAABwAAAA3AAAAGgAAABIAAAAWAAAANwAAABkAAAAWAAAAFgAAABsAAAAwAAAAGgAAABsAAABeAAAAKgAAABYAAAAfAAAARQAAADYAAAAiAAAAGQAAAEUAAAAlAAAAGwAAAB4AAAAbAAAAGgAAABUAAAAXAAAAXQAAAC8AAAAbAAAAHAAAADUAAAAsAAAAGQAAACkAAABjAAAAIgAAABYAAAAeAAAAHwAAAB4AAAAaAAAAGQAAAHgAAAApAAAAIAAAACkAAAAwAAAALAAAADIAAAAfAAAAHAAAAFIAAAAnAAAAIAAAABYAAAAjAAAAJwAAABQAAAAUAAAAPgAAABoAAAAWAAAAGQAAACUAAAAxAAAAHgAAABsAAAApAAAALAAAACAAAAAbAAAAUQAAAI0AAAAoAAAAdAAAAEYAAAAiAAAAgQAAAFAAAAAjAAAAJgAAAFgAAAB7AAAAQAAAACYAAAAwAAAAagAAADoAAAAnAAAAPgAAAGgAAABsAAAAPgAAADAAAAAxAAAAUwAAADEAAAAwAAAAKwAAAE0AAAAtAAAANAAAACkAAABqAAAAQQAAACwAAAAlAAAAhQAAADgAAAAuAAAAIAAAAF4AAAAsAAAAJwAAACUAAABhAAAAQwAAADQAAAAwAAAAOAAAADkAAAIZAAAAowAAADYAAABAAAAAMQAAAIYAAAAsAAAAKwAAACQAAABmAAAALQAAAB0AAABPAAAAOwAAACUAAAAhAAAAdQAAAEEAAAAmAAAAJQAAAHAAAAAqAAAAIAAAACIAAAB7AAAANgAAAB0AAAAhAAAALwAAAB0AAAAaAAAAFgAAAEUAAAAhAAAAHAAAABYAAABhAAAAJAAAAB4AAAAcAAAAXwAAACkAAAAXAAAAHwAAAFYAAAArAAAAGQAAAB4AAABTAAAAJgAAACYAAAAcAAAARAAAACsAAAAaAAAAIwAAAGQAAAArAAAAIQAAABwAAABGAAAAOgAAABwAAAAaAAAAYAAAACIAAABGAAAAKwAAAB4AAABcAAAAKgAAABwAAAAkAAAAVAAAADgAAAAaAAAAJQAAAE8AAAAqAAAAIwAAABwAAABPAAAAKQAAACIAAAAdAAAAWgAAACIAAAAeAAAAGQAAAF8AAAAfAAAALAAAABQAAABRAAAAKgAAAB4AAAAfAAAAVQAAAD0AAAAhAAAAJwAAAD0AAAAhAAAAHwAAABkAAABcAAAAIAAAABwAAAAXAAAAOwAAACwAAAAcAAAAHwAAADYAAAAjAAAAGwAAAB0AAABbAAAAKAAAABkAAAAoAAAAPgAAACUAAAAaAAAAIgAAADMAAAAvAAAAHQAAABoAAABZAAAAIgAAABgAAAAdAAAALQAAACEAAAAcAAAAGAAAACoAAAAoAAAAKwAAABgAAAAZAAAAdQAAADgAAAAfAAAAGQAAADQAAAAqAAAAIAAAACQAAADoAAAAQQAAAB0AAAAqAAAAYAAAADsAAAA1AAAALAAAAIoAAAAxAAAAJgAAAB4AAABoAAAAPAAAADEAAAApAAAARQAAAEgAAAAiAAAAIwAAAE8AAAAzAAAAKgAAABsAAABVAAAAKAAAACwAAACgAAAAJwAAABsAAAAhAAAAcQAAACsAAAAgAAAANgAAAEcAAAAvAAAAIgAAABoAAABmAAAAJgAAAB8AAAAmAAAAhAAAAC0AAAAzAAAAHwAAAFAAAAAyAAAAHQAAACAAAACQAAAAPQAAACUAAAAkAAAAhwAAAD8AAAAjAAAAIgAAAEwAAAArAAAAOgAAACMAAABFAAAAMwAAACkAAAApAAAAZgAAACEAAAAaAAAAHAAAAEwAAAAoAAAAHgAAACIAAABaAAAAJQAAABkAAAAfAAAAYAAAADEAAAAqAAAAIgAAAFYAAAA9AAAAKQAAACgAAABuAAAAPgAAACcAAAAqAAAAYwAAACsAAAAiAAAAGwAAAEkAAAA2AAAAMAAAAC0AAAAcAAABpgAAAJkAAAAkAAAAJQAAACEAAABKAAAAJwAAABsAAAAeAAAATQAAACgAAAAYAAAALAAAAHEAAAAyAAAAHwAAAC4AAACJAAAAPAAAAC0AAAAlAAAAbwAAACkAAAApAAAAKQAAAFQAAABLAAAAIwAAACkAAABiAAAAIAAAAB8AAAAbAAAAcwAAACcAAAAcAAAAHQAAAIAAAAAnAAAAGAAAACAAAABOAAAAJQAAAB4AAAAdAAAATQAAADsAAAAmAAAAMQAAAGEAAAA6AAAAJwAAACEAAABvAAAAPQAAACEAAAAtAAAAbQAAADgAAAAhAAAAIQAAAIEAAAArAAAAHgAAACUAAABWAAAALQAAADQAAAAbAAAAcAAAADEAAAAfAAAAJgAAAFoAAAArAAAAHgAAACQAAABhAAAAKwAAACEAAAA3AAAAOAAAADcAAAAjAAAAJwAAACsAAAAcAAAAIwAAABsAAABRAAAAJgAAAC4AAAAfAAAAVgAAACgAAAAhAAAAIAAAAD4AAAAyAAAAHgAAACIAAAAaAAAAFQAAABRzdGNvAAAAAAAAAAEAAAAwAAAAYnVkdGEAAABabWV0YQAAAAAAAAAhaGRscgAAAAAAAAAAbWRpcmFwcGwAAAAAAAAAAAAAAAAtaWxzdAAAACWpdG9vAAAAHWRhdGEAAAABAAAAAExhdmY1Ny44My4xMDA=\" type=\"video/mp4\">\n",
              "  Your browser does not support the video tag.\n",
              "  </video>"
            ],
            "text/plain": [
              "<IPython.core.display.HTML object>"
            ]
          },
          "metadata": {
            "tags": []
          },
          "execution_count": 48
        }
      ]
    }
  ]
}