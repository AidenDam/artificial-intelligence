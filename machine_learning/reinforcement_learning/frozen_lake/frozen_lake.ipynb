{
 "cells": [
  {
   "cell_type": "markdown",
   "metadata": {
    "id": "view-in-github",
    "colab_type": "text"
   },
   "source": [
    "<a href=\"https://colab.research.google.com/github/PsorTheDoctor/Sekcja-SI/blob/master/reinforcement_learning/Q_learning/q_learning.ipynb\" target=\"_parent\"><img src=\"https://colab.research.google.com/assets/colab-badge.svg\" alt=\"Open In Colab\"/></a>"
   ]
  },
  {
   "cell_type": "markdown",
   "metadata": {
    "id": "zp6ERkCfJaDf",
    "colab_type": "text"
   },
   "source": [
    "# Q-Learning\n",
    "### Podstawowe funkcje"
   ]
  },
  {
   "cell_type": "code",
   "execution_count": 0,
   "metadata": {
    "id": "BCFZaqgSI37U",
    "colab_type": "code",
    "colab": {}
   },
   "outputs": [],
   "source": [
    "import gym\n",
    "\n",
    "env = gym.make('FrozenLake-v0')  # będziemy używać środowiska FrozenLake"
   ]
  },
  {
   "cell_type": "code",
   "execution_count": 3,
   "metadata": {
    "id": "5_iAxJjVJ5D8",
    "colab_type": "code",
    "colab": {
     "base_uri": "https://localhost:8080/",
     "height": 52.0
    },
    "outputId": "a3a76324-911f-4dac-c0d4-c73b9bcae934"
   },
   "outputs": [
    {
     "name": "stdout",
     "output_type": "stream",
     "text": [
      "16\n",
      "4\n"
     ]
    }
   ],
   "source": [
    "print(env.observation_space.n)  # zwraca liczbę stanów\n",
    "print(env.action_space.n)  # zwraca liczbę akcji"
   ]
  },
  {
   "cell_type": "code",
   "execution_count": 4,
   "metadata": {
    "id": "rSI2CxbMKSWE",
    "colab_type": "code",
    "colab": {
     "base_uri": "https://localhost:8080/",
     "height": 35.0
    },
    "outputId": "23000dd3-2562-42bb-9c83-eeef874df311"
   },
   "outputs": [
    {
     "data": {
      "text/plain": [
       "0"
      ]
     },
     "execution_count": 4,
     "metadata": {
      "tags": []
     },
     "output_type": "execute_result"
    }
   ],
   "source": [
    "env.reset()  # resetuje środowisko do stanu domyślnego"
   ]
  },
  {
   "cell_type": "code",
   "execution_count": 9,
   "metadata": {
    "id": "qtnJV9NJKc_L",
    "colab_type": "code",
    "colab": {
     "base_uri": "https://localhost:8080/",
     "height": 35.0
    },
    "outputId": "0b774ece-a43d-4209-8b3a-506d3c916fe1"
   },
   "outputs": [
    {
     "name": "stdout",
     "output_type": "stream",
     "text": [
      "2\n"
     ]
    }
   ],
   "source": [
    "action = env.action_space.sample()  # zwraca losową akcję\n",
    "print(action)"
   ]
  },
  {
   "cell_type": "code",
   "execution_count": 0,
   "metadata": {
    "id": "pHe8tnxtLhb6",
    "colab_type": "code",
    "colab": {}
   },
   "outputs": [],
   "source": [
    "new_state, reward, done, info = env.step(action)  # podejmuje akcję"
   ]
  },
  {
   "cell_type": "code",
   "execution_count": 11,
   "metadata": {
    "id": "iqjEeQASKwr0",
    "colab_type": "code",
    "colab": {
     "base_uri": "https://localhost:8080/",
     "height": 104.0
    },
    "outputId": "32035c87-4788-4756-daa8-4539dd6b656d"
   },
   "outputs": [
    {
     "name": "stdout",
     "output_type": "stream",
     "text": [
      "  (Up)\n",
      "S\u001b[41mF\u001b[0mFF\n",
      "FHFH\n",
      "FFFH\n",
      "HFFG\n"
     ]
    }
   ],
   "source": [
    "env.render()  # renderuje GUI środowiska"
   ]
  },
  {
   "cell_type": "markdown",
   "metadata": {
    "id": "X0E9UWKaMScI",
    "colab_type": "text"
   },
   "source": [
    "### Środowisko FrozenLake\n",
    "\n",
    "`Frozenlake-v0` to jedno z najprostszych środowisk w Open AI Gym. Celem jest nawigowanie agenta po zamarzniętym jeziorze bez wpadnięcia do wody. Jest tu:\n",
    "\n",
    "*   16 stanów (jeden dla każdego pola)\n",
    "*   4 możliwe akcje (LEFT, RIGHT, DOWN, UP)\n",
    "*   4 różne typy pól (F: frozen, H: hole, S: start, G: goal)\n",
    "\n",
    "### Budowa Q-Table\n",
    "\n",
    "Pierwszą rzeczą jakiej potrzebujemy jest budowa pustej Q-tabeli, której możemy użyć do przechowywania i uaktualniania naszych wartości."
   ]
  },
  {
   "cell_type": "code",
   "execution_count": 0,
   "metadata": {
    "id": "HziaZ5EKPFUD",
    "colab_type": "code",
    "colab": {}
   },
   "outputs": [],
   "source": [
    "# import gym\n",
    "import numpy as np\n",
    "import time\n",
    "\n",
    "env = gym.make('FrozenLake-v0')\n",
    "STATES = env.observation_space.n\n",
    "ACTIONS = env.action_space.n"
   ]
  },
  {
   "cell_type": "code",
   "execution_count": 14,
   "metadata": {
    "id": "rLe4nK01QB2C",
    "colab_type": "code",
    "colab": {
     "base_uri": "https://localhost:8080/",
     "height": 295.0
    },
    "outputId": "22166874-9c8b-46e0-b6dd-1b5a53526e4a"
   },
   "outputs": [
    {
     "data": {
      "text/plain": [
       "array([[0., 0., 0., 0.],\n",
       "       [0., 0., 0., 0.],\n",
       "       [0., 0., 0., 0.],\n",
       "       [0., 0., 0., 0.],\n",
       "       [0., 0., 0., 0.],\n",
       "       [0., 0., 0., 0.],\n",
       "       [0., 0., 0., 0.],\n",
       "       [0., 0., 0., 0.],\n",
       "       [0., 0., 0., 0.],\n",
       "       [0., 0., 0., 0.],\n",
       "       [0., 0., 0., 0.],\n",
       "       [0., 0., 0., 0.],\n",
       "       [0., 0., 0., 0.],\n",
       "       [0., 0., 0., 0.],\n",
       "       [0., 0., 0., 0.],\n",
       "       [0., 0., 0., 0.]])"
      ]
     },
     "execution_count": 14,
     "metadata": {
      "tags": []
     },
     "output_type": "execute_result"
    }
   ],
   "source": [
    "Q = np.zeros((STATES, ACTIONS))  # stworzenie macierzy zer\n",
    "Q"
   ]
  },
  {
   "cell_type": "markdown",
   "metadata": {
    "id": "0iq-HT3gQcHh",
    "colab_type": "text"
   },
   "source": [
    "### Stałe\n",
    "Musimy zdefinować stałe, które będą użyte do aktualizowania Q-tabeli i powiedzą agentowi kiedy przerwać trening."
   ]
  },
  {
   "cell_type": "code",
   "execution_count": 0,
   "metadata": {
    "id": "H2SDz6x6QWwZ",
    "colab_type": "code",
    "colab": {}
   },
   "outputs": [],
   "source": [
    "EPISODES = 2000  # ile razy odpalić środowisko od początku\n",
    "MAX_STEPS = 100  # maksymalna ilość kroków dozwolonych na każde uruchomienie środowiska\n",
    "\n",
    "LEARNING_RATE = 0.81  # współczynnik uczenia\n",
    "GAMMA = 0.96"
   ]
  },
  {
   "cell_type": "markdown",
   "metadata": {
    "id": "X-9dvyenSKsz",
    "colab_type": "text"
   },
   "source": [
    "### Podjęcie akcji\n",
    "Możemy podjąć akcję używając jednej z dwóch metod:\n",
    "\n",
    "1.   Wybierając losowo dozwoloną akcję\n",
    "2.   Używając obecnej Q-tabeli do znalezienia najlepszej akcji"
   ]
  },
  {
   "cell_type": "code",
   "execution_count": 0,
   "metadata": {
    "id": "82x4y9KSQUy4",
    "colab_type": "code",
    "colab": {}
   },
   "outputs": [],
   "source": [
    "epsilon = 0.9  # zaczynamy z 90% szans na podjęcie losowej akcji\n",
    "\n",
    "# kod do podjęcia akcji\n",
    "if np.random.uniform(0, 1) < epsilon:  # sprawdza czy losowo wybrana wartość jest mniejsza niż epsilon\n",
    "  action = env.action_space.sample()  # podejmuje losową akcję\n",
    "else:\n",
    "  action = np.argmax(Q[state, :])  # używa Q-tabeli do podjęcia najlepszej akcji bazując na obecnych wartościach"
   ]
  },
  {
   "cell_type": "markdown",
   "metadata": {
    "id": "O5KZgya-Ugny",
    "colab_type": "text"
   },
   "source": [
    "### Aktualizacja wartości Q"
   ]
  },
  {
   "cell_type": "code",
   "execution_count": 0,
   "metadata": {
    "id": "Xv6-B2sRUoMI",
    "colab_type": "code",
    "colab": {}
   },
   "outputs": [],
   "source": [
    "#Q[state, action] = Q[state, action] + LEARNING_RATE * (reward + GAMMA * np.max(Q[new_state, :]) - Q[state, action])"
   ]
  },
  {
   "cell_type": "markdown",
   "metadata": {
    "id": "gOQV0406WE7P",
    "colab_type": "text"
   },
   "source": [
    "### Gotowy program złożony w całość"
   ]
  },
  {
   "cell_type": "code",
   "execution_count": 0,
   "metadata": {
    "id": "YieDu-0UWl2e",
    "colab_type": "code",
    "colab": {}
   },
   "outputs": [],
   "source": [
    "import gym\n",
    "import numpy as np\n",
    "import time\n",
    "\n",
    "env = gym.make('FrozenLake-v0')\n",
    "STATES = env.observation_space.n\n",
    "ACTIONS = env.action_space.n\n",
    "\n",
    "Q = np.zeros((STATES, ACTIONS)) \n",
    "\n",
    "EPISODES = 1500  # ile razy odpalić środowisko od początku\n",
    "MAX_STEPS = 100  # maksymalna ilość kroków dozwolonych na każde uruchomienie środowiska\n",
    "\n",
    "LEARNING_RATE = 0.81  # współczynnik uczenia\n",
    "GAMMA = 0.96\n",
    "\n",
    "RENDER = False  # jeśli chcesz zobaczyć trening ustaw na True\n",
    "\n",
    "epsilon = 0.9"
   ]
  },
  {
   "cell_type": "code",
   "execution_count": 24,
   "metadata": {
    "id": "LjQ6BcGtXJb7",
    "colab_type": "code",
    "colab": {
     "base_uri": "https://localhost:8080/",
     "height": 312.0
    },
    "outputId": "4e8203a5-d064-4eb6-ca10-517dc865d395"
   },
   "outputs": [
    {
     "name": "stdout",
     "output_type": "stream",
     "text": [
      "[[2.39426868e-01 1.62526398e-02 1.54562519e-02 1.59202830e-02]\n",
      " [1.98547854e-03 6.78832722e-03 2.04410091e-03 2.05880712e-01]\n",
      " [1.17939011e-01 6.88565988e-03 5.78809926e-03 6.92566173e-03]\n",
      " [6.13191495e-03 3.05238706e-03 2.96899524e-03 6.79343079e-03]\n",
      " [2.33621805e-01 1.00620775e-02 7.89787111e-03 1.35511328e-02]\n",
      " [0.00000000e+00 0.00000000e+00 0.00000000e+00 0.00000000e+00]\n",
      " [7.19855689e-02 1.73767651e-04 1.74687284e-04 1.28973108e-04]\n",
      " [0.00000000e+00 0.00000000e+00 0.00000000e+00 0.00000000e+00]\n",
      " [3.44127917e-03 4.78581497e-03 3.20147771e-03 3.35419577e-01]\n",
      " [3.29275604e-03 8.13401945e-01 1.53087650e-02 4.71493137e-03]\n",
      " [1.85896330e-01 2.24225014e-03 1.32615571e-03 2.17757207e-03]\n",
      " [0.00000000e+00 0.00000000e+00 0.00000000e+00 0.00000000e+00]\n",
      " [0.00000000e+00 0.00000000e+00 0.00000000e+00 0.00000000e+00]\n",
      " [6.86168854e-02 6.01188267e-02 6.41986796e-01 4.52771138e-03]\n",
      " [2.39216419e-01 4.87311938e-01 1.45339891e-01 2.17005939e-01]\n",
      " [0.00000000e+00 0.00000000e+00 0.00000000e+00 0.00000000e+00]]\n",
      "Average reward: 0.2986666666666667:\n"
     ]
    }
   ],
   "source": [
    "rewards = [] \n",
    "for episode in range(EPISODES):\n",
    "\n",
    "  state = env.reset()\n",
    "  for _ in range(MAX_STEPS):\n",
    "\n",
    "    if RENDER:\n",
    "      env.render()\n",
    "\n",
    "    if np.random.uniform(0, 1) < epsilon:\n",
    "      action = env.action_space.sample()\n",
    "    else:\n",
    "      action = np.argmax(Q[state, :])\n",
    "\n",
    "    next_state, reward, done, _ = env.step(action)\n",
    "\n",
    "    Q[state, action] = Q[state, action] + LEARNING_RATE * (reward + GAMMA * np.max(Q[next_state, :]) - Q[state, action])\n",
    "\n",
    "    state = next_state\n",
    "\n",
    "    if done:\n",
    "      rewards.append(reward)\n",
    "      epsilon -= 0.001\n",
    "      break  # reached goal\n",
    "\n",
    "print(Q)\n",
    "print(f'Average reward: {sum(rewards)/len(rewards)}:')\n",
    "# teraz możemy zobaczyć nasze wartośći Q!"
   ]
  },
  {
   "cell_type": "code",
   "execution_count": 26,
   "metadata": {
    "id": "eVZ8HfGQZy1y",
    "colab_type": "code",
    "colab": {
     "base_uri": "https://localhost:8080/",
     "height": 279.0
    },
    "outputId": "1e767d37-5342-4f58-d391-8b0e98af65ed"
   },
   "outputs": [
    {
     "data": {
      "image/png": "[encoded data removed]",
      "text/plain": [
       "<Figure size 432x288 with 1 Axes>"
      ]
     },
     "metadata": {
      "tags": []
     },
     "output_type": "display_data"
    }
   ],
   "source": [
    "# możemy narysować postęp trenowania i zobaczyć jak agent się polepsza\n",
    "import matplotlib.pyplot as plt\n",
    "\n",
    "def get_average(values):\n",
    "  return sum(values) / len(values)\n",
    "\n",
    "avg_rewards = []\n",
    "for i in range(0, len(rewards), 100):\n",
    "  avg_rewards.append(get_average(rewards[i:i+100]))\n",
    "\n",
    "plt.plot(avg_rewards)\n",
    "plt.ylabel('average reward')\n",
    "plt.xlabel('episodes (100\\'s)')\n",
    "plt.show()"
   ]
  },
  {
   "cell_type": "markdown",
   "metadata": {
    "id": "sL5_fLdadMw6",
    "colab_type": "text"
   },
   "source": [
    "### Źródło:\n",
    "[https://www.youtube.com/watch?v=tPYj3fFJGjk](https://www.youtube.com/watch?v=tPYj3fFJGjk)"
   ]
  }
 ],
 "metadata": {
  "colab": {
   "name": "q_learning.ipynb",
   "provenance": [],
   "collapsed_sections": [],
   "authorship_tag": "ABX9TyMShg/BChmNRnh4JPpurMig",
   "include_colab_link": true
  },
  "kernelspec": {
   "name": "python3",
   "display_name": "Python 3"
  }
 },
 "nbformat": 4,
 "nbformat_minor": 0
}
