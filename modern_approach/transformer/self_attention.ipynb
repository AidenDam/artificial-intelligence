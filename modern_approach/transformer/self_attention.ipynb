{
  "nbformat": 4,
  "nbformat_minor": 0,
  "metadata": {
    "colab": {
      "name": "self_attention.ipynb",
      "provenance": [],
      "collapsed_sections": [],
      "authorship_tag": "ABX9TyPmS2YULIuLDzTcuwBBAsob",
      "include_colab_link": true
    },
    "kernelspec": {
      "name": "python3",
      "display_name": "Python 3"
    },
    "language_info": {
      "name": "python"
    }
  },
  "cells": [
    {
      "cell_type": "markdown",
      "metadata": {
        "id": "view-in-github",
        "colab_type": "text"
      },
      "source": [
        "<a href=\"https://colab.research.google.com/github/PsorTheDoctor/Sekcja-SI/blob/master/modern_approach/transformer/self_attention.ipynb\" target=\"_parent\"><img src=\"https://colab.research.google.com/assets/colab-badge.svg\" alt=\"Open In Colab\"/></a>"
      ]
    },
    {
      "cell_type": "markdown",
      "metadata": {
        "id": "yOFn0WjjXr2B"
      },
      "source": [
        "#Self-attention"
      ]
    },
    {
      "cell_type": "code",
      "metadata": {
        "id": "tyk3ybvYXnHu"
      },
      "source": [
        "import numpy as n\n",
        "import tensorflow as tf"
      ],
      "execution_count": 18,
      "outputs": []
    },
    {
      "cell_type": "markdown",
      "metadata": {
        "id": "XtRRq7wmX7ys"
      },
      "source": [
        "##Krok 1. Przygotowanie wejść"
      ]
    },
    {
      "cell_type": "code",
      "metadata": {
        "id": "P0c54R30YEZk"
      },
      "source": [
        "x = [[1, 0, 1, 0],  # wejście 1\n",
        "     [0, 2, 0, 2],  # wejście 2\n",
        "     [1, 1, 1, 1]]  # wejście 3\n",
        "\n",
        "x = np.array(x, dtype=np.float32)"
      ],
      "execution_count": 3,
      "outputs": []
    },
    {
      "cell_type": "markdown",
      "metadata": {
        "id": "cire_KEMYkIt"
      },
      "source": [
        "##Krok 2. Inicjalizacja wag"
      ]
    },
    {
      "cell_type": "code",
      "metadata": {
        "id": "MzQnEQyHYmpN"
      },
      "source": [
        "w_key = [[0, 0, 1],\n",
        "         [1, 1, 0],\n",
        "         [0, 1, 0],\n",
        "         [1, 1, 0]]\n",
        "\n",
        "w_query = [[1, 0, 1],\n",
        "           [1, 0, 0],\n",
        "           [0, 0, 1],\n",
        "           [0, 1, 1]]\n",
        "\n",
        "w_value = [[0, 2, 1],\n",
        "           [0, 3, 0],\n",
        "           [1, 0, 3],\n",
        "           [1, 1, 0]]\n",
        "\n",
        "w_key = np.array(w_key, dtype=np.float32)\n",
        "w_query = np.array(w_query, dtype=np.float32)\n",
        "w_value = np.array(w_value, dtype=np.float32)"
      ],
      "execution_count": 4,
      "outputs": []
    },
    {
      "cell_type": "markdown",
      "metadata": {
        "id": "ecF6Vrq1b3kk"
      },
      "source": [
        "##Krok 3. Wyznaczenie key, query i value"
      ]
    },
    {
      "cell_type": "code",
      "metadata": {
        "colab": {
          "base_uri": "https://localhost:8080/"
        },
        "id": "fmspQnWfcFHH",
        "outputId": "4f9d0877-c4da-4eae-d373-fcaa129f72c7"
      },
      "source": [
        "keys = x @ w_key\n",
        "querys = x @ w_query\n",
        "values = x @ w_value\n",
        "\n",
        "print('Keys: \\n', keys)\n",
        "print('Querys: \\n', querys)\n",
        "print('Values: \\n', values)"
      ],
      "execution_count": 5,
      "outputs": [
        {
          "output_type": "stream",
          "text": [
            "Keys: \n",
            " [[0. 1. 1.]\n",
            " [4. 4. 0.]\n",
            " [2. 3. 1.]]\n",
            "Querys: \n",
            " [[1. 0. 2.]\n",
            " [2. 2. 2.]\n",
            " [2. 1. 3.]]\n",
            "Values: \n",
            " [[1. 2. 4.]\n",
            " [2. 8. 0.]\n",
            " [2. 6. 4.]]\n"
          ],
          "name": "stdout"
        }
      ]
    },
    {
      "cell_type": "markdown",
      "metadata": {
        "id": "hTu3f5PSfLQ-"
      },
      "source": [
        "##Krok 4. Obliczenie attention scores"
      ]
    },
    {
      "cell_type": "code",
      "metadata": {
        "colab": {
          "base_uri": "https://localhost:8080/"
        },
        "id": "wHW48xpYfcZF",
        "outputId": "0c24d183-43c5-46e3-a46c-45c3c4b7ef83"
      },
      "source": [
        "attn_scores = querys @ keys.T\n",
        "print(attn_scores)"
      ],
      "execution_count": 14,
      "outputs": [
        {
          "output_type": "stream",
          "text": [
            "[[ 2.  4.  4.]\n",
            " [ 4. 16. 12.]\n",
            " [ 4. 12. 10.]]\n"
          ],
          "name": "stdout"
        }
      ]
    },
    {
      "cell_type": "markdown",
      "metadata": {
        "id": "RPvnjAmmgHUO"
      },
      "source": [
        "##Krok 5. Obliczenie softmax"
      ]
    },
    {
      "cell_type": "code",
      "metadata": {
        "colab": {
          "base_uri": "https://localhost:8080/"
        },
        "id": "qAW5QWTIgT_T",
        "outputId": "4932d038-e787-4530-d5ec-75fe794493fc"
      },
      "source": [
        "attn_scores_softmax = np.round_(tf.nn.softmax(attn_scores, axis=-1), decimals=1)\n",
        "print(attn_scores_softmax)"
      ],
      "execution_count": 30,
      "outputs": [
        {
          "output_type": "stream",
          "text": [
            "[[0.1 0.5 0.5]\n",
            " [0.  1.  0. ]\n",
            " [0.  0.9 0.1]]\n"
          ],
          "name": "stdout"
        }
      ]
    },
    {
      "cell_type": "markdown",
      "metadata": {
        "id": "Jd2bE_wzkz-6"
      },
      "source": [
        "##Krok 6. Mnożenie scores i values"
      ]
    },
    {
      "cell_type": "code",
      "metadata": {
        "colab": {
          "base_uri": "https://localhost:8080/"
        },
        "id": "OsRCJnFFlKjb",
        "outputId": "66df39f5-7183-48ca-8d75-ab03b3b5159a"
      },
      "source": [
        "weighted_values = values[:, None] * attn_scores_softmax.T[:, :, None]\n",
        "print(weighted_values)"
      ],
      "execution_count": 31,
      "outputs": [
        {
          "output_type": "stream",
          "text": [
            "[[[0.1 0.2 0.4]\n",
            "  [0.  0.  0. ]\n",
            "  [0.  0.  0. ]]\n",
            "\n",
            " [[1.  4.  0. ]\n",
            "  [2.  8.  0. ]\n",
            "  [1.8 7.2 0. ]]\n",
            "\n",
            " [[1.  3.  2. ]\n",
            "  [0.  0.  0. ]\n",
            "  [0.2 0.6 0.4]]]\n"
          ],
          "name": "stdout"
        }
      ]
    },
    {
      "cell_type": "markdown",
      "metadata": {
        "id": "toP8zcCLl7Yo"
      },
      "source": [
        "##Krok 7. Suma zważonych wartości"
      ]
    },
    {
      "cell_type": "code",
      "metadata": {
        "colab": {
          "base_uri": "https://localhost:8080/"
        },
        "id": "1G0hGuCMmDTs",
        "outputId": "16140ec9-885f-4f4d-8247-c056b6d0a503"
      },
      "source": [
        "outputs = np.sum(weighted_values, axis=0)\n",
        "print(outputs)"
      ],
      "execution_count": 32,
      "outputs": [
        {
          "output_type": "stream",
          "text": [
            "[[2.1       7.2       2.4      ]\n",
            " [2.        8.        0.       ]\n",
            " [2.        7.7999997 0.4      ]]\n"
          ],
          "name": "stdout"
        }
      ]
    }
  ]
}