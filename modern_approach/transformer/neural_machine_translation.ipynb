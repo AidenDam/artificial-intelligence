{
  "nbformat": 4,
  "nbformat_minor": 0,
  "metadata": {
    "colab": {
      "name": "neural_machine_translation.ipynb",
      "provenance": [],
      "authorship_tag": "ABX9TyOI0sqmJDiEFlSD4vtKnzdr",
      "include_colab_link": true
    },
    "kernelspec": {
      "name": "python3",
      "display_name": "Python 3"
    },
    "language_info": {
      "name": "python"
    },
    "accelerator": "GPU"
  },
  "cells": [
    {
      "cell_type": "markdown",
      "metadata": {
        "id": "view-in-github",
        "colab_type": "text"
      },
      "source": [
        "<a href=\"https://colab.research.google.com/github/PsorTheDoctor/Sekcja-SI/blob/master/modern_approach/transformer/neural_machine_translation.ipynb\" target=\"_parent\"><img src=\"https://colab.research.google.com/assets/colab-badge.svg\" alt=\"Open In Colab\"/></a>"
      ]
    },
    {
      "cell_type": "markdown",
      "metadata": {
        "id": "dOOr2aQivRm4"
      },
      "source": [
        "# Tłumaczenie maszynowe z uwagą\n",
        "## Import bibliotek"
      ]
    },
    {
      "cell_type": "code",
      "metadata": {
        "id": "5E5gTFmtk3kz"
      },
      "source": [
        "import tensorflow as tf\n",
        "\n",
        "import matplotlib.pyplot as plt\n",
        "import matplotlib.ticker as ticker\n",
        "from sklearn.model_selection import train_test_split\n",
        "\n",
        "import unicodedata\n",
        "import re\n",
        "import numpy as np\n",
        "import os\n",
        "import io\n",
        "import time"
      ],
      "execution_count": 1,
      "outputs": []
    },
    {
      "cell_type": "markdown",
      "metadata": {
        "id": "qpvVrEVuvLYT"
      },
      "source": [
        "## Pobranie i przygotowanie zbioru danych"
      ]
    },
    {
      "cell_type": "code",
      "metadata": {
        "colab": {
          "base_uri": "https://localhost:8080/"
        },
        "id": "ABijks_Hld_f",
        "outputId": "744c4aae-53ab-4001-d089-6e7d34e944e2"
      },
      "source": [
        "# Pobranie pliku\n",
        "path_to_zip = tf.keras.utils.get_file(\n",
        "    'spa-eng.zip', origin='http://storage.googleapis.com/download.tensorflow.org/data/spa-eng.zip',\n",
        "    extract=True)\n",
        "\n",
        "path_to_file = os.path.dirname(path_to_zip)+\"/spa-eng/spa.txt\""
      ],
      "execution_count": 2,
      "outputs": [
        {
          "output_type": "stream",
          "text": [
            "Downloading data from http://storage.googleapis.com/download.tensorflow.org/data/spa-eng.zip\n",
            "2646016/2638744 [==============================] - 0s 0us/step\n"
          ],
          "name": "stdout"
        }
      ]
    },
    {
      "cell_type": "code",
      "metadata": {
        "id": "9ZhnvazZmarG"
      },
      "source": [
        "# Konwersja unicode do ASCII\n",
        "def unicode_to_ascii(s):\n",
        "  return ''.join(c for c in unicodedata.normalize('NFD', s)\n",
        "  if unicodedata.category(c) != 'Mn')\n",
        "\n",
        "\n",
        "def preprocess_sentence(w):\n",
        "  w = unicode_to_ascii(w.lower().strip())\n",
        "\n",
        "  w = re.sub(r\"([?.!,¿])\", r\" \\1 \", w)\n",
        "  w = re.sub(r'[\" \"]+', \" \", w)\n",
        "\n",
        "  w = re.sub(r\"[^a-zA-Z?.!,¿]+\", \" \", w)\n",
        "\n",
        "  w = w.strip()\n",
        "\n",
        "  w = '<start> ' + w + ' <end>'\n",
        "  return w"
      ],
      "execution_count": 3,
      "outputs": []
    },
    {
      "cell_type": "code",
      "metadata": {
        "colab": {
          "base_uri": "https://localhost:8080/"
        },
        "id": "7JyWL_ybnetq",
        "outputId": "81a7393d-4751-4bf7-e24e-9888d42864c4"
      },
      "source": [
        "en_sentence = u'May I borrow this book?'\n",
        "sp_sentence = u'¿Puedo tomar prestado este libro'\n",
        "\n",
        "print(preprocess_sentence(en_sentence))\n",
        "print(preprocess_sentence(sp_sentence).encode('utf-8'))"
      ],
      "execution_count": 4,
      "outputs": [
        {
          "output_type": "stream",
          "text": [
            "<start> may i borrow this book ? <end>\n",
            "b'<start> \\xc2\\xbf puedo tomar prestado este libro <end>'\n"
          ],
          "name": "stdout"
        }
      ]
    },
    {
      "cell_type": "markdown",
      "metadata": {
        "id": "uniyl1njvjAE"
      },
      "source": [
        "## Zmniejszenie rozmiaru zbioru danych dla szybszego działania (opcjonalne)"
      ]
    },
    {
      "cell_type": "code",
      "metadata": {
        "id": "5NQcuRomoprw"
      },
      "source": [
        "num_examples = 30000\n",
        "\n",
        "def create_dataset(path, num_exmaples):\n",
        "  lines = io.open(path, encoding='UTF-8').read().strip().split('\\n')\n",
        "\n",
        "  word_pairs = [[preprocess_sentence(w) for w in line.split('\\t')]\n",
        "                for line in lines[:num_examples]]\n",
        "\n",
        "  return zip(*word_pairs)"
      ],
      "execution_count": 5,
      "outputs": []
    },
    {
      "cell_type": "code",
      "metadata": {
        "colab": {
          "base_uri": "https://localhost:8080/"
        },
        "id": "MDM2itgQtWzO",
        "outputId": "c872f888-4e02-43ed-db04-e19fdbca722a"
      },
      "source": [
        "en, sp = create_dataset(path_to_file, None)\n",
        "print(en[-1])\n",
        "print(sp[-1])"
      ],
      "execution_count": 6,
      "outputs": [
        {
          "output_type": "stream",
          "text": [
            "<start> we ll see you at . <end>\n",
            "<start> te veremos a las dos y media . <end>\n"
          ],
          "name": "stdout"
        }
      ]
    },
    {
      "cell_type": "code",
      "metadata": {
        "id": "jBP6B26nt4kU"
      },
      "source": [
        "def tokenize(lang):\n",
        "  lang_tokenizer = tf.keras.preprocessing.text.Tokenizer(filters='')\n",
        "  lang_tokenizer.fit_on_texts(lang)\n",
        "\n",
        "  tensor = lang_tokenizer.texts_to_sequences(lang)\n",
        "\n",
        "  tensor = tf.keras.preprocessing.sequence.pad_sequences(tensor, padding='post')\n",
        "\n",
        "  return tensor, lang_tokenizer"
      ],
      "execution_count": 7,
      "outputs": []
    },
    {
      "cell_type": "code",
      "metadata": {
        "id": "l3givlkxueA4"
      },
      "source": [
        "def load_dataset(path, num_examples=None):\n",
        "  targ_lang, inp_lang = create_dataset(path, num_examples)\n",
        "\n",
        "  input_tensor, inp_lang_tokenizer = tokenize(inp_lang)\n",
        "\n",
        "  target_tensor, targ_lang_tokenizer = tokenize(targ_lang)\n",
        "\n",
        "  return input_tensor, target_tensor, inp_lang_tokenizer, targ_lang_tokenizer"
      ],
      "execution_count": 8,
      "outputs": []
    },
    {
      "cell_type": "code",
      "metadata": {
        "id": "euh3g1MLvCkj"
      },
      "source": [
        "input_tensor, target_tensor, inp_lang, targ_lang = load_dataset(path_to_file,\n",
        "                                                                num_examples)\n",
        "\n",
        "# Obliczenie max_length dla target tensors\n",
        "max_length_targ, max_length_inp = target_tensor.shape[1], input_tensor.shape[1]"
      ],
      "execution_count": 9,
      "outputs": []
    },
    {
      "cell_type": "code",
      "metadata": {
        "colab": {
          "base_uri": "https://localhost:8080/"
        },
        "id": "Z8lX2LM_xRSM",
        "outputId": "bf57bd63-3ab6-4bf4-de88-c23cf3fa3b52"
      },
      "source": [
        "# Stworzenie zbioru treningowego i walidacji z użyciem podziału 80-20\n",
        "input_tensor_train, input_tensor_val, target_tensor_train, target_tensor_val = train_test_split(input_tensor, target_tensor, test_size=0.2)\n",
        "\n",
        "# Wyświetlenie długości\n",
        "print(len(input_tensor_train), len(target_tensor_train), len(input_tensor_val), len(target_tensor_val))"
      ],
      "execution_count": 10,
      "outputs": [
        {
          "output_type": "stream",
          "text": [
            "24000 24000 6000 6000\n"
          ],
          "name": "stdout"
        }
      ]
    },
    {
      "cell_type": "code",
      "metadata": {
        "id": "SXF7LKOEyIsw"
      },
      "source": [
        "def convert(lang, tensor):\n",
        "  for t in tensor:\n",
        "    if t != 0:\n",
        "      print(f'{t} ----> {lang.index_word[t]}')"
      ],
      "execution_count": 11,
      "outputs": []
    },
    {
      "cell_type": "code",
      "metadata": {
        "colab": {
          "base_uri": "https://localhost:8080/"
        },
        "id": "usdNnf5XyaZI",
        "outputId": "88c18d80-cf68-4f13-be30-3385c1f58567"
      },
      "source": [
        "print('Jezyk wejsciowy; mapowanie index to word')\n",
        "convert(inp_lang, input_tensor_train[0])\n",
        "print()\n",
        "print('Jezyk docelowy; mapowanie index to word')\n",
        "convert(targ_lang, target_tensor_train[0])"
      ],
      "execution_count": 12,
      "outputs": [
        {
          "output_type": "stream",
          "text": [
            "Jezyk wejsciowy; mapowanie index to word\n",
            "1 ----> <start>\n",
            "25 ----> ella\n",
            "348 ----> llego\n",
            "1238 ----> ultima\n",
            "3 ----> .\n",
            "2 ----> <end>\n",
            "\n",
            "Jezyk docelowy; mapowanie index to word\n",
            "1 ----> <start>\n",
            "27 ----> she\n",
            "145 ----> came\n",
            "355 ----> last\n",
            "3 ----> .\n",
            "2 ----> <end>\n"
          ],
          "name": "stdout"
        }
      ]
    },
    {
      "cell_type": "markdown",
      "metadata": {
        "id": "smwxXoKyzC2I"
      },
      "source": [
        "## Stworzenie zbioru danych tf.dataset"
      ]
    },
    {
      "cell_type": "code",
      "metadata": {
        "id": "R7PTC3yRzGuY"
      },
      "source": [
        "BUFFER_SIZE = len(input_tensor_train)\n",
        "BATCH_SIZE = 64\n",
        "steps_per_epoch = len(input_tensor_train)\n",
        "embedding_dim = 256\n",
        "units = 1024\n",
        "vocab_inp_size = len(inp_lang.word_index) + 1\n",
        "vocab_tar_size = len(targ_lang.word_index) + 1\n",
        "\n",
        "dataset = tf.data.Dataset.from_tensor_slices((input_tensor_train, target_tensor_train)).shuffle(BUFFER_SIZE)\n",
        "dataset = dataset.batch(BATCH_SIZE, drop_remainder=True)"
      ],
      "execution_count": 13,
      "outputs": []
    },
    {
      "cell_type": "code",
      "metadata": {
        "colab": {
          "base_uri": "https://localhost:8080/"
        },
        "id": "MKh99XDf8Y4F",
        "outputId": "3fd878ac-f464-43ae-e6ff-36437f2f2392"
      },
      "source": [
        "example_input_batch, example_target_batch = next(iter(dataset))\n",
        "example_input_batch.shape, example_target_batch.shape"
      ],
      "execution_count": 14,
      "outputs": [
        {
          "output_type": "execute_result",
          "data": {
            "text/plain": [
              "(TensorShape([64, 16]), TensorShape([64, 11]))"
            ]
          },
          "metadata": {
            "tags": []
          },
          "execution_count": 14
        }
      ]
    },
    {
      "cell_type": "markdown",
      "metadata": {
        "id": "g1NbKA6q83df"
      },
      "source": [
        "## Model enkodera i dekodera"
      ]
    },
    {
      "cell_type": "code",
      "metadata": {
        "id": "Z6Etr2ds86fa"
      },
      "source": [
        "class Encoder(tf.keras.Model):\n",
        "  def __init__(self, vocab_size, embedding_dim, enc_units, batch_sz):\n",
        "    super(Encoder, self).__init__()\n",
        "    self.batch_sz = batch_sz\n",
        "    self.enc_units = enc_units\n",
        "    self.embedding = tf.keras.layers.Embedding(vocab_size, embedding_dim)\n",
        "    self.gru = tf.keras.layers.GRU(self.enc_units,\n",
        "                                   return_sequences=True,\n",
        "                                   return_state=True,\n",
        "                                   recurrent_initializer='glorot_uniform')\n",
        "\n",
        "  def call(self, x, hidden):\n",
        "    x = self.embedding(x)\n",
        "    output, state = self.gru(x, initial_state=hidden)\n",
        "    return output, state\n",
        "\n",
        "  def initialize_hidden_state(self):\n",
        "    return tf.zeros((self.batch_sz, self.enc_units))"
      ],
      "execution_count": 15,
      "outputs": []
    },
    {
      "cell_type": "code",
      "metadata": {
        "colab": {
          "base_uri": "https://localhost:8080/"
        },
        "id": "N3EY2qXAAR2s",
        "outputId": "6892e1ae-9ce5-49fe-cc6a-25d37254f8db"
      },
      "source": [
        "encoder = Encoder(vocab_inp_size, embedding_dim, units, BATCH_SIZE)\n",
        "\n",
        "# Przykładowe wejście\n",
        "sample_hidden = encoder.initialize_hidden_state()\n",
        "sample_output, sample_hidden = encoder(example_input_batch, sample_hidden)\n",
        "print('Encoder output shape: (batch size, sequence length, units)', sample_output.shape)\n",
        "print('Encoder hidden state shape: (batch size, units)', sample_hidden.shape)"
      ],
      "execution_count": 16,
      "outputs": [
        {
          "output_type": "stream",
          "text": [
            "Encoder output shape: (batch size, sequence length, units) (64, 16, 1024)\n",
            "Encoder hidden state shape: (batch size, units) (64, 1024)\n"
          ],
          "name": "stdout"
        }
      ]
    },
    {
      "cell_type": "code",
      "metadata": {
        "id": "AdNQ1aOQAT2o"
      },
      "source": [
        "class BahdanauAttention(tf.keras.layers.Layer):\n",
        "  def __init__(self, units):\n",
        "    super(BahdanauAttention, self).__init__()\n",
        "    self.W1 = tf.keras.layers.Dense(units)\n",
        "    self.W2 = tf.keras.layers.Dense(units)\n",
        "    self.V = tf.keras.layers.Dense(1)\n",
        "\n",
        "  def call(self, query, values):\n",
        "    query_with_time_axis = tf.expand_dims(query, 1)\n",
        "\n",
        "    score = self.V(tf.nn.tanh(\n",
        "        self.W1(query_with_time_axis) + self.W2(values)))\n",
        "    \n",
        "    attention_weights = tf.nn.softmax(score, axis=1)\n",
        "\n",
        "    context_vector = attention_weights * values\n",
        "    context_vector = tf.reduce_sum(context_vector, axis=1)\n",
        "\n",
        "    return context_vector, attention_weights"
      ],
      "execution_count": 17,
      "outputs": []
    },
    {
      "cell_type": "code",
      "metadata": {
        "colab": {
          "base_uri": "https://localhost:8080/"
        },
        "id": "zCIovn2_DmUh",
        "outputId": "a7cad0aa-bc39-4055-c403-124c37c851c3"
      },
      "source": [
        "attention_layer = BahdanauAttention(10)\n",
        "attention_result, attention_weights = attention_layer(sample_hidden, sample_output)\n",
        "\n",
        "print('Attention result shape: (batch_size, units)', attention_result.shape)\n",
        "print('Attention weight shape: (batch_size, sequence_length, 1)', attention_weights.shape)"
      ],
      "execution_count": 18,
      "outputs": [
        {
          "output_type": "stream",
          "text": [
            "Attention result shape: (batch_size, units) (64, 1024)\n",
            "Attention weight shape: (batch_size, sequence_length, 1) (64, 16, 1)\n"
          ],
          "name": "stdout"
        }
      ]
    },
    {
      "cell_type": "code",
      "metadata": {
        "id": "7kKYw-v-Ewl2"
      },
      "source": [
        "class Decoder(tf.keras.Model):\n",
        "  def __init__(self, vocab_size, embedding_dim, dec_units, batch_sz):\n",
        "    super(Decoder, self).__init__()\n",
        "    self.batch_sz = batch_sz\n",
        "    self.dec_units = dec_units\n",
        "    self.embedding = tf.keras.layers.Embedding(vocab_size, embedding_dim)\n",
        "    self.gru = tf.keras.layers.GRU(self.dec_units, \n",
        "                                   return_sequences=True,\n",
        "                                   return_state=True,\n",
        "                                   recurrent_initializer='glorot_uniform')\n",
        "    self.fc = tf.keras.layers.Dense(vocab_size)\n",
        "\n",
        "    self.attention = BahdanauAttention(self.dec_units)\n",
        "\n",
        "  def call(self, x, hidden, enc_output):\n",
        "\n",
        "    context_vector, attention_weights = self.attention(hidden, enc_output)\n",
        "    \n",
        "    x = self.embedding(x)\n",
        "\n",
        "    x = tf.concat([tf.expand_dims(context_vector, 1), x], axis=-1)\n",
        "\n",
        "    output, state = self.gru(x)\n",
        "\n",
        "    output = tf.reshape(output, (-1, output.shape[2]))\n",
        "\n",
        "    x = self.fc(output)\n",
        "\n",
        "    return x, state, attention_weights"
      ],
      "execution_count": 19,
      "outputs": []
    },
    {
      "cell_type": "code",
      "metadata": {
        "colab": {
          "base_uri": "https://localhost:8080/"
        },
        "id": "Qg_D8QWCGiRt",
        "outputId": "9106c14e-7bda-4dba-aed0-758ad5bde432"
      },
      "source": [
        "decoder = Decoder(vocab_tar_size, embedding_dim, units, BATCH_SIZE)\n",
        "\n",
        "sample_decoder_output, _, _ = decoder(tf.random.uniform((BATCH_SIZE, 1)),\n",
        "                                      sample_hidden, sample_output)\n",
        "\n",
        "print('Decoder output shape: (batch_size, vocab_size', sample_decoder_output.shape)"
      ],
      "execution_count": 20,
      "outputs": [
        {
          "output_type": "stream",
          "text": [
            "Decoder output shape: (batch_size, vocab_size (64, 4935)\n"
          ],
          "name": "stdout"
        }
      ]
    },
    {
      "cell_type": "markdown",
      "metadata": {
        "id": "u3EtGmqxIAiF"
      },
      "source": [
        "## Optymalizator i funkcja straty"
      ]
    },
    {
      "cell_type": "code",
      "metadata": {
        "id": "ta7gYU8QIEM9"
      },
      "source": [
        "optimizer = tf.keras.optimizers.Adam()\n",
        "loss_object = tf.keras.losses.SparseCategoricalCrossentropy(from_logits=True,\n",
        "                                                            reduction='none')\n",
        "\n",
        "def loss_function(real, pred):\n",
        "  mask = tf.math.logical_not(tf.math.equal(real, 0))\n",
        "  loss_ = loss_object(real, pred)\n",
        "\n",
        "  mask = tf.cast(mask, dtype=loss_.dtype)\n",
        "  loss_ *= mask\n",
        "\n",
        "  return tf.reduce_mean(loss_)"
      ],
      "execution_count": 21,
      "outputs": []
    },
    {
      "cell_type": "markdown",
      "metadata": {
        "id": "ez-9Zq2vJmTf"
      },
      "source": [
        "## Punkty kontrolne"
      ]
    },
    {
      "cell_type": "code",
      "metadata": {
        "id": "9s3nw197Ji-L"
      },
      "source": [
        "checkpoint_dir = './training_checkpoints'\n",
        "checkpoint_prefix = os.path.join(checkpoint_dir, 'ckpt')\n",
        "checkpoint = tf.train.Checkpoint(optimizer=optimizer,\n",
        "                                 encoder=encoder,\n",
        "                                 decoder=decoder)"
      ],
      "execution_count": 22,
      "outputs": []
    },
    {
      "cell_type": "markdown",
      "metadata": {
        "id": "5ftGSiTHKMpS"
      },
      "source": [
        "## Trening"
      ]
    },
    {
      "cell_type": "code",
      "metadata": {
        "id": "ebFITwNSKOBa"
      },
      "source": [
        "@tf.function\n",
        "def train_step(inp, targ, enc_hidden):\n",
        "  loss = 0\n",
        "\n",
        "  with tf.GradientTape() as tape:\n",
        "    enc_output, enc_hidden = encoder(inp, enc_hidden)\n",
        "\n",
        "    dec_hidden = enc_hidden\n",
        "\n",
        "    dec_input = tf.expand_dims([targ_lang.word_index['<start>']] * BATCH_SIZE, 1)\n",
        "\n",
        "    for t in range(1, targ.shape[1]):\n",
        "\n",
        "      predictions, dec_hidden, _ = decoder(dec_input, dec_hidden, enc_output)\n",
        "\n",
        "      loss += loss_function(targ[:, t], predictions)\n",
        "\n",
        "      dec_input = tf.expand_dims(targ[:, t], 1)\n",
        "\n",
        "    batch_loss = (loss / int(targ.shape[1]))\n",
        "\n",
        "    variables = encoder.trainable_variables + decoder.trainable_variables\n",
        "\n",
        "    gradients = tape.gradient(loss, variables)\n",
        "\n",
        "    optimizer.apply_gradients(zip(gradients, variables))\n",
        "\n",
        "    return batch_loss"
      ],
      "execution_count": 23,
      "outputs": []
    },
    {
      "cell_type": "code",
      "metadata": {
        "colab": {
          "base_uri": "https://localhost:8080/"
        },
        "id": "pmayX8gKL9Fg",
        "outputId": "829ad7d8-16b1-456d-b1af-0d54d1799f66"
      },
      "source": [
        "EPOCHS = 10\n",
        "\n",
        "for epoch in range(EPOCHS):\n",
        "  start = time.time()\n",
        "\n",
        "  enc_hidden = encoder.initialize_hidden_state()\n",
        "  total_loss = 0\n",
        "\n",
        "  for (batch, (inp, targ)) in enumerate(dataset.take(steps_per_epoch)):\n",
        "    batch_loss = train_step(inp, targ, enc_hidden)\n",
        "    total_loss += batch_loss\n",
        "\n",
        "    if batch % 100 == 0:\n",
        "      print(f'Epoka {epoch+1} Wsad {batch} Strata {batch_loss.numpy():.4f}')\n",
        "\n",
        "  if (epoch + 1) % 2 == 0:\n",
        "    checkpoint.save(file_prefix=checkpoint_prefix)\n",
        "\n",
        "  print(f'Epoka {epoch+1} Strata {total_loss/steps_per_epoch:.4f}')\n",
        "  print(f'Czas 1 epoki {time.time() - start:.2f} sek\\n')"
      ],
      "execution_count": 24,
      "outputs": [
        {
          "output_type": "stream",
          "text": [
            "Epoka 1 Wsad 0 Strata 4.6630\n",
            "Epoka 1 Wsad 100 Strata 2.1641\n",
            "Epoka 1 Wsad 200 Strata 1.9458\n",
            "Epoka 1 Wsad 300 Strata 1.6488\n",
            "Epoka 1 Strata 0.0320\n",
            "Czas 1 epoki 44.65 sek\n",
            "\n",
            "Epoka 2 Wsad 0 Strata 1.6088\n",
            "Epoka 2 Wsad 100 Strata 1.4460\n",
            "Epoka 2 Wsad 200 Strata 1.3857\n",
            "Epoka 2 Wsad 300 Strata 1.2242\n",
            "Epoka 2 Strata 0.0216\n",
            "Czas 1 epoki 34.04 sek\n",
            "\n",
            "Epoka 3 Wsad 0 Strata 0.9761\n",
            "Epoka 3 Wsad 100 Strata 1.0612\n",
            "Epoka 3 Wsad 200 Strata 0.8763\n",
            "Epoka 3 Wsad 300 Strata 0.9786\n",
            "Epoka 3 Strata 0.0149\n",
            "Czas 1 epoki 33.82 sek\n",
            "\n",
            "Epoka 4 Wsad 0 Strata 0.6698\n",
            "Epoka 4 Wsad 100 Strata 0.6455\n",
            "Epoka 4 Wsad 200 Strata 0.4976\n",
            "Epoka 4 Wsad 300 Strata 0.6590\n",
            "Epoka 4 Strata 0.0101\n",
            "Czas 1 epoki 34.50 sek\n",
            "\n",
            "Epoka 5 Wsad 0 Strata 0.4891\n",
            "Epoka 5 Wsad 100 Strata 0.4281\n",
            "Epoka 5 Wsad 200 Strata 0.4810\n",
            "Epoka 5 Wsad 300 Strata 0.4599\n",
            "Epoka 5 Strata 0.0069\n",
            "Czas 1 epoki 34.25 sek\n",
            "\n",
            "Epoka 6 Wsad 0 Strata 0.2728\n",
            "Epoka 6 Wsad 100 Strata 0.3234\n",
            "Epoka 6 Wsad 200 Strata 0.4073\n",
            "Epoka 6 Wsad 300 Strata 0.3652\n",
            "Epoka 6 Strata 0.0048\n",
            "Czas 1 epoki 34.76 sek\n",
            "\n",
            "Epoka 7 Wsad 0 Strata 0.1762\n",
            "Epoka 7 Wsad 100 Strata 0.2194\n",
            "Epoka 7 Wsad 200 Strata 0.2699\n",
            "Epoka 7 Wsad 300 Strata 0.2407\n",
            "Epoka 7 Strata 0.0034\n",
            "Czas 1 epoki 34.57 sek\n",
            "\n",
            "Epoka 8 Wsad 0 Strata 0.1343\n",
            "Epoka 8 Wsad 100 Strata 0.1563\n",
            "Epoka 8 Wsad 200 Strata 0.1218\n",
            "Epoka 8 Wsad 300 Strata 0.1647\n",
            "Epoka 8 Strata 0.0025\n",
            "Czas 1 epoki 34.79 sek\n",
            "\n",
            "Epoka 9 Wsad 0 Strata 0.1074\n",
            "Epoka 9 Wsad 100 Strata 0.1446\n",
            "Epoka 9 Wsad 200 Strata 0.1129\n",
            "Epoka 9 Wsad 300 Strata 0.1807\n",
            "Epoka 9 Strata 0.0020\n",
            "Czas 1 epoki 34.41 sek\n",
            "\n",
            "Epoka 10 Wsad 0 Strata 0.0951\n",
            "Epoka 10 Wsad 100 Strata 0.0802\n",
            "Epoka 10 Wsad 200 Strata 0.0897\n",
            "Epoka 10 Wsad 300 Strata 0.1011\n",
            "Epoka 10 Strata 0.0016\n",
            "Czas 1 epoki 35.04 sek\n",
            "\n"
          ],
          "name": "stdout"
        }
      ]
    },
    {
      "cell_type": "markdown",
      "metadata": {
        "id": "wtClrhygPGkN"
      },
      "source": [
        "## Tłumaczenie"
      ]
    },
    {
      "cell_type": "code",
      "metadata": {
        "id": "IFraVXDCPEXn"
      },
      "source": [
        "def evaluate(sentence):\n",
        "  attention_plot = np.zeros((max_length_targ, max_length_inp))\n",
        "\n",
        "  sentence = preprocess_sentence(sentence)\n",
        "\n",
        "  inputs = [inp_lang.word_index[i] for i in sentence.split(' ')]\n",
        "  inputs = tf.keras.preprocessing.sequence.pad_sequences([inputs],\n",
        "                                                        maxlen=max_length_inp,\n",
        "                                                        padding='post')\n",
        "  inputs = tf.convert_to_tensor(inputs)\n",
        "\n",
        "  result = ''\n",
        "\n",
        "  hidden = [tf.zeros((1, units))]\n",
        "  enc_out, enc_hidden = encoder(inputs, hidden)\n",
        "\n",
        "  dec_hidden = enc_hidden\n",
        "  dec_input = tf.expand_dims([targ_lang.word_index['<start>']], 0)\n",
        "\n",
        "  for t in range(max_length_targ):\n",
        "    predictions, dec_hidden, attention_weights = decoder(dec_input,\n",
        "                                                         dec_hidden,\n",
        "                                                         enc_out)\n",
        "\n",
        "    attention_weights = tf.reshape(attention_weights, (-1, ))\n",
        "    attention_plot[t] = attention_weights.numpy()\n",
        "\n",
        "    predicted_id = tf.argmax(predictions[0]).numpy()\n",
        "\n",
        "    result += targ_lang.index_word[predicted_id] + ' '\n",
        "\n",
        "    if targ_lang.index_word[predicted_id] == '<end>':\n",
        "      return result, sentence, attention_plot\n",
        "\n",
        "    dec_input = tf.expand_dims([predicted_id], 0)\n",
        "\n",
        "  return result, sentence, attention_plot  "
      ],
      "execution_count": 34,
      "outputs": []
    },
    {
      "cell_type": "code",
      "metadata": {
        "id": "c6b6xYrDNMwB"
      },
      "source": [
        "# Funkcja do wykresu wag uwagi\n",
        "def plot_attention(attention, sentence, predicted_sentence):\n",
        "  fig = plt.figure(figsize=(10, 10))\n",
        "  ax = fig.add_subplot(1, 1, 1)\n",
        "  ax.matshow(attention, cmap='viridis')\n",
        "\n",
        "  fontdict = {'fontsize': 14}\n",
        "\n",
        "  ax.set_xticklabels([' '] + sentence, fontdict=fontdict, rotation=90)\n",
        "  ax.set_yticklabels([' '] + predicted_sentence, fontdict=fontdict)\n",
        "\n",
        "  ax.xaxis.set_major_locator(ticker.MultipleLocator(1))\n",
        "  ax.yaxis.set_major_locator(ticker.MultipleLocator(1))\n",
        "\n",
        "  plt.show()"
      ],
      "execution_count": 29,
      "outputs": []
    },
    {
      "cell_type": "code",
      "metadata": {
        "id": "9ejvCO_PSv8U"
      },
      "source": [
        "def translate(sentence):\n",
        "  result, sentence, attention_plot = evaluate(sentence)\n",
        "\n",
        "  print('Wejscie:', sentence)\n",
        "  print('Przewidywane tlumaczenie:', result)\n",
        "\n",
        "  attention_plot = attention_plot[:len(result.split(' ')),\n",
        "                                  :len(sentence.split(' '))]\n",
        "  plot_attention(attention_plot, sentence.split(' '), result.split(' '))"
      ],
      "execution_count": 31,
      "outputs": []
    },
    {
      "cell_type": "markdown",
      "metadata": {
        "id": "1dm_rNkJTw5o"
      },
      "source": [
        "## Przywrócenie ostatniego punktu kontrolnego i test"
      ]
    },
    {
      "cell_type": "code",
      "metadata": {
        "colab": {
          "base_uri": "https://localhost:8080/"
        },
        "id": "iiEkHPvJTsTx",
        "outputId": "6d026a32-cf73-4ea9-fd2e-347773fcf567"
      },
      "source": [
        "checkpoint.restore(tf.train.latest_checkpoint(checkpoint_dir))"
      ],
      "execution_count": 32,
      "outputs": [
        {
          "output_type": "execute_result",
          "data": {
            "text/plain": [
              "<tensorflow.python.training.tracking.util.CheckpointLoadStatus at 0x7f1e69b59b90>"
            ]
          },
          "metadata": {
            "tags": []
          },
          "execution_count": 32
        }
      ]
    },
    {
      "cell_type": "code",
      "metadata": {
        "colab": {
          "base_uri": "https://localhost:8080/",
          "height": 676
        },
        "id": "3qQ9n2c3ULtp",
        "outputId": "d1169765-3f17-4ae3-8908-90dd8f330278"
      },
      "source": [
        "translate(u'hace mucho frio aqui.')"
      ],
      "execution_count": 35,
      "outputs": [
        {
          "output_type": "stream",
          "text": [
            "Wejscie: <start> hace mucho frio aqui . <end>\n",
            "Przewidywane tlumaczenie: it s very cold here . <end> \n"
          ],
          "name": "stdout"
        },
        {
          "output_type": "display_data",
          "data": {
            "image/png": "[encoded data removed]",
            "text/plain": [
              "<Figure size 720x720 with 1 Axes>"
            ]
          },
          "metadata": {
            "tags": [],
            "needs_background": "light"
          }
        }
      ]
    },
    {
      "cell_type": "code",
      "metadata": {
        "colab": {
          "base_uri": "https://localhost:8080/",
          "height": 676
        },
        "id": "F_BSUiKXUtDQ",
        "outputId": "f8cf7fde-676b-4299-b3e5-0a43bb2e4538"
      },
      "source": [
        "translate(u'esta es mi vida.')"
      ],
      "execution_count": 36,
      "outputs": [
        {
          "output_type": "stream",
          "text": [
            "Wejscie: <start> esta es mi vida . <end>\n",
            "Przewidywane tlumaczenie: this is my life . <end> \n"
          ],
          "name": "stdout"
        },
        {
          "output_type": "display_data",
          "data": {
            "image/png": "[encoded data removed]",
            "text/plain": [
              "<Figure size 720x720 with 1 Axes>"
            ]
          },
          "metadata": {
            "tags": [],
            "needs_background": "light"
          }
        }
      ]
    }
  ]
}