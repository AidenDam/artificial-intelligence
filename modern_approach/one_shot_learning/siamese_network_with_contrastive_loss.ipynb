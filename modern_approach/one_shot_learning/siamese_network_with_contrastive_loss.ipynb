{
  "nbformat": 4,
  "nbformat_minor": 0,
  "metadata": {
    "colab": {
      "name": "siamese_network_with_contrastive_loss.ipynb",
      "provenance": [],
      "collapsed_sections": [],
      "authorship_tag": "ABX9TyPqeCxJZLKec8JWEYQznyCc",
      "include_colab_link": true
    },
    "kernelspec": {
      "name": "python3",
      "display_name": "Python 3"
    },
    "language_info": {
      "name": "python"
    },
    "accelerator": "GPU"
  },
  "cells": [
    {
      "cell_type": "markdown",
      "metadata": {
        "id": "view-in-github",
        "colab_type": "text"
      },
      "source": [
        "<a href=\"https://colab.research.google.com/github/PsorTheDoctor/Sekcja-SI/blob/master/modern_approach/one_shot_learning/siamese_network_with_contrastive_loss.ipynb\" target=\"_parent\"><img src=\"https://colab.research.google.com/assets/colab-badge.svg\" alt=\"Open In Colab\"/></a>"
      ]
    },
    {
      "cell_type": "markdown",
      "metadata": {
        "id": "Ca9uwgPTpx6x"
      },
      "source": [
        "#Syjamska sieć neuronowa ze stratą kontrastową\n",
        "##Import bibliotek"
      ]
    },
    {
      "cell_type": "code",
      "metadata": {
        "id": "kBENZrJEnYOR"
      },
      "source": [
        "import random\n",
        "import numpy as np\n",
        "import tensorflow as tf\n",
        "from tensorflow import keras\n",
        "from tensorflow.keras import layers\n",
        "import matplotlib.pyplot as plt"
      ],
      "execution_count": 8,
      "outputs": []
    },
    {
      "cell_type": "markdown",
      "metadata": {
        "id": "kL5oFhLPqJ7S"
      },
      "source": [
        "##Hiperparametry"
      ]
    },
    {
      "cell_type": "code",
      "metadata": {
        "id": "7Hw4U8I7qQAK"
      },
      "source": [
        "epochs = 10\n",
        "batch_size = 16\n",
        "margin = 1  # Margines straty kontrastowej"
      ],
      "execution_count": 9,
      "outputs": []
    },
    {
      "cell_type": "markdown",
      "metadata": {
        "id": "FsL4Y7j8qb6A"
      },
      "source": [
        "##Załadowanie zbioru MNIST"
      ]
    },
    {
      "cell_type": "code",
      "metadata": {
        "id": "nGJAdjnsqhQo"
      },
      "source": [
        "(x_train_val, y_train_val), (x_test, y_test) = keras.datasets.mnist.load_data()\n",
        "\n",
        "# Zmiana typu danych na liczby zmiennoprzecinkowe\n",
        "x_train_val = x_train_val.astype('float32')\n",
        "x_test = x_test.astype('float32')"
      ],
      "execution_count": 10,
      "outputs": []
    },
    {
      "cell_type": "markdown",
      "metadata": {
        "id": "sGCiThMzreMA"
      },
      "source": [
        "##Deklaracja zbioru treningowego i walidacyjnego"
      ]
    },
    {
      "cell_type": "code",
      "metadata": {
        "id": "S3YpgyVNrlNA"
      },
      "source": [
        "x_train, x_val = x_train_val[:30000], x_train_val[30000:]\n",
        "y_train, y_val = y_train_val[:30000], y_train_val[30000:]\n",
        "del x_train_val, y_train_val"
      ],
      "execution_count": 11,
      "outputs": []
    },
    {
      "cell_type": "markdown",
      "metadata": {
        "id": "E5ddV9b6sVRw"
      },
      "source": [
        "##Stworzenie par obrazów"
      ]
    },
    {
      "cell_type": "code",
      "metadata": {
        "id": "KKRbNAUQsTLA"
      },
      "source": [
        "def make_pairs(x, y):\n",
        "  num_classes = max(y) + 1\n",
        "  digit_indices = [np.where(y == i)[0] for i in range(num_classes)]\n",
        "\n",
        "  pairs = []\n",
        "  labels = []\n",
        "\n",
        "  for idx1 in range(len(x)):\n",
        "    x1 = x[idx1]\n",
        "    label1 = y[idx1]\n",
        "    idx2 = random.choice(digit_indices[label1])\n",
        "    x2 = x[idx2]\n",
        "\n",
        "    pairs += [[x1, x2]]\n",
        "    labels += [1]\n",
        "\n",
        "    label2 = random.randint(0, num_classes - 1)\n",
        "    while label2 == label1:\n",
        "      label2 = random.randint(0, num_classes - 1)\n",
        "\n",
        "    idx2 = random.choice(digit_indices[label2])\n",
        "    x2 = x[idx2]\n",
        "\n",
        "    pairs += [[x1, x2]]\n",
        "    labels += [0]\n",
        "  \n",
        "  return np.array(pairs), np.array(labels).astype('float32')\n",
        "\n",
        "# stworzenie par treningowych\n",
        "pairs_train, labels_train = make_pairs(x_train, y_train)\n",
        "\n",
        "# stworzenie par walidacyjnych\n",
        "pairs_val, labels_val = make_pairs(x_val, y_val)\n",
        "\n",
        "# stworzenie par testowych\n",
        "pairs_test, labels_test = make_pairs(x_test, y_test)"
      ],
      "execution_count": 21,
      "outputs": []
    },
    {
      "cell_type": "code",
      "metadata": {
        "id": "L_JgHUkP1-Hm"
      },
      "source": [
        "x_train_1 = pairs_train[:, 0]  # x_train_1.shape is (60000, 28, 28)\n",
        "x_train_2 = pairs_train[:, 1]\n",
        "\n",
        "x_val_1 = pairs_val[:, 0]  # x_val_1.shape is (60000, 28, 28)\n",
        "x_val_2 = pairs_val[:, 1]\n",
        "\n",
        "x_test_1 = pairs_test[:, 0]  # x_test_1.shape is (20000, 28, 28)\n",
        "x_test_2 = pairs_test[:, 1]"
      ],
      "execution_count": 22,
      "outputs": []
    },
    {
      "cell_type": "markdown",
      "metadata": {
        "id": "okWlYn2m6WdF"
      },
      "source": [
        "##Wizualizacja par i ich etykiet"
      ]
    },
    {
      "cell_type": "code",
      "metadata": {
        "id": "wpL9EayEz7Yx"
      },
      "source": [
        "def visualize(pairs, labels, to_show=6, num_col=3, predictions=None, test=False):\n",
        "\n",
        "  num_row = to_show // num_col if to_show // num_col != 0 else 1\n",
        "\n",
        "  to_show = num_row * num_col\n",
        "\n",
        "  fig, axes = plt.subplots(num_row, num_col, figsize=(5, 5))\n",
        "  for i in range(to_show):\n",
        "\n",
        "    if num_row == 1:\n",
        "      ax = axes[i % num_col]\n",
        "    else:\n",
        "      ax = axes[i // num_col, i % num_col]\n",
        "    \n",
        "    ax.imshow(tf.concat([pairs[i][0], pairs[i][1]], axis=1), cmap='gray')\n",
        "    ax.set_axis_off()\n",
        "    if test:\n",
        "      ax.set_title('True: {} | pred: {:.5f}'.format(labels[i], predictions[i][0]))\n",
        "    else:\n",
        "      ax.set_title('Label: {}'.format(labels[i]))\n",
        "  if test:\n",
        "    plt.tight_layout(rect=(0, 0, 1.9, 1.9), w_pad=0.0)\n",
        "  else:\n",
        "    plt.tight_layout(rect=(0, 0, 1.5, 1.5))\n",
        "  plt.show()"
      ],
      "execution_count": 23,
      "outputs": []
    },
    {
      "cell_type": "code",
      "metadata": {
        "id": "BbgrlRrL-bZd",
        "colab": {
          "base_uri": "https://localhost:8080/",
          "height": 108
        },
        "outputId": "8a547830-e99a-4485-ef87-350140e696cb"
      },
      "source": [
        "visualize(pairs_train[:-1], labels_train[:-1], to_show=4, num_col=4)"
      ],
      "execution_count": 24,
      "outputs": [
        {
          "output_type": "display_data",
          "data": {
            "image/png": "[encoded data removed]",
            "text/plain": [
              "<Figure size 360x360 with 4 Axes>"
            ]
          },
          "metadata": {
            "tags": [],
            "needs_background": "light"
          }
        }
      ]
    },
    {
      "cell_type": "code",
      "metadata": {
        "id": "7L4UOdE4_CyM",
        "colab": {
          "base_uri": "https://localhost:8080/",
          "height": 108
        },
        "outputId": "4471ed80-f9e0-48a3-93d6-60a854e253c3"
      },
      "source": [
        "visualize(pairs_val[:-1], labels_val[:-1], to_show=4, num_col=4)"
      ],
      "execution_count": 25,
      "outputs": [
        {
          "output_type": "display_data",
          "data": {
            "image/png": "[encoded data removed]",
            "text/plain": [
              "<Figure size 360x360 with 4 Axes>"
            ]
          },
          "metadata": {
            "tags": [],
            "needs_background": "light"
          }
        }
      ]
    },
    {
      "cell_type": "code",
      "metadata": {
        "id": "ikvjWnA3_C6x",
        "colab": {
          "base_uri": "https://localhost:8080/",
          "height": 108
        },
        "outputId": "d17fa3b2-b0ee-40b3-a13c-39d89f8486b2"
      },
      "source": [
        "visualize(pairs_test[:-1], labels_test[:-1], to_show=4, num_col=4)"
      ],
      "execution_count": 26,
      "outputs": [
        {
          "output_type": "display_data",
          "data": {
            "image/png": "[encoded data removed]",
            "text/plain": [
              "<Figure size 360x360 with 4 Axes>"
            ]
          },
          "metadata": {
            "tags": [],
            "needs_background": "light"
          }
        }
      ]
    },
    {
      "cell_type": "markdown",
      "metadata": {
        "id": "cR0XqvT2w3JS"
      },
      "source": [
        "##Deklaracja modelu"
      ]
    },
    {
      "cell_type": "code",
      "metadata": {
        "id": "q7rJ4sFfw7Wp"
      },
      "source": [
        "def euclidean_distance(vects):\n",
        "  x, y = vects\n",
        "  sum_square = tf.math.reduce_sum(tf.math.square(x - y), axis=1, keepdims=True)\n",
        "  return tf.math.sqrt(tf.math.maximum(sum_square, tf.keras.backend.epsilon()))\n",
        "\n",
        "input =layers.Input((28, 28, 1))\n",
        "x = tf.keras.layers.BatchNormalization()(input)\n",
        "x = layers.Conv2D(4, (5, 5), activation='tanh')(x)\n",
        "x = layers.AveragePooling2D(pool_size=(2, 2))(x)\n",
        "x = layers.Conv2D(16, (5, 5), activation='tanh')(x)\n",
        "x = layers.AveragePooling2D(pool_size=(2, 2))(x)\n",
        "x = layers.Flatten()(x)\n",
        "\n",
        "x = tf.keras.layers.BatchNormalization()(x)\n",
        "x = layers.Dense(10, activation='tanh')(x)\n",
        "embedding_net = keras.Model(input, x)\n",
        "\n",
        "input_1 = layers.Input((28, 28, 1))\n",
        "input_2 = layers.Input((28, 28, 1))\n",
        "\n",
        "# Sieć syjamska dzieli wagi między sieci siostrzane.\n",
        "# Aby to umożliwić ustawimy ten sam embedding dla obu sieci siostrzanych.\n",
        "tower_1 = embedding_net(input_1)\n",
        "tower_2 = embedding_net(input_2)\n",
        "\n",
        "merge_layer = layers.Lambda(euclidean_distance)([tower_1, tower_2])\n",
        "normal_layer = tf.keras.layers.BatchNormalization()(merge_layer)\n",
        "output_layer = layers.Dense(1, activation='sigmoid')(normal_layer)\n",
        "siamese = keras.Model(inputs=[input_1, input_2], outputs=output_layer)"
      ],
      "execution_count": 27,
      "outputs": []
    },
    {
      "cell_type": "markdown",
      "metadata": {
        "id": "xbhQJwQd2Vmw"
      },
      "source": [
        "##Deklaracja straty kontrastowej"
      ]
    },
    {
      "cell_type": "code",
      "metadata": {
        "id": "9vywNB5l33WS"
      },
      "source": [
        "def loss(margin=1):\n",
        "\n",
        "  def contrastive_loss(y_true, y_pred):\n",
        "\n",
        "    square_pred = tf.math.square(y_pred)\n",
        "    margin_square = tf.math.square(tf.math.maximum(margin - (y_pred), 0))\n",
        "    return tf.math.reduce_mean(\n",
        "        (1 - y_true) * square_pred + (y_true) * margin_square\n",
        "    )\n",
        "  return contrastive_loss"
      ],
      "execution_count": 34,
      "outputs": []
    },
    {
      "cell_type": "markdown",
      "metadata": {
        "id": "6Gr63dMc47Qv"
      },
      "source": [
        "##Kompilacja modelu ze stratą kontrastową"
      ]
    },
    {
      "cell_type": "code",
      "metadata": {
        "colab": {
          "base_uri": "https://localhost:8080/"
        },
        "id": "N2BAhOBO5EvL",
        "outputId": "cba204ce-f8c2-4e37-84dd-3cab8f788680"
      },
      "source": [
        "siamese.compile(loss=loss(margin), optimizer='RMSProp', metrics=['accuracy'])\n",
        "siamese.summary()"
      ],
      "execution_count": 35,
      "outputs": [
        {
          "output_type": "stream",
          "text": [
            "Model: \"model_1\"\n",
            "__________________________________________________________________________________________________\n",
            "Layer (type)                    Output Shape         Param #     Connected to                     \n",
            "==================================================================================================\n",
            "input_2 (InputLayer)            [(None, 28, 28, 1)]  0                                            \n",
            "__________________________________________________________________________________________________\n",
            "input_3 (InputLayer)            [(None, 28, 28, 1)]  0                                            \n",
            "__________________________________________________________________________________________________\n",
            "model (Functional)              (None, 10)           5318        input_2[0][0]                    \n",
            "                                                                 input_3[0][0]                    \n",
            "__________________________________________________________________________________________________\n",
            "lambda (Lambda)                 (None, 1)            0           model[0][0]                      \n",
            "                                                                 model[1][0]                      \n",
            "__________________________________________________________________________________________________\n",
            "batch_normalization_2 (BatchNor (None, 1)            4           lambda[0][0]                     \n",
            "__________________________________________________________________________________________________\n",
            "dense_1 (Dense)                 (None, 1)            2           batch_normalization_2[0][0]      \n",
            "==================================================================================================\n",
            "Total params: 5,324\n",
            "Trainable params: 4,808\n",
            "Non-trainable params: 516\n",
            "__________________________________________________________________________________________________\n"
          ],
          "name": "stdout"
        }
      ]
    },
    {
      "cell_type": "markdown",
      "metadata": {
        "id": "C1m8y0535BiT"
      },
      "source": [
        "##Trening modelu"
      ]
    },
    {
      "cell_type": "code",
      "metadata": {
        "colab": {
          "base_uri": "https://localhost:8080/"
        },
        "id": "8I0rLcZk6Sv0",
        "outputId": "cb0e4c30-0d9f-44dd-f8f6-260fa300394e"
      },
      "source": [
        "history = siamese.fit(\n",
        "    [x_train_1, x_train_2],\n",
        "    labels_train,\n",
        "    validation_data=([x_val_1, x_val_2], labels_val),\n",
        "    batch_size=batch_size,\n",
        "    epochs=epochs\n",
        ")"
      ],
      "execution_count": 36,
      "outputs": [
        {
          "output_type": "stream",
          "text": [
            "Epoch 1/10\n",
            "3750/3750 [==============================] - 25s 6ms/step - loss: 0.5000 - accuracy: 0.5000 - val_loss: 0.5000 - val_accuracy: 0.5000\n",
            "Epoch 2/10\n",
            "3750/3750 [==============================] - 23s 6ms/step - loss: 0.5000 - accuracy: 0.5000 - val_loss: 0.5000 - val_accuracy: 0.5000\n",
            "Epoch 3/10\n",
            "3750/3750 [==============================] - 23s 6ms/step - loss: 0.5000 - accuracy: 0.5000 - val_loss: 0.5000 - val_accuracy: 0.5000\n",
            "Epoch 4/10\n",
            "3750/3750 [==============================] - 23s 6ms/step - loss: 0.5000 - accuracy: 0.5000 - val_loss: 0.5000 - val_accuracy: 0.5000\n",
            "Epoch 5/10\n",
            "3750/3750 [==============================] - 23s 6ms/step - loss: 0.5000 - accuracy: 0.5000 - val_loss: 0.5000 - val_accuracy: 0.5000\n",
            "Epoch 6/10\n",
            "3750/3750 [==============================] - 23s 6ms/step - loss: 0.5000 - accuracy: 0.5000 - val_loss: 0.5000 - val_accuracy: 0.5000\n",
            "Epoch 7/10\n",
            "3750/3750 [==============================] - 24s 6ms/step - loss: 0.5000 - accuracy: 0.5000 - val_loss: 0.5000 - val_accuracy: 0.5000\n",
            "Epoch 8/10\n",
            "3750/3750 [==============================] - 23s 6ms/step - loss: 0.5000 - accuracy: 0.5000 - val_loss: 0.5000 - val_accuracy: 0.5000\n",
            "Epoch 9/10\n",
            "3750/3750 [==============================] - 24s 6ms/step - loss: 0.4852 - accuracy: 0.5106 - val_loss: 0.3991 - val_accuracy: 0.5843\n",
            "Epoch 10/10\n",
            "3750/3750 [==============================] - 23s 6ms/step - loss: 0.2318 - accuracy: 0.7433 - val_loss: 0.0959 - val_accuracy: 0.8818\n"
          ],
          "name": "stdout"
        }
      ]
    },
    {
      "cell_type": "markdown",
      "metadata": {
        "id": "yur8heAV7AVg"
      },
      "source": [
        "##Wizualizacja wyników"
      ]
    },
    {
      "cell_type": "code",
      "metadata": {
        "colab": {
          "base_uri": "https://localhost:8080/",
          "height": 573
        },
        "id": "p3Q8G7IQ7NIG",
        "outputId": "a5677aee-daa9-41c9-f61f-166d98c8d0fb"
      },
      "source": [
        "def plt_metric(history, metric, title, has_valid=True):\n",
        "\n",
        "  plt.plot(history[metric])\n",
        "  if has_valid:\n",
        "    plt.plot(history['val_' + metric])\n",
        "    plt.legend(['train', 'validation'], loc='upper left')\n",
        "  plt.title(title)\n",
        "  plt.ylabel(metric)\n",
        "  plt.xlabel('epoch')\n",
        "  plt.show()\n",
        "\n",
        "plt_metric(history=history.history, metric='accuracy', title='Dokładność modelu')\n",
        "plt_metric(history=history.history, metric='loss', title='Strata kontrastowa')"
      ],
      "execution_count": 31,
      "outputs": [
        {
          "output_type": "display_data",
          "data": {
            "image/png": "[encoded data removed]",
            "text/plain": [
              "<Figure size 432x288 with 1 Axes>"
            ]
          },
          "metadata": {
            "tags": [],
            "needs_background": "light"
          }
        },
        {
          "output_type": "display_data",
          "data": {
            "image/png": "[encoded data removed]",
            "text/plain": [
              "<Figure size 432x288 with 1 Axes>"
            ]
          },
          "metadata": {
            "tags": [],
            "needs_background": "light"
          }
        }
      ]
    },
    {
      "cell_type": "code",
      "metadata": {
        "colab": {
          "base_uri": "https://localhost:8080/"
        },
        "id": "RUb3HS5jA0yN",
        "outputId": "74d567fc-7c60-4733-bf42-59e9a68cacf2"
      },
      "source": [
        "results = siamese.evaluate([x_test_1, x_test_2], labels_test)\n",
        "print('test loss, test acc:', results)"
      ],
      "execution_count": 32,
      "outputs": [
        {
          "output_type": "stream",
          "text": [
            "625/625 [==============================] - 2s 3ms/step - loss: 7.7307e-11 - accuracy: 0.5000\n",
            "test loss, test acc: [7.73070565895928e-11, 0.5]\n"
          ],
          "name": "stdout"
        }
      ]
    },
    {
      "cell_type": "markdown",
      "metadata": {
        "id": "6U1qv5pzBxf8"
      },
      "source": [
        "##Wizualizacja predykcji"
      ]
    },
    {
      "cell_type": "code",
      "metadata": {
        "colab": {
          "base_uri": "https://localhost:8080/",
          "height": 124
        },
        "id": "edkVhK_QBzW9",
        "outputId": "c5384aac-c0bf-45ae-e944-fd53268b5076"
      },
      "source": [
        "preds = siamese.predict([x_test_1, x_test_2])\n",
        "visualize(pairs_test, labels_test, to_show=3, predictions=preds, test=True)"
      ],
      "execution_count": 33,
      "outputs": [
        {
          "output_type": "display_data",
          "data": {
            "image/png": "[encoded data removed]",
            "text/plain": [
              "<Figure size 360x360 with 3 Axes>"
            ]
          },
          "metadata": {
            "tags": [],
            "needs_background": "light"
          }
        }
      ]
    }
  ]
}