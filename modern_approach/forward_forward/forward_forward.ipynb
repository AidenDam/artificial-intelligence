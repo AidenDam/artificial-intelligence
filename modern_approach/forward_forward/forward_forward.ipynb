{
  "nbformat": 4,
  "nbformat_minor": 0,
  "metadata": {
    "colab": {
      "provenance": [],
      "authorship_tag": "ABX9TyO+Vpup04B9Tnxi5vkdzCjO",
      "include_colab_link": true
    },
    "kernelspec": {
      "name": "python3",
      "display_name": "Python 3"
    },
    "language_info": {
      "name": "python"
    },
    "accelerator": "GPU",
    "gpuClass": "standard"
  },
  "cells": [
    {
      "cell_type": "markdown",
      "metadata": {
        "id": "view-in-github",
        "colab_type": "text"
      },
      "source": [
        "<a href=\"https://colab.research.google.com/github/PsorTheDoctor/artificial-intelligence/blob/master/modern_approach/forward_forward/forward_forward.ipynb\" target=\"_parent\"><img src=\"https://colab.research.google.com/assets/colab-badge.svg\" alt=\"Open In Colab\"/></a>"
      ]
    },
    {
      "cell_type": "markdown",
      "source": [
        "#Forward-Forward for image classification\n",
        "##Setup imports"
      ],
      "metadata": {
        "id": "8dSsnfsamA2b"
      }
    },
    {
      "cell_type": "code",
      "execution_count": 1,
      "metadata": {
        "id": "IAFY1fmQg8Xz"
      },
      "outputs": [],
      "source": [
        "import tensorflow as tf\n",
        "from tensorflow import keras\n",
        "import numpy as np\n",
        "import matplotlib.pyplot as plt\n",
        "from sklearn.metrics import accuracy_score\n",
        "import random\n",
        "from tensorflow.compiler.tf2xla.python import xla"
      ]
    },
    {
      "cell_type": "markdown",
      "source": [
        "##Load the dataset"
      ],
      "metadata": {
        "id": "U50tRlcAoCOO"
      }
    },
    {
      "cell_type": "code",
      "source": [
        "(X_train, y_train), (X_test, y_test) = keras.datasets.mnist.load_data()\n",
        "\n",
        "idx1, idx2, idx3, idx4 = random.sample(range(0, X_train.shape[0]), 4)\n",
        "\n",
        "img1 = (X_train[idx1], y_train[idx1])\n",
        "img2 = (X_train[idx2], y_train[idx2])\n",
        "img3 = (X_train[idx3], y_train[idx3])\n",
        "img4 = (X_train[idx4], y_train[idx4])\n",
        "\n",
        "imgs = [img1, img2, img3, img4]\n",
        "\n",
        "plt.figure(figsize=(16, 4))\n",
        "for idx, item in enumerate(imgs):\n",
        "  img, label = item[0], item[1]\n",
        "  plt.subplot(1, 4, idx + 1)\n",
        "  plt.imshow(img, cmap='gray')\n",
        "  plt.title(f'Label: {label}')\n",
        "plt.show()"
      ],
      "metadata": {
        "colab": {
          "base_uri": "https://localhost:8080/",
          "height": 258
        },
        "id": "deoqYHLQhnU8",
        "outputId": "d6ae4c44-8b89-4419-cd0c-b0cf86da95a4"
      },
      "execution_count": 28,
      "outputs": [
        {
          "output_type": "display_data",
          "data": {
            "text/plain": [
              "<Figure size 1152x288 with 4 Axes>"
            ],
            "image/png": "[encoded data removed]"
          },
          "metadata": {
            "needs_background": "light"
          }
        }
      ]
    },
    {
      "cell_type": "markdown",
      "source": [
        "##Define `ForwardForwardDense` custom layer\n",
        "\n"
      ],
      "metadata": {
        "id": "sOnnKKSYoHA4"
      }
    },
    {
      "cell_type": "code",
      "source": [
        "class ForwardForwardDense(keras.layers.Layer):\n",
        "  def __init__(\n",
        "      self,\n",
        "      units,\n",
        "      optimizer,\n",
        "      loss_metric,\n",
        "      num_epochs=50,\n",
        "      use_bias=True,\n",
        "      kernel_initializer='glorot_uniform',\n",
        "      bias_initializer='zeros',\n",
        "      kernel_regularizer=None,\n",
        "      bias_regularizer=None,\n",
        "      **kwargs\n",
        "  ):\n",
        "    super().__init__(**kwargs)\n",
        "    self.dense = keras.layers.Dense(\n",
        "        units=units,\n",
        "        use_bias=use_bias,\n",
        "        kernel_initializer=kernel_initializer,\n",
        "        bias_initializer=bias_initializer,\n",
        "        kernel_regularizer=kernel_regularizer,\n",
        "        bias_regularizer=bias_regularizer\n",
        "    )\n",
        "    self.relu = keras.layers.ReLU()\n",
        "    self.optimizer = optimizer\n",
        "    self.loss_metric = loss_metric\n",
        "    self.threshold = 1.5\n",
        "    self.num_epochs = num_epochs\n",
        "\n",
        "  # Performs normalization step before the input though the dense layer.\n",
        "  def call(self, X):\n",
        "    X_norm = tf.norm(X, ord=2, axis=1, keepdims=True)\n",
        "    X_norm = X_norm + 1e-4\n",
        "    X_dir = X / X_norm\n",
        "    res = self.dense(X_dir)\n",
        "    return self.relu(res)\n",
        "\n",
        "  def forward_forward(self, X_pos, X_neg):\n",
        "    for i in range(self.num_epochs):\n",
        "      with tf.GradientTape() as tape:\n",
        "        g_pos = tf.math.reduce_mean(tf.math.pow(self.call(X_pos), 2), 1)\n",
        "        g_neg = tf.math.reduce_mean(tf.math.pow(self.call(X_neg), 2), 1)\n",
        "        loss = tf.math.log(\n",
        "            1 + tf.math.log(1 + tf.math.exp(tf.concat([-g_pos + self.threshold, g_neg - self.threshold], 0)))\n",
        "        )\n",
        "        mean_loss = tf.cast(tf.math.reduce_mean(loss), tf.float32)\n",
        "        self.loss_metric.update_state([mean_loss])\n",
        "      gradients = tape.gradient(mean_loss, self.dense.trainable_weights)\n",
        "      self.optimizer.apply_gradients(zip(gradients, self.dense.trainable_weights))\n",
        "    return (\n",
        "        tf.stop_gradient(self.call(X_pos)),\n",
        "        tf.stop_gradient(self.call(X_neg)),\n",
        "        self.loss_metric.result()\n",
        "    )"
      ],
      "metadata": {
        "id": "7LJtEuMcibSP"
      },
      "execution_count": 44,
      "outputs": []
    },
    {
      "cell_type": "markdown",
      "source": [
        "##Define `ForwardForwardDense` custom layer"
      ],
      "metadata": {
        "id": "osL4EaEvo2Yo"
      }
    },
    {
      "cell_type": "code",
      "source": [
        "class ForwardForwardModel(keras.Model):\n",
        "  def __init__(self, dims, layer_optimizer=keras.optimizers.Adam(learning_rate=0.03), ** kwargs):\n",
        "    super().__init__(**kwargs)\n",
        "    self.layer_optimizer = layer_optimizer\n",
        "    self.loss_var = tf.Variable(0.0, trainable=False, dtype=tf.float32)\n",
        "    self.loss_count = tf.Variable(0.0, trainable=False, dtype=tf.float32)\n",
        "    self.layer_list = [keras.Input(shape=(dims[0],))]\n",
        "    for d in range(len(dims) - 1):\n",
        "      self.layer_list += [\n",
        "          ForwardForwardDense(dims[d + 1], optimizer=self.layer_optimizer, loss_metric=keras.metrics.Mean())\n",
        "      ]\n",
        "  \n",
        "  @tf.function(reduce_retracing=True)\n",
        "  def overlay_y_on_x(self, data):\n",
        "    X_sample, y_sample = data\n",
        "    max_sample = tf.reduce_max(X_sample, axis=0, keepdims=True)\n",
        "    max_sample = tf.cast(max_sample, dtype=tf.float64)\n",
        "    X_zeros = tf.zeros([10], dtype=tf.float64)\n",
        "    X_update = xla.dynamic_update_slice(X_zeros, max_sample, [y_sample])\n",
        "    X_sample = xla.dynamic_update_slice(X_sample, X_update, [0])\n",
        "    return X_sample, y_sample\n",
        "\n",
        "  @tf.function(reduce_retracing=True)\n",
        "  def predict_one_sample(self, X):\n",
        "    goodness_per_label = []\n",
        "    X = tf.reshape(X, [tf.shape(X)[0] * tf.shape(X)[1]])\n",
        "    for label in range(10):\n",
        "      h, label = self.overlay_y_on_x(data=(X, label))\n",
        "      h = tf.reshape(h, [-1, tf.shape(h)[0]])\n",
        "      goodness = []\n",
        "      for layer_idx in range(1, len(self.layer_list)):\n",
        "        layer = self.layer_list[layer_idx]\n",
        "        h = layer(h)\n",
        "        goodness += [tf.math.reduce_mean(tf.math.pow(h, 2), 1)]\n",
        "      goodness_per_label += [\n",
        "          tf.expand_dims(tf.reduce_sum(goodness, keepdims=True), 1)\n",
        "      ]\n",
        "    goodness_per_label = tf.concat(goodness_per_label, 1)\n",
        "    return tf.cast(tf.argmax(goodness_per_label, 1), tf.float64)\n",
        "\n",
        "  def predict(self, data):\n",
        "    X = data\n",
        "    preds = list()\n",
        "    preds = tf.map_fn(fn=self.predict_one_sample, elems=X)\n",
        "    return np.asarray(preds, dtype=int)\n",
        "\n",
        "  @tf.function(jit_compile=True)\n",
        "  def train_step(self, data):\n",
        "    X, y = data\n",
        "    X = tf.reshape(X, [-1, tf.shape(X)[1] * tf.shape(X)[2]])\n",
        "    X_pos, y = tf.map_fn(fn=self.overlay_y_on_x, elems=(X, y))\n",
        "    random_y = tf.random.shuffle(y)\n",
        "    X_neg, y = tf.map_fn(fn=self.overlay_y_on_x, elems=(X, random_y))\n",
        "    h_pos, h_neg = X_pos, X_neg\n",
        "    for idx, layer in enumerate(self.layers):\n",
        "      if isinstance(layer, ForwardForwardDense):\n",
        "        print(f'Training layer {idx+1} now: ')\n",
        "        h_pos, h_neg, loss = layer.forward_forward(h_pos, h_neg)\n",
        "        self.loss_var.assign_add(loss)\n",
        "        self.loss_count.assign_add(1.0)\n",
        "      else:\n",
        "        print(f'Passing layer {idx+1} now: ')\n",
        "        X = layer(X)\n",
        "    mean_res = tf.math.divide(self.loss_var, self.loss_count)\n",
        "    return {'Final loss': mean_res}"
      ],
      "metadata": {
        "id": "cz5clBanjmgi"
      },
      "execution_count": 46,
      "outputs": []
    },
    {
      "cell_type": "markdown",
      "source": [
        "##Convert MNIST numpy arrays to `tf.data.Dataset`"
      ],
      "metadata": {
        "id": "ELezeqIrHFLS"
      }
    },
    {
      "cell_type": "code",
      "source": [
        "X_train = X_train.astype(float) / 255\n",
        "X_test = X_test.astype(float) / 255\n",
        "y_train = y_train.astype(int)\n",
        "y_test = y_test.astype(int)\n",
        "\n",
        "train_dataset = tf.data.Dataset.from_tensor_slices((X_train, y_train))\n",
        "test_dataset = tf.data.Dataset.from_tensor_slices((X_test, y_test))\n",
        "train_dataset = train_dataset.batch(60000)\n",
        "test_dataset = test_dataset.batch(10000)"
      ],
      "metadata": {
        "id": "6zs8Qhw-DrP8"
      },
      "execution_count": 41,
      "outputs": []
    },
    {
      "cell_type": "markdown",
      "source": [
        "##Train the network"
      ],
      "metadata": {
        "id": "YBJ9yp7pHcP_"
      }
    },
    {
      "cell_type": "code",
      "source": [
        "model = ForwardForwardModel(dims=[784, 500, 500])\n",
        "model.compile(\n",
        "    optimizer=keras.optimizers.Adam(learning_rate=0.03),\n",
        "    loss='mse',\n",
        "    jit_compile=True,\n",
        "    metrics=[keras.metrics.Mean()]\n",
        ")\n",
        "history = model.fit(train_dataset, epochs=30)"
      ],
      "metadata": {
        "id": "qnpvkwRuHWWL"
      },
      "execution_count": null,
      "outputs": []
    },
    {
      "cell_type": "markdown",
      "source": [
        "##Inference and testing"
      ],
      "metadata": {
        "id": "-_nVhvwzIRoZ"
      }
    },
    {
      "cell_type": "code",
      "source": [
        "preds = model.predict(tf.convert_to_tensor(X_test))\n",
        "preds = preds.reshape((preds.shape[0], preds.shape[1]))\n",
        "results = accuracy_score(preds, y_test)\n",
        "\n",
        "plt.plot(range(len(history.history['Final loss'])), history.history['Final loss'])\n",
        "plt.title('Loss over training')\n",
        "plt.show()"
      ],
      "metadata": {
        "colab": {
          "base_uri": "https://localhost:8080/",
          "height": 281
        },
        "id": "QqT2r7kHITdL",
        "outputId": "593cd148-2d7b-4fb1-8ff5-0976c5e1c1b1"
      },
      "execution_count": 49,
      "outputs": [
        {
          "output_type": "display_data",
          "data": {
            "text/plain": [
              "<Figure size 432x288 with 1 Axes>"
            ],
            "image/png": "[encoded data removed]"
          },
          "metadata": {
            "needs_background": "light"
          }
        }
      ]
    },
    {
      "cell_type": "markdown",
      "source": [
        "##Conclusions\n",
        "Comparing to backpropagation the training process (5 mins for 30 epochs!) turned out to be surprisingly long for such a simple task. \n",
        "\n",
        "For two executed training sesions the loss function seemed to stuck on the local minimum."
      ],
      "metadata": {
        "id": "B7i21j1YTiE5"
      }
    }
  ]
}