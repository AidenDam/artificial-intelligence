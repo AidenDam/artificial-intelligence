{
  "nbformat": 4,
  "nbformat_minor": 0,
  "metadata": {
    "colab": {
      "name": "rbn.ipynb",
      "provenance": [],
      "authorship_tag": "ABX9TyNMkvjA2+wmCQMUd75RE5uR",
      "include_colab_link": true
    },
    "kernelspec": {
      "name": "python3",
      "display_name": "Python 3"
    },
    "language_info": {
      "name": "python"
    }
  },
  "cells": [
    {
      "cell_type": "markdown",
      "metadata": {
        "id": "view-in-github",
        "colab_type": "text"
      },
      "source": [
        "<a href=\"https://colab.research.google.com/github/PsorTheDoctor/Sekcja-SI/blob/master/neural_networks/RBN/rbn.ipynb\" target=\"_parent\"><img src=\"https://colab.research.google.com/assets/colab-badge.svg\" alt=\"Open In Colab\"/></a>"
      ]
    },
    {
      "cell_type": "markdown",
      "source": [
        "#Radial Basis Network"
      ],
      "metadata": {
        "id": "q5daW45oZGBn"
      }
    },
    {
      "cell_type": "code",
      "execution_count": 2,
      "metadata": {
        "id": "55FRqfZ3O7Wy"
      },
      "outputs": [],
      "source": [
        "import numpy as np\n",
        "import pandas as pd\n",
        "from keras.layers import Layer, Dense, Flatten\n",
        "from keras import backend as K\n",
        "from keras.models import Sequential\n",
        "from keras.losses import binary_crossentropy"
      ]
    },
    {
      "cell_type": "code",
      "source": [
        "X = np.load('./k49-train-imgs.npz')['arr_0']\n",
        "y = np.load('./k49-train-labels.npz')['arr_0']\n",
        "y = (y <= 25).astype(int)\n",
        "\n",
        "print(X.shape)\n",
        "print(y.shape)"
      ],
      "metadata": {
        "colab": {
          "base_uri": "https://localhost:8080/"
        },
        "id": "QT-n9_P4cmWn",
        "outputId": "f2c966ea-1137-4579-e0ab-2a19cf910422"
      },
      "execution_count": 11,
      "outputs": [
        {
          "output_type": "stream",
          "name": "stdout",
          "text": [
            "(232365, 28, 28)\n",
            "(232365,)\n"
          ]
        }
      ]
    },
    {
      "cell_type": "code",
      "source": [
        "class RBFLayer(Layer):\n",
        "  def __init__(self, units, gamma, **kwargs):\n",
        "    super(RBFLayer, self).__init__(**kwargs)\n",
        "    self.units = units\n",
        "    self.gamma = K.cast_to_floatx(gamma)\n",
        "\n",
        "  def build(self, input_shape):\n",
        "    self.mu = self.add_weight(name='mu',\n",
        "                              shape=(int(input_shape[1]), self.units),\n",
        "                              initializer='uniform',\n",
        "                              trainable=True)\n",
        "    super(RBFLayer, self).build(input_shape)\n",
        "  \n",
        "  def call(self, inputs):\n",
        "    diff = K.expand_dims(inputs) - self.mu\n",
        "    l2 = K.sum(K.pow(diff, 2), axis=1)\n",
        "    res = K.exp(-1 * self.gamma * l2)\n",
        "    return res"
      ],
      "metadata": {
        "id": "TfuUdz2bbxIc"
      },
      "execution_count": null,
      "outputs": []
    },
    {
      "cell_type": "code",
      "source": [
        "model = Sequential()\n",
        "model.add(Flatten(input_shape=(28, 28)))\n",
        "model.add(RBFLayer(units=10, gamma=0.5))\n",
        "model.add(Dense(1, activation='sigmoid'))\n",
        "\n",
        "model.compile(optimizer='rmsprop', loss=binary_crossentropy)"
      ],
      "metadata": {
        "id": "ye0X9YpfcYJZ"
      },
      "execution_count": 3,
      "outputs": []
    },
    {
      "cell_type": "code",
      "source": [
        "model.fit(X, y, batch_size=256, epochs=3)"
      ],
      "metadata": {
        "colab": {
          "base_uri": "https://localhost:8080/"
        },
        "id": "_p7Q3CgJeK_A",
        "outputId": "d38d9d79-49f7-481d-d587-67d3ec846ed2"
      },
      "execution_count": 12,
      "outputs": [
        {
          "output_type": "stream",
          "name": "stdout",
          "text": [
            "Epoch 1/3\n",
            "908/908 [==============================] - 20s 21ms/step - loss: 0.6823\n",
            "Epoch 2/3\n",
            "908/908 [==============================] - 19s 21ms/step - loss: 0.6806\n",
            "Epoch 3/3\n",
            "908/908 [==============================] - 19s 21ms/step - loss: 0.6806\n"
          ]
        },
        {
          "output_type": "execute_result",
          "data": {
            "text/plain": [
              "<keras.callbacks.History at 0x7f5963b54f10>"
            ]
          },
          "metadata": {},
          "execution_count": 12
        }
      ]
    }
  ]
}