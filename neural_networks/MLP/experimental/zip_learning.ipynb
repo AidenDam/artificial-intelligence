{
  "nbformat": 4,
  "nbformat_minor": 0,
  "metadata": {
    "colab": {
      "name": "zip_learning.ipynb",
      "provenance": [],
      "collapsed_sections": [],
      "authorship_tag": "ABX9TyMopxhbnZCQHibT6Wyxr/mi",
      "include_colab_link": true
    },
    "kernelspec": {
      "name": "python3",
      "display_name": "Python 3"
    }
  },
  "cells": [
    {
      "cell_type": "markdown",
      "metadata": {
        "id": "view-in-github",
        "colab_type": "text"
      },
      "source": [
        "<a href=\"https://colab.research.google.com/github/PsorTheDoctor/Sekcja-SI/blob/master/neural_networks/MLP/experimental/zip_learning.ipynb\" target=\"_parent\"><img src=\"https://colab.research.google.com/assets/colab-badge.svg\" alt=\"Open In Colab\"/></a>"
      ]
    },
    {
      "cell_type": "markdown",
      "metadata": {
        "id": "c1ACAYy4Iuev",
        "colab_type": "text"
      },
      "source": [
        "# Zip Learning - Uczenie skompresowane\n",
        "Eksperymentalna metoda uczenia na skompresowanym zbiorze Mnist."
      ]
    },
    {
      "cell_type": "markdown",
      "metadata": {
        "id": "6ljDzo5Lupqs",
        "colab_type": "text"
      },
      "source": [
        "## Import bibliotek"
      ]
    },
    {
      "cell_type": "code",
      "metadata": {
        "id": "P5lGUmImIt48",
        "colab_type": "code",
        "colab": {}
      },
      "source": [
        "%tensorflow_version 2.x\n",
        "from datetime import datetime\n",
        "import numpy as np\n",
        "\n",
        "import tensorflow as tf\n",
        "from tensorflow.keras.datasets.mnist import load_data\n",
        "from tensorflow.keras.models import Sequential\n",
        "from tensorflow.keras.layers import InputLayer, Dense, Dropout"
      ],
      "execution_count": 0,
      "outputs": []
    },
    {
      "cell_type": "markdown",
      "metadata": {
        "id": "0RfpmBAhvBMm",
        "colab_type": "text"
      },
      "source": [
        "## Funkcje kompresujące\n",
        "Zastosowany algorytm kompresji jest podobny algorytmu kompresji bezstratnej RLE. Funkcje kompresji dla tablic jednowymiarowych (wektorów) i dwuwymiarowych (macierzy) to odpowiednio `zip1D` i `zip2D`. Obie operują na obiektach `numpy.ndarray`. Funkcje zwracają po 2 tablice, z których pierwsza `unique_vals` zawiera serię wartości wystepujących w argumencie (jeśli wiele takich samych wartości stoi po sobie to są zapisywanie jako jedna), a druga `vals_ctr` - ilość wystąpień każdej z nich. \n",
        "\n",
        "\n"
      ]
    },
    {
      "cell_type": "code",
      "metadata": {
        "id": "VkIMCZ07K935",
        "colab_type": "code",
        "colab": {}
      },
      "source": [
        "# Kompresja 1-wymiarowa\n",
        "def zip1D(array):\n",
        "  unique_vals = []\n",
        "  vals_ctr = []\n",
        "  current_val = None\n",
        "  idx = -1\n",
        "\n",
        "  for i in range(len(array)):\n",
        "    if array[i] != current_val:  # \"is not\" doesn't work with numpy arrays!\n",
        "      current_val = array[i]\n",
        "      unique_vals.append(current_val)\n",
        "      vals_ctr.append(0)\n",
        "      idx += 1\n",
        "    vals_ctr[idx] += 1\n",
        "\n",
        "  return unique_vals, vals_ctr\n",
        "\n",
        "# Kompresja 2-wymiarowa\n",
        "def zip2D(mat):\n",
        "  if type(mat) is np.ndarray:\n",
        "    array = mat.flatten(order='C')\n",
        "    return zip1D(array)"
      ],
      "execution_count": 0,
      "outputs": []
    },
    {
      "cell_type": "markdown",
      "metadata": {
        "id": "ea_iVUta02EB",
        "colab_type": "text"
      },
      "source": [
        "Przykład działania funkcji `zip1D`:"
      ]
    },
    {
      "cell_type": "code",
      "metadata": {
        "id": "tuW_cOd80TFD",
        "colab_type": "code",
        "colab": {
          "base_uri": "https://localhost:8080/",
          "height": 35
        },
        "outputId": "c580479b-3c55-4ecd-855d-286dbc2367bb"
      },
      "source": [
        "array = np.array(['A','A','B','A','A','A','A'])\n",
        "\n",
        "unique_vals, vals_ctr = zip1D(array)\n",
        "unique_vals, vals_ctr"
      ],
      "execution_count": 114,
      "outputs": [
        {
          "output_type": "execute_result",
          "data": {
            "text/plain": [
              "(['A', 'B', 'A'], [2, 1, 4])"
            ]
          },
          "metadata": {
            "tags": []
          },
          "execution_count": 114
        }
      ]
    },
    {
      "cell_type": "markdown",
      "metadata": {
        "id": "C37RSqzi1COH",
        "colab_type": "text"
      },
      "source": [
        "Przykład działania funkcji `zip2D`:"
      ]
    },
    {
      "cell_type": "code",
      "metadata": {
        "id": "FgU4HUN60gYv",
        "colab_type": "code",
        "colab": {
          "base_uri": "https://localhost:8080/",
          "height": 35
        },
        "outputId": "3f58125f-2a5b-42f8-d560-606c4e8e2005"
      },
      "source": [
        "mat = np.array([['A','B','A'], \n",
        "                ['B','B','B'], \n",
        "                ['A','B','A']])\n",
        "\n",
        "unique_vals, vals_ctr = zip2D(mat)\n",
        "unique_vals, vals_ctr"
      ],
      "execution_count": 115,
      "outputs": [
        {
          "output_type": "execute_result",
          "data": {
            "text/plain": [
              "(['A', 'B', 'A', 'B', 'A', 'B', 'A'], [1, 1, 1, 3, 1, 1, 1])"
            ]
          },
          "metadata": {
            "tags": []
          },
          "execution_count": 115
        }
      ]
    },
    {
      "cell_type": "markdown",
      "metadata": {
        "id": "N-GGUJ2WvYB6",
        "colab_type": "text"
      },
      "source": [
        "## Załadowanie danych"
      ]
    },
    {
      "cell_type": "code",
      "metadata": {
        "id": "bGk5m10QJ8CT",
        "colab_type": "code",
        "colab": {}
      },
      "source": [
        "(X_train, y_train), (X_test, y_test) = load_data()"
      ],
      "execution_count": 0,
      "outputs": []
    },
    {
      "cell_type": "code",
      "metadata": {
        "id": "859C0hRsqXE4",
        "colab_type": "code",
        "colab": {
          "base_uri": "https://localhost:8080/",
          "height": 52
        },
        "outputId": "79cd53cc-6de0-47bf-ada5-c9f52880e8cb"
      },
      "source": [
        "print(X_train.shape)\n",
        "print(y_train.shape)"
      ],
      "execution_count": 93,
      "outputs": [
        {
          "output_type": "stream",
          "text": [
            "(60000, 28, 28)\n",
            "(60000,)\n"
          ],
          "name": "stdout"
        }
      ]
    },
    {
      "cell_type": "markdown",
      "metadata": {
        "id": "PNKvvLvAvczo",
        "colab_type": "text"
      },
      "source": [
        "## Normalizacja"
      ]
    },
    {
      "cell_type": "code",
      "metadata": {
        "id": "KsN4OFKKRPqU",
        "colab_type": "code",
        "colab": {}
      },
      "source": [
        "# X_train = X_train / 255.0\n",
        "n_samples = len(X_train)\n",
        "width = len(X_train[0])\n",
        "height = len(X_train[0][0])\n",
        "threshold = 128\n",
        "\n",
        "for n in range(n_samples):\n",
        "  for x in range(width):\n",
        "    for y in range(height):\n",
        "      if X_train[n][x][y] < threshold:\n",
        "        X_train[n][x][y] = 0\n",
        "      else:\n",
        "        X_train[n][x][y] = 1"
      ],
      "execution_count": 0,
      "outputs": []
    },
    {
      "cell_type": "markdown",
      "metadata": {
        "id": "zrIYdbeUvqgg",
        "colab_type": "text"
      },
      "source": [
        "## Kompresja"
      ]
    },
    {
      "cell_type": "code",
      "metadata": {
        "id": "eOX2awg3Krpe",
        "colab_type": "code",
        "colab": {
          "base_uri": "https://localhost:8080/",
          "height": 35
        },
        "outputId": "c3e6571c-fbdb-402d-94aa-786be5427796"
      },
      "source": [
        "X_train_unique_vals = []\n",
        "X_train_vals_ctr = []\n",
        "\n",
        "start = datetime.now()\n",
        "for i in range(len(X_train)):\n",
        "  current_val, val_ctr = zip2D(X_train[i])\n",
        "  X_train_unique_vals.append(current_val)\n",
        "  X_train_vals_ctr.append(val_ctr)\n",
        "\n",
        "zipping_time = datetime.now() - start\n",
        "print(zipping_time)"
      ],
      "execution_count": 97,
      "outputs": [
        {
          "output_type": "stream",
          "text": [
            "0:00:13.333470\n"
          ],
          "name": "stdout"
        }
      ]
    },
    {
      "cell_type": "code",
      "metadata": {
        "id": "lZ3eWuCZMdOg",
        "colab_type": "code",
        "colab": {
          "base_uri": "https://localhost:8080/",
          "height": 87
        },
        "outputId": "d85136e6-11e1-4582-c1c8-9e15d8252ec0"
      },
      "source": [
        "print(len(X_train_vals_ctr))\n",
        "print(len(X_train_unique_vals))\n",
        "\n",
        "print(len(X_train_unique_vals[0]))\n",
        "print(len(X_train_vals_ctr[0]))"
      ],
      "execution_count": 98,
      "outputs": [
        {
          "output_type": "stream",
          "text": [
            "60000\n",
            "60000\n",
            "47\n",
            "47\n"
          ],
          "name": "stdout"
        }
      ]
    },
    {
      "cell_type": "markdown",
      "metadata": {
        "id": "71lTm-MW1XCy",
        "colab_type": "text"
      },
      "source": [
        "## Znalezienie wektora o największej długości"
      ]
    },
    {
      "cell_type": "code",
      "metadata": {
        "id": "M3qinvVjVABc",
        "colab_type": "code",
        "colab": {
          "base_uri": "https://localhost:8080/",
          "height": 35
        },
        "outputId": "769a8b07-dc9f-41df-8a69-06fe67608608"
      },
      "source": [
        "best_length = 0\n",
        "for i in range(len(X_train_vals_ctr)):\n",
        "  if len(X_train_vals_ctr[i]) > best_length:\n",
        "    best_length = len(X_train_vals_ctr[i])\n",
        "\n",
        "print(best_length)"
      ],
      "execution_count": 99,
      "outputs": [
        {
          "output_type": "stream",
          "text": [
            "101\n"
          ],
          "name": "stdout"
        }
      ]
    },
    {
      "cell_type": "markdown",
      "metadata": {
        "id": "NHn-aUW9v7QB",
        "colab_type": "text"
      },
      "source": [
        "## Padding"
      ]
    },
    {
      "cell_type": "code",
      "metadata": {
        "id": "9LPL27F6Vspe",
        "colab_type": "code",
        "colab": {
          "base_uri": "https://localhost:8080/",
          "height": 35
        },
        "outputId": "7172c958-a973-4c8f-b27b-b53a979d50eb"
      },
      "source": [
        "padded_X_train_vals_ctr = np.zeros([len(X_train_vals_ctr), best_length])\n",
        "\n",
        "for i in range(len(X_train_vals_ctr)):\n",
        "  padded = np.pad(X_train_vals_ctr[i], \n",
        "                  pad_width=(best_length - len(X_train_vals_ctr[i]), 0), \n",
        "                  mode='constant')\n",
        "  padded_X_train_vals_ctr[i] = padded\n",
        "\n",
        "print(padded_X_train_vals_ctr[0].shape)"
      ],
      "execution_count": 100,
      "outputs": [
        {
          "output_type": "stream",
          "text": [
            "(101,)\n"
          ],
          "name": "stdout"
        }
      ]
    },
    {
      "cell_type": "code",
      "metadata": {
        "id": "WtvStaNPegMa",
        "colab_type": "code",
        "colab": {
          "base_uri": "https://localhost:8080/",
          "height": 52
        },
        "outputId": "05f76082-fb36-456f-f1b7-a5a8cdee709d"
      },
      "source": [
        "print(padded_X_train_vals_ctr.shape)\n",
        "print(y_train.shape)"
      ],
      "execution_count": 101,
      "outputs": [
        {
          "output_type": "stream",
          "text": [
            "(60000, 101)\n",
            "(60000,)\n"
          ],
          "name": "stdout"
        }
      ]
    },
    {
      "cell_type": "markdown",
      "metadata": {
        "id": "yEyr9xC-v0SK",
        "colab_type": "text"
      },
      "source": [
        "## Budowa sieci MLP"
      ]
    },
    {
      "cell_type": "code",
      "metadata": {
        "id": "jiUJ8hknSwqD",
        "colab_type": "code",
        "colab": {
          "base_uri": "https://localhost:8080/",
          "height": 260
        },
        "outputId": "6e8bc998-713c-478d-ec05-26878556088d"
      },
      "source": [
        "model = Sequential()\n",
        "model.add(InputLayer(input_shape=(padded_X_train_vals_ctr.shape)))\n",
        "model.add(Dense(units=128, activation='relu'))\n",
        "model.add(Dropout(0.2))\n",
        "model.add(Dense(units=10, activation='softmax'))\n",
        "\n",
        "model.compile(optimizer='adam',\n",
        "              loss='sparse_categorical_crossentropy',\n",
        "              metrics=['accuracy'])\n",
        "\n",
        "model.summary()"
      ],
      "execution_count": 102,
      "outputs": [
        {
          "output_type": "stream",
          "text": [
            "Model: \"sequential_8\"\n",
            "_________________________________________________________________\n",
            "Layer (type)                 Output Shape              Param #   \n",
            "=================================================================\n",
            "dense_12 (Dense)             (None, 60000, 128)        13056     \n",
            "_________________________________________________________________\n",
            "dropout_6 (Dropout)          (None, 60000, 128)        0         \n",
            "_________________________________________________________________\n",
            "dense_13 (Dense)             (None, 60000, 10)         1290      \n",
            "=================================================================\n",
            "Total params: 14,346\n",
            "Trainable params: 14,346\n",
            "Non-trainable params: 0\n",
            "_________________________________________________________________\n"
          ],
          "name": "stdout"
        }
      ]
    },
    {
      "cell_type": "markdown",
      "metadata": {
        "id": "d5Lh2G7DwCPx",
        "colab_type": "text"
      },
      "source": [
        "## Trening modelu"
      ]
    },
    {
      "cell_type": "code",
      "metadata": {
        "id": "I-1P3W2ociwS",
        "colab_type": "code",
        "colab": {
          "base_uri": "https://localhost:8080/",
          "height": 191
        },
        "outputId": "a978bab7-2e0d-4074-d654-45e45f20c9ee"
      },
      "source": [
        "history = model.fit(padded_X_train_vals_ctr, y_train, epochs=5)"
      ],
      "execution_count": 106,
      "outputs": [
        {
          "output_type": "stream",
          "text": [
            "Epoch 1/5\n",
            "1875/1875 [==============================] - 3s 1ms/step - loss: 0.3783 - accuracy: 0.8725\n",
            "Epoch 2/5\n",
            "1875/1875 [==============================] - 3s 1ms/step - loss: 0.3756 - accuracy: 0.8718\n",
            "Epoch 3/5\n",
            "1875/1875 [==============================] - 3s 1ms/step - loss: 0.3752 - accuracy: 0.8728\n",
            "Epoch 4/5\n",
            "1875/1875 [==============================] - 3s 1ms/step - loss: 0.3760 - accuracy: 0.8723\n",
            "Epoch 5/5\n",
            "1875/1875 [==============================] - 3s 1ms/step - loss: 0.3738 - accuracy: 0.8734\n"
          ],
          "name": "stdout"
        }
      ]
    }
  ]
}