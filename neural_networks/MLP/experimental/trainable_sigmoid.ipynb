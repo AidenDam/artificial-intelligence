{
  "cells": [
    {
      "cell_type": "markdown",
      "metadata": {
        "id": "view-in-github",
        "colab_type": "text"
      },
      "source": [
        "<a href=\"https://colab.research.google.com/github/PsorTheDoctor/Sekcja-SI/blob/master/neural_networks/MLP/experimental/trainable_sigmoid.ipynb\" target=\"_parent\"><img src=\"https://colab.research.google.com/assets/colab-badge.svg\" alt=\"Open In Colab\"/></a>"
      ]
    },
    {
      "cell_type": "markdown",
      "source": [
        "#Trainable sigmoid nets"
      ],
      "metadata": {
        "id": "ud8CQ2ZKfqwz"
      }
    },
    {
      "cell_type": "code",
      "execution_count": 1,
      "metadata": {
        "id": "N6qxCGIqvfpO"
      },
      "outputs": [],
      "source": [
        "import numpy as np\n",
        "import tensorflow as tf\n",
        "import matplotlib.pyplot as plt\n",
        "\n",
        "from tensorflow import keras\n",
        "from tensorflow.keras.datasets.cifar10 import load_data\n",
        "from tensorflow.keras.models import Sequential\n",
        "from tensorflow.keras.layers import Layer, Flatten, Dense, Conv2D, MaxPooling2D"
      ]
    },
    {
      "cell_type": "code",
      "execution_count": 2,
      "metadata": {
        "colab": {
          "base_uri": "https://localhost:8080/"
        },
        "id": "7dty75jA4C8-",
        "outputId": "59a566ca-a4c4-40e6-e03e-052bfe6cdfad"
      },
      "outputs": [
        {
          "output_type": "stream",
          "name": "stdout",
          "text": [
            "Downloading data from https://www.cs.toronto.edu/~kriz/cifar-10-python.tar.gz\n",
            "170500096/170498071 [==============================] - 11s 0us/step\n",
            "170508288/170498071 [==============================] - 11s 0us/step\n"
          ]
        }
      ],
      "source": [
        "(X_train, y_train), (X_test, y_test) = load_data()"
      ]
    },
    {
      "cell_type": "code",
      "execution_count": 3,
      "metadata": {
        "id": "_y65vCEm4JZu"
      },
      "outputs": [],
      "source": [
        "X_train = X_train / 255\n",
        "X_test = X_test / 255"
      ]
    },
    {
      "cell_type": "code",
      "execution_count": 4,
      "metadata": {
        "id": "IP9h8FtzuTxy"
      },
      "outputs": [],
      "source": [
        "class TrainableSigmoid(Layer):\n",
        "  def __init__(self, units):\n",
        "    super(TrainableSigmoid, self).__init__()\n",
        "    self.units = units\n",
        "    self.initializer = keras.initializers.get('random_normal')\n",
        "    self.activation = keras.activations.get('sigmoid') \n",
        "  \n",
        "  def build(self, input_shape):\n",
        "    self.beta = self.add_weight(\n",
        "        shape=(input_shape[-1], self.units),\n",
        "        initializer=self.initializer,\n",
        "        trainable=True\n",
        "    )\n",
        "\n",
        "  def call(self, inputs):\n",
        "    x = tf.matmul(inputs, self.beta)\n",
        "    return self.activation(x)"
      ]
    },
    {
      "cell_type": "code",
      "execution_count": 5,
      "metadata": {
        "id": "_1_DkZQe0KGc"
      },
      "outputs": [],
      "source": [
        "def net():\n",
        "  model = Sequential()\n",
        "  model.add(Flatten(input_shape=(32, 32, 3)))\n",
        "  model.add(Dense(1000, activation='sigmoid'))\n",
        "  model.add(Dense(120, activation='sigmoid'))\n",
        "  model.add(Dense(84, activation='sigmoid'))\n",
        "  model.add(Dense(10, activation='softmax'))\n",
        "\n",
        "  model.compile(optimizer='adam',\n",
        "                loss='sparse_categorical_crossentropy',\n",
        "                metrics=['accuracy'])\n",
        "  return model"
      ]
    },
    {
      "cell_type": "code",
      "execution_count": 6,
      "metadata": {
        "id": "_xD8cLbC26cG"
      },
      "outputs": [],
      "source": [
        "def trainable_sigmoid_net():\n",
        "  model = Sequential()\n",
        "  model.add(Flatten(input_shape=(32, 32, 3)))\n",
        "  model.add(Dense(1000, activation='linear'))\n",
        "  model.add(TrainableSigmoid(1000))\n",
        "  model.add(Dense(120, activation='linear'))\n",
        "  model.add(TrainableSigmoid(120))\n",
        "  model.add(Dense(84, activation='linear'))\n",
        "  model.add(TrainableSigmoid(84))\n",
        "  model.add(Dense(10, activation='softmax'))\n",
        "\n",
        "  model.compile(optimizer='adam',\n",
        "                loss='sparse_categorical_crossentropy',\n",
        "                metrics=['accuracy'])\n",
        "  return model"
      ]
    },
    {
      "cell_type": "code",
      "execution_count": 7,
      "metadata": {
        "colab": {
          "base_uri": "https://localhost:8080/"
        },
        "id": "vAtIqkGwK54N",
        "outputId": "a5fbf9a5-2be9-4158-8c75-11d999bc7d44"
      },
      "outputs": [
        {
          "output_type": "stream",
          "name": "stdout",
          "text": [
            "Epoch 1/10\n",
            "1563/1563 [==============================] - 11s 5ms/step - loss: 1.9600 - accuracy: 0.2734\n",
            "Epoch 2/10\n",
            "1563/1563 [==============================] - 8s 5ms/step - loss: 1.8337 - accuracy: 0.3304\n",
            "Epoch 3/10\n",
            "1563/1563 [==============================] - 8s 5ms/step - loss: 1.7829 - accuracy: 0.3512\n",
            "Epoch 4/10\n",
            "1563/1563 [==============================] - 9s 6ms/step - loss: 1.7490 - accuracy: 0.3649\n",
            "Epoch 5/10\n",
            "1563/1563 [==============================] - 8s 5ms/step - loss: 1.7191 - accuracy: 0.3771\n",
            "Epoch 6/10\n",
            "1563/1563 [==============================] - 8s 5ms/step - loss: 1.6993 - accuracy: 0.3863\n",
            "Epoch 7/10\n",
            "1563/1563 [==============================] - 8s 5ms/step - loss: 1.6766 - accuracy: 0.3939\n",
            "Epoch 8/10\n",
            "1563/1563 [==============================] - 8s 5ms/step - loss: 1.6489 - accuracy: 0.4070\n",
            "Epoch 9/10\n",
            "1563/1563 [==============================] - 8s 5ms/step - loss: 1.6370 - accuracy: 0.4111\n",
            "Epoch 10/10\n",
            "1563/1563 [==============================] - 8s 5ms/step - loss: 1.6198 - accuracy: 0.4150\n"
          ]
        }
      ],
      "source": [
        "model1 = net()\n",
        "history1 = model1.fit(X_train, y_train, epochs=10)"
      ]
    },
    {
      "cell_type": "code",
      "source": [
        "model2 = trainable_sigmoid_net()\n",
        "history2 = model2.fit(X_train, y_train, epochs=10)"
      ],
      "metadata": {
        "colab": {
          "base_uri": "https://localhost:8080/"
        },
        "id": "kLFS7TLTfnmq",
        "outputId": "2b50ec44-5cfb-4f10-dc90-1c4ab956204a"
      },
      "execution_count": 8,
      "outputs": [
        {
          "output_type": "stream",
          "name": "stdout",
          "text": [
            "Epoch 1/10\n",
            "1563/1563 [==============================] - 11s 7ms/step - loss: 2.1530 - accuracy: 0.1605\n",
            "Epoch 2/10\n",
            "1563/1563 [==============================] - 10s 7ms/step - loss: 2.0830 - accuracy: 0.1820\n",
            "Epoch 3/10\n",
            "1563/1563 [==============================] - 10s 7ms/step - loss: 2.0691 - accuracy: 0.1865\n",
            "Epoch 4/10\n",
            "1563/1563 [==============================] - 10s 7ms/step - loss: 2.0835 - accuracy: 0.1846\n",
            "Epoch 5/10\n",
            "1563/1563 [==============================] - 10s 7ms/step - loss: 2.1072 - accuracy: 0.1794\n",
            "Epoch 6/10\n",
            "1563/1563 [==============================] - 10s 7ms/step - loss: 2.0644 - accuracy: 0.1878\n",
            "Epoch 7/10\n",
            "1563/1563 [==============================] - 10s 7ms/step - loss: 2.0599 - accuracy: 0.1901\n",
            "Epoch 8/10\n",
            "1563/1563 [==============================] - 10s 7ms/step - loss: 2.0613 - accuracy: 0.1889\n",
            "Epoch 9/10\n",
            "1563/1563 [==============================] - 10s 6ms/step - loss: 2.0612 - accuracy: 0.1898\n",
            "Epoch 10/10\n",
            "1563/1563 [==============================] - 10s 6ms/step - loss: 2.0771 - accuracy: 0.1844\n"
          ]
        }
      ]
    },
    {
      "cell_type": "code",
      "source": [
        "plt.title('Loss on CIFAR10')\n",
        "plt.plot(history1.history['loss'], label='constant')\n",
        "plt.plot(history2.history['loss'], label='trainable')\n",
        "plt.legend()"
      ],
      "metadata": {
        "colab": {
          "base_uri": "https://localhost:8080/",
          "height": 299
        },
        "id": "rP592S5cgT-K",
        "outputId": "3a5ffe50-5fe8-47f8-cee0-7c11789b4c47"
      },
      "execution_count": 9,
      "outputs": [
        {
          "output_type": "execute_result",
          "data": {
            "text/plain": [
              "<matplotlib.legend.Legend at 0x7f90700be590>"
            ]
          },
          "metadata": {},
          "execution_count": 9
        },
        {
          "output_type": "display_data",
          "data": {
            "text/plain": [
              "<Figure size 432x288 with 1 Axes>"
            ],
            "image/png": "[encoded data removed]"
          },
          "metadata": {
            "needs_background": "light"
          }
        }
      ]
    },
    {
      "cell_type": "code",
      "source": [
        "plt.title('Accuracy on CIFAR10')\n",
        "plt.plot(history1.history['accuracy'], label='constant')\n",
        "plt.plot(history2.history['accuracy'], label='trainable')\n",
        "plt.legend()"
      ],
      "metadata": {
        "colab": {
          "base_uri": "https://localhost:8080/",
          "height": 299
        },
        "id": "t7lbXJuAhXEM",
        "outputId": "ce001dea-7ec7-4d11-9624-a974b29272a0"
      },
      "execution_count": 10,
      "outputs": [
        {
          "output_type": "execute_result",
          "data": {
            "text/plain": [
              "<matplotlib.legend.Legend at 0x7f8ff7f8fe50>"
            ]
          },
          "metadata": {},
          "execution_count": 10
        },
        {
          "output_type": "display_data",
          "data": {
            "text/plain": [
              "<Figure size 432x288 with 1 Axes>"
            ],
            "image/png": "[encoded data removed]"
          },
          "metadata": {
            "needs_background": "light"
          }
        }
      ]
    }
  ],
  "metadata": {
    "colab": {
      "name": "trainable_sigmoid.ipynb",
      "provenance": [],
      "collapsed_sections": [],
      "authorship_tag": "ABX9TyNu2K6NSf9jzjceOq5UCdry",
      "include_colab_link": true
    },
    "kernelspec": {
      "display_name": "Python 3",
      "name": "python3"
    },
    "language_info": {
      "name": "python"
    },
    "accelerator": "GPU"
  },
  "nbformat": 4,
  "nbformat_minor": 0
}