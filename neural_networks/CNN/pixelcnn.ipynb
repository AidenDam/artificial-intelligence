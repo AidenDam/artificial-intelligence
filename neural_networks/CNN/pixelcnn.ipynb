{
  "nbformat": 4,
  "nbformat_minor": 0,
  "metadata": {
    "colab": {
      "name": "pixelcnn.ipynb",
      "provenance": [],
      "collapsed_sections": [],
      "authorship_tag": "ABX9TyPfd36wg6CHF4lkcJIwlq3z",
      "include_colab_link": true
    },
    "kernelspec": {
      "name": "python3",
      "display_name": "Python 3"
    },
    "language_info": {
      "name": "python"
    },
    "accelerator": "GPU"
  },
  "cells": [
    {
      "cell_type": "markdown",
      "metadata": {
        "id": "view-in-github",
        "colab_type": "text"
      },
      "source": [
        "<a href=\"https://colab.research.google.com/github/PsorTheDoctor/Sekcja-SI/blob/master/neural_networks/CNN/pixelcnn.ipynb\" target=\"_parent\"><img src=\"https://colab.research.google.com/assets/colab-badge.svg\" alt=\"Open In Colab\"/></a>"
      ]
    },
    {
      "cell_type": "markdown",
      "metadata": {
        "id": "WWCYgQAABKid"
      },
      "source": [
        "#PixelCNN\n",
        "##Import bibliotek"
      ]
    },
    {
      "cell_type": "code",
      "metadata": {
        "id": "DTLjE01TAf4J"
      },
      "source": [
        "import numpy as np\n",
        "import tensorflow as tf\n",
        "from tensorflow import keras\n",
        "from tensorflow.keras import layers\n",
        "from tqdm import tqdm"
      ],
      "execution_count": 1,
      "outputs": []
    },
    {
      "cell_type": "markdown",
      "metadata": {
        "id": "Lug7PJ_xBQI9"
      },
      "source": [
        "##Załadowanie danych"
      ]
    },
    {
      "cell_type": "code",
      "metadata": {
        "colab": {
          "base_uri": "https://localhost:8080/"
        },
        "id": "YI2AIzVEBIrW",
        "outputId": "4881db92-4ec5-4374-f97c-7ac8e33f7a0d"
      },
      "source": [
        "num_classes = 10\n",
        "input_shape = (28, 28, 1)\n",
        "n_residual_blocks = 5\n",
        "# Podział danych na traningowe i testowe\n",
        "(x, _), (y, _) = keras.datasets.mnist.load_data()\n",
        "# Zaokrąglenie wszystkich pikseli mniejszych od 33% z 256 do 0\n",
        "# Wszystko powyżej tej wartości zostanie zaokrąglone do 1, więc wartości\n",
        "# będą równe 0 lub 1\n",
        "data = np.concatenate((x, y), axis=0)\n",
        "data = np.where(data < (0.33 * 256), 0, 1)\n",
        "data = data.astype(np.float32)"
      ],
      "execution_count": 2,
      "outputs": [
        {
          "output_type": "stream",
          "text": [
            "Downloading data from https://storage.googleapis.com/tensorflow/tf-keras-datasets/mnist.npz\n",
            "11493376/11490434 [==============================] - 0s 0us/step\n"
          ],
          "name": "stdout"
        }
      ]
    },
    {
      "cell_type": "markdown",
      "metadata": {
        "id": "NdhDl5CNKdNm"
      },
      "source": [
        "##Stworzenie warstw modelu"
      ]
    },
    {
      "cell_type": "code",
      "metadata": {
        "id": "R8F0wRltBLGc"
      },
      "source": [
        "class PixelConvLayer(layers.Layer):\n",
        "  def __init__(self, mask_type, **kwargs):\n",
        "    super(PixelConvLayer, self).__init__()\n",
        "    self.mask_type = mask_type\n",
        "    self.conv = layers.Conv2D(**kwargs)\n",
        "\n",
        "  def build(self, input_shape):\n",
        "    self.conv.build(input_shape)\n",
        "    kernel_shape = self.conv.kernel.get_shape()\n",
        "    self.mask = np.zeros(shape=kernel_shape)\n",
        "    self.mask[: kernel_shape[0] // 2, ...] = 1.0\n",
        "    self.mask[kernel_shape[0] // 2, : kernel_shape[1] // 2, ...] = 1.0\n",
        "    if self.mask_type == 'B':\n",
        "      self.mask[kernel_shape[0] // 2, kernel_shape[1] // 2, ...] = 1.0\n",
        "\n",
        "  def call(self, inputs):\n",
        "    self.conv.kernel.assign(self.conv.kernel * self.mask)\n",
        "    return self.conv(inputs)\n",
        "\n",
        "\n",
        "class ResidualBlock(layers.Layer):\n",
        "  def __init__(self, filters, **kwargs):\n",
        "    super(ResidualBlock, self).__init__(kwargs);\n",
        "    self.conv1 = layers.Conv2D(\n",
        "        filters=filters, kernel_size=1, activation='relu'\n",
        "    )\n",
        "    self.pixel_conv = PixelConvLayer(\n",
        "        mask_type='B',\n",
        "        filters = filters // 2,\n",
        "        kernel_size=3,\n",
        "        activation='relu',\n",
        "        padding='same'\n",
        "    )\n",
        "    self.conv2 = layers.Conv2D(\n",
        "        filters=filters, kernel_size=1, activation='relu'\n",
        "    )\n",
        "\n",
        "  def call(self, inputs):\n",
        "    x = self.conv1(inputs)\n",
        "    x = self.pixel_conv(x)\n",
        "    x = self.conv2(x)\n",
        "    return layers.add([inputs, x])"
      ],
      "execution_count": 13,
      "outputs": []
    },
    {
      "cell_type": "markdown",
      "metadata": {
        "id": "-6jAS8QuMhVt"
      },
      "source": [
        "##Budowa modelu"
      ]
    },
    {
      "cell_type": "code",
      "metadata": {
        "colab": {
          "base_uri": "https://localhost:8080/"
        },
        "id": "98GvFMF4MkTz",
        "outputId": "fc7a0fd7-99c7-40e3-c416-ed6dd7a9eadf"
      },
      "source": [
        "inputs = keras.Input(shape=input_shape)\n",
        "x = PixelConvLayer(\n",
        "    mask_type='A', filters=128, kernel_size=7, activation='relu', padding='same'\n",
        ")(inputs)\n",
        "\n",
        "for _ in range(n_residual_blocks):\n",
        "  x = ResidualBlock(filters=128)(x)\n",
        "\n",
        "for _ in range(2):\n",
        "  x = PixelConvLayer(\n",
        "      mask_type='B',\n",
        "      filters=128,\n",
        "      kernel_size=1,\n",
        "      strides=1,\n",
        "      activation='relu',\n",
        "      padding='valid'\n",
        "  )(x)\n",
        "\n",
        "out = layers.Conv2D(\n",
        "    filters=1, kernel_size=1, strides=1, activation='sigmoid', padding='valid'\n",
        ")(x)\n",
        "\n",
        "pixel_cnn = keras.Model(inputs, out)\n",
        "adam = keras.optimizers.Adam(learning_rate=0.0005)\n",
        "pixel_cnn.compile(optimizer=adam, loss='binary_crossentropy')\n",
        "\n",
        "pixel_cnn.summary()\n",
        "pixel_cnn.fit(\n",
        "    x=data, y=data, batch_size=128, epochs=50, validation_split=0.1, verbose=2\n",
        ")"
      ],
      "execution_count": 14,
      "outputs": [
        {
          "output_type": "stream",
          "text": [
            "Model: \"model\"\n",
            "_________________________________________________________________\n",
            "Layer (type)                 Output Shape              Param #   \n",
            "=================================================================\n",
            "input_6 (InputLayer)         [(None, 28, 28, 1)]       0         \n",
            "_________________________________________________________________\n",
            "pixel_conv_layer_5 (PixelCon (None, 28, 28, 128)       6400      \n",
            "_________________________________________________________________\n",
            "residual_block_1 (ResidualBl (None, 28, 28, 128)       98624     \n",
            "_________________________________________________________________\n",
            "residual_block_2 (ResidualBl (None, 28, 28, 128)       98624     \n",
            "_________________________________________________________________\n",
            "residual_block_3 (ResidualBl (None, 28, 28, 128)       98624     \n",
            "_________________________________________________________________\n",
            "residual_block_4 (ResidualBl (None, 28, 28, 128)       98624     \n",
            "_________________________________________________________________\n",
            "residual_block_5 (ResidualBl (None, 28, 28, 128)       98624     \n",
            "_________________________________________________________________\n",
            "pixel_conv_layer_11 (PixelCo (None, 28, 28, 128)       16512     \n",
            "_________________________________________________________________\n",
            "pixel_conv_layer_12 (PixelCo (None, 28, 28, 128)       16512     \n",
            "_________________________________________________________________\n",
            "conv2d_24 (Conv2D)           (None, 28, 28, 1)         129       \n",
            "=================================================================\n",
            "Total params: 532,673\n",
            "Trainable params: 39,553\n",
            "Non-trainable params: 493,120\n",
            "_________________________________________________________________\n",
            "Epoch 1/50\n",
            "493/493 - 77s - loss: 0.1387 - val_loss: 0.0975\n",
            "Epoch 2/50\n",
            "493/493 - 46s - loss: 0.0965 - val_loss: 0.0954\n",
            "Epoch 3/50\n",
            "493/493 - 46s - loss: 0.0949 - val_loss: 0.0946\n",
            "Epoch 4/50\n",
            "493/493 - 47s - loss: 0.0942 - val_loss: 0.0939\n",
            "Epoch 5/50\n",
            "493/493 - 47s - loss: 0.0938 - val_loss: 0.0941\n",
            "Epoch 6/50\n",
            "493/493 - 47s - loss: 0.0935 - val_loss: 0.0936\n",
            "Epoch 7/50\n",
            "493/493 - 48s - loss: 0.0932 - val_loss: 0.0932\n",
            "Epoch 8/50\n",
            "493/493 - 48s - loss: 0.0930 - val_loss: 0.0931\n",
            "Epoch 9/50\n",
            "493/493 - 48s - loss: 0.0929 - val_loss: 0.0934\n",
            "Epoch 10/50\n",
            "493/493 - 48s - loss: 0.0928 - val_loss: 0.0930\n",
            "Epoch 11/50\n",
            "493/493 - 48s - loss: 0.0927 - val_loss: 0.0928\n",
            "Epoch 12/50\n",
            "493/493 - 48s - loss: 0.0926 - val_loss: 0.0927\n",
            "Epoch 13/50\n",
            "493/493 - 48s - loss: 0.0925 - val_loss: 0.0928\n",
            "Epoch 14/50\n",
            "493/493 - 48s - loss: 0.0925 - val_loss: 0.0926\n",
            "Epoch 15/50\n",
            "493/493 - 48s - loss: 0.0924 - val_loss: 0.0925\n",
            "Epoch 16/50\n",
            "493/493 - 48s - loss: 0.0924 - val_loss: 0.0927\n",
            "Epoch 17/50\n",
            "493/493 - 48s - loss: 0.0922 - val_loss: 0.0927\n",
            "Epoch 18/50\n",
            "493/493 - 48s - loss: 0.0922 - val_loss: 0.0932\n",
            "Epoch 19/50\n",
            "493/493 - 48s - loss: 0.0922 - val_loss: 0.0923\n",
            "Epoch 20/50\n",
            "493/493 - 48s - loss: 0.0921 - val_loss: 0.0923\n",
            "Epoch 21/50\n",
            "493/493 - 48s - loss: 0.0921 - val_loss: 0.0922\n",
            "Epoch 22/50\n",
            "493/493 - 48s - loss: 0.0921 - val_loss: 0.0924\n",
            "Epoch 23/50\n",
            "493/493 - 48s - loss: 0.0920 - val_loss: 0.0922\n",
            "Epoch 24/50\n",
            "493/493 - 48s - loss: 0.0920 - val_loss: 0.0925\n",
            "Epoch 25/50\n",
            "493/493 - 48s - loss: 0.0920 - val_loss: 0.0921\n",
            "Epoch 26/50\n",
            "493/493 - 48s - loss: 0.0919 - val_loss: 0.0933\n",
            "Epoch 27/50\n",
            "493/493 - 48s - loss: 0.0919 - val_loss: 0.0920\n",
            "Epoch 28/50\n",
            "493/493 - 48s - loss: 0.0918 - val_loss: 0.0919\n",
            "Epoch 29/50\n",
            "493/493 - 48s - loss: 0.0918 - val_loss: 0.0920\n",
            "Epoch 30/50\n",
            "493/493 - 48s - loss: 0.0918 - val_loss: 0.0920\n",
            "Epoch 31/50\n",
            "493/493 - 48s - loss: 0.0918 - val_loss: 0.0923\n",
            "Epoch 32/50\n",
            "493/493 - 48s - loss: 0.0917 - val_loss: 0.0919\n",
            "Epoch 33/50\n",
            "493/493 - 48s - loss: 0.0917 - val_loss: 0.0920\n",
            "Epoch 34/50\n",
            "493/493 - 48s - loss: 0.0916 - val_loss: 0.0919\n",
            "Epoch 35/50\n",
            "493/493 - 48s - loss: 0.0917 - val_loss: 0.0918\n",
            "Epoch 36/50\n",
            "493/493 - 48s - loss: 0.0916 - val_loss: 0.0917\n",
            "Epoch 37/50\n",
            "493/493 - 48s - loss: 0.0916 - val_loss: 0.0919\n",
            "Epoch 38/50\n",
            "493/493 - 48s - loss: 0.0916 - val_loss: 0.0917\n",
            "Epoch 39/50\n",
            "493/493 - 48s - loss: 0.0915 - val_loss: 0.0922\n",
            "Epoch 40/50\n",
            "493/493 - 48s - loss: 0.0915 - val_loss: 0.0919\n",
            "Epoch 41/50\n",
            "493/493 - 48s - loss: 0.0916 - val_loss: 0.0917\n",
            "Epoch 42/50\n",
            "493/493 - 48s - loss: 0.0915 - val_loss: 0.0916\n",
            "Epoch 43/50\n",
            "493/493 - 48s - loss: 0.0915 - val_loss: 0.0917\n",
            "Epoch 44/50\n",
            "493/493 - 48s - loss: 0.0914 - val_loss: 0.0916\n",
            "Epoch 45/50\n",
            "493/493 - 48s - loss: 0.0915 - val_loss: 0.0918\n",
            "Epoch 46/50\n",
            "493/493 - 48s - loss: 0.0914 - val_loss: 0.0916\n",
            "Epoch 47/50\n",
            "493/493 - 48s - loss: 0.0914 - val_loss: 0.0916\n",
            "Epoch 48/50\n",
            "493/493 - 48s - loss: 0.0914 - val_loss: 0.0917\n",
            "Epoch 49/50\n",
            "493/493 - 48s - loss: 0.0914 - val_loss: 0.0919\n",
            "Epoch 50/50\n",
            "493/493 - 48s - loss: 0.0914 - val_loss: 0.0922\n"
          ],
          "name": "stdout"
        },
        {
          "output_type": "execute_result",
          "data": {
            "text/plain": [
              "<tensorflow.python.keras.callbacks.History at 0x7f7fd51deb90>"
            ]
          },
          "metadata": {
            "tags": []
          },
          "execution_count": 14
        }
      ]
    },
    {
      "cell_type": "markdown",
      "metadata": {
        "id": "N24P8Z9-T7XX"
      },
      "source": [
        "##Demonstracja"
      ]
    },
    {
      "cell_type": "code",
      "metadata": {
        "colab": {
          "base_uri": "https://localhost:8080/",
          "height": 146
        },
        "id": "rw3u7OYUTxWp",
        "outputId": "d3fb76c3-c49f-44a3-e801-2a527a98343e"
      },
      "source": [
        "from IPython.display import Image, display\n",
        "\n",
        "batch = 4\n",
        "pixels = np.zeros(shape=(batch,) + (pixel_cnn.input_shape)[1:])\n",
        "batch, rows, cols, channels = pixels.shape\n",
        "\n",
        "for row in tqdm(range(rows)):\n",
        "  for col in range(cols):\n",
        "    for channel in range(channels):\n",
        "      \n",
        "      probs = pixel_cnn.predict(pixels)[:, row, col, channel]\n",
        "      \n",
        "      pixels[:, row, col, channel] = tf.math.ceil(\n",
        "          probs - tf.random.uniform(probs.shape)\n",
        "      )\n",
        "\n",
        "def deprocess_image(x):\n",
        "  x = np.stack((x, x, x), 2)\n",
        "\n",
        "  x *= 255.0\n",
        "\n",
        "  x = np.clip(x, 0, 255).astype('uint8')\n",
        "  return x\n",
        "\n",
        "for i, pic in enumerate(pixels):\n",
        "  keras.preprocessing.image.save_img(\n",
        "      'generated_image_{}.png'.format(i), deprocess_image(np.squeeze(pic, -1))\n",
        "  )\n",
        "\n",
        "display(Image('generated_image_0.png'))\n",
        "display(Image('generated_image_1.png'))\n",
        "display(Image('generated_image_2.png'))\n",
        "display(Image('generated_image_3.png'))"
      ],
      "execution_count": 18,
      "outputs": [
        {
          "output_type": "stream",
          "text": [
            "100%|██████████| 28/28 [00:32<00:00,  1.18s/it]\n"
          ],
          "name": "stderr"
        },
        {
          "output_type": "display_data",
          "data": {
            "image/png": "[encoded data removed]",
            "text/plain": [
              "<IPython.core.display.Image object>"
            ]
          },
          "metadata": {
            "tags": []
          }
        },
        {
          "output_type": "display_data",
          "data": {
            "image/png": "[encoded data removed]",
            "text/plain": [
              "<IPython.core.display.Image object>"
            ]
          },
          "metadata": {
            "tags": []
          }
        },
        {
          "output_type": "display_data",
          "data": {
            "image/png": "[encoded data removed]",
            "text/plain": [
              "<IPython.core.display.Image object>"
            ]
          },
          "metadata": {
            "tags": []
          }
        },
        {
          "output_type": "display_data",
          "data": {
            "image/png": "[encoded data removed]",
            "text/plain": [
              "<IPython.core.display.Image object>"
            ]
          },
          "metadata": {
            "tags": []
          }
        }
      ]
    }
  ]
}