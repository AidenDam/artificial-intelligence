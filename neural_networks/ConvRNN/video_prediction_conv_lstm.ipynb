{
  "nbformat": 4,
  "nbformat_minor": 0,
  "metadata": {
    "colab": {
      "name": "video_prediction_conv_lstm.ipynb",
      "provenance": [],
      "collapsed_sections": [],
      "authorship_tag": "ABX9TyOc5n4bYNLCeQAdhjP1hGC9",
      "include_colab_link": true
    },
    "kernelspec": {
      "name": "python3",
      "display_name": "Python 3"
    },
    "language_info": {
      "name": "python"
    },
    "accelerator": "GPU",
    "widgets": {
      "application/vnd.jupyter.widget-state+json": {
        "6f1f3992e72a4a47bdf6842a429b6041": {
          "model_module": "@jupyter-widgets/controls",
          "model_name": "HBoxModel",
          "state": {
            "_view_name": "HBoxView",
            "_dom_classes": [],
            "_model_name": "HBoxModel",
            "_view_module": "@jupyter-widgets/controls",
            "_model_module_version": "1.5.0",
            "_view_count": null,
            "_view_module_version": "1.5.0",
            "box_style": "",
            "layout": "IPY_MODEL_d95ba6832a5d43339e98e45b15850b1e",
            "_model_module": "@jupyter-widgets/controls",
            "children": [
              "IPY_MODEL_33b699748e484312b3185c5003cac67f",
              "IPY_MODEL_d7301f9ca89b41148e468d38c3b42e8f"
            ]
          }
        },
        "d95ba6832a5d43339e98e45b15850b1e": {
          "model_module": "@jupyter-widgets/base",
          "model_name": "LayoutModel",
          "state": {
            "_view_name": "LayoutView",
            "grid_template_rows": null,
            "right": null,
            "justify_content": null,
            "_view_module": "@jupyter-widgets/base",
            "overflow": null,
            "_model_module_version": "1.2.0",
            "_view_count": null,
            "flex_flow": null,
            "width": null,
            "min_width": null,
            "border": null,
            "align_items": null,
            "bottom": null,
            "_model_module": "@jupyter-widgets/base",
            "top": null,
            "grid_column": null,
            "overflow_y": null,
            "overflow_x": null,
            "grid_auto_flow": null,
            "grid_area": null,
            "grid_template_columns": null,
            "flex": null,
            "_model_name": "LayoutModel",
            "justify_items": null,
            "grid_row": null,
            "max_height": null,
            "align_content": null,
            "visibility": null,
            "align_self": null,
            "height": null,
            "min_height": null,
            "padding": null,
            "grid_auto_rows": null,
            "grid_gap": null,
            "max_width": null,
            "order": null,
            "_view_module_version": "1.2.0",
            "grid_template_areas": null,
            "object_position": null,
            "object_fit": null,
            "grid_auto_columns": null,
            "margin": null,
            "display": null,
            "left": null
          }
        },
        "33b699748e484312b3185c5003cac67f": {
          "model_module": "@jupyter-widgets/controls",
          "model_name": "ImageModel",
          "state": {
            "_view_name": "ImageView",
            "_dom_classes": [],
            "_model_name": "ImageModel",
            "format": "png",
            "_view_module": "@jupyter-widgets/controls",
            "_model_module_version": "1.5.0",
            "_view_count": null,
            "width": "",
            "_view_module_version": "1.5.0",
            "layout": "IPY_MODEL_3c9ca9a1df3c401aa89254d6ed3418a8",
            "height": "",
            "_model_module": "@jupyter-widgets/controls"
          }
        },
        "d7301f9ca89b41148e468d38c3b42e8f": {
          "model_module": "@jupyter-widgets/controls",
          "model_name": "ImageModel",
          "state": {
            "_view_name": "ImageView",
            "_dom_classes": [],
            "_model_name": "ImageModel",
            "format": "png",
            "_view_module": "@jupyter-widgets/controls",
            "_model_module_version": "1.5.0",
            "_view_count": null,
            "width": "",
            "_view_module_version": "1.5.0",
            "layout": "IPY_MODEL_cd31acd35bb94d87b2f843832f3a2421",
            "height": "",
            "_model_module": "@jupyter-widgets/controls"
          }
        },
        "3c9ca9a1df3c401aa89254d6ed3418a8": {
          "model_module": "@jupyter-widgets/base",
          "model_name": "LayoutModel",
          "state": {
            "_view_name": "LayoutView",
            "grid_template_rows": null,
            "right": null,
            "justify_content": null,
            "_view_module": "@jupyter-widgets/base",
            "overflow": null,
            "_model_module_version": "1.2.0",
            "_view_count": null,
            "flex_flow": null,
            "width": null,
            "min_width": null,
            "border": null,
            "align_items": null,
            "bottom": null,
            "_model_module": "@jupyter-widgets/base",
            "top": null,
            "grid_column": null,
            "overflow_y": null,
            "overflow_x": null,
            "grid_auto_flow": null,
            "grid_area": null,
            "grid_template_columns": null,
            "flex": null,
            "_model_name": "LayoutModel",
            "justify_items": null,
            "grid_row": null,
            "max_height": null,
            "align_content": null,
            "visibility": null,
            "align_self": null,
            "height": null,
            "min_height": null,
            "padding": null,
            "grid_auto_rows": null,
            "grid_gap": null,
            "max_width": null,
            "order": null,
            "_view_module_version": "1.2.0",
            "grid_template_areas": null,
            "object_position": null,
            "object_fit": null,
            "grid_auto_columns": null,
            "margin": null,
            "display": null,
            "left": null
          }
        },
        "cd31acd35bb94d87b2f843832f3a2421": {
          "model_module": "@jupyter-widgets/base",
          "model_name": "LayoutModel",
          "state": {
            "_view_name": "LayoutView",
            "grid_template_rows": null,
            "right": null,
            "justify_content": null,
            "_view_module": "@jupyter-widgets/base",
            "overflow": null,
            "_model_module_version": "1.2.0",
            "_view_count": null,
            "flex_flow": null,
            "width": null,
            "min_width": null,
            "border": null,
            "align_items": null,
            "bottom": null,
            "_model_module": "@jupyter-widgets/base",
            "top": null,
            "grid_column": null,
            "overflow_y": null,
            "overflow_x": null,
            "grid_auto_flow": null,
            "grid_area": null,
            "grid_template_columns": null,
            "flex": null,
            "_model_name": "LayoutModel",
            "justify_items": null,
            "grid_row": null,
            "max_height": null,
            "align_content": null,
            "visibility": null,
            "align_self": null,
            "height": null,
            "min_height": null,
            "padding": null,
            "grid_auto_rows": null,
            "grid_gap": null,
            "max_width": null,
            "order": null,
            "_view_module_version": "1.2.0",
            "grid_template_areas": null,
            "object_position": null,
            "object_fit": null,
            "grid_auto_columns": null,
            "margin": null,
            "display": null,
            "left": null
          }
        },
        "e2c9c07414294ad9944b2e623c461a64": {
          "model_module": "@jupyter-widgets/controls",
          "model_name": "HBoxModel",
          "state": {
            "_view_name": "HBoxView",
            "_dom_classes": [],
            "_model_name": "HBoxModel",
            "_view_module": "@jupyter-widgets/controls",
            "_model_module_version": "1.5.0",
            "_view_count": null,
            "_view_module_version": "1.5.0",
            "box_style": "",
            "layout": "IPY_MODEL_1b44186bbc7e414189532b3d9eaec85e",
            "_model_module": "@jupyter-widgets/controls",
            "children": [
              "IPY_MODEL_f7b897fedf374af6bfa5618abb50f7d4",
              "IPY_MODEL_ca4a76499304482189b83033c09ebbfe"
            ]
          }
        },
        "1b44186bbc7e414189532b3d9eaec85e": {
          "model_module": "@jupyter-widgets/base",
          "model_name": "LayoutModel",
          "state": {
            "_view_name": "LayoutView",
            "grid_template_rows": null,
            "right": null,
            "justify_content": null,
            "_view_module": "@jupyter-widgets/base",
            "overflow": null,
            "_model_module_version": "1.2.0",
            "_view_count": null,
            "flex_flow": null,
            "width": null,
            "min_width": null,
            "border": null,
            "align_items": null,
            "bottom": null,
            "_model_module": "@jupyter-widgets/base",
            "top": null,
            "grid_column": null,
            "overflow_y": null,
            "overflow_x": null,
            "grid_auto_flow": null,
            "grid_area": null,
            "grid_template_columns": null,
            "flex": null,
            "_model_name": "LayoutModel",
            "justify_items": null,
            "grid_row": null,
            "max_height": null,
            "align_content": null,
            "visibility": null,
            "align_self": null,
            "height": null,
            "min_height": null,
            "padding": null,
            "grid_auto_rows": null,
            "grid_gap": null,
            "max_width": null,
            "order": null,
            "_view_module_version": "1.2.0",
            "grid_template_areas": null,
            "object_position": null,
            "object_fit": null,
            "grid_auto_columns": null,
            "margin": null,
            "display": null,
            "left": null
          }
        },
        "f7b897fedf374af6bfa5618abb50f7d4": {
          "model_module": "@jupyter-widgets/controls",
          "model_name": "ImageModel",
          "state": {
            "_view_name": "ImageView",
            "_dom_classes": [],
            "_model_name": "ImageModel",
            "format": "png",
            "_view_module": "@jupyter-widgets/controls",
            "_model_module_version": "1.5.0",
            "_view_count": null,
            "width": "",
            "_view_module_version": "1.5.0",
            "layout": "IPY_MODEL_6915811eb1d84309887750b5421f9ff1",
            "height": "",
            "_model_module": "@jupyter-widgets/controls"
          }
        },
        "ca4a76499304482189b83033c09ebbfe": {
          "model_module": "@jupyter-widgets/controls",
          "model_name": "ImageModel",
          "state": {
            "_view_name": "ImageView",
            "_dom_classes": [],
            "_model_name": "ImageModel",
            "format": "png",
            "_view_module": "@jupyter-widgets/controls",
            "_model_module_version": "1.5.0",
            "_view_count": null,
            "width": "",
            "_view_module_version": "1.5.0",
            "layout": "IPY_MODEL_9c3cdfaa53f041bab2a665d7c0173d48",
            "height": "",
            "_model_module": "@jupyter-widgets/controls"
          }
        },
        "6915811eb1d84309887750b5421f9ff1": {
          "model_module": "@jupyter-widgets/base",
          "model_name": "LayoutModel",
          "state": {
            "_view_name": "LayoutView",
            "grid_template_rows": null,
            "right": null,
            "justify_content": null,
            "_view_module": "@jupyter-widgets/base",
            "overflow": null,
            "_model_module_version": "1.2.0",
            "_view_count": null,
            "flex_flow": null,
            "width": null,
            "min_width": null,
            "border": null,
            "align_items": null,
            "bottom": null,
            "_model_module": "@jupyter-widgets/base",
            "top": null,
            "grid_column": null,
            "overflow_y": null,
            "overflow_x": null,
            "grid_auto_flow": null,
            "grid_area": null,
            "grid_template_columns": null,
            "flex": null,
            "_model_name": "LayoutModel",
            "justify_items": null,
            "grid_row": null,
            "max_height": null,
            "align_content": null,
            "visibility": null,
            "align_self": null,
            "height": null,
            "min_height": null,
            "padding": null,
            "grid_auto_rows": null,
            "grid_gap": null,
            "max_width": null,
            "order": null,
            "_view_module_version": "1.2.0",
            "grid_template_areas": null,
            "object_position": null,
            "object_fit": null,
            "grid_auto_columns": null,
            "margin": null,
            "display": null,
            "left": null
          }
        },
        "9c3cdfaa53f041bab2a665d7c0173d48": {
          "model_module": "@jupyter-widgets/base",
          "model_name": "LayoutModel",
          "state": {
            "_view_name": "LayoutView",
            "grid_template_rows": null,
            "right": null,
            "justify_content": null,
            "_view_module": "@jupyter-widgets/base",
            "overflow": null,
            "_model_module_version": "1.2.0",
            "_view_count": null,
            "flex_flow": null,
            "width": null,
            "min_width": null,
            "border": null,
            "align_items": null,
            "bottom": null,
            "_model_module": "@jupyter-widgets/base",
            "top": null,
            "grid_column": null,
            "overflow_y": null,
            "overflow_x": null,
            "grid_auto_flow": null,
            "grid_area": null,
            "grid_template_columns": null,
            "flex": null,
            "_model_name": "LayoutModel",
            "justify_items": null,
            "grid_row": null,
            "max_height": null,
            "align_content": null,
            "visibility": null,
            "align_self": null,
            "height": null,
            "min_height": null,
            "padding": null,
            "grid_auto_rows": null,
            "grid_gap": null,
            "max_width": null,
            "order": null,
            "_view_module_version": "1.2.0",
            "grid_template_areas": null,
            "object_position": null,
            "object_fit": null,
            "grid_auto_columns": null,
            "margin": null,
            "display": null,
            "left": null
          }
        },
        "69c3eaa1eeea4824a4c698c88fab1436": {
          "model_module": "@jupyter-widgets/controls",
          "model_name": "HBoxModel",
          "state": {
            "_view_name": "HBoxView",
            "_dom_classes": [],
            "_model_name": "HBoxModel",
            "_view_module": "@jupyter-widgets/controls",
            "_model_module_version": "1.5.0",
            "_view_count": null,
            "_view_module_version": "1.5.0",
            "box_style": "",
            "layout": "IPY_MODEL_2ae970ac05454715b7e51890b94a2479",
            "_model_module": "@jupyter-widgets/controls",
            "children": [
              "IPY_MODEL_efadd5f7c8fa4f05b2b9317d4a3bb4e8",
              "IPY_MODEL_101aba55731a4613b71cf56f19dfb308"
            ]
          }
        },
        "2ae970ac05454715b7e51890b94a2479": {
          "model_module": "@jupyter-widgets/base",
          "model_name": "LayoutModel",
          "state": {
            "_view_name": "LayoutView",
            "grid_template_rows": null,
            "right": null,
            "justify_content": null,
            "_view_module": "@jupyter-widgets/base",
            "overflow": null,
            "_model_module_version": "1.2.0",
            "_view_count": null,
            "flex_flow": null,
            "width": null,
            "min_width": null,
            "border": null,
            "align_items": null,
            "bottom": null,
            "_model_module": "@jupyter-widgets/base",
            "top": null,
            "grid_column": null,
            "overflow_y": null,
            "overflow_x": null,
            "grid_auto_flow": null,
            "grid_area": null,
            "grid_template_columns": null,
            "flex": null,
            "_model_name": "LayoutModel",
            "justify_items": null,
            "grid_row": null,
            "max_height": null,
            "align_content": null,
            "visibility": null,
            "align_self": null,
            "height": null,
            "min_height": null,
            "padding": null,
            "grid_auto_rows": null,
            "grid_gap": null,
            "max_width": null,
            "order": null,
            "_view_module_version": "1.2.0",
            "grid_template_areas": null,
            "object_position": null,
            "object_fit": null,
            "grid_auto_columns": null,
            "margin": null,
            "display": null,
            "left": null
          }
        },
        "efadd5f7c8fa4f05b2b9317d4a3bb4e8": {
          "model_module": "@jupyter-widgets/controls",
          "model_name": "ImageModel",
          "state": {
            "_view_name": "ImageView",
            "_dom_classes": [],
            "_model_name": "ImageModel",
            "format": "png",
            "_view_module": "@jupyter-widgets/controls",
            "_model_module_version": "1.5.0",
            "_view_count": null,
            "width": "",
            "_view_module_version": "1.5.0",
            "layout": "IPY_MODEL_3abb357e952f4156a9da483731a4df75",
            "height": "",
            "_model_module": "@jupyter-widgets/controls"
          }
        },
        "101aba55731a4613b71cf56f19dfb308": {
          "model_module": "@jupyter-widgets/controls",
          "model_name": "ImageModel",
          "state": {
            "_view_name": "ImageView",
            "_dom_classes": [],
            "_model_name": "ImageModel",
            "format": "png",
            "_view_module": "@jupyter-widgets/controls",
            "_model_module_version": "1.5.0",
            "_view_count": null,
            "width": "",
            "_view_module_version": "1.5.0",
            "layout": "IPY_MODEL_c0e51afe302e4bc3919ee0c99a24096f",
            "height": "",
            "_model_module": "@jupyter-widgets/controls"
          }
        },
        "3abb357e952f4156a9da483731a4df75": {
          "model_module": "@jupyter-widgets/base",
          "model_name": "LayoutModel",
          "state": {
            "_view_name": "LayoutView",
            "grid_template_rows": null,
            "right": null,
            "justify_content": null,
            "_view_module": "@jupyter-widgets/base",
            "overflow": null,
            "_model_module_version": "1.2.0",
            "_view_count": null,
            "flex_flow": null,
            "width": null,
            "min_width": null,
            "border": null,
            "align_items": null,
            "bottom": null,
            "_model_module": "@jupyter-widgets/base",
            "top": null,
            "grid_column": null,
            "overflow_y": null,
            "overflow_x": null,
            "grid_auto_flow": null,
            "grid_area": null,
            "grid_template_columns": null,
            "flex": null,
            "_model_name": "LayoutModel",
            "justify_items": null,
            "grid_row": null,
            "max_height": null,
            "align_content": null,
            "visibility": null,
            "align_self": null,
            "height": null,
            "min_height": null,
            "padding": null,
            "grid_auto_rows": null,
            "grid_gap": null,
            "max_width": null,
            "order": null,
            "_view_module_version": "1.2.0",
            "grid_template_areas": null,
            "object_position": null,
            "object_fit": null,
            "grid_auto_columns": null,
            "margin": null,
            "display": null,
            "left": null
          }
        },
        "c0e51afe302e4bc3919ee0c99a24096f": {
          "model_module": "@jupyter-widgets/base",
          "model_name": "LayoutModel",
          "state": {
            "_view_name": "LayoutView",
            "grid_template_rows": null,
            "right": null,
            "justify_content": null,
            "_view_module": "@jupyter-widgets/base",
            "overflow": null,
            "_model_module_version": "1.2.0",
            "_view_count": null,
            "flex_flow": null,
            "width": null,
            "min_width": null,
            "border": null,
            "align_items": null,
            "bottom": null,
            "_model_module": "@jupyter-widgets/base",
            "top": null,
            "grid_column": null,
            "overflow_y": null,
            "overflow_x": null,
            "grid_auto_flow": null,
            "grid_area": null,
            "grid_template_columns": null,
            "flex": null,
            "_model_name": "LayoutModel",
            "justify_items": null,
            "grid_row": null,
            "max_height": null,
            "align_content": null,
            "visibility": null,
            "align_self": null,
            "height": null,
            "min_height": null,
            "padding": null,
            "grid_auto_rows": null,
            "grid_gap": null,
            "max_width": null,
            "order": null,
            "_view_module_version": "1.2.0",
            "grid_template_areas": null,
            "object_position": null,
            "object_fit": null,
            "grid_auto_columns": null,
            "margin": null,
            "display": null,
            "left": null
          }
        },
        "09bff60cb2df45899b021e3544b95063": {
          "model_module": "@jupyter-widgets/controls",
          "model_name": "HBoxModel",
          "state": {
            "_view_name": "HBoxView",
            "_dom_classes": [],
            "_model_name": "HBoxModel",
            "_view_module": "@jupyter-widgets/controls",
            "_model_module_version": "1.5.0",
            "_view_count": null,
            "_view_module_version": "1.5.0",
            "box_style": "",
            "layout": "IPY_MODEL_0024929f554c4ce6824873b6e758ff5c",
            "_model_module": "@jupyter-widgets/controls",
            "children": [
              "IPY_MODEL_559faa3dcf224943b1c38aeef4ffe5e2",
              "IPY_MODEL_94cbe459f9a44b219dfc12556be12d8c"
            ]
          }
        },
        "0024929f554c4ce6824873b6e758ff5c": {
          "model_module": "@jupyter-widgets/base",
          "model_name": "LayoutModel",
          "state": {
            "_view_name": "LayoutView",
            "grid_template_rows": null,
            "right": null,
            "justify_content": null,
            "_view_module": "@jupyter-widgets/base",
            "overflow": null,
            "_model_module_version": "1.2.0",
            "_view_count": null,
            "flex_flow": null,
            "width": null,
            "min_width": null,
            "border": null,
            "align_items": null,
            "bottom": null,
            "_model_module": "@jupyter-widgets/base",
            "top": null,
            "grid_column": null,
            "overflow_y": null,
            "overflow_x": null,
            "grid_auto_flow": null,
            "grid_area": null,
            "grid_template_columns": null,
            "flex": null,
            "_model_name": "LayoutModel",
            "justify_items": null,
            "grid_row": null,
            "max_height": null,
            "align_content": null,
            "visibility": null,
            "align_self": null,
            "height": null,
            "min_height": null,
            "padding": null,
            "grid_auto_rows": null,
            "grid_gap": null,
            "max_width": null,
            "order": null,
            "_view_module_version": "1.2.0",
            "grid_template_areas": null,
            "object_position": null,
            "object_fit": null,
            "grid_auto_columns": null,
            "margin": null,
            "display": null,
            "left": null
          }
        },
        "559faa3dcf224943b1c38aeef4ffe5e2": {
          "model_module": "@jupyter-widgets/controls",
          "model_name": "ImageModel",
          "state": {
            "_view_name": "ImageView",
            "_dom_classes": [],
            "_model_name": "ImageModel",
            "format": "png",
            "_view_module": "@jupyter-widgets/controls",
            "_model_module_version": "1.5.0",
            "_view_count": null,
            "width": "",
            "_view_module_version": "1.5.0",
            "layout": "IPY_MODEL_9f3d8e9d1a284bc1949828bf89f98098",
            "height": "",
            "_model_module": "@jupyter-widgets/controls"
          }
        },
        "94cbe459f9a44b219dfc12556be12d8c": {
          "model_module": "@jupyter-widgets/controls",
          "model_name": "ImageModel",
          "state": {
            "_view_name": "ImageView",
            "_dom_classes": [],
            "_model_name": "ImageModel",
            "format": "png",
            "_view_module": "@jupyter-widgets/controls",
            "_model_module_version": "1.5.0",
            "_view_count": null,
            "width": "",
            "_view_module_version": "1.5.0",
            "layout": "IPY_MODEL_7ff9142c72a746fcbbd4fa2a90e0c7e3",
            "height": "",
            "_model_module": "@jupyter-widgets/controls"
          }
        },
        "9f3d8e9d1a284bc1949828bf89f98098": {
          "model_module": "@jupyter-widgets/base",
          "model_name": "LayoutModel",
          "state": {
            "_view_name": "LayoutView",
            "grid_template_rows": null,
            "right": null,
            "justify_content": null,
            "_view_module": "@jupyter-widgets/base",
            "overflow": null,
            "_model_module_version": "1.2.0",
            "_view_count": null,
            "flex_flow": null,
            "width": null,
            "min_width": null,
            "border": null,
            "align_items": null,
            "bottom": null,
            "_model_module": "@jupyter-widgets/base",
            "top": null,
            "grid_column": null,
            "overflow_y": null,
            "overflow_x": null,
            "grid_auto_flow": null,
            "grid_area": null,
            "grid_template_columns": null,
            "flex": null,
            "_model_name": "LayoutModel",
            "justify_items": null,
            "grid_row": null,
            "max_height": null,
            "align_content": null,
            "visibility": null,
            "align_self": null,
            "height": null,
            "min_height": null,
            "padding": null,
            "grid_auto_rows": null,
            "grid_gap": null,
            "max_width": null,
            "order": null,
            "_view_module_version": "1.2.0",
            "grid_template_areas": null,
            "object_position": null,
            "object_fit": null,
            "grid_auto_columns": null,
            "margin": null,
            "display": null,
            "left": null
          }
        },
        "7ff9142c72a746fcbbd4fa2a90e0c7e3": {
          "model_module": "@jupyter-widgets/base",
          "model_name": "LayoutModel",
          "state": {
            "_view_name": "LayoutView",
            "grid_template_rows": null,
            "right": null,
            "justify_content": null,
            "_view_module": "@jupyter-widgets/base",
            "overflow": null,
            "_model_module_version": "1.2.0",
            "_view_count": null,
            "flex_flow": null,
            "width": null,
            "min_width": null,
            "border": null,
            "align_items": null,
            "bottom": null,
            "_model_module": "@jupyter-widgets/base",
            "top": null,
            "grid_column": null,
            "overflow_y": null,
            "overflow_x": null,
            "grid_auto_flow": null,
            "grid_area": null,
            "grid_template_columns": null,
            "flex": null,
            "_model_name": "LayoutModel",
            "justify_items": null,
            "grid_row": null,
            "max_height": null,
            "align_content": null,
            "visibility": null,
            "align_self": null,
            "height": null,
            "min_height": null,
            "padding": null,
            "grid_auto_rows": null,
            "grid_gap": null,
            "max_width": null,
            "order": null,
            "_view_module_version": "1.2.0",
            "grid_template_areas": null,
            "object_position": null,
            "object_fit": null,
            "grid_auto_columns": null,
            "margin": null,
            "display": null,
            "left": null
          }
        },
        "71fa830db9d946a79772b7db1f805841": {
          "model_module": "@jupyter-widgets/controls",
          "model_name": "HBoxModel",
          "state": {
            "_view_name": "HBoxView",
            "_dom_classes": [],
            "_model_name": "HBoxModel",
            "_view_module": "@jupyter-widgets/controls",
            "_model_module_version": "1.5.0",
            "_view_count": null,
            "_view_module_version": "1.5.0",
            "box_style": "",
            "layout": "IPY_MODEL_1a230259469247219dc3b50d75508a5a",
            "_model_module": "@jupyter-widgets/controls",
            "children": [
              "IPY_MODEL_8f7a8b78a74c4f24bb0b0a4dce7e5cd2",
              "IPY_MODEL_a76e8367513043cdb3032894b7df136a"
            ]
          }
        },
        "1a230259469247219dc3b50d75508a5a": {
          "model_module": "@jupyter-widgets/base",
          "model_name": "LayoutModel",
          "state": {
            "_view_name": "LayoutView",
            "grid_template_rows": null,
            "right": null,
            "justify_content": null,
            "_view_module": "@jupyter-widgets/base",
            "overflow": null,
            "_model_module_version": "1.2.0",
            "_view_count": null,
            "flex_flow": null,
            "width": null,
            "min_width": null,
            "border": null,
            "align_items": null,
            "bottom": null,
            "_model_module": "@jupyter-widgets/base",
            "top": null,
            "grid_column": null,
            "overflow_y": null,
            "overflow_x": null,
            "grid_auto_flow": null,
            "grid_area": null,
            "grid_template_columns": null,
            "flex": null,
            "_model_name": "LayoutModel",
            "justify_items": null,
            "grid_row": null,
            "max_height": null,
            "align_content": null,
            "visibility": null,
            "align_self": null,
            "height": null,
            "min_height": null,
            "padding": null,
            "grid_auto_rows": null,
            "grid_gap": null,
            "max_width": null,
            "order": null,
            "_view_module_version": "1.2.0",
            "grid_template_areas": null,
            "object_position": null,
            "object_fit": null,
            "grid_auto_columns": null,
            "margin": null,
            "display": null,
            "left": null
          }
        },
        "8f7a8b78a74c4f24bb0b0a4dce7e5cd2": {
          "model_module": "@jupyter-widgets/controls",
          "model_name": "ImageModel",
          "state": {
            "_view_name": "ImageView",
            "_dom_classes": [],
            "_model_name": "ImageModel",
            "format": "png",
            "_view_module": "@jupyter-widgets/controls",
            "_model_module_version": "1.5.0",
            "_view_count": null,
            "width": "",
            "_view_module_version": "1.5.0",
            "layout": "IPY_MODEL_8bbad956c3d4425a8b95c0ca1d7ec6de",
            "height": "",
            "_model_module": "@jupyter-widgets/controls"
          }
        },
        "a76e8367513043cdb3032894b7df136a": {
          "model_module": "@jupyter-widgets/controls",
          "model_name": "ImageModel",
          "state": {
            "_view_name": "ImageView",
            "_dom_classes": [],
            "_model_name": "ImageModel",
            "format": "png",
            "_view_module": "@jupyter-widgets/controls",
            "_model_module_version": "1.5.0",
            "_view_count": null,
            "width": "",
            "_view_module_version": "1.5.0",
            "layout": "IPY_MODEL_c72ed6d5587d42a9befe78f1dcb0f5a6",
            "height": "",
            "_model_module": "@jupyter-widgets/controls"
          }
        },
        "8bbad956c3d4425a8b95c0ca1d7ec6de": {
          "model_module": "@jupyter-widgets/base",
          "model_name": "LayoutModel",
          "state": {
            "_view_name": "LayoutView",
            "grid_template_rows": null,
            "right": null,
            "justify_content": null,
            "_view_module": "@jupyter-widgets/base",
            "overflow": null,
            "_model_module_version": "1.2.0",
            "_view_count": null,
            "flex_flow": null,
            "width": null,
            "min_width": null,
            "border": null,
            "align_items": null,
            "bottom": null,
            "_model_module": "@jupyter-widgets/base",
            "top": null,
            "grid_column": null,
            "overflow_y": null,
            "overflow_x": null,
            "grid_auto_flow": null,
            "grid_area": null,
            "grid_template_columns": null,
            "flex": null,
            "_model_name": "LayoutModel",
            "justify_items": null,
            "grid_row": null,
            "max_height": null,
            "align_content": null,
            "visibility": null,
            "align_self": null,
            "height": null,
            "min_height": null,
            "padding": null,
            "grid_auto_rows": null,
            "grid_gap": null,
            "max_width": null,
            "order": null,
            "_view_module_version": "1.2.0",
            "grid_template_areas": null,
            "object_position": null,
            "object_fit": null,
            "grid_auto_columns": null,
            "margin": null,
            "display": null,
            "left": null
          }
        },
        "c72ed6d5587d42a9befe78f1dcb0f5a6": {
          "model_module": "@jupyter-widgets/base",
          "model_name": "LayoutModel",
          "state": {
            "_view_name": "LayoutView",
            "grid_template_rows": null,
            "right": null,
            "justify_content": null,
            "_view_module": "@jupyter-widgets/base",
            "overflow": null,
            "_model_module_version": "1.2.0",
            "_view_count": null,
            "flex_flow": null,
            "width": null,
            "min_width": null,
            "border": null,
            "align_items": null,
            "bottom": null,
            "_model_module": "@jupyter-widgets/base",
            "top": null,
            "grid_column": null,
            "overflow_y": null,
            "overflow_x": null,
            "grid_auto_flow": null,
            "grid_area": null,
            "grid_template_columns": null,
            "flex": null,
            "_model_name": "LayoutModel",
            "justify_items": null,
            "grid_row": null,
            "max_height": null,
            "align_content": null,
            "visibility": null,
            "align_self": null,
            "height": null,
            "min_height": null,
            "padding": null,
            "grid_auto_rows": null,
            "grid_gap": null,
            "max_width": null,
            "order": null,
            "_view_module_version": "1.2.0",
            "grid_template_areas": null,
            "object_position": null,
            "object_fit": null,
            "grid_auto_columns": null,
            "margin": null,
            "display": null,
            "left": null
          }
        }
      }
    }
  },
  "cells": [
    {
      "cell_type": "markdown",
      "metadata": {
        "id": "view-in-github",
        "colab_type": "text"
      },
      "source": [
        "<a href=\"https://colab.research.google.com/github/PsorTheDoctor/Sekcja-SI/blob/master/neural_networks/ConvRNN/video_prediction_conv_lstm.ipynb\" target=\"_parent\"><img src=\"https://colab.research.google.com/assets/colab-badge.svg\" alt=\"Open In Colab\"/></a>"
      ]
    },
    {
      "cell_type": "markdown",
      "metadata": {
        "id": "yiGkB_CoErTe"
      },
      "source": [
        "#Konwolucyjne LSTM: Przewidywanie następnej klatki"
      ]
    },
    {
      "cell_type": "code",
      "metadata": {
        "id": "HojBCPQUodq8"
      },
      "source": [
        "import os\n",
        "import numpy as np\n",
        "from PIL import Image, ImageSequence, ImageOps\n",
        "import matplotlib.pyplot as plt\n",
        "\n",
        "import tensorflow as tf\n",
        "from tensorflow import keras\n",
        "from tensorflow.keras import layers\n",
        "\n",
        "import io\n",
        "import imageio\n",
        "# from IPython.display import Image, display\n",
        "from ipywidgets import widgets, Layout, HBox\n",
        "\n",
        "def gif2array(path):\n",
        "  # Wymiary zostały dobrane analogicznie do moving MNIST (n, 20, 64, 64)\n",
        "  max_frames = 20\n",
        "  resolution = (64, 64)\n",
        "  array = []\n",
        "  gif = Image.open(path)\n",
        "\n",
        "  idx = 0\n",
        "  for frame in ImageSequence.Iterator(gif):\n",
        "\n",
        "    filename = '{}_{}.png'.format(os.path.basename(path)[:-4], idx)\n",
        "    frame = frame.resize(resolution)\n",
        "    frame.save(filename)\n",
        "    frame = np.array(Image.open(filename))\n",
        "    array.append(frame)\n",
        "    os.remove(filename)\n",
        "    idx += 1\n",
        "    if idx == max_frames:\n",
        "      break\n",
        "\n",
        "  return np.asarray(array)"
      ],
      "execution_count": 1,
      "outputs": []
    },
    {
      "cell_type": "code",
      "metadata": {
        "colab": {
          "base_uri": "https://localhost:8080/"
        },
        "id": "3b-XfQHQohhC",
        "outputId": "b38221c4-fc47-4b63-8910-5a1cb2ec7ba7"
      },
      "source": [
        "from google.colab import drive\n",
        "drive.mount('/content/drive')"
      ],
      "execution_count": 2,
      "outputs": [
        {
          "output_type": "stream",
          "text": [
            "Mounted at /content/drive\n"
          ],
          "name": "stdout"
        }
      ]
    },
    {
      "cell_type": "code",
      "metadata": {
        "colab": {
          "base_uri": "https://localhost:8080/"
        },
        "id": "g_QvWs1VotS7",
        "outputId": "5249e32e-9545-4c77-e0e3-ea96cfa4b4c1"
      },
      "source": [
        "path = '/content/drive/MyDrive/moving-gif/train/'\n",
        "\n",
        "x = gif2array(path + '00111.gif')\n",
        "print(x.shape)"
      ],
      "execution_count": 4,
      "outputs": [
        {
          "output_type": "stream",
          "text": [
            "(17, 64, 64)\n"
          ],
          "name": "stdout"
        }
      ]
    },
    {
      "cell_type": "code",
      "metadata": {
        "colab": {
          "base_uri": "https://localhost:8080/",
          "height": 285
        },
        "id": "mh945icdrexs",
        "outputId": "6929ac08-9a2a-46fd-b0c2-89c871ee7a60"
      },
      "source": [
        "plt.imshow(x[0, :, :], cmap='gray_r')"
      ],
      "execution_count": 5,
      "outputs": [
        {
          "output_type": "execute_result",
          "data": {
            "text/plain": [
              "<matplotlib.image.AxesImage at 0x7f75e231c5d0>"
            ]
          },
          "metadata": {
            "tags": []
          },
          "execution_count": 5
        },
        {
          "output_type": "display_data",
          "data": {
            "image/png": "[encoded data removed]",
            "text/plain": [
              "<Figure size 432x288 with 1 Axes>"
            ]
          },
          "metadata": {
            "tags": [],
            "needs_background": "light"
          }
        }
      ]
    },
    {
      "cell_type": "code",
      "metadata": {
        "colab": {
          "base_uri": "https://localhost:8080/"
        },
        "id": "SD0XHdIXxGiz",
        "outputId": "6ac2eb82-a49b-4f5f-9122-4ef40aefe578"
      },
      "source": [
        "path = '/content/drive/MyDrive/moving-gif/'\n",
        "max_frames = 20\n",
        "\n",
        "def create_dataset(path):\n",
        "  dataset = []\n",
        "\n",
        "  for filename in os.listdir(path):\n",
        "    full_path = os.path.join(path, filename)\n",
        "\n",
        "    if os.path.isfile(full_path):\n",
        "      if filename[-4:] == '.gif':\n",
        "        x = gif2array(full_path)\n",
        "\n",
        "        # Dodanie paddingu w postaci pustych klatek dla n < max_frames\n",
        "        # (n, 64, 64) -> (max_frames, 64, 64)\n",
        "        if x.shape[0] < max_frames:\n",
        "          zeros = np.zeros((max_frames - x.shape[0], 64, 64))\n",
        "          x = np.concatenate((x, zeros), axis=0)\n",
        "        dataset.append(x)\n",
        "\n",
        "  return np.asarray(dataset)\n",
        "\n",
        "train_dataset = create_dataset(path + 'train/')\n",
        "test_dataset = create_dataset(path + 'test/')\n",
        "print(train_dataset.shape)\n",
        "print(test_dataset.shape)"
      ],
      "execution_count": 6,
      "outputs": [
        {
          "output_type": "stream",
          "text": [
            "(900, 20, 64, 64)\n",
            "(100, 20, 64, 64)\n"
          ],
          "name": "stdout"
        }
      ]
    },
    {
      "cell_type": "code",
      "metadata": {
        "colab": {
          "base_uri": "https://localhost:8080/"
        },
        "id": "h9WxDOEl8MSz",
        "outputId": "0fa7b74e-e7f6-48c8-e5b2-9805f29d2e58"
      },
      "source": [
        "# train_dataset = np.swapaxes(train_dataset, 0, 1)\n",
        "# test_dataset = np.swapaxes(test_dataset, 0, 1)\n",
        "\n",
        "train_dataset = np.expand_dims(train_dataset, axis=-1)\n",
        "test_dataset = np.expand_dims(test_dataset, axis=-1)\n",
        "\n",
        "train_dataset = train_dataset / 255\n",
        "test_dataset = test_dataset / 255\n",
        "\n",
        "def create_shifted_frames(data):\n",
        "  x = data[:, 0 : data.shape[1] - 1, :, :]\n",
        "  y = data[:, 1 : data.shape[1], :, :]\n",
        "  return x, y\n",
        "\n",
        "x_train, y_train = create_shifted_frames(train_dataset)\n",
        "x_val, y_val = create_shifted_frames(test_dataset)\n",
        "\n",
        "print('Zbiór treningowy: ' + str(x_train.shape) + ', ' + str(y_train.shape))\n",
        "print('Zbiór walidacyjny: ' + str(x_val.shape) + ', ' + str(y_val.shape))"
      ],
      "execution_count": 7,
      "outputs": [
        {
          "output_type": "stream",
          "text": [
            "Zbiór treningowy: (900, 19, 64, 64, 1), (900, 19, 64, 64, 1)\n",
            "Zbiór walidacyjny: (100, 19, 64, 64, 1), (100, 19, 64, 64, 1)\n"
          ],
          "name": "stdout"
        }
      ]
    },
    {
      "cell_type": "markdown",
      "metadata": {
        "id": "qRyBrADFFI_Z"
      },
      "source": [
        "##Wizualizacja danych"
      ]
    },
    {
      "cell_type": "code",
      "metadata": {
        "colab": {
          "base_uri": "https://localhost:8080/",
          "height": 482
        },
        "id": "fTi90zQDAwnz",
        "outputId": "df90c043-40f8-406a-a87d-5a233bd16dd9"
      },
      "source": [
        "fig, axes = plt.subplots(4, 5, figsize=(10, 8))\n",
        "\n",
        "data_choice = np.random.choice(range(len(train_dataset)), size=1)[0]\n",
        "for idx, ax in enumerate(axes.flat):\n",
        "  ax.imshow(train_dataset[data_choice][idx].reshape(64, 64), cmap='gray_r')\n",
        "  ax.set_title(f'Klatka {idx + 1}')\n",
        "  ax.axis('off')\n",
        "\n",
        "plt.show()"
      ],
      "execution_count": 9,
      "outputs": [
        {
          "output_type": "display_data",
          "data": {
            "image/png": "[encoded data removed]",
            "text/plain": [
              "<Figure size 720x576 with 20 Axes>"
            ]
          },
          "metadata": {
            "tags": [],
            "needs_background": "light"
          }
        }
      ]
    },
    {
      "cell_type": "markdown",
      "metadata": {
        "id": "459idEU1Enu5"
      },
      "source": [
        "##Budowa modelu"
      ]
    },
    {
      "cell_type": "code",
      "metadata": {
        "id": "c4VOF6jAEpx3",
        "colab": {
          "base_uri": "https://localhost:8080/"
        },
        "outputId": "5ef31ae2-f8b1-4d74-be14-f42b25701de6"
      },
      "source": [
        "inp = layers.Input(shape=(None, *x_train.shape[2:]))\n",
        "\n",
        "x = layers.ConvLSTM2D(\n",
        "    filters=64,\n",
        "    kernel_size=(5, 5),\n",
        "    padding=\"same\",\n",
        "    return_sequences=True,\n",
        "    activation=\"relu\"\n",
        ")(inp)\n",
        "x = layers.BatchNormalization()(x)\n",
        "x = layers.ConvLSTM2D(\n",
        "    filters=64,\n",
        "    kernel_size=(3, 3),\n",
        "    padding=\"same\",\n",
        "    return_sequences=True,\n",
        "    activation=\"relu\"\n",
        ")(x)\n",
        "x = layers.BatchNormalization()(x)\n",
        "x = layers.ConvLSTM2D(\n",
        "    filters=64,\n",
        "    kernel_size=(1, 1),\n",
        "    padding=\"same\",\n",
        "    return_sequences=True,\n",
        "    activation=\"relu\"\n",
        ")(x)\n",
        "x = layers.Conv3D(\n",
        "    filters=1, kernel_size=(3, 3, 3), activation=\"sigmoid\", padding=\"same\"\n",
        ")(x)\n",
        "\n",
        "model = keras.models.Model(inp, x)\n",
        "model.compile(loss=keras.losses.binary_crossentropy, \n",
        "              optimizer=keras.optimizers.Adam())\n",
        "model.summary()"
      ],
      "execution_count": 10,
      "outputs": [
        {
          "output_type": "stream",
          "text": [
            "Model: \"model\"\n",
            "_________________________________________________________________\n",
            "Layer (type)                 Output Shape              Param #   \n",
            "=================================================================\n",
            "input_1 (InputLayer)         [(None, None, 64, 64, 1)] 0         \n",
            "_________________________________________________________________\n",
            "conv_lst_m2d (ConvLSTM2D)    (None, None, 64, 64, 64)  416256    \n",
            "_________________________________________________________________\n",
            "batch_normalization (BatchNo (None, None, 64, 64, 64)  256       \n",
            "_________________________________________________________________\n",
            "conv_lst_m2d_1 (ConvLSTM2D)  (None, None, 64, 64, 64)  295168    \n",
            "_________________________________________________________________\n",
            "batch_normalization_1 (Batch (None, None, 64, 64, 64)  256       \n",
            "_________________________________________________________________\n",
            "conv_lst_m2d_2 (ConvLSTM2D)  (None, None, 64, 64, 64)  33024     \n",
            "_________________________________________________________________\n",
            "conv3d (Conv3D)              (None, None, 64, 64, 1)   1729      \n",
            "=================================================================\n",
            "Total params: 746,689\n",
            "Trainable params: 746,433\n",
            "Non-trainable params: 256\n",
            "_________________________________________________________________\n"
          ],
          "name": "stdout"
        }
      ]
    },
    {
      "cell_type": "markdown",
      "metadata": {
        "id": "lnI2tHUKGIYq"
      },
      "source": [
        "##Trening modelu"
      ]
    },
    {
      "cell_type": "code",
      "metadata": {
        "colab": {
          "base_uri": "https://localhost:8080/"
        },
        "id": "Ca1hSvToGKGA",
        "outputId": "3d535270-4a7a-4405-8508-6f6c7f505f5b"
      },
      "source": [
        "early_stopping = keras.callbacks.EarlyStopping(monitor='val_loss', patience=10)\n",
        "reduce_lr = keras.callbacks.ReduceLROnPlateau(monitor='val_loss', patience=5)\n",
        "\n",
        "epochs = 10\n",
        "batch_size = 5\n",
        "\n",
        "history = model.fit(\n",
        "    x_train,\n",
        "    y_train,\n",
        "    batch_size=batch_size,\n",
        "    epochs=epochs,\n",
        "    validation_data=(x_val, y_val),\n",
        "    callbacks=[early_stopping, reduce_lr],\n",
        ")"
      ],
      "execution_count": 11,
      "outputs": [
        {
          "output_type": "stream",
          "text": [
            "Epoch 1/10\n",
            "180/180 [==============================] - 470s 2s/step - loss: 0.0958 - val_loss: 0.2265\n",
            "Epoch 2/10\n",
            "180/180 [==============================] - 444s 2s/step - loss: 0.0593 - val_loss: 0.1720\n",
            "Epoch 3/10\n",
            "180/180 [==============================] - 439s 2s/step - loss: 0.0563 - val_loss: 0.1505\n",
            "Epoch 4/10\n",
            "180/180 [==============================] - 439s 2s/step - loss: 0.0548 - val_loss: 0.1176\n",
            "Epoch 5/10\n",
            "180/180 [==============================] - 438s 2s/step - loss: 0.0541 - val_loss: 0.0884\n",
            "Epoch 6/10\n",
            "180/180 [==============================] - 443s 2s/step - loss: 0.0542 - val_loss: 0.0705\n",
            "Epoch 7/10\n",
            "180/180 [==============================] - 439s 2s/step - loss: 0.0537 - val_loss: 0.0628\n",
            "Epoch 8/10\n",
            "180/180 [==============================] - 438s 2s/step - loss: 0.0535 - val_loss: 0.0598\n",
            "Epoch 9/10\n",
            "180/180 [==============================] - 437s 2s/step - loss: 0.0536 - val_loss: 0.0591\n",
            "Epoch 10/10\n",
            "180/180 [==============================] - 442s 2s/step - loss: 0.0533 - val_loss: 0.0593\n"
          ],
          "name": "stdout"
        },
        {
          "output_type": "execute_result",
          "data": {
            "text/plain": [
              "<tensorflow.python.keras.callbacks.History at 0x7f75e1b16a10>"
            ]
          },
          "metadata": {
            "tags": []
          },
          "execution_count": 11
        }
      ]
    },
    {
      "cell_type": "markdown",
      "metadata": {
        "id": "3BGEyhmSJGCY"
      },
      "source": [
        "##Wizualizacja predykcji klatek"
      ]
    },
    {
      "cell_type": "code",
      "metadata": {
        "id": "yeFZLRIkI42n",
        "colab": {
          "base_uri": "https://localhost:8080/",
          "height": 260
        },
        "outputId": "59f25509-405c-4d50-d5ef-0471d50d4c47"
      },
      "source": [
        "from IPython.display import Image, display\n",
        "\n",
        "example = test_dataset[np.random.choice(range(len(test_dataset)), size=1)[0]]\n",
        "\n",
        "# Wybranie pierwszych / ostatnich 10 klatek z przykładu\n",
        "frames = example[:10, ...]\n",
        "original_frames = example[10:, ...]\n",
        "\n",
        "# Predykcja nowych 10 klatek\n",
        "for _ in range(10):\n",
        "  new_pred = model.predict(np.expand_dims(frames, axis=0))\n",
        "  new_pred = np.squeeze(new_pred, axis=0)\n",
        "  predicted_frame = np.expand_dims(new_pred[-1, ...], axis=0)\n",
        "\n",
        "  frames = np.concatenate((frames, predicted_frame), axis=0)\n",
        "\n",
        "fig, axes = plt.subplots(2, 10, figsize=(20, 4))\n",
        "\n",
        "# Wyświetlenie oryginalnych klatek\n",
        "for idx, ax in enumerate(axes[0]):\n",
        "  ax.imshow(np.squeeze(original_frames[idx]), cmap='gray_r')\n",
        "  ax.set_title(f'Klatka {idx + 11}')\n",
        "  ax.axis('off')\n",
        "\n",
        "# Wyświetlenie nowych klatek\n",
        "new_frames = frames[10:, ...]\n",
        "for idx, ax in enumerate(axes[1]):\n",
        "  ax.imshow(np.squeeze(new_frames[idx]), cmap='gray_r')\n",
        "  ax.set_title(f'Klatka {idx + 11}')\n",
        "  ax.axis('off')\n",
        "\n",
        "plt.show()"
      ],
      "execution_count": 32,
      "outputs": [
        {
          "output_type": "display_data",
          "data": {
            "image/png": "[encoded data removed]",
            "text/plain": [
              "<Figure size 1440x288 with 20 Axes>"
            ]
          },
          "metadata": {
            "tags": [],
            "needs_background": "light"
          }
        }
      ]
    },
    {
      "cell_type": "markdown",
      "metadata": {
        "id": "XSwWmSELMw-l"
      },
      "source": [
        "##Wizualizacja predykcji wideo"
      ]
    },
    {
      "cell_type": "code",
      "metadata": {
        "id": "qxNKTSaqMwqo",
        "colab": {
          "base_uri": "https://localhost:8080/",
          "height": 375,
          "referenced_widgets": [
            "6f1f3992e72a4a47bdf6842a429b6041",
            "d95ba6832a5d43339e98e45b15850b1e",
            "33b699748e484312b3185c5003cac67f",
            "d7301f9ca89b41148e468d38c3b42e8f",
            "3c9ca9a1df3c401aa89254d6ed3418a8",
            "cd31acd35bb94d87b2f843832f3a2421",
            "e2c9c07414294ad9944b2e623c461a64",
            "1b44186bbc7e414189532b3d9eaec85e",
            "f7b897fedf374af6bfa5618abb50f7d4",
            "ca4a76499304482189b83033c09ebbfe",
            "6915811eb1d84309887750b5421f9ff1",
            "9c3cdfaa53f041bab2a665d7c0173d48",
            "69c3eaa1eeea4824a4c698c88fab1436",
            "2ae970ac05454715b7e51890b94a2479",
            "efadd5f7c8fa4f05b2b9317d4a3bb4e8",
            "101aba55731a4613b71cf56f19dfb308",
            "3abb357e952f4156a9da483731a4df75",
            "c0e51afe302e4bc3919ee0c99a24096f",
            "09bff60cb2df45899b021e3544b95063",
            "0024929f554c4ce6824873b6e758ff5c",
            "559faa3dcf224943b1c38aeef4ffe5e2",
            "94cbe459f9a44b219dfc12556be12d8c",
            "9f3d8e9d1a284bc1949828bf89f98098",
            "7ff9142c72a746fcbbd4fa2a90e0c7e3",
            "71fa830db9d946a79772b7db1f805841",
            "1a230259469247219dc3b50d75508a5a",
            "8f7a8b78a74c4f24bb0b0a4dce7e5cd2",
            "a76e8367513043cdb3032894b7df136a",
            "8bbad956c3d4425a8b95c0ca1d7ec6de",
            "c72ed6d5587d42a9befe78f1dcb0f5a6"
          ]
        },
        "outputId": "b841b3ed-541d-4512-ffde-7bc179c7f4f0"
      },
      "source": [
        "examples = test_dataset[np.random.choice(range(len(test_dataset)), size=5)]\n",
        "\n",
        "predicted_videos = []\n",
        "for example in examples:\n",
        "  # Odwrócenie kolorów\n",
        "  example = np.ones(example.shape) - example\n",
        "\n",
        "  # Wybranie pierwszych / ostatnich 10 klatek z przykładu\n",
        "  frames = example[:10, ...]\n",
        "  original_frames = example[10:, ...]\n",
        "  new_preds = np.zeros(shape=(10, *frames[0].shape))\n",
        "\n",
        "  # Predykcja nowych 10 klatek\n",
        "  for i in range(10):\n",
        "    frames = example[:10 + i + 1, ...]\n",
        "    new_pred = model.predict(np.expand_dims(frames, axis=0))\n",
        "    new_pred = np.squeeze(new_pred, axis=0)\n",
        "    predicted_frame = np.expand_dims(new_pred[-1, ...], axis=0)\n",
        "\n",
        "    new_preds[i] = predicted_frame\n",
        "  \n",
        "  for frame_set in [original_frames, new_preds]:\n",
        "    # Tworzenie GIFa z wybranych klatek wideo\n",
        "    current_frames = np.squeeze(frame_set)\n",
        "    current_frames = current_frames[..., np.newaxis] * np.ones(3)\n",
        "    current_frames = (current_frames * 255).astype(np.uint8)\n",
        "    current_frames = list(current_frames)\n",
        "\n",
        "    # Tworzenie GIFa z klatek\n",
        "    with io.BytesIO() as gif:\n",
        "      imageio.mimsave(gif, current_frames, 'GIF', fps=5)\n",
        "      predicted_videos.append(gif.getvalue())\n",
        "\n",
        "# Wyświetlenie wideo\n",
        "print('Oryginał\\tPredykcja')\n",
        "for i in range(0, len(predicted_videos), 2):\n",
        "  # Tworzenie i wyświetlenie \"HBox\"\n",
        "  box = HBox(\n",
        "      [widgets.Image(value=predicted_videos[i]),\n",
        "       widgets.Image(value=predicted_videos[i + 1])\n",
        "      ]\n",
        "  )\n",
        "  display(box)\n"
      ],
      "execution_count": 28,
      "outputs": [
        {
          "output_type": "stream",
          "text": [
            "Oryginał\tPredykcja\n"
          ],
          "name": "stdout"
        },
        {
          "output_type": "display_data",
          "data": {
            "application/vnd.jupyter.widget-view+json": {
              "model_id": "6f1f3992e72a4a47bdf6842a429b6041",
              "version_minor": 0,
              "version_major": 2
            },
            "text/plain": [
              "HBox(children=(Image(value=b'GIF89a@\\x00@\\x00\\x87\\x00\\x00\\xff\\xff\\xff\\xfc\\xfc\\xfc\\xfa\\xfa\\xfa\\xf8\\xf8\\xf8\\xf7\\…"
            ]
          },
          "metadata": {
            "tags": []
          }
        },
        {
          "output_type": "display_data",
          "data": {
            "application/vnd.jupyter.widget-view+json": {
              "model_id": "e2c9c07414294ad9944b2e623c461a64",
              "version_minor": 0,
              "version_major": 2
            },
            "text/plain": [
              "HBox(children=(Image(value=b'GIF89a@\\x00@\\x00\\x87\\x00\\x00\\xff\\xff\\xff\\xfe\\xfe\\xfe\\xfd\\xfd\\xfd\\xfc\\xfc\\xfc\\xfb\\…"
            ]
          },
          "metadata": {
            "tags": []
          }
        },
        {
          "output_type": "display_data",
          "data": {
            "application/vnd.jupyter.widget-view+json": {
              "model_id": "69c3eaa1eeea4824a4c698c88fab1436",
              "version_minor": 0,
              "version_major": 2
            },
            "text/plain": [
              "HBox(children=(Image(value=b'GIF89a@\\x00@\\x00\\x87\\x00\\x00\\xff\\xff\\xff\\xfe\\xfe\\xfe\\xfd\\xfd\\xfd\\xfb\\xfb\\xfb\\xf6\\…"
            ]
          },
          "metadata": {
            "tags": []
          }
        },
        {
          "output_type": "display_data",
          "data": {
            "application/vnd.jupyter.widget-view+json": {
              "model_id": "09bff60cb2df45899b021e3544b95063",
              "version_minor": 0,
              "version_major": 2
            },
            "text/plain": [
              "HBox(children=(Image(value=b'GIF89a@\\x00@\\x00\\x87\\x00\\x00\\xff\\xff\\xff\\xfd\\xfd\\xfd\\xfc\\xfc\\xfc\\xfb\\xfb\\xfb\\xfa\\…"
            ]
          },
          "metadata": {
            "tags": []
          }
        },
        {
          "output_type": "display_data",
          "data": {
            "application/vnd.jupyter.widget-view+json": {
              "model_id": "71fa830db9d946a79772b7db1f805841",
              "version_minor": 0,
              "version_major": 2
            },
            "text/plain": [
              "HBox(children=(Image(value=b'GIF89a@\\x00@\\x00\\x87\\x00\\x00\\xff\\xff\\xff\\x00\\x00\\x00\\x00\\x00\\x00\\x00\\x00\\x00\\x00\\…"
            ]
          },
          "metadata": {
            "tags": []
          }
        }
      ]
    }
  ]
}