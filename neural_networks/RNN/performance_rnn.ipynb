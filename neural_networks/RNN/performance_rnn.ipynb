{
  "nbformat": 4,
  "nbformat_minor": 0,
  "metadata": {
    "colab": {
      "name": "performance_rnn.ipynb",
      "provenance": [],
      "collapsed_sections": [],
      "authorship_tag": "ABX9TyOdf36X/fjHrQ6sADqw4Iwe",
      "include_colab_link": true
    },
    "kernelspec": {
      "name": "python3",
      "display_name": "Python 3"
    },
    "accelerator": "GPU"
  },
  "cells": [
    {
      "cell_type": "markdown",
      "metadata": {
        "id": "view-in-github",
        "colab_type": "text"
      },
      "source": [
        "<a href=\"https://colab.research.google.com/github/PsorTheDoctor/Sekcja-SI/blob/master/neural_networks/RNN/performance_rnn.ipynb\" target=\"_parent\"><img src=\"https://colab.research.google.com/assets/colab-badge.svg\" alt=\"Open In Colab\"/></a>"
      ]
    },
    {
      "cell_type": "markdown",
      "metadata": {
        "id": "7yuLzM4dvQ_j",
        "colab_type": "text"
      },
      "source": [
        "# Perfonmance RNN: Generowanie muzyki na LSTM\n",
        "## Ustawienia środowiska"
      ]
    },
    {
      "cell_type": "code",
      "metadata": {
        "id": "5hyARQMPuPDA",
        "colab_type": "code",
        "colab": {}
      },
      "source": [
        "!apt-get update -qq && apt-get install -qq libfluidsynth1 build-essential libasound2-dev libjack-dev\n",
        "!pip install -U magenta pyfluidsynth"
      ],
      "execution_count": 0,
      "outputs": []
    },
    {
      "cell_type": "code",
      "metadata": {
        "id": "oeLsLxPMwaA3",
        "colab_type": "code",
        "colab": {}
      },
      "source": [
        "import ctypes.util\n",
        "orig_ctypes_util_find_library = ctypes.util.find_library\n",
        "def proxy_find_library(lib):\n",
        "  if lib == 'fluidsynth':\n",
        "    return 'libfluidsynth.so.1'\n",
        "  else:\n",
        "    return orig_ctypes_util_find_library(lib)\n",
        "ctypes.util.find_library = proxy_find_library"
      ],
      "execution_count": 0,
      "outputs": []
    },
    {
      "cell_type": "code",
      "metadata": {
        "id": "QfljorDm3nNq",
        "colab_type": "code",
        "colab": {
          "base_uri": "https://localhost:8080/",
          "height": 69
        },
        "outputId": "21244916-78ee-44cb-9f0c-217f3aff2af4"
      },
      "source": [
        "!gsutil -m cp gs://download.magenta.tensorflow.org/soundfonts/Yamaha-C5-Salamander-JNv5.1.sf2 /tmp/"
      ],
      "execution_count": 4,
      "outputs": [
        {
          "output_type": "stream",
          "text": [
            "Copying gs://download.magenta.tensorflow.org/soundfonts/Yamaha-C5-Salamander-JNv5.1.sf2...\n",
            "\\ [1/1 files][591.9 MiB/591.9 MiB] 100% Done  23.2 MiB/s ETA 00:00:00           \n",
            "Operation completed over 1 objects/591.9 MiB.                                    \n"
          ],
          "name": "stdout"
        }
      ]
    },
    {
      "cell_type": "code",
      "metadata": {
        "id": "N35SgKSJxNAg",
        "colab_type": "code",
        "colab": {}
      },
      "source": [
        "import os\n",
        "from magenta.models.performance_rnn import performance_sequence_generator\n",
        "from magenta.models.shared import sequence_generator_bundle\n",
        "from magenta.music.protobuf import generator_pb2\n",
        "from magenta.music.protobuf import music_pb2\n",
        "\n",
        "import magenta.music as mm\n",
        "\n",
        "import warnings\n",
        "warnings.filterwarnings('ignore', category=DeprecationWarning)\n",
        "\n",
        "BUNDLE_DIR = '/tmp/'\n",
        "MODEL_NAME = 'performance_with_dynamics'\n",
        "BUNDLE_NAME = MODEL_NAME + '.mag'"
      ],
      "execution_count": 0,
      "outputs": []
    },
    {
      "cell_type": "code",
      "metadata": {
        "id": "vrGinNyK4-vE",
        "colab_type": "code",
        "colab": {
          "base_uri": "https://localhost:8080/",
          "height": 72
        },
        "outputId": "a48a7f5e-9a16-4355-f8fb-cb2c5c80514b"
      },
      "source": [
        "mm.notebook_utils.download_bundle(BUNDLE_NAME, BUNDLE_DIR)"
      ],
      "execution_count": 9,
      "outputs": [
        {
          "output_type": "stream",
          "text": [
            "WARNING:tensorflow:From /usr/local/lib/python3.6/dist-packages/magenta/music/notebook_utils.py:196: The name tf.gfile.MakeDirs is deprecated. Please use tf.io.gfile.makedirs instead.\n",
            "\n"
          ],
          "name": "stdout"
        }
      ]
    },
    {
      "cell_type": "markdown",
      "metadata": {
        "id": "TTThZyrY5enk",
        "colab_type": "text"
      },
      "source": [
        "## Generowanie sekwencji"
      ]
    },
    {
      "cell_type": "code",
      "metadata": {
        "id": "3-P1szz95jeE",
        "colab_type": "code",
        "colab": {
          "base_uri": "https://localhost:8080/",
          "height": 304
        },
        "outputId": "1b644788-b5ee-4bcd-de73-0b90db27e5a2"
      },
      "source": [
        "bundle = sequence_generator_bundle.read_bundle_file(os.path.join(BUNDLE_DIR, BUNDLE_NAME))\n",
        "generator_map = performance_sequence_generator.get_generator_map()\n",
        "generator = generator_map[MODEL_NAME](checkpoint=None, bundle=bundle)\n",
        "generator.initialize()\n",
        "generator_options = generator_pb2.GeneratorOptions()\n",
        "generator_options.args['temperature'].float_value = 1  # Im większa tym bardziej losowa\n",
        "generate_section = generator_options.generate_sections.add(start_time=0, end_time=30)\n",
        "sequence = generator.generate(music_pb2.NoteSequence(), generator_options)\n",
        "\n",
        "mm.plot_sequence(sequence)"
      ],
      "execution_count": 16,
      "outputs": [
        {
          "output_type": "stream",
          "text": [
            "WARNING:tensorflow:The saved meta_graph is possibly from an older release:\n",
            "'model_variables' collection should be of type 'byte_list', but instead is of type 'node_list'.\n",
            "INFO:tensorflow:Restoring parameters from /tmp/tmp0gouehrc/model.ckpt\n",
            "INFO:tensorflow:Need to generate 2899 more steps for this sequence, will try asking for 1740 RNN steps\n",
            "INFO:tensorflow:Beam search yields sequence with log-likelihood: -4301.637695 \n"
          ],
          "name": "stdout"
        },
        {
          "output_type": "display_data",
          "data": {
            "application/javascript": [
              "\n",
              "(function(root) {\n",
              "  function now() {\n",
              "    return new Date();\n",
              "  }\n",
              "\n",
              "  var force = true;\n",
              "\n",
              "  if (typeof root._bokeh_onload_callbacks === \"undefined\" || force === true) {\n",
              "    root._bokeh_onload_callbacks = [];\n",
              "    root._bokeh_is_loading = undefined;\n",
              "  }\n",
              "\n",
              "  var JS_MIME_TYPE = 'application/javascript';\n",
              "  var HTML_MIME_TYPE = 'text/html';\n",
              "  var EXEC_MIME_TYPE = 'application/vnd.bokehjs_exec.v0+json';\n",
              "  var CLASS_NAME = 'output_bokeh rendered_html';\n",
              "\n",
              "  /**\n",
              "   * Render data to the DOM node\n",
              "   */\n",
              "  function render(props, node) {\n",
              "    var script = document.createElement(\"script\");\n",
              "    node.appendChild(script);\n",
              "  }\n",
              "\n",
              "  /**\n",
              "   * Handle when an output is cleared or removed\n",
              "   */\n",
              "  function handleClearOutput(event, handle) {\n",
              "    var cell = handle.cell;\n",
              "\n",
              "    var id = cell.output_area._bokeh_element_id;\n",
              "    var server_id = cell.output_area._bokeh_server_id;\n",
              "    // Clean up Bokeh references\n",
              "    if (id != null && id in Bokeh.index) {\n",
              "      Bokeh.index[id].model.document.clear();\n",
              "      delete Bokeh.index[id];\n",
              "    }\n",
              "\n",
              "    if (server_id !== undefined) {\n",
              "      // Clean up Bokeh references\n",
              "      var cmd = \"from bokeh.io.state import curstate; print(curstate().uuid_to_server['\" + server_id + \"'].get_sessions()[0].document.roots[0]._id)\";\n",
              "      cell.notebook.kernel.execute(cmd, {\n",
              "        iopub: {\n",
              "          output: function(msg) {\n",
              "            var id = msg.content.text.trim();\n",
              "            if (id in Bokeh.index) {\n",
              "              Bokeh.index[id].model.document.clear();\n",
              "              delete Bokeh.index[id];\n",
              "            }\n",
              "          }\n",
              "        }\n",
              "      });\n",
              "      // Destroy server and session\n",
              "      var cmd = \"import bokeh.io.notebook as ion; ion.destroy_server('\" + server_id + \"')\";\n",
              "      cell.notebook.kernel.execute(cmd);\n",
              "    }\n",
              "  }\n",
              "\n",
              "  /**\n",
              "   * Handle when a new output is added\n",
              "   */\n",
              "  function handleAddOutput(event, handle) {\n",
              "    var output_area = handle.output_area;\n",
              "    var output = handle.output;\n",
              "\n",
              "    // limit handleAddOutput to display_data with EXEC_MIME_TYPE content only\n",
              "    if ((output.output_type != \"display_data\") || (!output.data.hasOwnProperty(EXEC_MIME_TYPE))) {\n",
              "      return\n",
              "    }\n",
              "\n",
              "    var toinsert = output_area.element.find(\".\" + CLASS_NAME.split(' ')[0]);\n",
              "\n",
              "    if (output.metadata[EXEC_MIME_TYPE][\"id\"] !== undefined) {\n",
              "      toinsert[toinsert.length - 1].firstChild.textContent = output.data[JS_MIME_TYPE];\n",
              "      // store reference to embed id on output_area\n",
              "      output_area._bokeh_element_id = output.metadata[EXEC_MIME_TYPE][\"id\"];\n",
              "    }\n",
              "    if (output.metadata[EXEC_MIME_TYPE][\"server_id\"] !== undefined) {\n",
              "      var bk_div = document.createElement(\"div\");\n",
              "      bk_div.innerHTML = output.data[HTML_MIME_TYPE];\n",
              "      var script_attrs = bk_div.children[0].attributes;\n",
              "      for (var i = 0; i < script_attrs.length; i++) {\n",
              "        toinsert[toinsert.length - 1].firstChild.setAttribute(script_attrs[i].name, script_attrs[i].value);\n",
              "      }\n",
              "      // store reference to server id on output_area\n",
              "      output_area._bokeh_server_id = output.metadata[EXEC_MIME_TYPE][\"server_id\"];\n",
              "    }\n",
              "  }\n",
              "\n",
              "  function register_renderer(events, OutputArea) {\n",
              "\n",
              "    function append_mime(data, metadata, element) {\n",
              "      // create a DOM node to render to\n",
              "      var toinsert = this.create_output_subarea(\n",
              "        metadata,\n",
              "        CLASS_NAME,\n",
              "        EXEC_MIME_TYPE\n",
              "      );\n",
              "      this.keyboard_manager.register_events(toinsert);\n",
              "      // Render to node\n",
              "      var props = {data: data, metadata: metadata[EXEC_MIME_TYPE]};\n",
              "      render(props, toinsert[toinsert.length - 1]);\n",
              "      element.append(toinsert);\n",
              "      return toinsert\n",
              "    }\n",
              "\n",
              "    /* Handle when an output is cleared or removed */\n",
              "    events.on('clear_output.CodeCell', handleClearOutput);\n",
              "    events.on('delete.Cell', handleClearOutput);\n",
              "\n",
              "    /* Handle when a new output is added */\n",
              "    events.on('output_added.OutputArea', handleAddOutput);\n",
              "\n",
              "    /**\n",
              "     * Register the mime type and append_mime function with output_area\n",
              "     */\n",
              "    OutputArea.prototype.register_mime_type(EXEC_MIME_TYPE, append_mime, {\n",
              "      /* Is output safe? */\n",
              "      safe: true,\n",
              "      /* Index of renderer in `output_area.display_order` */\n",
              "      index: 0\n",
              "    });\n",
              "  }\n",
              "\n",
              "  // register the mime type if in Jupyter Notebook environment and previously unregistered\n",
              "  if (root.Jupyter !== undefined) {\n",
              "    var events = require('base/js/events');\n",
              "    var OutputArea = require('notebook/js/outputarea').OutputArea;\n",
              "\n",
              "    if (OutputArea.prototype.mime_types().indexOf(EXEC_MIME_TYPE) == -1) {\n",
              "      register_renderer(events, OutputArea);\n",
              "    }\n",
              "  }\n",
              "\n",
              "  \n",
              "  if (typeof (root._bokeh_timeout) === \"undefined\" || force === true) {\n",
              "    root._bokeh_timeout = Date.now() + 5000;\n",
              "    root._bokeh_failed_load = false;\n",
              "  }\n",
              "\n",
              "  var NB_LOAD_WARNING = {'data': {'text/html':\n",
              "     \"<div style='background-color: #fdd'>\\n\"+\n",
              "     \"<p>\\n\"+\n",
              "     \"BokehJS does not appear to have successfully loaded. If loading BokehJS from CDN, this \\n\"+\n",
              "     \"may be due to a slow or bad network connection. Possible fixes:\\n\"+\n",
              "     \"</p>\\n\"+\n",
              "     \"<ul>\\n\"+\n",
              "     \"<li>re-rerun `output_notebook()` to attempt to load from CDN again, or</li>\\n\"+\n",
              "     \"<li>use INLINE resources instead, as so:</li>\\n\"+\n",
              "     \"</ul>\\n\"+\n",
              "     \"<code>\\n\"+\n",
              "     \"from bokeh.resources import INLINE\\n\"+\n",
              "     \"output_notebook(resources=INLINE)\\n\"+\n",
              "     \"</code>\\n\"+\n",
              "     \"</div>\"}};\n",
              "\n",
              "  function display_loaded() {\n",
              "    var el = document.getElementById(null);\n",
              "    if (el != null) {\n",
              "      el.textContent = \"BokehJS is loading...\";\n",
              "    }\n",
              "    if (root.Bokeh !== undefined) {\n",
              "      if (el != null) {\n",
              "        el.textContent = \"BokehJS \" + root.Bokeh.version + \" successfully loaded.\";\n",
              "      }\n",
              "    } else if (Date.now() < root._bokeh_timeout) {\n",
              "      setTimeout(display_loaded, 100)\n",
              "    }\n",
              "  }\n",
              "\n",
              "\n",
              "  function run_callbacks() {\n",
              "    try {\n",
              "      root._bokeh_onload_callbacks.forEach(function(callback) {\n",
              "        if (callback != null)\n",
              "          callback();\n",
              "      });\n",
              "    } finally {\n",
              "      delete root._bokeh_onload_callbacks\n",
              "    }\n",
              "    console.debug(\"Bokeh: all callbacks have finished\");\n",
              "  }\n",
              "\n",
              "  function load_libs(css_urls, js_urls, callback) {\n",
              "    if (css_urls == null) css_urls = [];\n",
              "    if (js_urls == null) js_urls = [];\n",
              "\n",
              "    root._bokeh_onload_callbacks.push(callback);\n",
              "    if (root._bokeh_is_loading > 0) {\n",
              "      console.debug(\"Bokeh: BokehJS is being loaded, scheduling callback at\", now());\n",
              "      return null;\n",
              "    }\n",
              "    if (js_urls == null || js_urls.length === 0) {\n",
              "      run_callbacks();\n",
              "      return null;\n",
              "    }\n",
              "    console.debug(\"Bokeh: BokehJS not loaded, scheduling load and callback at\", now());\n",
              "    root._bokeh_is_loading = css_urls.length + js_urls.length;\n",
              "\n",
              "    function on_load() {\n",
              "      root._bokeh_is_loading--;\n",
              "      if (root._bokeh_is_loading === 0) {\n",
              "        console.debug(\"Bokeh: all BokehJS libraries/stylesheets loaded\");\n",
              "        run_callbacks()\n",
              "      }\n",
              "    }\n",
              "\n",
              "    function on_error() {\n",
              "      console.error(\"failed to load \" + url);\n",
              "    }\n",
              "\n",
              "    for (var i = 0; i < css_urls.length; i++) {\n",
              "      var url = css_urls[i];\n",
              "      const element = document.createElement(\"link\");\n",
              "      element.onload = on_load;\n",
              "      element.onerror = on_error;\n",
              "      element.rel = \"stylesheet\";\n",
              "      element.type = \"text/css\";\n",
              "      element.href = url;\n",
              "      console.debug(\"Bokeh: injecting link tag for BokehJS stylesheet: \", url);\n",
              "      document.body.appendChild(element);\n",
              "    }\n",
              "\n",
              "    for (var i = 0; i < js_urls.length; i++) {\n",
              "      var url = js_urls[i];\n",
              "      var element = document.createElement('script');\n",
              "      element.onload = on_load;\n",
              "      element.onerror = on_error;\n",
              "      element.async = false;\n",
              "      element.src = url;\n",
              "      console.debug(\"Bokeh: injecting script tag for BokehJS library: \", url);\n",
              "      document.head.appendChild(element);\n",
              "    }\n",
              "  };\n",
              "\n",
              "  function inject_raw_css(css) {\n",
              "    const element = document.createElement(\"style\");\n",
              "    element.appendChild(document.createTextNode(css));\n",
              "    document.body.appendChild(element);\n",
              "  }\n",
              "\n",
              "  \n",
              "  var js_urls = [\"https://cdn.pydata.org/bokeh/release/bokeh-1.4.0.min.js\", \"https://cdn.pydata.org/bokeh/release/bokeh-widgets-1.4.0.min.js\", \"https://cdn.pydata.org/bokeh/release/bokeh-tables-1.4.0.min.js\", \"https://cdn.pydata.org/bokeh/release/bokeh-gl-1.4.0.min.js\"];\n",
              "  var css_urls = [];\n",
              "  \n",
              "\n",
              "  var inline_js = [\n",
              "    function(Bokeh) {\n",
              "      Bokeh.set_log_level(\"info\");\n",
              "    },\n",
              "    function(Bokeh) {\n",
              "    \n",
              "    \n",
              "    }\n",
              "  ];\n",
              "\n",
              "  function run_inline_js() {\n",
              "    \n",
              "    if (root.Bokeh !== undefined || force === true) {\n",
              "      \n",
              "    for (var i = 0; i < inline_js.length; i++) {\n",
              "      inline_js[i].call(root, root.Bokeh);\n",
              "    }\n",
              "    } else if (Date.now() < root._bokeh_timeout) {\n",
              "      setTimeout(run_inline_js, 100);\n",
              "    } else if (!root._bokeh_failed_load) {\n",
              "      console.log(\"Bokeh: BokehJS failed to load within specified timeout.\");\n",
              "      root._bokeh_failed_load = true;\n",
              "    } else if (force !== true) {\n",
              "      var cell = $(document.getElementById(null)).parents('.cell').data().cell;\n",
              "      cell.output_area.append_execute_result(NB_LOAD_WARNING)\n",
              "    }\n",
              "\n",
              "  }\n",
              "\n",
              "  if (root._bokeh_is_loading === 0) {\n",
              "    console.debug(\"Bokeh: BokehJS loaded, going straight to plotting\");\n",
              "    run_inline_js();\n",
              "  } else {\n",
              "    load_libs(css_urls, js_urls, function() {\n",
              "      console.debug(\"Bokeh: BokehJS plotting callback run at\", now());\n",
              "      run_inline_js();\n",
              "    });\n",
              "  }\n",
              "}(window));"
            ],
            "application/vnd.bokehjs_load.v0+json": "\n(function(root) {\n  function now() {\n    return new Date();\n  }\n\n  var force = true;\n\n  if (typeof root._bokeh_onload_callbacks === \"undefined\" || force === true) {\n    root._bokeh_onload_callbacks = [];\n    root._bokeh_is_loading = undefined;\n  }\n\n  \n\n  \n  if (typeof (root._bokeh_timeout) === \"undefined\" || force === true) {\n    root._bokeh_timeout = Date.now() + 5000;\n    root._bokeh_failed_load = false;\n  }\n\n  var NB_LOAD_WARNING = {'data': {'text/html':\n     \"<div style='background-color: #fdd'>\\n\"+\n     \"<p>\\n\"+\n     \"BokehJS does not appear to have successfully loaded. If loading BokehJS from CDN, this \\n\"+\n     \"may be due to a slow or bad network connection. Possible fixes:\\n\"+\n     \"</p>\\n\"+\n     \"<ul>\\n\"+\n     \"<li>re-rerun `output_notebook()` to attempt to load from CDN again, or</li>\\n\"+\n     \"<li>use INLINE resources instead, as so:</li>\\n\"+\n     \"</ul>\\n\"+\n     \"<code>\\n\"+\n     \"from bokeh.resources import INLINE\\n\"+\n     \"output_notebook(resources=INLINE)\\n\"+\n     \"</code>\\n\"+\n     \"</div>\"}};\n\n  function display_loaded() {\n    var el = document.getElementById(null);\n    if (el != null) {\n      el.textContent = \"BokehJS is loading...\";\n    }\n    if (root.Bokeh !== undefined) {\n      if (el != null) {\n        el.textContent = \"BokehJS \" + root.Bokeh.version + \" successfully loaded.\";\n      }\n    } else if (Date.now() < root._bokeh_timeout) {\n      setTimeout(display_loaded, 100)\n    }\n  }\n\n\n  function run_callbacks() {\n    try {\n      root._bokeh_onload_callbacks.forEach(function(callback) {\n        if (callback != null)\n          callback();\n      });\n    } finally {\n      delete root._bokeh_onload_callbacks\n    }\n    console.debug(\"Bokeh: all callbacks have finished\");\n  }\n\n  function load_libs(css_urls, js_urls, callback) {\n    if (css_urls == null) css_urls = [];\n    if (js_urls == null) js_urls = [];\n\n    root._bokeh_onload_callbacks.push(callback);\n    if (root._bokeh_is_loading > 0) {\n      console.debug(\"Bokeh: BokehJS is being loaded, scheduling callback at\", now());\n      return null;\n    }\n    if (js_urls == null || js_urls.length === 0) {\n      run_callbacks();\n      return null;\n    }\n    console.debug(\"Bokeh: BokehJS not loaded, scheduling load and callback at\", now());\n    root._bokeh_is_loading = css_urls.length + js_urls.length;\n\n    function on_load() {\n      root._bokeh_is_loading--;\n      if (root._bokeh_is_loading === 0) {\n        console.debug(\"Bokeh: all BokehJS libraries/stylesheets loaded\");\n        run_callbacks()\n      }\n    }\n\n    function on_error() {\n      console.error(\"failed to load \" + url);\n    }\n\n    for (var i = 0; i < css_urls.length; i++) {\n      var url = css_urls[i];\n      const element = document.createElement(\"link\");\n      element.onload = on_load;\n      element.onerror = on_error;\n      element.rel = \"stylesheet\";\n      element.type = \"text/css\";\n      element.href = url;\n      console.debug(\"Bokeh: injecting link tag for BokehJS stylesheet: \", url);\n      document.body.appendChild(element);\n    }\n\n    for (var i = 0; i < js_urls.length; i++) {\n      var url = js_urls[i];\n      var element = document.createElement('script');\n      element.onload = on_load;\n      element.onerror = on_error;\n      element.async = false;\n      element.src = url;\n      console.debug(\"Bokeh: injecting script tag for BokehJS library: \", url);\n      document.head.appendChild(element);\n    }\n  };\n\n  function inject_raw_css(css) {\n    const element = document.createElement(\"style\");\n    element.appendChild(document.createTextNode(css));\n    document.body.appendChild(element);\n  }\n\n  \n  var js_urls = [\"https://cdn.pydata.org/bokeh/release/bokeh-1.4.0.min.js\", \"https://cdn.pydata.org/bokeh/release/bokeh-widgets-1.4.0.min.js\", \"https://cdn.pydata.org/bokeh/release/bokeh-tables-1.4.0.min.js\", \"https://cdn.pydata.org/bokeh/release/bokeh-gl-1.4.0.min.js\"];\n  var css_urls = [];\n  \n\n  var inline_js = [\n    function(Bokeh) {\n      Bokeh.set_log_level(\"info\");\n    },\n    function(Bokeh) {\n    \n    \n    }\n  ];\n\n  function run_inline_js() {\n    \n    if (root.Bokeh !== undefined || force === true) {\n      \n    for (var i = 0; i < inline_js.length; i++) {\n      inline_js[i].call(root, root.Bokeh);\n    }\n    } else if (Date.now() < root._bokeh_timeout) {\n      setTimeout(run_inline_js, 100);\n    } else if (!root._bokeh_failed_load) {\n      console.log(\"Bokeh: BokehJS failed to load within specified timeout.\");\n      root._bokeh_failed_load = true;\n    } else if (force !== true) {\n      var cell = $(document.getElementById(null)).parents('.cell').data().cell;\n      cell.output_area.append_execute_result(NB_LOAD_WARNING)\n    }\n\n  }\n\n  if (root._bokeh_is_loading === 0) {\n    console.debug(\"Bokeh: BokehJS loaded, going straight to plotting\");\n    run_inline_js();\n  } else {\n    load_libs(css_urls, js_urls, function() {\n      console.debug(\"Bokeh: BokehJS plotting callback run at\", now());\n      run_inline_js();\n    });\n  }\n}(window));"
          },
          "metadata": {
            "tags": []
          }
        },
        {
          "output_type": "display_data",
          "data": {
            "text/html": [
              "\n",
              "\n",
              "\n",
              "\n",
              "\n",
              "\n",
              "  <div class=\"bk-root\" id=\"ae0cd32e-6a6b-401e-b841-d43bcf6f9249\" data-root-id=\"1137\"></div>\n"
            ]
          },
          "metadata": {
            "tags": []
          }
        },
        {
          "output_type": "display_data",
          "data": {
            "application/javascript": [
              "(function(root) {\n",
              "  function embed_document(root) {\n",
              "    \n",
              "  var docs_json = {\"2e276747-4b0c-4971-9f1c-15101ee6f638\":{\"roots\":{\"references\":[{\"attributes\":{\"below\":[{\"id\":\"1146\",\"type\":\"LinearAxis\"}],\"center\":[{\"id\":\"1150\",\"type\":\"Grid\"},{\"id\":\"1155\",\"type\":\"Grid\"}],\"left\":[{\"id\":\"1151\",\"type\":\"LinearAxis\"}],\"plot_height\":200,\"plot_width\":500,\"renderers\":[{\"id\":\"1174\",\"type\":\"GlyphRenderer\"}],\"title\":{\"id\":\"1177\",\"type\":\"Title\"},\"toolbar\":{\"id\":\"1161\",\"type\":\"Toolbar\"},\"x_range\":{\"id\":\"1138\",\"type\":\"DataRange1d\"},\"x_scale\":{\"id\":\"1142\",\"type\":\"LinearScale\"},\"y_range\":{\"id\":\"1140\",\"type\":\"DataRange1d\"},\"y_scale\":{\"id\":\"1144\",\"type\":\"LinearScale\"}},\"id\":\"1137\",\"subtype\":\"Figure\",\"type\":\"Plot\"},{\"attributes\":{},\"id\":\"1180\",\"type\":\"BasicTickFormatter\"},{\"attributes\":{\"dimension\":1,\"ticker\":{\"id\":\"1169\",\"type\":\"SingleIntervalTicker\"}},\"id\":\"1155\",\"type\":\"Grid\"},{\"attributes\":{\"bottom_units\":\"screen\",\"fill_alpha\":{\"value\":0.5},\"fill_color\":{\"value\":\"lightgrey\"},\"left_units\":\"screen\",\"level\":\"overlay\",\"line_alpha\":{\"value\":1.0},\"line_color\":{\"value\":\"black\"},\"line_dash\":[4,4],\"line_width\":{\"value\":2},\"render_mode\":\"css\",\"right_units\":\"screen\",\"top_units\":\"screen\"},\"id\":\"1181\",\"type\":\"BoxAnnotation\"},{\"attributes\":{\"callback\":null},\"id\":\"1140\",\"type\":\"DataRange1d\"},{\"attributes\":{},\"id\":\"1182\",\"type\":\"Selection\"},{\"attributes\":{},\"id\":\"1183\",\"type\":\"UnionRenderers\"},{\"attributes\":{\"callback\":null},\"id\":\"1138\",\"type\":\"DataRange1d\"},{\"attributes\":{},\"id\":\"1157\",\"type\":\"PanTool\"},{\"attributes\":{\"callback\":null,\"tooltips\":[[\"pitch\",\"@pitch\"],[\"program\",\"@program\"],[\"velo\",\"@velocity\"],[\"duration\",\"@duration\"],[\"start_time\",\"@start_time\"],[\"end_time\",\"@end_time\"],[\"velocity\",\"@velocity\"],[\"fill_alpha\",\"@fill_alpha\"]]},\"id\":\"1156\",\"type\":\"HoverTool\"},{\"attributes\":{\"bottom\":{\"field\":\"bottom\"},\"fill_alpha\":{\"value\":0.1},\"fill_color\":{\"value\":\"#1f77b4\"},\"left\":{\"field\":\"start_time\"},\"line_alpha\":{\"value\":0.1},\"line_color\":{\"value\":\"#1f77b4\"},\"right\":{\"field\":\"end_time\"},\"top\":{\"field\":\"top\"}},\"id\":\"1173\",\"type\":\"Quad\"},{\"attributes\":{\"text\":\"\"},\"id\":\"1177\",\"type\":\"Title\"},{\"attributes\":{\"interval\":12},\"id\":\"1169\",\"type\":\"SingleIntervalTicker\"},{\"attributes\":{\"active_drag\":\"auto\",\"active_inspect\":\"auto\",\"active_multi\":null,\"active_scroll\":\"auto\",\"active_tap\":\"auto\",\"tools\":[{\"id\":\"1156\",\"type\":\"HoverTool\"},{\"id\":\"1157\",\"type\":\"PanTool\"},{\"id\":\"1158\",\"type\":\"BoxZoomTool\"},{\"id\":\"1159\",\"type\":\"ResetTool\"},{\"id\":\"1160\",\"type\":\"SaveTool\"}]},\"id\":\"1161\",\"type\":\"Toolbar\"},{\"attributes\":{\"data_source\":{\"id\":\"1170\",\"type\":\"ColumnDataSource\"},\"glyph\":{\"id\":\"1172\",\"type\":\"Quad\"},\"hover_glyph\":null,\"muted_glyph\":null,\"nonselection_glyph\":{\"id\":\"1173\",\"type\":\"Quad\"},\"selection_glyph\":null,\"view\":{\"id\":\"1175\",\"type\":\"CDSView\"}},\"id\":\"1174\",\"type\":\"GlyphRenderer\"},{\"attributes\":{\"interval\":12},\"id\":\"1167\",\"type\":\"SingleIntervalTicker\"},{\"attributes\":{},\"id\":\"1142\",\"type\":\"LinearScale\"},{\"attributes\":{},\"id\":\"1144\",\"type\":\"LinearScale\"},{\"attributes\":{\"bottom\":{\"field\":\"bottom\"},\"fill_alpha\":{\"field\":\"fill_alpha\"},\"fill_color\":{\"value\":\"#d53e4f\"},\"left\":{\"field\":\"start_time\"},\"right\":{\"field\":\"end_time\"},\"top\":{\"field\":\"top\"}},\"id\":\"1172\",\"type\":\"Quad\"},{\"attributes\":{},\"id\":\"1160\",\"type\":\"SaveTool\"},{\"attributes\":{\"source\":{\"id\":\"1170\",\"type\":\"ColumnDataSource\"}},\"id\":\"1175\",\"type\":\"CDSView\"},{\"attributes\":{\"callback\":null,\"data\":{\"bottom\":{\"__ndarray__\":\"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\",\"dtype\":\"float64\",\"shape\":[348]},\"duration\":{\"__ndarray__\":\"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\",\"dtype\":\"float64\",\"shape\":[348]},\"end_time\":{\"__ndarray__\":\"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\",\"dtype\":\"float64\",\"shape\":[348]},\"fill_alpha\":{\"__ndarray__\":\"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\",\"dtype\":\"float64\",\"shape\":[348]},\"index\":[0,1,2,3,4,5,6,7,8,9,10,11,12,13,14,15,16,17,18,19,20,21,22,23,24,25,26,27,28,29,30,31,32,33,34,35,36,37,38,39,40,41,42,43,44,45,46,47,48,49,50,51,52,53,54,55,56,57,58,59,60,61,62,63,64,65,66,67,68,69,70,71,72,73,74,75,76,77,78,79,80,81,82,83,84,85,86,87,88,89,90,91,92,93,94,95,96,97,98,99,100,101,102,103,104,105,106,107,108,109,110,111,112,113,114,115,116,117,118,119,120,121,122,123,124,125,126,127,128,129,130,131,132,133,134,135,136,137,138,139,140,141,142,143,144,145,146,147,148,149,150,151,152,153,154,155,156,157,158,159,160,161,162,163,164,165,166,167,168,169,170,171,172,173,174,175,176,177,178,179,180,181,182,183,184,185,186,187,188,189,190,191,192,193,194,195,196,197,198,199,200,201,202,203,204,205,206,207,208,209,210,211,212,213,214,215,216,217,218,219,220,221,222,223,224,225,226,227,228,229,230,231,232,233,234,235,236,237,238,239,240,241,242,243,244,245,246,247,248,249,250,251,252,253,254,255,256,257,258,259,260,261,262,263,264,265,266,267,268,269,270,271,272,273,274,275,276,277,278,279,280,281,282,283,284,285,286,287,288,289,290,291,292,293,294,295,296,297,298,299,300,301,302,303,304,305,306,307,308,309,310,311,312,313,314,315,316,317,318,319,320,321,322,323,324,325,326,327,328,329,330,331,332,333,334,335,336,337,338,339,340,341,342,343,344,345,346,347],\"instrument\":[0,0,0,0,0,0,0,0,0,0,0,0,0,0,0,0,0,0,0,0,0,0,0,0,0,0,0,0,0,0,0,0,0,0,0,0,0,0,0,0,0,0,0,0,0,0,0,0,0,0,0,0,0,0,0,0,0,0,0,0,0,0,0,0,0,0,0,0,0,0,0,0,0,0,0,0,0,0,0,0,0,0,0,0,0,0,0,0,0,0,0,0,0,0,0,0,0,0,0,0,0,0,0,0,0,0,0,0,0,0,0,0,0,0,0,0,0,0,0,0,0,0,0,0,0,0,0,0,0,0,0,0,0,0,0,0,0,0,0,0,0,0,0,0,0,0,0,0,0,0,0,0,0,0,0,0,0,0,0,0,0,0,0,0,0,0,0,0,0,0,0,0,0,0,0,0,0,0,0,0,0,0,0,0,0,0,0,0,0,0,0,0,0,0,0,0,0,0,0,0,0,0,0,0,0,0,0,0,0,0,0,0,0,0,0,0,0,0,0,0,0,0,0,0,0,0,0,0,0,0,0,0,0,0,0,0,0,0,0,0,0,0,0,0,0,0,0,0,0,0,0,0,0,0,0,0,0,0,0,0,0,0,0,0,0,0,0,0,0,0,0,0,0,0,0,0,0,0,0,0,0,0,0,0,0,0,0,0,0,0,0,0,0,0,0,0,0,0,0,0,0,0,0,0,0,0,0,0,0,0,0,0,0,0,0,0,0,0,0,0,0,0,0,0,0,0,0,0,0,0,0,0,0,0,0,0,0,0,0,0,0,0,0,0,0,0,0,0],\"pitch\":[73,59,46,58,59,67,61,57,73,51,57,32,66,75,44,73,64,51,57,51,68,56,72,51,68,61,73,40,49,76,68,61,73,61,70,67,73,40,70,49,61,58,67,55,43,61,55,73,70,67,61,55,79,46,61,67,55,55,51,63,70,63,55,76,75,47,51,68,70,63,55,71,57,72,69,71,85,76,85,88,85,76,71,49,47,54,56,68,57,61,74,69,72,81,93,78,83,85,80,79,92,85,82,83,59,63,74,81,80,64,84,88,85,76,92,92,94,62,86,83,71,92,82,63,81,59,78,57,96,64,52,58,92,81,69,52,79,64,66,69,73,72,72,93,80,51,52,60,94,85,66,76,54,84,69,81,67,73,72,77,76,77,76,79,77,65,48,78,77,52,83,77,80,58,60,79,84,52,75,80,65,67,76,77,46,81,85,84,83,45,68,49,47,79,51,82,82,52,65,80,80,76,60,57,79,79,77,84,81,90,66,89,81,57,48,85,57,89,77,85,48,58,57,77,77,81,89,89,81,86,89,86,90,48,55,60,84,85,89,69,78,57,84,41,82,41,77,39,81,53,87,63,57,46,58,90,48,89,93,60,55,62,84,89,85,77,74,77,84,77,77,69,77,65,62,89,82,72,91,74,48,81,68,60,77,65,48,65,77,72,53,57,65,62,77,67,55,81,72,75,69,67,55,77,71,74,73,32,32,75,66,66,51,44,44,72,56,49,80,70,55,43,43,47,69,74,81,93,82,82,82,84,95,89,92,91,91,86,62,90,33,77,77,53,50,50,98,29],\"program\":[0,0,0,0,0,0,0,0,0,0,0,0,0,0,0,0,0,0,0,0,0,0,0,0,0,0,0,0,0,0,0,0,0,0,0,0,0,0,0,0,0,0,0,0,0,0,0,0,0,0,0,0,0,0,0,0,0,0,0,0,0,0,0,0,0,0,0,0,0,0,0,0,0,0,0,0,0,0,0,0,0,0,0,0,0,0,0,0,0,0,0,0,0,0,0,0,0,0,0,0,0,0,0,0,0,0,0,0,0,0,0,0,0,0,0,0,0,0,0,0,0,0,0,0,0,0,0,0,0,0,0,0,0,0,0,0,0,0,0,0,0,0,0,0,0,0,0,0,0,0,0,0,0,0,0,0,0,0,0,0,0,0,0,0,0,0,0,0,0,0,0,0,0,0,0,0,0,0,0,0,0,0,0,0,0,0,0,0,0,0,0,0,0,0,0,0,0,0,0,0,0,0,0,0,0,0,0,0,0,0,0,0,0,0,0,0,0,0,0,0,0,0,0,0,0,0,0,0,0,0,0,0,0,0,0,0,0,0,0,0,0,0,0,0,0,0,0,0,0,0,0,0,0,0,0,0,0,0,0,0,0,0,0,0,0,0,0,0,0,0,0,0,0,0,0,0,0,0,0,0,0,0,0,0,0,0,0,0,0,0,0,0,0,0,0,0,0,0,0,0,0,0,0,0,0,0,0,0,0,0,0,0,0,0,0,0,0,0,0,0,0,0,0,0,0,0,0,0,0,0,0,0,0,0,0,0,0,0,0,0,0,0,0,0,0,0,0,0],\"start_time\":{\"__ndarray__\":\"KVyPwvUo9D9SuB6F61HwP6RwPQrXo/Q/UrgehetR+D+uR+F6FK77P3sUrkfhevw/PgrXo3A9/j8UrkfhehQCQFyPwvUoXPs/zMzMzMzMBEAK16NwPQoHQLgehetRuABArkfhehSuA0CF61G4HoUDQOtRuB6F6wVAAAAAAAAACEA9CtejcD0IQFK4HoXrUQhAMzMzMzMzCUAzMzMzMzMLQFyPwvUoXA1AexSuR+F6DEBmZmZmZmYMQHA9CtejcA1AexSuR+F6DkBH4XoUrkcPQGZmZmZmZg5ApHA9CtejDkCF61G4HoUQQHsUrkfhehBAj8L1KFyPEEAfhetRuB4RQAAAAAAAABJAzczMzMzMEkDXo3A9CtcSQHE9CtejcBNAXI/C9ShcE0AfhetRuB4SQDMzMzMzMxRAZmZmZmZmE0DNzMzMzMwTQD0K16NwPRRApHA9CtejFEDhehSuR+EUQK5H4XoUrhVASOF6FK5HFkA9CtejcD0XQFyPwvUoXBVAmZmZmZmZFUAzMzMzMzMXQD0K16NwPRhAKVyPwvUoGUAUrkfhehQXQHsUrkfhehhAXI/C9ShcGUD2KFyPwvUaQFK4HoXrURpAAAAAAAAAHkCF61G4HoUcQFK4HoXrUR1AmpmZmZmZHkDD9Shcj8IfQIXrUbgehR5AZmZmZmZmGUDC9Shcj8IbQLgehetRuBtAPQrXo3A9H0DD9Shcj8IfQMP1KFyPQiBAFK5H4XqUIEAfhetRuJ4gQBSuR+F6FCFAmpmZmZkZIkCPwvUoXA8iQMP1KFyPwiFAmpmZmZkZIkApXI/C9agjQK5H4XoUriNAzczMzMxMJEAAAAAAAAAjQFyPwvUo3CRAUrgehetRJECF61G4HgUkQMP1KFyPwiFAj8L1KFyPIUDhehSuR2EiQLgehetRuCJAAAAAAACAIUAK16NwPQojQOF6FK5HYSNA4XoUrkdhIkCuR+F6FK4jQClcj8L1qCNA9ihcj8L1I0DNzMzMzEwkQLgehetRuCJA16NwPQpXI0ApXI/C9aglQKRwPQrXoyRAAAAAAAAAJUBxPQrXo3AmQLgehetRuCVApHA9CtejJEAAAAAAAIAmQArXo3A9CihACtejcD2KJ0AK16NwPYomQI/C9ShcDydArkfhehSuJUCPwvUoXA8nQAAAAAAAACVA7FG4HoXrJECamZmZmZknQDMzMzMzsyVACtejcD0KJ0CPwvUoXI8nQBSuR+F6lCRAhetRuB6FKECPwvUoXA8oQAAAAAAAgChA9ihcj8J1KED2KFyPwnUoQBSuR+F6lCdAAAAAAAAAKUCF61G4HoUpQAAAAAAAAClAAAAAAAAAKUCPwvUoXI8pQB+F61G4HipAuB6F61G4KkCuR+F6FC4qQEjhehSuxypAMzMzMzOzK0CF61G4HoUpQArXo3A9iilAuB6F61E4K0CamZmZmRkqQK5H4XoULixAhetRuB4FKUCuR+F6FC4sQD0K16NwvSxAw/UoXI9CLUAVrkfhehQuQFK4HoXrUSRAAAAAAACAJkDD9Shcj8IqQK5H4XoULixAuB6F61E4K0AzMzMzM7MrQEjhehSuRyxAuB6F61E4K0DD9Shcj0ItQD0K16NwPStAw/UoXI9CLUDNzMzMzEwtQClcj8L1KCxAPQrXo3C9LEDNzMzMzEwtQJqZmZmZGS5AcT0K16PwL0ApXI/C9WgwQOxRuB6FazBAZ2ZmZmamMEDD9Shcj0ItQM3MzMzMzDBA9ihcj8J1MEBnZmZmZqYwQKRwPQrXozBAexSuR+H6MEABAAAAAEAxQJqZmZmZGTFAUrgehetRMUCkcD0K1yMqQLgehetROCtAZ2ZmZmamMECQwvUoXM8wQKRwPQrXIzFA9ihcj8J1MUAL16NwPUoxQAEAAAAAgDFApHA9CtcjMUApXI/C9agwQJDC9ShczzBAAQAAAACAMUCkcD0K1yMxQK5H4XoULixAzczMzMxMMUDiehSuR6ExQD4K16NwfTFACtejcD0KL0C5HoXrUXgwQHsUrkfh+jBA9ihcj8I1MEC5HoXrUfgwQF2PwvUo3DBACtejcD0KKECkcD0K1yMxQKRwPQrXozFA4noUrkfhMUDiehSuR6ExQJqZmZmZ2TFA4noUrkchMkDiehSuR6ExQOJ6FK5HITJA4noUrkehMUDiehSuRyEyQK9H4XoUbjJAuR6F61F4MkAfhetRuB4yQJDC9ShczzJAzczMzMxMLUCvR+F6FG4yQK9H4XoUbjJAuR6F61E4M0A+CtejcD0zQHE9CtejcDJAXY/C9SicM0CamZmZmZkzQJqZmZmZmTNAH4XrUbieM0AfhetRuJ4zQBWuR+F6lDFA4noUrkfhM0C5HoXrUTg0QAEAAAAAgDRAFa5H4XrUMkC5HoXrUTg0QIbrUbgehTRAXY/C9SicM0CamZmZmdk0QJDC9ShcjzRAH4XrUbgeNUAVrkfhetQyQHsUrkfhOjRAmpmZmZlZNUBxPQrXo3A0QJqZmZmZ2TRAuR6F61E4NECamZmZmdk0QM3MzMzMTC1AzczMzMxMMUABAAAAAEA0QAEAAAAAwDVAPgrXo3A9NECvR+F6FC4yQF2PwvUo3DRAhutRuB6FNEDsUbgehes0QLkehetRODRAcT0K16NwMUCQwvUoXM81QEjhehSuxzVASOF6FK7HNUCvR+F6FG4yQD4K16NwPTRAUrgehetRNUAL16NwPYo1QFK4HoXrUTVAUrgehetRNUA+CtejcL01QJDC9ShcjzVASOF6FK7HNUCkcD0K1yM2QFK4HoXrUTVAw/UoXI/CNUCkcD0K1yM2QGdmZmZmpjZAZ2ZmZmamNkBSuB6F6xE3QBWuR+F6FDdA2KNwPQoXN0BSuB6F69EyQPYoXI/CdTdAuR6F61F4N0B7FK5H4fo2QEjhehSuxzVA2KNwPQrXMkCkcD0K1yM2QIXrUbgeBShA2KNwPQoXN0DiehSuRyE3QIbrUbgehTRAhutRuB7FN0CG61G4HsU3QMP1KFyPwjdAuR6F61E4OECG61G4HsU3QKRwPQrX4zhAhutRuB7FN0BnZmZmZuY4QLkehetRODhAzczMzMzMOEDYo3A9Cpc5QEjhehSuxzlApHA9CtfjOEBdj8L1KJw6QF2PwvUonDpAAQAAAADANUAL16NwPco5QNijcD0K1zFAFa5H4XoUN0AfhetRuN46QB+F61G43jpASOF6FK7HOUBdj8L1KNw6QOJ6FK5H4TpApHA9CtejNkBSuB6F61EKQBSuR+F6FCFAKlyPwvXoOEBxPQrXo3AyQNijcD0K1zJAmpmZmZlZNUBmZmZmZmYgQClcj8L1KCxAH4XrUbiePEBI4XoUrsc1QKRwPQrX4zNAH4XrUbiePECamZmZmdkyQM3MzMzMTDtAH4XrUbjeOkCQwvUoXE87QNijcD0K1zBAhutRuB7FOUAfhetRuJ48QIbrUbgexTlAAQAAAADANUBI4XoUrsc1QMP1KFyPQjZApHA9CtejNkAfhetRuB43QIXrUbgehSlAH4XrUbiePEApXI/C9SgsQOJ6FK5H4TRAkML1KFzPNUDiehSuR6E2QOxRuB6FqzpAXY/C9ShcNUCuR+F6FC4qQB+F61G43jpAH4XrUbiePEDYo3A9Cpc5QF2PwvUoHDVANDMzMzPzNkAVrkfhetQ0QJqZmZmZ2TRA\",\"dtype\":\"float64\",\"shape\":[348]},\"top\":{\"__ndarray__\":\"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\",\"dtype\":\"float64\",\"shape\":[348]},\"velocity\":[69,41,33,37,29,41,33,37,69,41,49,57,33,57,57,69,41,45,65,61,29,57,73,29,53,53,69,53,57,81,57,41,73,45,69,53,81,41,81,65,49,37,65,41,61,69,41,73,33,49,5,49,77,65,49,45,49,53,49,49,61,53,53,65,49,53,45,53,61,61,49,77,49,69,61,61,93,65,81,97,81,73,69,53,49,61,65,73,65,73,81,61,77,97,97,85,89,81,57,81,81,61,61,57,61,61,57,77,69,53,73,73,57,61,77,81,85,61,61,85,85,85,77,57,81,53,89,61,89,57,69,45,81,73,65,61,89,73,69,81,73,93,73,89,53,57,81,77,85,41,77,81,69,89,73,93,69,81,85,53,57,49,57,81,73,33,41,65,65,69,65,69,61,61,41,65,73,41,61,77,49,57,57,77,53,73,77,101,81,37,25,57,33,73,33,65,89,69,45,93,89,93,69,77,85,93,97,37,89,101,77,97,77,97,73,61,101,97,97,89,85,33,89,101,93,101,97,93,89,97,29,89,101,89,65,85,85,85,85,89,61,77,93,85,37,97,85,29,97,53,33,53,73,85,85,93,73,89,89,89,53,49,109,89,97,105,97,89,93,89,73,97,101,89,81,49,73,101,77,93,77,73,93,97,89,101,89,93,101,81,101,97,89,77,97,105,89,101,65,89,93,97,101,97,97,89,97,57,57,61,61,73,69,41,29,93,73,93,93,73,97,85,93,29,97,93,97,117,81,21,89,33,81,101,93,65,33,93,17,53,61,101,101,89,85,85,101,73]},\"selected\":{\"id\":\"1182\",\"type\":\"Selection\"},\"selection_policy\":{\"id\":\"1183\",\"type\":\"UnionRenderers\"}},\"id\":\"1170\",\"type\":\"ColumnDataSource\"},{\"attributes\":{},\"id\":\"1178\",\"type\":\"BasicTickFormatter\"},{\"attributes\":{\"axis_label\":\"time (sec)\",\"formatter\":{\"id\":\"1178\",\"type\":\"BasicTickFormatter\"},\"ticker\":{\"id\":\"1147\",\"type\":\"BasicTicker\"}},\"id\":\"1146\",\"type\":\"LinearAxis\"},{\"attributes\":{},\"id\":\"1159\",\"type\":\"ResetTool\"},{\"attributes\":{},\"id\":\"1147\",\"type\":\"BasicTicker\"},{\"attributes\":{\"ticker\":{\"id\":\"1147\",\"type\":\"BasicTicker\"}},\"id\":\"1150\",\"type\":\"Grid\"},{\"attributes\":{\"overlay\":{\"id\":\"1181\",\"type\":\"BoxAnnotation\"}},\"id\":\"1158\",\"type\":\"BoxZoomTool\"},{\"attributes\":{\"axis_label\":\"pitch (MIDI)\",\"formatter\":{\"id\":\"1180\",\"type\":\"BasicTickFormatter\"},\"ticker\":{\"id\":\"1167\",\"type\":\"SingleIntervalTicker\"}},\"id\":\"1151\",\"type\":\"LinearAxis\"}],\"root_ids\":[\"1137\"]},\"title\":\"Bokeh Application\",\"version\":\"1.4.0\"}};\n",
              "  var render_items = [{\"docid\":\"2e276747-4b0c-4971-9f1c-15101ee6f638\",\"roots\":{\"1137\":\"ae0cd32e-6a6b-401e-b841-d43bcf6f9249\"}}];\n",
              "  root.Bokeh.embed.embed_items_notebook(docs_json, render_items);\n",
              "\n",
              "  }\n",
              "  if (root.Bokeh !== undefined) {\n",
              "    embed_document(root);\n",
              "  } else {\n",
              "    var attempts = 0;\n",
              "    var timer = setInterval(function(root) {\n",
              "      if (root.Bokeh !== undefined) {\n",
              "        clearInterval(timer);\n",
              "        embed_document(root);\n",
              "      } else {\n",
              "        attempts++;\n",
              "        if (attempts > 100) {\n",
              "          clearInterval(timer);\n",
              "          console.log(\"Bokeh: ERROR: Unable to run BokehJS code because BokehJS library is missing\");\n",
              "        }\n",
              "      }\n",
              "    }, 10, root)\n",
              "  }\n",
              "})(window);"
            ],
            "application/vnd.bokehjs_exec.v0+json": ""
          },
          "metadata": {
            "tags": [],
            "application/vnd.bokehjs_exec.v0+json": {
              "id": "1137"
            }
          }
        }
      ]
    },
    {
      "cell_type": "code",
      "metadata": {
        "id": "2tIDGd747k3E",
        "colab_type": "code",
        "colab": {
          "base_uri": "https://localhost:8080/",
          "height": 75
        },
        "outputId": "8917335f-0cb5-4559-cae1-a051f2f8c03e"
      },
      "source": [
        "mm.play_sequence(sequence, mm.midi_synth.fluidsynth,\n",
        "                 sf2_path='/tmp/Yamaha-C5-Salamander-JNv5.1.sf2')"
      ],
      "execution_count": 17,
      "outputs": [
        {
          "output_type": "display_data",
          "data": {
            "text/html": [
              "<div id=\"id_2\"> </div>"
            ],
            "text/plain": [
              "<IPython.core.display.HTML object>"
            ]
          },
          "metadata": {
            "tags": []
          }
        }
      ]
    }
  ]
}