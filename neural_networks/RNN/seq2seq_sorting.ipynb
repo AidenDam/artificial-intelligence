{
  "nbformat": 4,
  "nbformat_minor": 0,
  "metadata": {
    "colab": {
      "name": "seq2seq_sorting.ipynb",
      "provenance": [],
      "collapsed_sections": [],
      "authorship_tag": "ABX9TyPQj847hUoM1ycujsbogaLF",
      "include_colab_link": true
    },
    "kernelspec": {
      "name": "python3",
      "display_name": "Python 3"
    },
    "language_info": {
      "name": "python"
    },
    "accelerator": "GPU"
  },
  "cells": [
    {
      "cell_type": "markdown",
      "metadata": {
        "id": "view-in-github",
        "colab_type": "text"
      },
      "source": [
        "<a href=\"https://colab.research.google.com/github/PsorTheDoctor/Sekcja-SI/blob/master/neural_networks/RNN/seq2seq_sorting.ipynb\" target=\"_parent\"><img src=\"https://colab.research.google.com/assets/colab-badge.svg\" alt=\"Open In Colab\"/></a>"
      ]
    },
    {
      "cell_type": "markdown",
      "metadata": {
        "id": "VDYwQHxP923y"
      },
      "source": [
        "#Seq2Seq: Sortowanie\n",
        "##Import bibliotek"
      ]
    },
    {
      "cell_type": "code",
      "metadata": {
        "id": "0pb-Wrij92WN"
      },
      "source": [
        "from tensorflow import keras\n",
        "from tensorflow.keras import layers\n",
        "import numpy as np\n",
        "\n",
        "TRAINING_SIZE = 50000\n",
        "NUMBERS_TO_SORT = 10"
      ],
      "execution_count": 3,
      "outputs": []
    },
    {
      "cell_type": "markdown",
      "metadata": {
        "id": "8SY7nCYXHF9w"
      },
      "source": [
        "##Generowanie danych"
      ]
    },
    {
      "cell_type": "code",
      "metadata": {
        "colab": {
          "base_uri": "https://localhost:8080/"
        },
        "id": "vktABSDC-Jgg",
        "outputId": "8da5a9c9-66f9-4871-b827-43f5badd9b37"
      },
      "source": [
        "class CharacterTable:\n",
        "  \n",
        "  def __init__(self, chars):\n",
        "    self.chars = sorted(set(chars))\n",
        "    self.char_indices = dict((c, i) for i, c in enumerate(self.chars))\n",
        "    self.indices_char = dict((i, c) for i, c in enumerate(self.chars))\n",
        "\n",
        "  def encode(self, C, num_rows):\n",
        "    x = np.zeros((num_rows, len(self.chars)))\n",
        "    for i, c in enumerate(C):\n",
        "      x[i, self.char_indices[c]] = 1\n",
        "    return x\n",
        "\n",
        "  def decode(self, x, calc_argmax=True):\n",
        "    if calc_argmax:\n",
        "      x = x.argmax(axis=-1)\n",
        "    return ''.join(self.indices_char[x] for x in x)\n",
        "\n",
        "# Wszystkie liczby, znaki i spacja\n",
        "chars = '0123456789'\n",
        "ctable = CharacterTable(chars)\n",
        "\n",
        "questions = []\n",
        "expected = []\n",
        "\n",
        "while len(questions) < TRAINING_SIZE:\n",
        "  randomize_string = lambda: str(\n",
        "      ''.join(\n",
        "          np.random.choice(list('0123456789'))\n",
        "          for i in range(NUMBERS_TO_SORT)\n",
        "      )\n",
        "  )\n",
        "  query = randomize_string()\n",
        "\n",
        "  # String to list\n",
        "  ans = [int(q) for q in query]\n",
        "  ans = sorted(ans)\n",
        "\n",
        "  # Sorted list to string\n",
        "  answer = ''\n",
        "  for num in ans:\n",
        "    answer += str(num)\n",
        "  \n",
        "  questions.append(query)\n",
        "  expected.append(answer)\n",
        "\n",
        "print('Liczba przykładów:', len(questions))\n",
        "print('Questions: ', questions[:5])\n",
        "print('Answers: ', expected[:5])"
      ],
      "execution_count": 26,
      "outputs": [
        {
          "output_type": "stream",
          "name": "stdout",
          "text": [
            "Liczba przykładów: 50000\n",
            "Questions:  ['8847644026', '3025793945', '1664364979', '2849673969', '3700480495']\n",
            "Answers:  ['0244466788', '0233455799', '1344666799', '2346678999', '0003445789']\n"
          ]
        }
      ]
    },
    {
      "cell_type": "markdown",
      "metadata": {
        "id": "B_665xMOHtSA"
      },
      "source": [
        "##Wektoryzacja danych"
      ]
    },
    {
      "cell_type": "code",
      "metadata": {
        "colab": {
          "base_uri": "https://localhost:8080/"
        },
        "id": "1R4OKuJVG68v",
        "outputId": "549c6fab-6dfc-4b2a-a841-cad771634470"
      },
      "source": [
        "x = np.zeros((len(questions), NUMBERS_TO_SORT, len(chars)), dtype=np.bool)\n",
        "y = np.zeros((len(questions), NUMBERS_TO_SORT, len(chars)), dtype=np.bool)\n",
        "\n",
        "for i, sentence in enumerate(questions):\n",
        "  x[i] = ctable.encode(sentence, NUMBERS_TO_SORT)\n",
        "for i, sentence in enumerate(expected):\n",
        "  y[i] = ctable.encode(sentence, NUMBERS_TO_SORT)\n",
        "\n",
        "indices = np.arange(len(y))\n",
        "np.random.shuffle(indices)\n",
        "x = x[indices]\n",
        "y = y[indices]\n",
        "\n",
        "split_at = len(x) - len(x) // 10\n",
        "(x_train, x_val) = x[:split_at], x[split_at:]\n",
        "(y_train, y_val) = y[:split_at], y[split_at:]\n",
        "\n",
        "print('Dane treningowe:')\n",
        "print(x_train.shape)\n",
        "print(y_train.shape)\n",
        "\n",
        "print('Dane walidacyjne:')\n",
        "print(x_val.shape)\n",
        "print(y_val.shape)"
      ],
      "execution_count": 27,
      "outputs": [
        {
          "output_type": "stream",
          "name": "stdout",
          "text": [
            "Dane treningowe:\n",
            "(45000, 10, 10)\n",
            "(45000, 10, 10)\n",
            "Dane walidacyjne:\n",
            "(5000, 10, 10)\n",
            "(5000, 10, 10)\n"
          ]
        }
      ]
    },
    {
      "cell_type": "markdown",
      "metadata": {
        "id": "s4Z6pNxiH2gx"
      },
      "source": [
        "##Budowa modelu"
      ]
    },
    {
      "cell_type": "code",
      "metadata": {
        "colab": {
          "base_uri": "https://localhost:8080/"
        },
        "id": "2uRxKHkk_9bL",
        "outputId": "a41b8a76-0c2e-4030-e40f-ccb75e67ff6e"
      },
      "source": [
        "num_layers = 1\n",
        "\n",
        "model = keras.Sequential()\n",
        "model.add(layers.LSTM(16, input_shape=(NUMBERS_TO_SORT, len(chars))))\n",
        "model.add(layers.RepeatVector(NUMBERS_TO_SORT))\n",
        "\n",
        "for _ in range(num_layers):\n",
        "  model.add(layers.LSTM(16, return_sequences=True))\n",
        "\n",
        "model.add(layers.Dense(len(chars), activation='softmax'))\n",
        "model.compile(loss='categorical_crossentropy', optimizer='adam', metrics=['accuracy'])\n",
        "model.summary()"
      ],
      "execution_count": 38,
      "outputs": [
        {
          "output_type": "stream",
          "name": "stdout",
          "text": [
            "Model: \"sequential_7\"\n",
            "_________________________________________________________________\n",
            "Layer (type)                 Output Shape              Param #   \n",
            "=================================================================\n",
            "lstm_20 (LSTM)               (None, 16)                1728      \n",
            "_________________________________________________________________\n",
            "repeat_vector_7 (RepeatVecto (None, 10, 16)            0         \n",
            "_________________________________________________________________\n",
            "lstm_21 (LSTM)               (None, 10, 16)            2112      \n",
            "_________________________________________________________________\n",
            "dense_7 (Dense)              (None, 10, 10)            170       \n",
            "=================================================================\n",
            "Total params: 4,010\n",
            "Trainable params: 4,010\n",
            "Non-trainable params: 0\n",
            "_________________________________________________________________\n"
          ]
        }
      ]
    },
    {
      "cell_type": "markdown",
      "metadata": {
        "id": "b8Y3x8I3H5SG"
      },
      "source": [
        "##Trening modelu"
      ]
    },
    {
      "cell_type": "code",
      "metadata": {
        "colab": {
          "base_uri": "https://localhost:8080/"
        },
        "id": "J7j6Pq8xIB_0",
        "outputId": "a2dc2968-f20b-4043-afc1-9270126f973d"
      },
      "source": [
        "epochs = 5\n",
        "batch_size = 32\n",
        "\n",
        "for epoch in range(1, epochs + 1):\n",
        "  print()\n",
        "  print('Iteracja', epoch)\n",
        "  model.fit(\n",
        "      x_train,\n",
        "      y_train,\n",
        "      batch_size=batch_size,\n",
        "      epochs=1,\n",
        "      validation_data=(x_val, y_val)\n",
        "  )\n",
        "  # Wybór 10 losowych próbek ze zbioru walidacyjnego, \n",
        "  # abyśmy mogli zobaczyć błędy\n",
        "  for i in range(10):\n",
        "    ind = np.random.randint(0, len(x_val))\n",
        "    rowx, rowy = x_val[np.array([ind])], y_val[np.array([ind])]\n",
        "    preds = np.argmax(model.predict(rowx), axis=-1)\n",
        "    q = ctable.decode(rowx[0])\n",
        "    correct = ctable.decode(rowy[0])\n",
        "    guess = ctable.decode(preds[0], calc_argmax=False)\n",
        "    print('Q', q, end=' ')\n",
        "    print('T', correct, end=' ')\n",
        "    if correct == guess:\n",
        "      print('☑ ' + guess)\n",
        "    else:\n",
        "      print('☒ ' + guess)"
      ],
      "execution_count": 39,
      "outputs": [
        {
          "output_type": "stream",
          "name": "stdout",
          "text": [
            "\n",
            "Iteracja 1\n",
            "1407/1407 [==============================] - 17s 10ms/step - loss: 0.8683 - accuracy: 0.7232 - val_loss: 0.3988 - val_accuracy: 0.8993\n",
            "Q 7543839439 T 3334457899 ☒ 2334557899\n",
            "Q 2589669405 T 0245566899 ☒ 0145566899\n",
            "Q 3739211020 T 0011223379 ☑ 0011223379\n",
            "Q 4230435049 T 0023344459 ☒ 0123344459\n",
            "Q 8195226339 T 1223356899 ☒ 0223356899\n",
            "Q 5887675366 T 3556667788 ☒ 1556667788\n",
            "Q 5740260425 T 0022445567 ☒ 0122445567\n",
            "Q 9658427089 T 0245678899 ☑ 0245678899\n",
            "Q 2872732756 T 2223567778 ☒ 2233567777\n",
            "Q 6575054576 T 0455556677 ☒ 0455566677\n",
            "\n",
            "Iteracja 2\n",
            "1407/1407 [==============================] - 13s 9ms/step - loss: 0.2551 - accuracy: 0.9442 - val_loss: 0.1640 - val_accuracy: 0.9680\n",
            "Q 8464997804 T 0444678899 ☑ 0444678899\n",
            "Q 2124903773 T 0122334779 ☑ 0122334779\n",
            "Q 6137035694 T 0133456679 ☑ 0133456679\n",
            "Q 7719639560 T 0135667799 ☑ 0135667799\n",
            "Q 1797418294 T 1124477899 ☒ 0124477899\n",
            "Q 2732399463 T 2233346799 ☑ 2233346799\n",
            "Q 6638838210 T 0123366888 ☑ 0123366888\n",
            "Q 3799983347 T 3334778999 ☑ 3334778999\n",
            "Q 0519453235 T 0123345559 ☑ 0123345559\n",
            "Q 3277231476 T 1223346777 ☒ 0223346777\n",
            "\n",
            "Iteracja 3\n",
            "1407/1407 [==============================] - 13s 9ms/step - loss: 0.0940 - accuracy: 0.9908 - val_loss: 0.0543 - val_accuracy: 0.9963\n",
            "Q 1764144907 T 0114446779 ☑ 0114446779\n",
            "Q 1481556210 T 0111245568 ☑ 0111245568\n",
            "Q 8801835874 T 0134578888 ☑ 0134578888\n",
            "Q 8141561751 T 1111455678 ☑ 1111455678\n",
            "Q 3746504061 T 0013445667 ☑ 0013445667\n",
            "Q 7179021402 T 0011224779 ☑ 0011224779\n",
            "Q 6905020396 T 0002356699 ☑ 0002356699\n",
            "Q 6346478826 T 2344666788 ☑ 2344666788\n",
            "Q 7245078965 T 0245567789 ☑ 0245567789\n",
            "Q 2627281325 T 1222235678 ☑ 1222235678\n",
            "\n",
            "Iteracja 4\n",
            "1407/1407 [==============================] - 13s 10ms/step - loss: 0.0370 - accuracy: 0.9977 - val_loss: 0.0254 - val_accuracy: 0.9984\n",
            "Q 3998260233 T 0223336899 ☑ 0223336899\n",
            "Q 7663668555 T 3555666678 ☑ 3555666678\n",
            "Q 8607591008 T 0001567889 ☑ 0001567889\n",
            "Q 2011430331 T 0011123334 ☑ 0011123334\n",
            "Q 2654766745 T 2445566677 ☑ 2445566677\n",
            "Q 8297424699 T 2244678999 ☑ 2244678999\n",
            "Q 6398993191 T 1133689999 ☑ 1133689999\n",
            "Q 9180138065 T 0011356889 ☑ 0011356889\n",
            "Q 2649767969 T 2466677999 ☑ 2466677999\n",
            "Q 0694320242 T 0022234469 ☑ 0022234469\n",
            "\n",
            "Iteracja 5\n",
            "1407/1407 [==============================] - 13s 10ms/step - loss: 0.0188 - accuracy: 0.9988 - val_loss: 0.0137 - val_accuracy: 0.9990\n",
            "Q 5852344260 T 0223445568 ☑ 0223445568\n",
            "Q 4426186161 T 1112446668 ☑ 1112446668\n",
            "Q 5216904308 T 0012345689 ☑ 0012345689\n",
            "Q 8159999274 T 1245789999 ☑ 1245789999\n",
            "Q 8701108145 T 0011145788 ☑ 0011145788\n",
            "Q 4473650311 T 0113344567 ☑ 0113344567\n",
            "Q 1234457849 T 1234445789 ☑ 1234445789\n",
            "Q 5719021444 T 0112444579 ☑ 0112444579\n",
            "Q 4772336309 T 0233346779 ☑ 0233346779\n",
            "Q 7848340530 T 0033445788 ☑ 0033445788\n"
          ]
        }
      ]
    }
  ]
}