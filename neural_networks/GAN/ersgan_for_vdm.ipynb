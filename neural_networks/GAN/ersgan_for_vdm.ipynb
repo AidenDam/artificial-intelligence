{
  "nbformat": 4,
  "nbformat_minor": 0,
  "metadata": {
    "colab": {
      "provenance": [],
      "authorship_tag": "ABX9TyOlGtAwGTMODsdOeXhygfwK",
      "include_colab_link": true
    },
    "kernelspec": {
      "name": "python3",
      "display_name": "Python 3"
    },
    "language_info": {
      "name": "python"
    }
  },
  "cells": [
    {
      "cell_type": "markdown",
      "metadata": {
        "id": "view-in-github",
        "colab_type": "text"
      },
      "source": [
        "<a href=\"https://colab.research.google.com/github/PsorTheDoctor/artificial-intelligence/blob/master/neural_networks/GAN/ersgan_for_vdm.ipynb\" target=\"_parent\"><img src=\"https://colab.research.google.com/assets/colab-badge.svg\" alt=\"Open In Colab\"/></a>"
      ]
    },
    {
      "cell_type": "markdown",
      "source": [
        "#ESRGAN for video diffusion"
      ],
      "metadata": {
        "id": "754mykfUJ1U7"
      }
    },
    {
      "cell_type": "code",
      "execution_count": 14,
      "metadata": {
        "id": "4B0zUQQCJza4"
      },
      "outputs": [],
      "source": [
        "import numpy as np\n",
        "import tensorflow_hub as hub\n",
        "import tensorflow as tf\n",
        "import cv2\n",
        "from google.colab.patches import cv2_imshow"
      ]
    },
    {
      "cell_type": "code",
      "source": [
        "model = hub.load('https://tfhub.dev/captain-pool/esrgan-tf2/1')"
      ],
      "metadata": {
        "id": "yMVVA5dcLPVt"
      },
      "execution_count": 2,
      "outputs": []
    },
    {
      "cell_type": "code",
      "source": [
        "video_file = 'example.mp4'\n",
        "cap = cv2.VideoCapture(video_file)\n",
        "n_frames = int(cap.get(cv2.CAP_PROP_FRAME_COUNT))\n",
        "frames = []\n",
        "\n",
        "for i in range(n_frames):\n",
        "  _, frame = cap.read()\n",
        "  frame = cv2.cvtColor(frame, cv2.COLOR_BGR2RGB)\n",
        "\n",
        "  frame = tf.expand_dims(frame, 0)\n",
        "  low_resolution = tf.cast(frame, tf.float32)\n",
        "  super_resolution = model(low_resolution)\n",
        "\n",
        "  frames.append(super_resolution)\n",
        "\n",
        "  print(f'{i + 1}/{n_frames} frames processed.')\n",
        "\n",
        "cap.release()\n",
        "frames = np.array(frames)\n",
        "frames.shape"
      ],
      "metadata": {
        "colab": {
          "base_uri": "https://localhost:8080/"
        },
        "id": "5WRnIyHXKOAv",
        "outputId": "ff12e830-1c1f-4158-e065-1f1f8a9eabbd"
      },
      "execution_count": 6,
      "outputs": [
        {
          "output_type": "execute_result",
          "data": {
            "text/plain": [
              "(16, 1, 1024, 1024, 3)"
            ]
          },
          "metadata": {},
          "execution_count": 6
        }
      ]
    },
    {
      "cell_type": "code",
      "source": [
        "output_frames = frames.reshape(16, 1024, 1024, 3)\n",
        "cv2_imshow(output_frames[0])"
      ],
      "metadata": {
        "id": "nR8Z7xMMPTMC"
      },
      "execution_count": null,
      "outputs": []
    },
    {
      "cell_type": "code",
      "source": [
        "output_filename = 'result.mp4'\n",
        "fps = 16\n",
        "resolution = (1024, 1024)\n",
        "fourcc = cv2.VideoWriter_fourcc(*'mp4v')\n",
        "writer = cv2.VideoWriter(output_filename, fourcc, fps, resolution)\n",
        "\n",
        "for frame in output_frames:\n",
        "  frame = cv2.cvtColor(frame, cv2.COLOR_RGB2BGR)\n",
        "  frame = (frame * 255).astype(np.uint8)\n",
        "  writer.write(frame)\n",
        "\n",
        "writer.release()"
      ],
      "metadata": {
        "id": "yY5aHcMyNa4T"
      },
      "execution_count": 16,
      "outputs": []
    }
  ]
}