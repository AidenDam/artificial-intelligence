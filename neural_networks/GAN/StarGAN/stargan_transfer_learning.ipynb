{
  "nbformat": 4,
  "nbformat_minor": 0,
  "metadata": {
    "colab": {
      "name": "stargan_transfer_learning.ipynb",
      "provenance": [],
      "collapsed_sections": [],
      "authorship_tag": "ABX9TyOCNL6SoGkozDAYGtk/h2Qi",
      "include_colab_link": true
    },
    "kernelspec": {
      "name": "python3",
      "display_name": "Python 3"
    }
  },
  "cells": [
    {
      "cell_type": "markdown",
      "metadata": {
        "id": "view-in-github",
        "colab_type": "text"
      },
      "source": [
        "<a href=\"https://colab.research.google.com/github/PsorTheDoctor/Sekcja-SI/blob/master/neural_networks/GAN/StarGAN/stargan_transfer_learning.ipynb\" target=\"_parent\"><img src=\"https://colab.research.google.com/assets/colab-badge.svg\" alt=\"Open In Colab\"/></a>"
      ]
    },
    {
      "cell_type": "markdown",
      "metadata": {
        "id": "PoUWmGeHeinT",
        "colab_type": "text"
      },
      "source": [
        "# StarGAN: Transfer Learning"
      ]
    },
    {
      "cell_type": "code",
      "metadata": {
        "id": "tbfPknDrNxbx",
        "colab_type": "code",
        "colab": {}
      },
      "source": [
        "import torch.nn as nn\n",
        "import torch.nn.functional as F\n",
        "import torch"
      ],
      "execution_count": 0,
      "outputs": []
    },
    {
      "cell_type": "code",
      "metadata": {
        "id": "suZjSOOpTpXG",
        "colab_type": "code",
        "colab": {}
      },
      "source": [
        "channels = 3\n",
        "img_width = 128\n",
        "img_height = 128\n",
        "img_shape = (channels, img_width, img_height)\n",
        "residual_blocks = 6\n",
        "\n",
        "# wybrane atrybuty do zbioru danych CelebA\n",
        "selected_attrs = ['Black_Hair', 'Blond_Hair', 'Brown_Hair', 'Male', 'Young']\n",
        "c_dim = len(selected_attrs)"
      ],
      "execution_count": 0,
      "outputs": []
    },
    {
      "cell_type": "code",
      "metadata": {
        "id": "ZQjiFMOoQfjD",
        "colab_type": "code",
        "colab": {
          "base_uri": "https://localhost:8080/",
          "height": 124
        },
        "outputId": "26ce8a34-229e-404c-ffc1-eff992efb7bd"
      },
      "source": [
        "from google.colab import drive\n",
        "drive.mount('/content/drive')"
      ],
      "execution_count": 2,
      "outputs": [
        {
          "output_type": "stream",
          "text": [
            "Go to this URL in a browser: https://accounts.google.com/o/oauth2/auth?client_id=947318989803-6bn6qk8qdgf4n4g3pfee6491hc0brc4i.apps.googleusercontent.com&redirect_uri=urn%3aietf%3awg%3aoauth%3a2.0%3aoob&response_type=code&scope=email%20https%3a%2f%2fwww.googleapis.com%2fauth%2fdocs.test%20https%3a%2f%2fwww.googleapis.com%2fauth%2fdrive%20https%3a%2f%2fwww.googleapis.com%2fauth%2fdrive.photos.readonly%20https%3a%2f%2fwww.googleapis.com%2fauth%2fpeopleapi.readonly\n",
            "\n",
            "Enter your authorization code:\n",
            "··········\n",
            "Mounted at /content/drive\n"
          ],
          "name": "stdout"
        }
      ]
    },
    {
      "cell_type": "code",
      "metadata": {
        "id": "hikYYG1uNyOA",
        "colab_type": "code",
        "colab": {}
      },
      "source": [
        "class ResidualBlock(nn.Module):\n",
        "  def __init__(self, in_features):\n",
        "    super(ResidualBlock, self).__init__()\n",
        "\n",
        "    conv_block = [\n",
        "      nn.Conv2d(in_features, in_features, 3, stride=1, padding=1, bias=False),\n",
        "      nn.InstanceNorm2d(in_features, affine=True, track_running_stats=True),\n",
        "      nn.ReLU(inplace=True),\n",
        "      nn.Conv2d(in_features, in_features, 3, stride=1, padding=1, bias=False),\n",
        "      nn.InstanceNorm2d(in_features, affine=True, track_running_stats=True),\n",
        "    ]\n",
        "\n",
        "    self.conv_block = nn.Sequential(*conv_block)\n",
        "\n",
        "  def forward(self, x):\n",
        "    return x + self.conv_block(x)"
      ],
      "execution_count": 0,
      "outputs": []
    },
    {
      "cell_type": "code",
      "metadata": {
        "id": "QEQ1GJBKNsjv",
        "colab_type": "code",
        "colab": {}
      },
      "source": [
        "class GeneratorResNet(nn.Module):\n",
        "  def __init__(self, img_shape=(3, 128, 128), res_blocks=9, c_dim=5):\n",
        "    super(GeneratorResNet, self).__init__()\n",
        "    channels, img_size, _ = img_shape\n",
        "\n",
        "    # Wstępny blok konwolucyjny\n",
        "    model = [\n",
        "      nn.Conv2d(channels + c_dim, 64, 7, stride=1, padding=3, bias=False),\n",
        "      nn.InstanceNorm2d(64, affine=True, track_running_stats=True),\n",
        "      nn.ReLU(inplace=True)\n",
        "    ]\n",
        "\n",
        "    # Próbkowanie w dół\n",
        "    curr_dim = 64\n",
        "    for _ in range(2):\n",
        "      model += [\n",
        "        nn.Conv2d(curr_dim, curr_dim * 2, 4, stride=2, padding=1, bias=False),\n",
        "        nn.InstanceNorm2d(curr_dim* 2, affine=True, track_running_stats=True),\n",
        "        nn.ReLU(inplace=True),\n",
        "      ]\n",
        "      curr_dim *= 2\n",
        "\n",
        "    # Pozostałe bloki\n",
        "    for _ in range(res_blocks):\n",
        "      model += [ResidualBlock(curr_dim)]\n",
        "\n",
        "    # Próbkowanie w górę\n",
        "    for _ in range(2):\n",
        "      model += [\n",
        "        nn.ConvTranspose2d(curr_dim, curr_dim // 2, 4, stride=2, padding=1, bias=False),\n",
        "        nn.InstanceNorm2d(curr_dim // 2, affine=True, track_running_stats=True),\n",
        "        nn.ReLU(inplace=True),\n",
        "      ]\n",
        "      curr_dim = curr_dim // 2\n",
        "    \n",
        "    # Warstwa wyjściowa\n",
        "    model += [nn.Conv2d(curr_dim, channels, 7, stride=1, padding=3), nn.Tanh()]\n",
        "\n",
        "    self.model = nn.Sequential(*model)\n",
        "\n",
        "  def forward(self, x, c):\n",
        "    c = c.view(c.size(0), c.size(1), 1, 1)\n",
        "    c = c.repeat(1, 1, x.size(2), x.size(3))\n",
        "    x = torch.cat((x, c), 1)\n",
        "    return self.model(x)"
      ],
      "execution_count": 0,
      "outputs": []
    },
    {
      "cell_type": "code",
      "metadata": {
        "id": "waIcQnuFVCol",
        "colab_type": "code",
        "colab": {}
      },
      "source": [
        "class Discriminator(nn.Module):\n",
        "  def __init__(self, img_shape=(3, 128, 128), c_dim=5, n_strided=6):\n",
        "    super(Discriminator, self).__init__()\n",
        "    channels, img_size, _ = img_shape\n",
        "\n",
        "    def discriminator_block(in_filters, out_filters):\n",
        "      \"\"\"Zwraca próbkowane w dół warstwy każdego bloku dyskryminatora\"\"\"\n",
        "      layers = [nn.Conv2d(in_filters, out_filters, 4, stride=2, padding=1), nn.LeakyReLU(0.01)]\n",
        "      return layers\n",
        "\n",
        "    layers = discriminator_block(channels, 64)\n",
        "    curr_dim = 64\n",
        "    for _ in range(n_strided - 1):\n",
        "      layers.extend(discriminator_block(curr_dim, curr_dim * 2))\n",
        "      curr_dim *= 2\n",
        "\n",
        "    self.model = nn.Sequential(*layers)\n",
        "\n",
        "    # Wyjście 1: PatchGAN\n",
        "    self.out1 = nn.Conv2d(curr_dim, 1, 3, padding=1, bias=False)\n",
        "    # Wyjście 2: Predykcja klasy\n",
        "    kernel_size = img_size // 2 ** n_strided\n",
        "    self.out2 = nn.Conv2d(curr_dim, c_dim, kernel_size, bias=False)\n",
        "\n",
        "  def forward(self, img):\n",
        "    feature_repr = self.model(img)\n",
        "    out_adv = self.out1(feature_repr)\n",
        "    out_cls = self.out2(feature_repr)\n",
        "    return out_adv, out_cls.view(out_cls.size(0), -1)"
      ],
      "execution_count": 0,
      "outputs": []
    },
    {
      "cell_type": "code",
      "metadata": {
        "id": "jU3gNQCrNe0F",
        "colab_type": "code",
        "colab": {}
      },
      "source": [
        "PATH_G = '/content/drive/My Drive/saved_models/generator_199.pth'\n",
        "PATH_D = '/content/drive/My Drive/saved_models/discriminator_199.pth'"
      ],
      "execution_count": 0,
      "outputs": []
    },
    {
      "cell_type": "code",
      "metadata": {
        "id": "0TcOgszuMZfB",
        "colab_type": "code",
        "colab": {
          "base_uri": "https://localhost:8080/",
          "height": 35
        },
        "outputId": "23a3db41-ef8e-4745-d1dc-fb5096821602"
      },
      "source": [
        "model_G = GeneratorResNet(img_shape=img_shape, res_blocks=residual_blocks, c_dim=c_dim)\n",
        "model_D = Discriminator(img_shape=img_shape, c_dim=c_dim)\n",
        "\n",
        "# Jeśli jesteśmy na GPU:\n",
        "# model_G.load_state_dict(torch.load(PATH_G))\n",
        "\n",
        "# Jeśli jesteśmy na CPU:\n",
        "model_G.load_state_dict(torch.load(PATH_G, map_location=torch.device('cpu')))\n",
        "model_D.load_state_dict(torch.load(PATH_D, map_location=torch.device('cpu')))\n",
        "\n",
        "# model_G.eval()"
      ],
      "execution_count": 13,
      "outputs": [
        {
          "output_type": "execute_result",
          "data": {
            "text/plain": [
              "<All keys matched successfully>"
            ]
          },
          "metadata": {
            "tags": []
          },
          "execution_count": 13
        }
      ]
    },
    {
      "cell_type": "code",
      "metadata": {
        "id": "IObpQZobXTow",
        "colab_type": "code",
        "colab": {}
      },
      "source": [
        "import glob\n",
        "import random\n",
        "import os\n",
        "import numpy as np\n",
        "import torch\n",
        "\n",
        "from torch.utils.data import Dataset\n",
        "from PIL import Image\n",
        "import torchvision.transforms as transforms"
      ],
      "execution_count": 0,
      "outputs": []
    },
    {
      "cell_type": "code",
      "metadata": {
        "id": "jn0bT_EBW3-I",
        "colab_type": "code",
        "colab": {}
      },
      "source": [
        "class CelebADataset(Dataset):\n",
        "  def __init__(self, root, transforms_=None, mode='train', attributes=None):\n",
        "    self.transform = transforms.Compose(transforms_)\n",
        "\n",
        "    self.selected_attrs = attributes \n",
        "    self.files = sorted(glob.glob('%s/*.jpg' % root))\n",
        "    self.mode = mode\n",
        "\n",
        "    if self.mode == 'train':\n",
        "      self.files = self.files[:-2000] \n",
        "    elif self.mode == 'val':\n",
        "      self.files = self.files[-2000:]\n",
        "    else:\n",
        "      self.files = self.files[0]\n",
        "\n",
        "    self.label_path = glob.glob('%s/*.txt' % root)[0]\n",
        "    self.annotations = self.get_annotations()\n",
        "\n",
        "  def get_annotations(self):\n",
        "    \"\"\"Wyodrębnia adnotacje dla CelebA\"\"\"\n",
        "    annotations = {}\n",
        "    lines = [line.rstrip() for line in open(self.label_path, 'r')]\n",
        "    self.label_names = lines[1].split()\n",
        "    for _, line in enumerate(lines[2:]):\n",
        "      filename, *values = line.split()\n",
        "      labels = []\n",
        "      for attr in self.selected_attrs:\n",
        "        idx = self.label_names.index(attr)\n",
        "        labels.append(1 * (values[idx] == '1'))\n",
        "      annotations[filename] = labels\n",
        "    return annotations\n",
        "\n",
        "  def __getitem__(self, index):\n",
        "    if self.mode != 'prod':\n",
        "      filepath = self.files[index % len(self.files)]\n",
        "      filename = filepath.split('/')[-1]\n",
        "      label = self.annotations[filename]\n",
        "    else:\n",
        "      # TODO!\n",
        "      filepath = '/content/drive/My Drive/uploaded_images/adam.jpg'\n",
        "      filename = 'adam.jpg'\n",
        "      label = self.annotations['000001.jpg']\n",
        "\n",
        "    img = self.transform(Image.open(filepath))\n",
        "    label = torch.FloatTensor(np.array(label))\n",
        "\n",
        "    return img, label\n",
        "\n",
        "  def __len__(self):\n",
        "    return len(self.files)"
      ],
      "execution_count": 0,
      "outputs": []
    },
    {
      "cell_type": "code",
      "metadata": {
        "id": "mq3YNVdfad8z",
        "colab_type": "code",
        "colab": {}
      },
      "source": [
        "from torch.utils.data import DataLoader\n",
        "from torch.autograd import Variable\n",
        "import torchvision.transforms as transforms\n",
        "from torchvision.utils import save_image"
      ],
      "execution_count": 0,
      "outputs": []
    },
    {
      "cell_type": "code",
      "metadata": {
        "id": "70S2N3GNWWna",
        "colab_type": "code",
        "colab": {}
      },
      "source": [
        "prod_transforms = [\n",
        "  transforms.Resize((img_height, img_width), Image.BICUBIC),\n",
        "  transforms.ToTensor(),\n",
        "  transforms.Normalize((0.5, 0.5, 0.5), (0.5, 0.5, 0.5)),\n",
        "]"
      ],
      "execution_count": 0,
      "outputs": []
    },
    {
      "cell_type": "code",
      "metadata": {
        "id": "-GyEquxEXBMX",
        "colab_type": "code",
        "colab": {}
      },
      "source": [
        "prod_dataloader = DataLoader(\n",
        "    CelebADataset(\n",
        "        '/content/drive/My Drive/uploaded_images', \n",
        "        transforms_=prod_transforms, \n",
        "        mode='prod', \n",
        "        attributes=selected_attrs\n",
        "    ),\n",
        "    batch_size=1,\n",
        "    shuffle=False,\n",
        "    num_workers=1,\n",
        ")"
      ],
      "execution_count": 0,
      "outputs": []
    },
    {
      "cell_type": "code",
      "metadata": {
        "id": "VHrKMpxIc01v",
        "colab_type": "code",
        "colab": {}
      },
      "source": [
        "# Tensor = torch.cuda.FloatTensor if cuda else torch.FloatTensor\n",
        "Tensor = torch.FloatTensor"
      ],
      "execution_count": 0,
      "outputs": []
    },
    {
      "cell_type": "code",
      "metadata": {
        "id": "yrrfd2FUdDSM",
        "colab_type": "code",
        "colab": {}
      },
      "source": [
        "# Działa tylko dla selected_attrs = ['Black_Hair', 'Blond_Hair', 'Brown_Hair', 'Male', 'Young']!\n",
        "\n",
        "# (a, b)\n",
        "# a      - indeks cechy w selected_attrs, do której się odwołujemy\n",
        "# b = -1 - negacja \n",
        "# b = 0  - obojętność\n",
        "# b = 1  - wystąpienie\n",
        "\n",
        "label_changes = [\n",
        "  ((0, 1), (1, 0), (2, 0)),  # Ustawienie czarnych włosów\n",
        "  ((0, 0), (1, 1), (2, 0)),  # Ustawienie blond włosów\n",
        "  ((0, 0), (1, 0), (2, 1)),  # Ustawienie brązowych włosów\n",
        "  ((3, -1),),  # Zmiana płci\n",
        "  ((4, -1),),  # Zmiana wieku\n",
        "]"
      ],
      "execution_count": 0,
      "outputs": []
    },
    {
      "cell_type": "code",
      "metadata": {
        "id": "_XQ_MPMMUbpO",
        "colab_type": "code",
        "colab": {}
      },
      "source": [
        "def produce_image():\n",
        "  \"\"\"Zapis wygenerowanej próbki\"\"\"\n",
        "  prod_imgs, prod_labels = next(iter(prod_dataloader))\n",
        "  prod_imgs = Variable(prod_imgs.type(Tensor))\n",
        "  prod_labels = Variable(prod_labels.type(Tensor))\n",
        "  img_samples = None\n",
        "\n",
        "  img, label = prod_imgs[0], prod_labels[0]\n",
        "    \n",
        "  imgs = img.repeat(c_dim, 1, 1, 1)\n",
        "  labels = label.repeat(c_dim, 1)\n",
        "\n",
        "  gen_imgs = model_G(imgs, labels)\n",
        "  gen_imgs = torch.cat([x for x in gen_imgs.data], -1)\n",
        "  img_sample = torch.cat((img.data, gen_imgs), -1)\n",
        "\n",
        "  img_samples = img_sample if img_samples is None else torch.cat((img_samples, img_sample), -2)\n",
        "\n",
        "  save_image(img_samples.view(1, *img_samples.shape), 'produced_images/prod1.png', normalize=True)"
      ],
      "execution_count": 0,
      "outputs": []
    },
    {
      "cell_type": "code",
      "metadata": {
        "id": "PU2875zja2LZ",
        "colab_type": "code",
        "colab": {}
      },
      "source": [
        "produce_image()"
      ],
      "execution_count": 0,
      "outputs": []
    },
    {
      "cell_type": "code",
      "metadata": {
        "id": "m6UAXRVSdr7G",
        "colab_type": "code",
        "colab": {
          "base_uri": "https://localhost:8080/",
          "height": 145
        },
        "outputId": "e6f2b5a4-6e84-4d5c-c832-07fae45fa7c8"
      },
      "source": [
        "prod_img = Image.open('produced_images/prod1.png')\n",
        "prod_img"
      ],
      "execution_count": 34,
      "outputs": [
        {
          "output_type": "execute_result",
          "data": {
            "image/png": "[encoded data removed]",
            "text/plain": [
              "<PIL.PngImagePlugin.PngImageFile image mode=RGB size=768x128 at 0x7F635BFD0E48>"
            ]
          },
          "metadata": {
            "tags": []
          },
          "execution_count": 34
        }
      ]
    }
  ]
}