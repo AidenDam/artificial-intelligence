{
  "nbformat": 4,
  "nbformat_minor": 0,
  "metadata": {
    "colab": {
      "provenance": [],
      "gpuType": "T4",
      "authorship_tag": "ABX9TyNxNhZKkvQ0+dfoe14tVQd8",
      "include_colab_link": true
    },
    "kernelspec": {
      "name": "python3",
      "display_name": "Python 3"
    },
    "language_info": {
      "name": "python"
    },
    "accelerator": "GPU"
  },
  "cells": [
    {
      "cell_type": "markdown",
      "metadata": {
        "id": "view-in-github",
        "colab_type": "text"
      },
      "source": [
        "<a href=\"https://colab.research.google.com/github/PsorTheDoctor/artificial-intelligence/blob/master/neural_networks/GAN/draggan.ipynb\" target=\"_parent\"><img src=\"https://colab.research.google.com/assets/colab-badge.svg\" alt=\"Open In Colab\"/></a>"
      ]
    },
    {
      "cell_type": "markdown",
      "source": [
        "#DragGAN"
      ],
      "metadata": {
        "id": "FiZr6NwNrF2H"
      }
    },
    {
      "cell_type": "code",
      "execution_count": null,
      "metadata": {
        "id": "9I5eZYJKq0no"
      },
      "outputs": [],
      "source": [
        "!git clone https://github.com/Zeqiang-Lai/DragGAN.git\n",
        "\n",
        "import sys\n",
        "sys.path.append(\".\")\n",
        "sys.path.append('./DragGAN')\n",
        "\n",
        "!pip install -r DragGAN/requirements.txt\n",
        "\n",
        "from gradio_app import main"
      ]
    },
    {
      "cell_type": "code",
      "source": [
        "demo = main()\n",
        "demo.queue(concurrency_count=1, max_size=20).launch()"
      ],
      "metadata": {
        "id": "VPgSsKPsrKKl"
      },
      "execution_count": null,
      "outputs": []
    }
  ]
}