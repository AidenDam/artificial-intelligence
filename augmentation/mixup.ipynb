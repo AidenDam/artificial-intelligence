{
  "nbformat": 4,
  "nbformat_minor": 0,
  "metadata": {
    "colab": {
      "name": "mixup.ipynb",
      "provenance": [],
      "collapsed_sections": [],
      "authorship_tag": "ABX9TyOkdSDl/Te2VdG8lDYs77pr",
      "include_colab_link": true
    },
    "kernelspec": {
      "name": "python3",
      "display_name": "Python 3"
    },
    "language_info": {
      "name": "python"
    }
  },
  "cells": [
    {
      "cell_type": "markdown",
      "metadata": {
        "id": "view-in-github",
        "colab_type": "text"
      },
      "source": [
        "<a href=\"https://colab.research.google.com/github/PsorTheDoctor/Sekcja-SI/blob/master/augmentation/mixup.ipynb\" target=\"_parent\"><img src=\"https://colab.research.google.com/assets/colab-badge.svg\" alt=\"Open In Colab\"/></a>"
      ]
    },
    {
      "cell_type": "markdown",
      "metadata": {
        "id": "Y9lFfKeb3mk8"
      },
      "source": [
        "#MixUp: Augmentacja danych\n",
        "##Import bibliotek"
      ]
    },
    {
      "cell_type": "code",
      "metadata": {
        "id": "2ePl6JTM3R4R"
      },
      "source": [
        "import numpy as np\n",
        "import tensorflow as tf\n",
        "import matplotlib.pyplot as plt\n",
        "from tensorflow.keras import layers"
      ],
      "execution_count": 3,
      "outputs": []
    },
    {
      "cell_type": "markdown",
      "metadata": {
        "id": "Hws5GHJW33hV"
      },
      "source": [
        "##Przygotowanie danych"
      ]
    },
    {
      "cell_type": "code",
      "metadata": {
        "id": "CRUUunhE36WE"
      },
      "source": [
        "(x_train, y_train), (x_test, y_test) = tf.keras.datasets.fashion_mnist.load_data()\n",
        "\n",
        "x_train = x_train.astype('float32') / 255.0\n",
        "x_train = np.reshape(x_train, (-1, 28, 28, 1))\n",
        "y_train = tf.one_hot(y_train, 10)\n",
        "\n",
        "x_test = x_test.astype('float32') / 255.0\n",
        "x_test = np.reshape(x_test, (-1, 28, 28, 1))\n",
        "y_test = tf.one_hot(y_test, 10)"
      ],
      "execution_count": 21,
      "outputs": []
    },
    {
      "cell_type": "markdown",
      "metadata": {
        "id": "Dp4Ba1O25vYV"
      },
      "source": [
        "##Hiperparametry"
      ]
    },
    {
      "cell_type": "code",
      "metadata": {
        "id": "DZ8dF3Ne5xtr"
      },
      "source": [
        "AUTO = tf.data.AUTOTUNE\n",
        "BATCH_SIZE = 64\n",
        "EPOCHS = 10"
      ],
      "execution_count": 22,
      "outputs": []
    },
    {
      "cell_type": "markdown",
      "metadata": {
        "id": "tdLgYJSP6EPj"
      },
      "source": [
        "##Konwersja danych do obiektów TensorFlow Dataset"
      ]
    },
    {
      "cell_type": "code",
      "metadata": {
        "id": "mMPCPHuh6AVU"
      },
      "source": [
        "val_samples = 2000\n",
        "x_val, y_val = x_train[:val_samples], y_train[:val_samples]\n",
        "new_x_train, new_y_train = x_train[val_samples:], y_train[val_samples:]\n",
        "\n",
        "train_ds_one = (\n",
        "    tf.data.Dataset.from_tensor_slices((new_x_train, new_y_train))\n",
        "    .shuffle(BATCH_SIZE * 100)\n",
        "    .batch(BATCH_SIZE)\n",
        ")\n",
        "\n",
        "train_ds_two = (\n",
        "    tf.data.Dataset.from_tensor_slices((new_x_train, new_y_train))\n",
        "    .shuffle(BATCH_SIZE * 100)\n",
        "    .batch(BATCH_SIZE)\n",
        ")\n",
        "\n",
        "train_ds = tf.data.Dataset.zip((train_ds_one, train_ds_two))\n",
        "\n",
        "val_ds = tf.data.Dataset.from_tensor_slices((x_val, y_val)).batch(BATCH_SIZE)\n",
        "\n",
        "test_ds = tf.data.Dataset.from_tensor_slices((x_test, y_test)).batch(BATCH_SIZE)"
      ],
      "execution_count": 23,
      "outputs": []
    },
    {
      "cell_type": "markdown",
      "metadata": {
        "id": "bAZMmfcN8njQ"
      },
      "source": [
        "##Definicja techniki mixup"
      ]
    },
    {
      "cell_type": "code",
      "metadata": {
        "id": "6feyhHvL8uVE"
      },
      "source": [
        "def sample_beta_distribution(size, concentration_0, concentration_1):\n",
        "  gamma_1_sample = tf.random.gamma(shape=[size], alpha=concentration_1)\n",
        "  gamma_2_sample = tf.random.gamma(shape=[size], alpha=concentration_0)\n",
        "  return gamma_1_sample / (gamma_1_sample + gamma_2_sample)\n",
        "\n",
        "def mix_up(ds_one, ds_two, alpha=0.2):\n",
        "  images_one, labels_one = ds_one\n",
        "  images_two, labels_two = ds_two\n",
        "  batch_size = tf.shape(images_one)[0]\n",
        "\n",
        "  l = sample_beta_distribution(batch_size, alpha, alpha)\n",
        "  x_l = tf.reshape(l, (batch_size, 1, 1, 1))\n",
        "  y_l = tf.reshape(l, (batch_size, 1))\n",
        "\n",
        "  images = images_one * x_l + images_two * (1 - x_l)\n",
        "  labels = labels_one * y_l + labels_two * (1 - y_l)\n",
        "  return (images, labels)"
      ],
      "execution_count": 24,
      "outputs": []
    },
    {
      "cell_type": "markdown",
      "metadata": {
        "id": "9NLX6KWNB7c_"
      },
      "source": [
        "##Wizualizacja nowych danych po augmentacji"
      ]
    },
    {
      "cell_type": "code",
      "metadata": {
        "colab": {
          "base_uri": "https://localhost:8080/",
          "height": 733
        },
        "id": "9y0JJnbKCCFd",
        "outputId": "86b1f4dc-6ae5-4791-dbb4-525a3e6586da"
      },
      "source": [
        "train_ds_mu = train_ds.map(\n",
        "    lambda ds_one, ds_two: mix_up(ds_one, ds_two, alpha=0.2), \n",
        "    num_parallel_calls=AUTO\n",
        ")\n",
        "\n",
        "sample_images, sample_labels = next(iter(train_ds_mu))\n",
        "plt.figure(figsize=(10, 10))\n",
        "for i, (img, label) in enumerate(zip(sample_images[:9], sample_labels[:9])):\n",
        "  ax = plt.subplot(3, 3, i + 1)\n",
        "  plt.imshow(img.numpy().squeeze())\n",
        "  print(label.numpy().tolist())\n",
        "  plt.axis('off')"
      ],
      "execution_count": 25,
      "outputs": [
        {
          "output_type": "stream",
          "text": [
            "[0.0, 0.0, 0.5543097853660583, 0.0, 0.0, 0.0, 0.0, 0.0, 0.44569021463394165, 0.0]\n",
            "[0.42582255601882935, 0.5741774439811707, 0.0, 0.0, 0.0, 0.0, 0.0, 0.0, 0.0, 0.0]\n",
            "[0.0, 0.0, 0.0, 0.0, 0.0, 0.0, 0.0, 0.0, 0.009788990020751953, 0.990211009979248]\n",
            "[1.0, 0.0, 0.0, 0.0, 0.0, 0.0, 0.0, 0.0, 0.0, 0.0]\n",
            "[0.0, 0.0, 0.0, 0.0, 0.0, 0.0, 0.48884326219558716, 0.0, 0.0, 0.5111567378044128]\n",
            "[0.9999998807907104, 0.0, 9.95695828009957e-08, 0.0, 0.0, 0.0, 0.0, 0.0, 0.0, 0.0]\n",
            "[0.0, 0.0, 0.0, 0.0, 0.0, 0.0010974555043503642, 0.9989025592803955, 0.0, 0.0, 0.0]\n",
            "[0.0, 0.0, 0.0, 0.2573114335536957, 0.0, 0.7426885366439819, 0.0, 0.0, 0.0, 0.0]\n",
            "[0.0, 0.0, 0.0, 0.0, 0.02159716561436653, 0.0, 0.0, 0.0, 0.0, 0.978402853012085]\n"
          ],
          "name": "stdout"
        },
        {
          "output_type": "display_data",
          "data": {
            "image/png": "[encoded data removed]",
            "text/plain": [
              "<Figure size 720x720 with 9 Axes>"
            ]
          },
          "metadata": {
            "tags": [],
            "needs_background": "light"
          }
        }
      ]
    }
  ]
}