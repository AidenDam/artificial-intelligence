{
  "nbformat": 4,
  "nbformat_minor": 0,
  "metadata": {
    "colab": {
      "name": "cutmix.ipynb",
      "provenance": [],
      "collapsed_sections": [],
      "authorship_tag": "ABX9TyOuoWqQVl8G/QGBQ5KxFfX2",
      "include_colab_link": true
    },
    "kernelspec": {
      "name": "python3",
      "display_name": "Python 3"
    },
    "language_info": {
      "name": "python"
    }
  },
  "cells": [
    {
      "cell_type": "markdown",
      "metadata": {
        "id": "view-in-github",
        "colab_type": "text"
      },
      "source": [
        "<a href=\"https://colab.research.google.com/github/PsorTheDoctor/Sekcja-SI/blob/master/augmentation/cutmix.ipynb\" target=\"_parent\"><img src=\"https://colab.research.google.com/assets/colab-badge.svg\" alt=\"Open In Colab\"/></a>"
      ]
    },
    {
      "cell_type": "markdown",
      "metadata": {
        "id": "M-uJnIQd62Rg"
      },
      "source": [
        "# CutMix: Augmentacja danych\n",
        "##Import bibliotek"
      ]
    },
    {
      "cell_type": "code",
      "metadata": {
        "id": "L-kTdYNU6xmE"
      },
      "source": [
        "import numpy as np\n",
        "import pandas as pd\n",
        "import matplotlib.pyplot as plt\n",
        "import tensorflow as tf\n",
        "from tensorflow import keras\n",
        "\n",
        "np.random.seed(42)\n",
        "tf.random.set_seed(42)"
      ],
      "execution_count": 1,
      "outputs": []
    },
    {
      "cell_type": "markdown",
      "metadata": {
        "id": "To-G9ac3gpzX"
      },
      "source": [
        "##Załadowanie zbioru CIFAR-10"
      ]
    },
    {
      "cell_type": "code",
      "metadata": {
        "id": "xNnQBBOl7FxA",
        "colab": {
          "base_uri": "https://localhost:8080/"
        },
        "outputId": "f3e005c4-9e14-4231-9c47-769e07c96d92"
      },
      "source": [
        "(x_train, y_train), (x_test, y_test) = tf.keras.datasets.cifar10.load_data()\n",
        "y_train = tf.keras.utils.to_categorical(y_train, num_classes=10)\n",
        "y_test = tf.keras.utils.to_categorical(y_test, num_classes=10)\n",
        "\n",
        "print(x_train.shape)\n",
        "print(y_train.shape)\n",
        "print(x_test.shape)\n",
        "print(y_test.shape)\n",
        "\n",
        "class_names = [\n",
        "    \"Airplane\",\n",
        "    \"Automobile\",\n",
        "    \"Bird\",\n",
        "    \"Cat\",\n",
        "    \"Deer\",\n",
        "    \"Dog\",\n",
        "    \"Frog\",\n",
        "    \"Horse\",\n",
        "    \"Ship\",\n",
        "    \"Truck\"\n",
        "]"
      ],
      "execution_count": 2,
      "outputs": [
        {
          "output_type": "stream",
          "text": [
            "Downloading data from https://www.cs.toronto.edu/~kriz/cifar-10-python.tar.gz\n",
            "170500096/170498071 [==============================] - 2s 0us/step\n",
            "(50000, 32, 32, 3)\n",
            "(50000, 10)\n",
            "(10000, 32, 32, 3)\n",
            "(10000, 10)\n"
          ],
          "name": "stdout"
        }
      ]
    },
    {
      "cell_type": "markdown",
      "metadata": {
        "id": "v0EaEvOygumH"
      },
      "source": [
        "##Hiperparametry"
      ]
    },
    {
      "cell_type": "code",
      "metadata": {
        "id": "Am21RFuOgt-p"
      },
      "source": [
        "AUTO = tf.data.experimental.AUTOTUNE\n",
        "BATCH_SIZE = 32\n",
        "IMG_SIZE = 32"
      ],
      "execution_count": 3,
      "outputs": []
    },
    {
      "cell_type": "code",
      "metadata": {
        "id": "6P6Ykf3YiyTY"
      },
      "source": [
        "def preprocess_image(img, label):\n",
        "  img = tf.image.resize(img, (IMG_SIZE, IMG_SIZE))\n",
        "  img = tf.image.convert_image_dtype(img, tf.float32) / 255.0\n",
        "  return img, label"
      ],
      "execution_count": 10,
      "outputs": []
    },
    {
      "cell_type": "markdown",
      "metadata": {
        "id": "KBTEWaiOHGrR"
      },
      "source": [
        "##Konwersja danych na obiekty TensorFlow Dataset"
      ]
    },
    {
      "cell_type": "code",
      "metadata": {
        "id": "2GM86d6-HNL2"
      },
      "source": [
        "train_ds_one = (\n",
        "    tf.data.Dataset.from_tensor_slices((x_train, y_train))\n",
        "    .shuffle(1024)\n",
        "    .map(preprocess_image, num_parallel_calls=AUTO)\n",
        ")\n",
        "train_ds_two = (\n",
        "    tf.data.Dataset.from_tensor_slices((x_train, y_train))\n",
        "    .shuffle(1024)\n",
        "    .map(preprocess_image, num_parallel_calls=AUTO)\n",
        ")\n",
        "\n",
        "train_ds_simple = tf.data.Dataset.from_tensor_slices((x_train, y_train))\n",
        "\n",
        "test_ds = tf.data.Dataset.from_tensor_slices((x_test, y_test))\n",
        "\n",
        "train_ds_simple = (\n",
        "    train_ds_simple.map(preprocess_image, num_parallel_calls=AUTO)\n",
        "    .batch(BATCH_SIZE)\n",
        "    .prefetch(AUTO)\n",
        ")\n",
        "\n",
        "# Połączenie dwóch przetasowanych zbiorów z tych samych danych\n",
        "train_ds = tf.data.Dataset.zip((train_ds_one, train_ds_two))\n",
        "\n",
        "test_ds = (\n",
        "    test_ds.map(preprocess_image, num_parallel_calls=AUTO)\n",
        "    .batch(BATCH_SIZE)\n",
        "    .prefetch(AUTO)\n",
        ")"
      ],
      "execution_count": 12,
      "outputs": []
    },
    {
      "cell_type": "markdown",
      "metadata": {
        "id": "AQ-QIQK1NCvw"
      },
      "source": [
        "##Definicja funkcji augmentacji danych CutMix"
      ]
    },
    {
      "cell_type": "code",
      "metadata": {
        "id": "xyay4ADZNNjO"
      },
      "source": [
        "def sample_beta_distribution(size, concentration_0=0.2, concentration_1=0.2):\n",
        "  gamma_1_sample = tf.random.gamma(shape=[size], alpha=concentration_1)\n",
        "  gamma_2_sample = tf.random.gamma(shape=[size], alpha=concentration_0)\n",
        "  return gamma_1_sample / (gamma_1_sample + gamma_2_sample)\n",
        "\n",
        "@tf.function\n",
        "def get_box(lambda_value):\n",
        "  cut_rat = tf.math.sqrt(1.0 - lambda_value)\n",
        "\n",
        "  cut_w = IMG_SIZE * cut_rat \n",
        "  cut_w = tf.cast(cut_w, tf.int32)\n",
        "\n",
        "  cut_h = IMG_SIZE * cut_rat\n",
        "  cut_h = tf.cast(cut_h, tf.int32)\n",
        "\n",
        "  cut_x = tf.random.uniform((1,), minval=0, maxval=IMG_SIZE, dtype=tf.int32)\n",
        "  cut_y = tf.random.uniform((1,), minval=0, maxval=IMG_SIZE, dtype=tf.int32)\n",
        "\n",
        "  boundaryx1 = tf.clip_by_value(cut_x[0] - cut_w // 2, 0, IMG_SIZE)\n",
        "  boundaryy1 = tf.clip_by_value(cut_y[0] - cut_h // 2, 0, IMG_SIZE)\n",
        "  bbx2 = tf.clip_by_value(cut_x[0] + cut_w // 2, 0, IMG_SIZE)\n",
        "  bby2 = tf.clip_by_value(cut_y[0] + cut_h // 2, 0, IMG_SIZE)\n",
        "\n",
        "  target_h = bby2 - boundaryy1\n",
        "  if target_h == 0:\n",
        "    target_h += 1\n",
        "\n",
        "  target_w = bbx2 - boundaryx1\n",
        "  if target_w == 0:\n",
        "    target_w += 1\n",
        "\n",
        "  return boundaryx1, boundaryy1, target_h, target_w\n",
        "\n",
        "@tf.function\n",
        "def cutmix(train_ds_one, train_ds_two):\n",
        "  (image1, label1), (image2, label2) = train_ds_one, train_ds_two\n",
        "\n",
        "  alpha = [0.25]\n",
        "  beta = [0.25]\n",
        "\n",
        "  # Pobranie próbki z rozkładu Beta\n",
        "  lambda_value = sample_beta_distribution(1, alpha, beta)\n",
        "\n",
        "  # Deklaracja Lambdy\n",
        "  lambda_value = lambda_value[0][0]  \n",
        "\n",
        "  # Pobranie offsetów, wysokości i szerokości ramek\n",
        "  boundaryx1, boundaryy1, target_h, target_w = get_box(lambda_value)\n",
        "\n",
        "  crop2 = tf.image.crop_to_bounding_box(\n",
        "      image2, boundaryy1, boundaryx1, target_h, target_w\n",
        "  )\n",
        "  image2 = tf.image.pad_to_bounding_box(\n",
        "      crop2, boundaryy1, boundaryx1, IMG_SIZE, IMG_SIZE\n",
        "  )\n",
        "  crop1 = tf.image.crop_to_bounding_box(\n",
        "      image1, boundaryy1, boundaryx1, target_h, target_w\n",
        "  )\n",
        "  img1 = tf.image.pad_to_bounding_box(\n",
        "      crop1, boundaryy1, boundaryx1, IMG_SIZE, IMG_SIZE\n",
        "  )\n",
        "\n",
        "  image1 = image1 - img1 \n",
        "  image = image1 + image2\n",
        "\n",
        "  lambda_value = 1 - (target_w * target_h) / (IMG_SIZE * IMG_SIZE)\n",
        "  lambda_value = tf.cast(lambda_value, tf.float32)\n",
        "\n",
        "  # Połączenie etykiet obu obrazów\n",
        "  label = lambda_value * label1 + (1 - lambda_value) * label2\n",
        "  return image, label"
      ],
      "execution_count": 35,
      "outputs": []
    },
    {
      "cell_type": "markdown",
      "metadata": {
        "id": "B0RUO1etUvF5"
      },
      "source": [
        "##Wizualizacja nowego zbioru po augmentacji CutMix"
      ]
    },
    {
      "cell_type": "code",
      "metadata": {
        "colab": {
          "base_uri": "https://localhost:8080/",
          "height": 591
        },
        "id": "zZcYICeEU3c_",
        "outputId": "1993dbed-c7fc-47a4-93d5-5fd83f22df8f"
      },
      "source": [
        "# Stworzenie nowego zbioru z użyciem cutmix\n",
        "train_ds_cmu = (\n",
        "    train_ds.shuffle(1024)\n",
        "    .map(cutmix, num_parallel_calls=AUTO)\n",
        "    .batch(BATCH_SIZE)\n",
        "    .prefetch(AUTO)\n",
        ")\n",
        "\n",
        "img_batch, label_batch = next(iter(train_ds_cmu))\n",
        "plt.figure(figsize=(10, 10))\n",
        "for i in range(9):\n",
        "  ax = plt.subplot(3, 3, i + 1)\n",
        "  plt.title(class_names[np.argmax(label_batch[i])])\n",
        "  plt.imshow(img_batch[i])\n",
        "  plt.axis('off')"
      ],
      "execution_count": 36,
      "outputs": [
        {
          "output_type": "display_data",
          "data": {
            "image/png": "[encoded data removed]",
            "text/plain": [
              "<Figure size 720x720 with 9 Axes>"
            ]
          },
          "metadata": {
            "tags": [],
            "needs_background": "light"
          }
        }
      ]
    }
  ]
}