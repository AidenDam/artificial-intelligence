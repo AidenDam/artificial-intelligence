{
  "nbformat": 4,
  "nbformat_minor": 0,
  "metadata": {
    "colab": {
      "name": "cutout.ipynb",
      "provenance": [],
      "collapsed_sections": [],
      "authorship_tag": "ABX9TyPmpmYZEHOzemSOBObcLtlQ",
      "include_colab_link": true
    },
    "kernelspec": {
      "name": "python3",
      "display_name": "Python 3"
    },
    "language_info": {
      "name": "python"
    }
  },
  "cells": [
    {
      "cell_type": "markdown",
      "metadata": {
        "id": "view-in-github",
        "colab_type": "text"
      },
      "source": [
        "<a href=\"https://colab.research.google.com/github/PsorTheDoctor/Sekcja-SI/blob/master/augmentation/cutout.ipynb\" target=\"_parent\"><img src=\"https://colab.research.google.com/assets/colab-badge.svg\" alt=\"Open In Colab\"/></a>"
      ]
    },
    {
      "cell_type": "markdown",
      "metadata": {
        "id": "bakLL6CELver"
      },
      "source": [
        "#CutOut: Augmentacja danych"
      ]
    },
    {
      "cell_type": "code",
      "metadata": {
        "id": "iYsgVB44GCdI"
      },
      "source": [
        "import numpy as np\n",
        "import matplotlib.pyplot as plt\n",
        "from tensorflow.keras.datasets.fashion_mnist import load_data"
      ],
      "execution_count": 38,
      "outputs": []
    },
    {
      "cell_type": "code",
      "metadata": {
        "colab": {
          "base_uri": "https://localhost:8080/"
        },
        "id": "OrUklpSiJfxY",
        "outputId": "9f66a97c-f192-442a-8807-4e25bd02b760"
      },
      "source": [
        "(X_train, y_train), (X_test, y_test) = load_data()"
      ],
      "execution_count": 39,
      "outputs": [
        {
          "output_type": "stream",
          "text": [
            "Downloading data from https://storage.googleapis.com/tensorflow/tf-keras-datasets/train-labels-idx1-ubyte.gz\n",
            "32768/29515 [=================================] - 0s 0us/step\n",
            "Downloading data from https://storage.googleapis.com/tensorflow/tf-keras-datasets/train-images-idx3-ubyte.gz\n",
            "26427392/26421880 [==============================] - 0s 0us/step\n",
            "Downloading data from https://storage.googleapis.com/tensorflow/tf-keras-datasets/t10k-labels-idx1-ubyte.gz\n",
            "8192/5148 [===============================================] - 0s 0us/step\n",
            "Downloading data from https://storage.googleapis.com/tensorflow/tf-keras-datasets/t10k-images-idx3-ubyte.gz\n",
            "4423680/4422102 [==============================] - 0s 0us/step\n"
          ],
          "name": "stdout"
        }
      ]
    },
    {
      "cell_type": "code",
      "metadata": {
        "colab": {
          "base_uri": "https://localhost:8080/"
        },
        "id": "v0ZXubNyKCus",
        "outputId": "e6fd5f07-c6e4-48e5-8338-2ddf1c4ed67a"
      },
      "source": [
        "X_train[0].shape"
      ],
      "execution_count": 40,
      "outputs": [
        {
          "output_type": "execute_result",
          "data": {
            "text/plain": [
              "(28, 28)"
            ]
          },
          "metadata": {
            "tags": []
          },
          "execution_count": 40
        }
      ]
    },
    {
      "cell_type": "code",
      "metadata": {
        "id": "nt3RM-sZG-1c"
      },
      "source": [
        "def cutout(img, n_holes=1, length=16):\n",
        "  h = img.shape[0]\n",
        "  w = img.shape[1]\n",
        "\n",
        "  mask = np.ones((h, w), np.float32)\n",
        "\n",
        "  for _ in range(n_holes):\n",
        "    y = np.random.randint(h)\n",
        "    x = np.random.randint(w)\n",
        "\n",
        "    y1 = np.clip(y - length // 2, 0, h)\n",
        "    y2 = np.clip(y + length // 2, 0, h)\n",
        "    x1 = np.clip(x - length // 2, 0, w)\n",
        "    x2 = np.clip(x + length // 2, 0, w)\n",
        "\n",
        "    mask[y1: y2, x1: x2] = 0\n",
        "\n",
        "  img = img * mask\n",
        "  return img"
      ],
      "execution_count": 41,
      "outputs": []
    },
    {
      "cell_type": "code",
      "metadata": {
        "colab": {
          "base_uri": "https://localhost:8080/",
          "height": 282
        },
        "id": "cqFegHuYJxET",
        "outputId": "919338b4-846a-4fff-d51d-5096472861eb"
      },
      "source": [
        "cut = cutout(X_train[0])\n",
        "plt.imshow(cut, cmap='gray')"
      ],
      "execution_count": 43,
      "outputs": [
        {
          "output_type": "execute_result",
          "data": {
            "text/plain": [
              "<matplotlib.image.AxesImage at 0x7fc4289d2d90>"
            ]
          },
          "metadata": {
            "tags": []
          },
          "execution_count": 43
        },
        {
          "output_type": "display_data",
          "data": {
            "image/png": "[encoded data removed]",
            "text/plain": [
              "<Figure size 432x288 with 1 Axes>"
            ]
          },
          "metadata": {
            "tags": [],
            "needs_background": "light"
          }
        }
      ]
    }
  ]
}