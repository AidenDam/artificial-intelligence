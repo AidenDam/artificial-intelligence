{
  "nbformat": 4,
  "nbformat_minor": 0,
  "metadata": {
    "colab": {
      "name": "cutout_cutmix_mixup.ipynb",
      "provenance": [],
      "collapsed_sections": [],
      "authorship_tag": "ABX9TyO/pVcE3zrkTdoYrRUkdium",
      "include_colab_link": true
    },
    "kernelspec": {
      "name": "python3",
      "display_name": "Python 3"
    },
    "language_info": {
      "name": "python"
    }
  },
  "cells": [
    {
      "cell_type": "markdown",
      "metadata": {
        "id": "view-in-github",
        "colab_type": "text"
      },
      "source": [
        "<a href=\"https://colab.research.google.com/github/PsorTheDoctor/Sekcja-SI/blob/master/augmentation/cutout_cutmix_mixup.ipynb\" target=\"_parent\"><img src=\"https://colab.research.google.com/assets/colab-badge.svg\" alt=\"Open In Colab\"/></a>"
      ]
    },
    {
      "cell_type": "markdown",
      "metadata": {
        "id": "bakLL6CELver"
      },
      "source": [
        "#Augmentacja danych: CutOut, CutMix, MixUp"
      ]
    },
    {
      "cell_type": "code",
      "metadata": {
        "id": "iYsgVB44GCdI"
      },
      "source": [
        "import numpy as np\n",
        "import matplotlib.pyplot as plt\n",
        "from tensorflow.keras.datasets.fashion_mnist import load_data\n",
        "import tensorflow as tf\n",
        "import random"
      ],
      "execution_count": 5,
      "outputs": []
    },
    {
      "cell_type": "code",
      "metadata": {
        "colab": {
          "base_uri": "https://localhost:8080/"
        },
        "id": "OrUklpSiJfxY",
        "outputId": "cb9aa443-4c38-49c8-f0a4-cf5a7fe6b6af"
      },
      "source": [
        "(X_train, y_train), (X_test, y_test) = load_data()"
      ],
      "execution_count": 6,
      "outputs": [
        {
          "output_type": "stream",
          "text": [
            "Downloading data from https://storage.googleapis.com/tensorflow/tf-keras-datasets/train-labels-idx1-ubyte.gz\n",
            "32768/29515 [=================================] - 0s 0us/step\n",
            "Downloading data from https://storage.googleapis.com/tensorflow/tf-keras-datasets/train-images-idx3-ubyte.gz\n",
            "26427392/26421880 [==============================] - 0s 0us/step\n",
            "Downloading data from https://storage.googleapis.com/tensorflow/tf-keras-datasets/t10k-labels-idx1-ubyte.gz\n",
            "8192/5148 [===============================================] - 0s 0us/step\n",
            "Downloading data from https://storage.googleapis.com/tensorflow/tf-keras-datasets/t10k-images-idx3-ubyte.gz\n",
            "4423680/4422102 [==============================] - 0s 0us/step\n"
          ],
          "name": "stdout"
        }
      ]
    },
    {
      "cell_type": "code",
      "metadata": {
        "colab": {
          "base_uri": "https://localhost:8080/",
          "height": 282
        },
        "id": "THki9qw-XP2l",
        "outputId": "681d920c-bb2b-4fdf-97c4-3537d99c2c86"
      },
      "source": [
        "plt.imshow(X_train[0], cmap='gray')"
      ],
      "execution_count": 7,
      "outputs": [
        {
          "output_type": "execute_result",
          "data": {
            "text/plain": [
              "<matplotlib.image.AxesImage at 0x7ffa7a8df610>"
            ]
          },
          "metadata": {
            "tags": []
          },
          "execution_count": 7
        },
        {
          "output_type": "display_data",
          "data": {
            "image/png": "[encoded data removed]",
            "text/plain": [
              "<Figure size 432x288 with 1 Axes>"
            ]
          },
          "metadata": {
            "tags": [],
            "needs_background": "light"
          }
        }
      ]
    },
    {
      "cell_type": "code",
      "metadata": {
        "colab": {
          "base_uri": "https://localhost:8080/",
          "height": 282
        },
        "id": "uGKFyKdWX351",
        "outputId": "552a4147-80df-44a4-8fa9-a54cd5b45673"
      },
      "source": [
        "plt.imshow(X_train[1], cmap='gray')"
      ],
      "execution_count": 8,
      "outputs": [
        {
          "output_type": "execute_result",
          "data": {
            "text/plain": [
              "<matplotlib.image.AxesImage at 0x7ffa79f4f490>"
            ]
          },
          "metadata": {
            "tags": []
          },
          "execution_count": 8
        },
        {
          "output_type": "display_data",
          "data": {
            "image/png": "[encoded data removed]",
            "text/plain": [
              "<Figure size 432x288 with 1 Axes>"
            ]
          },
          "metadata": {
            "tags": [],
            "needs_background": "light"
          }
        }
      ]
    },
    {
      "cell_type": "markdown",
      "metadata": {
        "id": "6OfbCJqDN3f3"
      },
      "source": [
        "##CutOut"
      ]
    },
    {
      "cell_type": "code",
      "metadata": {
        "id": "nt3RM-sZG-1c"
      },
      "source": [
        "def cutout(img, n_patches=1, patch_width=16, patch_height=16):\n",
        "  h = img.shape[0]\n",
        "  w = img.shape[1]\n",
        "\n",
        "  mask = np.ones((h, w), np.float32)\n",
        "\n",
        "  for _ in range(n_patches):\n",
        "    y = np.random.randint(h)\n",
        "    x = np.random.randint(w)\n",
        "\n",
        "    y1 = np.clip(y - patch_height // 2, 0, h)\n",
        "    y2 = np.clip(y + patch_height // 2, 0, h)\n",
        "    x1 = np.clip(x - patch_width // 2, 0, w)\n",
        "    x2 = np.clip(x + patch_width // 2, 0, w)\n",
        "\n",
        "    mask[y1:y2, x1:x2] = 0\n",
        "\n",
        "  img = img * mask\n",
        "  return img"
      ],
      "execution_count": 9,
      "outputs": []
    },
    {
      "cell_type": "code",
      "metadata": {
        "colab": {
          "base_uri": "https://localhost:8080/",
          "height": 282
        },
        "id": "HAsAN21vR13F",
        "outputId": "fedbb87a-9be6-4c2b-dd0e-3ef32ee3c474"
      },
      "source": [
        "out = cutout(X_train[0])\n",
        "plt.imshow(out, cmap='gray')"
      ],
      "execution_count": null,
      "outputs": [
        {
          "output_type": "execute_result",
          "data": {
            "text/plain": [
              "<matplotlib.image.AxesImage at 0x7faf5f0df690>"
            ]
          },
          "metadata": {
            "tags": []
          },
          "execution_count": 57
        },
        {
          "output_type": "display_data",
          "data": {
            "image/png": "[encoded data removed]",
            "text/plain": [
              "<Figure size 432x288 with 1 Axes>"
            ]
          },
          "metadata": {
            "tags": [],
            "needs_background": "light"
          }
        }
      ]
    },
    {
      "cell_type": "markdown",
      "metadata": {
        "id": "EtZAJxOTOL3T"
      },
      "source": [
        "#CutMix"
      ]
    },
    {
      "cell_type": "code",
      "metadata": {
        "id": "ZiR2z37mOOZX"
      },
      "source": [
        "def cutmix(img1, img2, n_patches=1, patch_width=16, patch_height=16):\n",
        "  h = img1.shape[0]\n",
        "  w = img1.shape[1]\n",
        "\n",
        "  img = np.array(img1)\n",
        "  mask = np.zeros((patch_height, patch_width))\n",
        "\n",
        "  for _ in range(n_patches):\n",
        "    y = np.random.randint(h)\n",
        "    x = np.random.randint(w)\n",
        "\n",
        "    y1 = np.clip(y - patch_height // 2, 0, h)\n",
        "    y2 = np.clip(y + patch_height // 2, 0, h)\n",
        "    x1 = np.clip(x - patch_width // 2, 0, w)\n",
        "    x2 = np.clip(x + patch_width // 2, 0, w)\n",
        "\n",
        "    mask = img2[y1:y2, x1:x2]\n",
        "    img[y1:y2, x1:x2] = mask\n",
        "\n",
        "  return img"
      ],
      "execution_count": 10,
      "outputs": []
    },
    {
      "cell_type": "code",
      "metadata": {
        "colab": {
          "base_uri": "https://localhost:8080/",
          "height": 282
        },
        "id": "cqFegHuYJxET",
        "outputId": "5300e726-36b6-4074-ec54-47f01ee0f848"
      },
      "source": [
        "mix = cutmix(X_train[0], X_train[1], n_patches=1)\n",
        "plt.imshow(mix, cmap='gray')"
      ],
      "execution_count": null,
      "outputs": [
        {
          "output_type": "execute_result",
          "data": {
            "text/plain": [
              "<matplotlib.image.AxesImage at 0x7faf5e118590>"
            ]
          },
          "metadata": {
            "tags": []
          },
          "execution_count": 100
        },
        {
          "output_type": "display_data",
          "data": {
            "image/png": "[encoded data removed]",
            "text/plain": [
              "<Figure size 432x288 with 1 Axes>"
            ]
          },
          "metadata": {
            "tags": [],
            "needs_background": "light"
          }
        }
      ]
    },
    {
      "cell_type": "markdown",
      "metadata": {
        "id": "N9EruJH2Y-lT"
      },
      "source": [
        "#MixUp"
      ]
    },
    {
      "cell_type": "code",
      "metadata": {
        "colab": {
          "base_uri": "https://localhost:8080/"
        },
        "id": "xRnXMZvckss8",
        "outputId": "ef7dcba7-2c19-4f9e-d79d-abe782c801f2"
      },
      "source": [
        "# Lambda spróbkowana z rozkładu beta\n",
        "# Zwiększone prawdopodobieństwo wylosowania wartości \n",
        "# z krańców przedziału <0, 1> dla małego alpha\n",
        "alpha = 0.2\n",
        "l = np.random.beta(alpha, alpha)\n",
        "print(l)"
      ],
      "execution_count": 11,
      "outputs": [
        {
          "output_type": "stream",
          "text": [
            "0.9826668410120584\n"
          ],
          "name": "stdout"
        }
      ]
    },
    {
      "cell_type": "code",
      "metadata": {
        "id": "vsdNN10jdn5r"
      },
      "source": [
        "def mixup(img1, label1, img2, label2, alpha=0.2):\n",
        "  label1 = tf.one_hot(label1, 10)\n",
        "  label2 = tf.one_hot(label2, 10)\n",
        "\n",
        "  l = np.random.beta(alpha, alpha)\n",
        "\n",
        "  img = l * img1 + (1 - l) * img2\n",
        "  label = l * label1 + (1 - l) * label2\n",
        "\n",
        "  return (img, label)"
      ],
      "execution_count": 12,
      "outputs": []
    },
    {
      "cell_type": "code",
      "metadata": {
        "colab": {
          "base_uri": "https://localhost:8080/",
          "height": 317
        },
        "id": "jfPgNJY_eyZk",
        "outputId": "ab2e0ba9-061c-49fe-b893-52fe83859552"
      },
      "source": [
        "(img, label) = mixup(X_train[0], y_train[0], X_train[1], y_train[1])\n",
        "plt.imshow(img, cmap='gray')\n",
        "print(label)"
      ],
      "execution_count": null,
      "outputs": [
        {
          "output_type": "stream",
          "text": [
            "tf.Tensor(\n",
            "[0.9792946  0.         0.         0.         0.         0.\n",
            " 0.         0.         0.         0.02070543], shape=(10,), dtype=float32)\n"
          ],
          "name": "stdout"
        },
        {
          "output_type": "display_data",
          "data": {
            "image/png": "[encoded data removed]",
            "text/plain": [
              "<Figure size 432x288 with 1 Axes>"
            ]
          },
          "metadata": {
            "tags": [],
            "needs_background": "light"
          }
        }
      ]
    },
    {
      "cell_type": "code",
      "metadata": {
        "colab": {
          "base_uri": "https://localhost:8080/",
          "height": 317
        },
        "id": "udL3j25PnQl6",
        "outputId": "c1f54402-5884-4369-c870-b25623e38e4e"
      },
      "source": [
        "(img, label) = mixup(X_train[0], y_train[0], X_train[1], y_train[1], alpha=1)\n",
        "plt.imshow(img, cmap='gray')\n",
        "print(label)"
      ],
      "execution_count": null,
      "outputs": [
        {
          "output_type": "stream",
          "text": [
            "tf.Tensor(\n",
            "[0.3741765 0.        0.        0.        0.        0.        0.\n",
            " 0.        0.        0.6258235], shape=(10,), dtype=float32)\n"
          ],
          "name": "stdout"
        },
        {
          "output_type": "display_data",
          "data": {
            "image/png": "[encoded data removed]",
            "text/plain": [
              "<Figure size 432x288 with 1 Axes>"
            ]
          },
          "metadata": {
            "tags": [],
            "needs_background": "light"
          }
        }
      ]
    },
    {
      "cell_type": "code",
      "metadata": {
        "id": "xVU6ZJFGEn6b"
      },
      "source": [
        "def augment(images, labels, method, samples_per_input=1):\n",
        "\n",
        "  assert images.shape[0] == labels.shape[0]\n",
        "  dataset_length = images.shape[0]\n",
        "  w = images.shape[1]\n",
        "  h = images.shape[2]\n",
        "\n",
        "  X_aug = []  # np.array((dataset_length * samples_per_input, w, h))\n",
        "  y_aug = []  # np.array(dataset_length * samples_per_input)\n",
        "\n",
        "  # Ustawienie szerokości i wysokości łaty dla cutout i cutmix na pół obrazka\n",
        "  patch_w = int(images.shape[1] / 2)\n",
        "  patch_h = int(images.shape[2] / 2)\n",
        "\n",
        "  for _ in range(samples_per_input):\n",
        "    for i in range(dataset_length):\n",
        "\n",
        "      if method == 'cutout':\n",
        "        X = cutout(images[i], n_patches=1, patch_width=patch_w, patch_height=patch_h)\n",
        "        y = labels[i]\n",
        "\n",
        "      elif method == 'cutmix':\n",
        "        j = random.randint(0, dataset_length - 1)\n",
        "        X = cutmix(images[i], images[j], n_patches=1, patch_width=patch_w, patch_height=patch_h)\n",
        "        y = labels[i]\n",
        "\n",
        "      elif method == 'mixup':\n",
        "        j = random.randint(0, dataset_length - 1)\n",
        "        X, y = mixup(images[i], labels[i], images[j], labels[j])\n",
        "\n",
        "      else:\n",
        "        print('Method parameter accepts only 3 arguments: \"cutout\", \"cutmix\" or \"mixup\".')\n",
        "\n",
        "      X_aug.append(X)\n",
        "      y_aug.append(y)\n",
        "\n",
        "  X_aug = np.array(X_aug)\n",
        "  y_aug = np.array(y_aug)\n",
        "  return (X_aug, y_aug)"
      ],
      "execution_count": 19,
      "outputs": []
    },
    {
      "cell_type": "code",
      "metadata": {
        "colab": {
          "base_uri": "https://localhost:8080/"
        },
        "id": "robLr-SBPnUv",
        "outputId": "2658467e-d138-46b5-d8c8-ba92485caab6"
      },
      "source": [
        "(X_aug, y_aug) = augment(X_train[:10], y_train[:10], method='cutout')\n",
        "\n",
        "print(X_aug.shape)\n",
        "print(y_aug.shape)"
      ],
      "execution_count": 22,
      "outputs": [
        {
          "output_type": "stream",
          "text": [
            "(10, 28, 28)\n",
            "(10,)\n"
          ],
          "name": "stdout"
        }
      ]
    },
    {
      "cell_type": "code",
      "metadata": {
        "colab": {
          "base_uri": "https://localhost:8080/",
          "height": 282
        },
        "id": "T7X_ALs7Sool",
        "outputId": "06fa1b9a-36bc-4db0-c089-3f5d69c38330"
      },
      "source": [
        "plt.imshow(X_aug[0], cmap='gray')\n",
        "print(y_aug[0])"
      ],
      "execution_count": 23,
      "outputs": [
        {
          "output_type": "stream",
          "text": [
            "9\n"
          ],
          "name": "stdout"
        },
        {
          "output_type": "display_data",
          "data": {
            "image/png": "[encoded data removed]",
            "text/plain": [
              "<Figure size 432x288 with 1 Axes>"
            ]
          },
          "metadata": {
            "tags": [],
            "needs_background": "light"
          }
        }
      ]
    },
    {
      "cell_type": "code",
      "metadata": {
        "id": "e3naxK4bROUN"
      },
      "source": [
        "(X_aug, y_aug) = augment(X_train[:10], y_train[:10], method='cutmix')"
      ],
      "execution_count": 20,
      "outputs": []
    },
    {
      "cell_type": "code",
      "metadata": {
        "id": "UnjtjlB3R-Bd"
      },
      "source": [
        "(X_aug, y_aug) = augment(X_train[:10], y_train[:10], method='mixup')"
      ],
      "execution_count": 21,
      "outputs": []
    }
  ]
}